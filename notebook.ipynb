{
 "cells": [
  {
   "cell_type": "markdown",
   "metadata": {},
   "source": [
    "# Project: Fraud Detection "
   ]
  },
  {
   "cell_type": "markdown",
   "metadata": {},
   "source": [
    "## 1. Overview"
   ]
  },
  {
   "cell_type": "markdown",
   "metadata": {},
   "source": [
    "### PaySim simulates mobile money transactions based on a sample of real transacions extracted from one month of financial logs from a mobile money service implemented in an African country. The original logs were provided by a multinational company, who is the provider of the mobile financial service which is currently running in more than 14 countries all around the world. The objective of the project is to predict if a transaction is fraudulent or not."
   ]
  },
  {
   "cell_type": "markdown",
   "metadata": {},
   "source": [
    "## 2. Preprocess the data"
   ]
  },
  {
   "cell_type": "markdown",
   "metadata": {},
   "source": [
    "### Libraries"
   ]
  },
  {
   "cell_type": "code",
   "execution_count": 1,
   "metadata": {},
   "outputs": [],
   "source": [
    "# libraries: mathematical computing\n",
    "import numpy as np\n",
    "import pandas as pd\n",
    "\n",
    "# libraries: sklearn\n",
    "from imblearn.over_sampling import SMOTE, RandomOverSampler\n",
    "from sklearn.model_selection import train_test_split\n",
    "from sklearn.datasets import make_classification\n",
    "from sklearn.metrics import roc_curve, auc\n",
    "\n",
    "# libraries: pyspark SparkContext\n",
    "from pyspark import SparkContext, SparkConf\n",
    "\n",
    "# libraries: pyspark sql\n",
    "from pyspark.sql.types import IntegerType, FloatType\n",
    "from pyspark.sql.window import Window\n",
    "from pyspark.sql import SparkSession\n",
    "import pyspark.sql.functions as f\n",
    "from  pyspark.sql.functions import monotonically_increasing_id, desc, row_number\n",
    "from pyspark.sql import SQLContext\n",
    "\n",
    "# libraries: pyspark machine learning\n",
    "from pyspark.ml import Pipeline\n",
    "from pyspark.ml.stat import Correlation\n",
    "from pyspark.ml.feature import StringIndexer, OneHotEncoder, VectorAssembler, StandardScaler\n",
    "from pyspark.ml import Pipeline\n",
    "from pyspark.ml.functions import vector_to_array\n",
    "from pyspark.ml.regression import RandomForestRegressor, LinearRegression\n",
    "from pyspark.ml.classification import RandomForestClassifier, LogisticRegression, DecisionTreeClassifier, NaiveBayes, RandomForestClassificationModel\n",
    "from pyspark.ml.evaluation import MulticlassClassificationEvaluator, BinaryClassificationEvaluator, RegressionEvaluator\n",
    "from pyspark.mllib.evaluation import MulticlassMetrics, BinaryClassificationMetrics\n",
    "from pyspark.mllib.stat import Statistics\n",
    "from pyspark.ml.tuning import CrossValidator, ParamGridBuilder, CrossValidatorModel, TrainValidationSplit,TrainValidationSplitModel\n",
    "from pyspark.ml.feature import HashingTF, Tokenizer, RFormula\n",
    "from pyspark.ml.regression import RandomForestRegressor\n",
    "\n",
    "# libraries: visualization\n",
    "import seaborn as sb\n",
    "import matplotlib.pyplot as mpt\n",
    "import functools\n",
    "from collections import Counter"
   ]
  },
  {
   "cell_type": "code",
   "execution_count": 2,
   "metadata": {},
   "outputs": [
    {
     "name": "stderr",
     "output_type": "stream",
     "text": [
      "24/05/28 12:52:32 WARN Utils: Your hostname, Alexangels-MacBook-Pro.local resolves to a loopback address: 127.0.0.1; using 192.168.1.4 instead (on interface en0)\n",
      "24/05/28 12:52:32 WARN Utils: Set SPARK_LOCAL_IP if you need to bind to another address\n",
      "Setting default log level to \"WARN\".\n",
      "To adjust logging level use sc.setLogLevel(newLevel). For SparkR, use setLogLevel(newLevel).\n",
      "24/05/28 12:52:33 WARN NativeCodeLoader: Unable to load native-hadoop library for your platform... using builtin-java classes where applicable\n"
     ]
    }
   ],
   "source": [
    "# Creating a Spark-Context\n",
    "\n",
    "sc = SparkContext.getOrCreate()"
   ]
  },
  {
   "cell_type": "code",
   "execution_count": 3,
   "metadata": {},
   "outputs": [],
   "source": [
    "# Spark Builder\n",
    "\n",
    "spark = SparkSession.builder.appName(\"fraudDetection\").getOrCreate()"
   ]
  },
  {
   "cell_type": "code",
   "execution_count": 4,
   "metadata": {},
   "outputs": [
    {
     "data": {
      "text/html": [
       "\n",
       "            <div>\n",
       "                <p><b>SparkSession - in-memory</b></p>\n",
       "                \n",
       "        <div>\n",
       "            <p><b>SparkContext</b></p>\n",
       "\n",
       "            <p><a href=\"http://192.168.1.4:4040\">Spark UI</a></p>\n",
       "\n",
       "            <dl>\n",
       "              <dt>Version</dt>\n",
       "                <dd><code>v3.5.1</code></dd>\n",
       "              <dt>Master</dt>\n",
       "                <dd><code>local[*]</code></dd>\n",
       "              <dt>AppName</dt>\n",
       "                <dd><code>pyspark-shell</code></dd>\n",
       "            </dl>\n",
       "        </div>\n",
       "        \n",
       "            </div>\n",
       "        "
      ],
      "text/plain": [
       "<pyspark.sql.session.SparkSession at 0x16ae11b50>"
      ]
     },
     "execution_count": 4,
     "metadata": {},
     "output_type": "execute_result"
    }
   ],
   "source": [
    "spark"
   ]
  },
  {
   "cell_type": "code",
   "execution_count": 5,
   "metadata": {},
   "outputs": [],
   "source": [
    "# global variables\n",
    "\n",
    "global df_bank, results "
   ]
  },
  {
   "cell_type": "markdown",
   "metadata": {},
   "source": [
    "#### We´ll use PySpark to preprocess the data."
   ]
  },
  {
   "cell_type": "code",
   "execution_count": 6,
   "metadata": {},
   "outputs": [],
   "source": [
    "# creation of the SparkSession\n",
    "\n",
    "##spark = SparkSession.builder.appName(\"FraudDetection\").getOrCreate()\n",
    "##spark"
   ]
  },
  {
   "cell_type": "code",
   "execution_count": 7,
   "metadata": {},
   "outputs": [
    {
     "name": "stderr",
     "output_type": "stream",
     "text": [
      "                                                                                \r"
     ]
    }
   ],
   "source": [
    "# spark dataframe \n",
    "\n",
    "df = spark.read.csv('fraudDetection.csv', header=True)"
   ]
  },
  {
   "cell_type": "code",
   "execution_count": 8,
   "metadata": {},
   "outputs": [
    {
     "name": "stderr",
     "output_type": "stream",
     "text": [
      "24/05/28 12:52:43 WARN SQLConf: The SQL config 'spark.sql.execution.arrow.enabled' has been deprecated in Spark v3.0 and may be removed in the future. Use 'spark.sql.execution.arrow.pyspark.enabled' instead of it.\n"
     ]
    }
   ],
   "source": [
    "spark.conf.set(\"spark.sql.execution.arrow.enabled\",\"true\")"
   ]
  },
  {
   "cell_type": "markdown",
   "metadata": {},
   "source": [
    "#### Now, we´ll convert this \"df\" dataframe into a parquet file using the following method of pyspark. The file will be named \"fraudDetection.parquet\""
   ]
  },
  {
   "cell_type": "code",
   "execution_count": 9,
   "metadata": {},
   "outputs": [
    {
     "ename": "AnalysisException",
     "evalue": "[PATH_ALREADY_EXISTS] Path file:/Users/alexangelbracho/Desktop/GitHub_projects/FraudDetection/Fraud-Detection-Project/fraudDetection.parquet already exists. Set mode as \"overwrite\" to overwrite the existing path.",
     "output_type": "error",
     "traceback": [
      "\u001b[0;31m---------------------------------------------------------------------------\u001b[0m",
      "\u001b[0;31mAnalysisException\u001b[0m                         Traceback (most recent call last)",
      "Cell \u001b[0;32mIn[9], line 1\u001b[0m\n\u001b[0;32m----> 1\u001b[0m df\u001b[38;5;241m.\u001b[39mwrite\u001b[38;5;241m.\u001b[39mparquet(\u001b[38;5;124m\"\u001b[39m\u001b[38;5;124mfraudDetection.parquet\u001b[39m\u001b[38;5;124m\"\u001b[39m)\n",
      "File \u001b[0;32m/opt/anaconda3/lib/python3.11/site-packages/pyspark/sql/readwriter.py:1721\u001b[0m, in \u001b[0;36mDataFrameWriter.parquet\u001b[0;34m(self, path, mode, partitionBy, compression)\u001b[0m\n\u001b[1;32m   1719\u001b[0m     \u001b[38;5;28mself\u001b[39m\u001b[38;5;241m.\u001b[39mpartitionBy(partitionBy)\n\u001b[1;32m   1720\u001b[0m \u001b[38;5;28mself\u001b[39m\u001b[38;5;241m.\u001b[39m_set_opts(compression\u001b[38;5;241m=\u001b[39mcompression)\n\u001b[0;32m-> 1721\u001b[0m \u001b[38;5;28mself\u001b[39m\u001b[38;5;241m.\u001b[39m_jwrite\u001b[38;5;241m.\u001b[39mparquet(path)\n",
      "File \u001b[0;32m/opt/anaconda3/lib/python3.11/site-packages/py4j/java_gateway.py:1322\u001b[0m, in \u001b[0;36mJavaMember.__call__\u001b[0;34m(self, *args)\u001b[0m\n\u001b[1;32m   1316\u001b[0m command \u001b[38;5;241m=\u001b[39m proto\u001b[38;5;241m.\u001b[39mCALL_COMMAND_NAME \u001b[38;5;241m+\u001b[39m\\\n\u001b[1;32m   1317\u001b[0m     \u001b[38;5;28mself\u001b[39m\u001b[38;5;241m.\u001b[39mcommand_header \u001b[38;5;241m+\u001b[39m\\\n\u001b[1;32m   1318\u001b[0m     args_command \u001b[38;5;241m+\u001b[39m\\\n\u001b[1;32m   1319\u001b[0m     proto\u001b[38;5;241m.\u001b[39mEND_COMMAND_PART\n\u001b[1;32m   1321\u001b[0m answer \u001b[38;5;241m=\u001b[39m \u001b[38;5;28mself\u001b[39m\u001b[38;5;241m.\u001b[39mgateway_client\u001b[38;5;241m.\u001b[39msend_command(command)\n\u001b[0;32m-> 1322\u001b[0m return_value \u001b[38;5;241m=\u001b[39m get_return_value(\n\u001b[1;32m   1323\u001b[0m     answer, \u001b[38;5;28mself\u001b[39m\u001b[38;5;241m.\u001b[39mgateway_client, \u001b[38;5;28mself\u001b[39m\u001b[38;5;241m.\u001b[39mtarget_id, \u001b[38;5;28mself\u001b[39m\u001b[38;5;241m.\u001b[39mname)\n\u001b[1;32m   1325\u001b[0m \u001b[38;5;28;01mfor\u001b[39;00m temp_arg \u001b[38;5;129;01min\u001b[39;00m temp_args:\n\u001b[1;32m   1326\u001b[0m     \u001b[38;5;28;01mif\u001b[39;00m \u001b[38;5;28mhasattr\u001b[39m(temp_arg, \u001b[38;5;124m\"\u001b[39m\u001b[38;5;124m_detach\u001b[39m\u001b[38;5;124m\"\u001b[39m):\n",
      "File \u001b[0;32m/opt/anaconda3/lib/python3.11/site-packages/pyspark/errors/exceptions/captured.py:185\u001b[0m, in \u001b[0;36mcapture_sql_exception.<locals>.deco\u001b[0;34m(*a, **kw)\u001b[0m\n\u001b[1;32m    181\u001b[0m converted \u001b[38;5;241m=\u001b[39m convert_exception(e\u001b[38;5;241m.\u001b[39mjava_exception)\n\u001b[1;32m    182\u001b[0m \u001b[38;5;28;01mif\u001b[39;00m \u001b[38;5;129;01mnot\u001b[39;00m \u001b[38;5;28misinstance\u001b[39m(converted, UnknownException):\n\u001b[1;32m    183\u001b[0m     \u001b[38;5;66;03m# Hide where the exception came from that shows a non-Pythonic\u001b[39;00m\n\u001b[1;32m    184\u001b[0m     \u001b[38;5;66;03m# JVM exception message.\u001b[39;00m\n\u001b[0;32m--> 185\u001b[0m     \u001b[38;5;28;01mraise\u001b[39;00m converted \u001b[38;5;28;01mfrom\u001b[39;00m \u001b[38;5;28;01mNone\u001b[39;00m\n\u001b[1;32m    186\u001b[0m \u001b[38;5;28;01melse\u001b[39;00m:\n\u001b[1;32m    187\u001b[0m     \u001b[38;5;28;01mraise\u001b[39;00m\n",
      "\u001b[0;31mAnalysisException\u001b[0m: [PATH_ALREADY_EXISTS] Path file:/Users/alexangelbracho/Desktop/GitHub_projects/FraudDetection/Fraud-Detection-Project/fraudDetection.parquet already exists. Set mode as \"overwrite\" to overwrite the existing path."
     ]
    }
   ],
   "source": [
    "df.write.parquet(\"fraudDetection.parquet\")"
   ]
  },
  {
   "cell_type": "markdown",
   "metadata": {},
   "source": [
    "#### Now, we´ll read the file as a parquet file. The calculation will be faster."
   ]
  },
  {
   "cell_type": "code",
   "execution_count": 10,
   "metadata": {},
   "outputs": [],
   "source": [
    "df_bank_par = spark.read.parquet(\"fraudDetection.parquet\")"
   ]
  },
  {
   "cell_type": "markdown",
   "metadata": {},
   "source": [
    "#### Let´s take a look to the data with the first 10 rows."
   ]
  },
  {
   "cell_type": "code",
   "execution_count": 11,
   "metadata": {},
   "outputs": [
    {
     "name": "stderr",
     "output_type": "stream",
     "text": [
      "[Stage 2:>                                                          (0 + 1) / 1]\r"
     ]
    },
    {
     "name": "stdout",
     "output_type": "stream",
     "text": [
      "+----+-------+---------+-----------+-------------+--------------+-----------+--------------+--------------+-------+--------------+\n",
      "|step|   type|   amount|   nameOrig|oldbalanceOrg|newbalanceOrig|   nameDest|oldbalanceDest|newbalanceDest|isFraud|isFlaggedFraud|\n",
      "+----+-------+---------+-----------+-------------+--------------+-----------+--------------+--------------+-------+--------------+\n",
      "|  35|CASH_IN|312070.89| C154541954|     334944.3|     647015.19|C1995182035|     1030393.8|     718322.91|      0|             0|\n",
      "|  35|CASH_IN|244107.21|C1988196004|    647015.19|      891122.4| C877334652|     792091.74|     547984.53|      0|             0|\n",
      "|  35|CASH_IN| 17849.53|C1469762907|     891122.4|     908971.93| C733481207|     107400.33|       89550.8|      0|             0|\n",
      "|  35|CASH_IN|204719.93| C842268344|    908971.93|    1113691.86| C702268498|     531408.31|     326688.37|      0|             0|\n",
      "|  35|CASH_IN|281004.16| C188755315|   1113691.86|    1394696.02|C1358158097|     640496.15|     359491.99|      0|             0|\n",
      "|  35|CASH_IN| 16114.11|C1980321513|   1394696.02|    1410810.13| C834369930|    2642508.03|    2626393.92|      0|             0|\n",
      "|  35|CASH_IN|  65320.6|C2012783974|   1410810.13|    1476130.73|C1837613240|    3709177.65|    3643857.05|      0|             0|\n",
      "|  35|CASH_IN|197260.06|C1511215903|   1476130.73|    1673390.79|C1053726450|     389463.19|     192203.13|      0|             0|\n",
      "|  35|CASH_IN|  17589.2|C1345504923|   1673390.79|    1690979.99| C573946296|      76894.38|      59305.18|      0|             0|\n",
      "|  35|CASH_IN|225958.23|C1819325554|   1690979.99|    1916938.22|C1615795666|     997413.03|     771454.81|      0|             0|\n",
      "+----+-------+---------+-----------+-------------+--------------+-----------+--------------+--------------+-------+--------------+\n",
      "only showing top 10 rows\n",
      "\n"
     ]
    },
    {
     "name": "stderr",
     "output_type": "stream",
     "text": [
      "                                                                                \r"
     ]
    }
   ],
   "source": [
    "df_bank_par.show(10)"
   ]
  },
  {
   "cell_type": "code",
   "execution_count": 12,
   "metadata": {},
   "outputs": [
    {
     "name": "stdout",
     "output_type": "stream",
     "text": [
      "root\n",
      " |-- step: string (nullable = true)\n",
      " |-- type: string (nullable = true)\n",
      " |-- amount: string (nullable = true)\n",
      " |-- nameOrig: string (nullable = true)\n",
      " |-- oldbalanceOrg: string (nullable = true)\n",
      " |-- newbalanceOrig: string (nullable = true)\n",
      " |-- nameDest: string (nullable = true)\n",
      " |-- oldbalanceDest: string (nullable = true)\n",
      " |-- newbalanceDest: string (nullable = true)\n",
      " |-- isFraud: string (nullable = true)\n",
      " |-- isFlaggedFraud: string (nullable = true)\n",
      "\n"
     ]
    }
   ],
   "source": [
    "df_bank_par.printSchema()"
   ]
  },
  {
   "cell_type": "markdown",
   "metadata": {},
   "source": [
    "#### There are 11 columns, none of them is numerical (they are categorical). Let´s count the number of registers."
   ]
  },
  {
   "cell_type": "code",
   "execution_count": 13,
   "metadata": {},
   "outputs": [
    {
     "name": "stderr",
     "output_type": "stream",
     "text": [
      "[Stage 3:>                                                        (0 + 10) / 10]\r"
     ]
    },
    {
     "name": "stdout",
     "output_type": "stream",
     "text": [
      "The total number of registers is: 6362620\n"
     ]
    },
    {
     "name": "stderr",
     "output_type": "stream",
     "text": [
      "                                                                                \r"
     ]
    }
   ],
   "source": [
    "print(f\"The total number of registers is:\",df_bank_par.count())"
   ]
  },
  {
   "cell_type": "markdown",
   "metadata": {},
   "source": [
    "#### We have more than six miliions of transactions in the dataset."
   ]
  },
  {
   "cell_type": "markdown",
   "metadata": {},
   "source": [
    "### 2.1 Feature Engineering"
   ]
  },
  {
   "cell_type": "markdown",
   "metadata": {},
   "source": [
    "#### Firstly, we´ll create a function to create a new variable."
   ]
  },
  {
   "cell_type": "code",
   "execution_count": 14,
   "metadata": {},
   "outputs": [],
   "source": [
    "### 2.1.1.- creation of a new variable: type2\n",
    "\n",
    "df_type2 = df_bank_par.withColumn(\"type2\",f.concat(f.substring(\"nameOrig\",1,1),f.substring(\"nameDest\",1,1)))"
   ]
  },
  {
   "cell_type": "code",
   "execution_count": 15,
   "metadata": {},
   "outputs": [
    {
     "name": "stdout",
     "output_type": "stream",
     "text": [
      "+----+-------+---------+-----------+-------------+--------------+-----------+--------------+--------------+-------+--------------+-----+\n",
      "|step|   type|   amount|   nameOrig|oldbalanceOrg|newbalanceOrig|   nameDest|oldbalanceDest|newbalanceDest|isFraud|isFlaggedFraud|type2|\n",
      "+----+-------+---------+-----------+-------------+--------------+-----------+--------------+--------------+-------+--------------+-----+\n",
      "|  35|CASH_IN|312070.89| C154541954|     334944.3|     647015.19|C1995182035|     1030393.8|     718322.91|      0|             0|   CC|\n",
      "|  35|CASH_IN|244107.21|C1988196004|    647015.19|      891122.4| C877334652|     792091.74|     547984.53|      0|             0|   CC|\n",
      "|  35|CASH_IN| 17849.53|C1469762907|     891122.4|     908971.93| C733481207|     107400.33|       89550.8|      0|             0|   CC|\n",
      "|  35|CASH_IN|204719.93| C842268344|    908971.93|    1113691.86| C702268498|     531408.31|     326688.37|      0|             0|   CC|\n",
      "|  35|CASH_IN|281004.16| C188755315|   1113691.86|    1394696.02|C1358158097|     640496.15|     359491.99|      0|             0|   CC|\n",
      "+----+-------+---------+-----------+-------------+--------------+-----------+--------------+--------------+-------+--------------+-----+\n",
      "only showing top 5 rows\n",
      "\n"
     ]
    }
   ],
   "source": [
    "df_type2.show(5)"
   ]
  },
  {
   "cell_type": "markdown",
   "metadata": {},
   "source": [
    "#### We´ve created a new column named \"type2\" which is composed by the first character of the column \"nameOrig\" and the first character of the column \"nameDest\""
   ]
  },
  {
   "cell_type": "code",
   "execution_count": 16,
   "metadata": {},
   "outputs": [
    {
     "name": "stdout",
     "output_type": "stream",
     "text": [
      "+----+-------+---------+-----------+-------------+--------------+-----------+--------------+--------------+-------+--------------+-----+\n",
      "|step|   type|   amount|   nameOrig|oldbalanceOrg|newbalanceOrig|   nameDest|oldbalanceDest|newbalanceDest|isFraud|isFlaggedFraud|type2|\n",
      "+----+-------+---------+-----------+-------------+--------------+-----------+--------------+--------------+-------+--------------+-----+\n",
      "|  35|CASH_IN|312070.89| C154541954|     334944.3|     647015.19|C1995182035|     1030393.8|     718322.91|      0|             0|   CC|\n",
      "|  35|CASH_IN|244107.21|C1988196004|    647015.19|      891122.4| C877334652|     792091.74|     547984.53|      0|             0|   CC|\n",
      "|  35|CASH_IN| 17849.53|C1469762907|     891122.4|     908971.93| C733481207|     107400.33|       89550.8|      0|             0|   CC|\n",
      "+----+-------+---------+-----------+-------------+--------------+-----------+--------------+--------------+-------+--------------+-----+\n",
      "only showing top 3 rows\n",
      "\n"
     ]
    }
   ],
   "source": [
    "### 2.1.2.1.- One Hot Encoding: column \"type\"\n",
    "\n",
    "df_type2.show(3)"
   ]
  },
  {
   "cell_type": "markdown",
   "metadata": {},
   "source": [
    "#### We´ll use some libraries of Spark for Machine Learning (SparkML)."
   ]
  },
  {
   "cell_type": "code",
   "execution_count": 17,
   "metadata": {},
   "outputs": [
    {
     "name": "stderr",
     "output_type": "stream",
     "text": [
      "                                                                                \r"
     ]
    }
   ],
   "source": [
    "### StringIndexer Initialization\n",
    "### column: type\n",
    "\n",
    "indexer_type = StringIndexer(inputCol=\"type\",outputCol=\"types_indexed\")\n",
    "indexerModel_type = indexer_type.fit(df_type2)\n"
   ]
  },
  {
   "cell_type": "code",
   "execution_count": 18,
   "metadata": {},
   "outputs": [
    {
     "name": "stdout",
     "output_type": "stream",
     "text": [
      "+----+-------+---------+-----------+-------------+--------------+-----------+--------------+--------------+-------+--------------+-----+-------------+\n",
      "|step|   type|   amount|   nameOrig|oldbalanceOrg|newbalanceOrig|   nameDest|oldbalanceDest|newbalanceDest|isFraud|isFlaggedFraud|type2|types_indexed|\n",
      "+----+-------+---------+-----------+-------------+--------------+-----------+--------------+--------------+-------+--------------+-----+-------------+\n",
      "|  35|CASH_IN|312070.89| C154541954|     334944.3|     647015.19|C1995182035|     1030393.8|     718322.91|      0|             0|   CC|          2.0|\n",
      "|  35|CASH_IN|244107.21|C1988196004|    647015.19|      891122.4| C877334652|     792091.74|     547984.53|      0|             0|   CC|          2.0|\n",
      "|  35|CASH_IN| 17849.53|C1469762907|     891122.4|     908971.93| C733481207|     107400.33|       89550.8|      0|             0|   CC|          2.0|\n",
      "|  35|CASH_IN|204719.93| C842268344|    908971.93|    1113691.86| C702268498|     531408.31|     326688.37|      0|             0|   CC|          2.0|\n",
      "|  35|CASH_IN|281004.16| C188755315|   1113691.86|    1394696.02|C1358158097|     640496.15|     359491.99|      0|             0|   CC|          2.0|\n",
      "|  35|CASH_IN| 16114.11|C1980321513|   1394696.02|    1410810.13| C834369930|    2642508.03|    2626393.92|      0|             0|   CC|          2.0|\n",
      "|  35|CASH_IN|  65320.6|C2012783974|   1410810.13|    1476130.73|C1837613240|    3709177.65|    3643857.05|      0|             0|   CC|          2.0|\n",
      "|  35|CASH_IN|197260.06|C1511215903|   1476130.73|    1673390.79|C1053726450|     389463.19|     192203.13|      0|             0|   CC|          2.0|\n",
      "|  35|CASH_IN|  17589.2|C1345504923|   1673390.79|    1690979.99| C573946296|      76894.38|      59305.18|      0|             0|   CC|          2.0|\n",
      "|  35|CASH_IN|225958.23|C1819325554|   1690979.99|    1916938.22|C1615795666|     997413.03|     771454.81|      0|             0|   CC|          2.0|\n",
      "+----+-------+---------+-----------+-------------+--------------+-----------+--------------+--------------+-------+--------------+-----+-------------+\n",
      "only showing top 10 rows\n",
      "\n"
     ]
    }
   ],
   "source": [
    "### Transform the DataFrame using the fitted StringIndexer model\n",
    "\n",
    "indexed_df_type2 = indexerModel_type.transform(df_type2)\n",
    "indexed_df_type2.show(10)"
   ]
  },
  {
   "cell_type": "markdown",
   "metadata": {},
   "source": [
    "#### Here, we´ve set each of the elements of the \"type\" column into indexes."
   ]
  },
  {
   "cell_type": "code",
   "execution_count": 19,
   "metadata": {},
   "outputs": [
    {
     "name": "stdout",
     "output_type": "stream",
     "text": [
      "+----+--------+---------+-----------+-------------+--------------+-----------+--------------+--------------+-------+--------------+-----+-------------+-------------+\n",
      "|step|type    |amount   |nameOrig   |oldbalanceOrg|newbalanceOrig|nameDest   |oldbalanceDest|newbalanceDest|isFraud|isFlaggedFraud|type2|types_indexed|types_onehot |\n",
      "+----+--------+---------+-----------+-------------+--------------+-----------+--------------+--------------+-------+--------------+-----+-------------+-------------+\n",
      "|35  |CASH_IN |312070.89|C154541954 |334944.3     |647015.19     |C1995182035|1030393.8     |718322.91     |0      |0             |CC   |2.0          |(5,[2],[1.0])|\n",
      "|35  |CASH_IN |244107.21|C1988196004|647015.19    |891122.4      |C877334652 |792091.74     |547984.53     |0      |0             |CC   |2.0          |(5,[2],[1.0])|\n",
      "|35  |CASH_IN |17849.53 |C1469762907|891122.4     |908971.93     |C733481207 |107400.33     |89550.8       |0      |0             |CC   |2.0          |(5,[2],[1.0])|\n",
      "|35  |CASH_IN |204719.93|C842268344 |908971.93    |1113691.86    |C702268498 |531408.31     |326688.37     |0      |0             |CC   |2.0          |(5,[2],[1.0])|\n",
      "|35  |CASH_IN |281004.16|C188755315 |1113691.86   |1394696.02    |C1358158097|640496.15     |359491.99     |0      |0             |CC   |2.0          |(5,[2],[1.0])|\n",
      "|35  |CASH_IN |16114.11 |C1980321513|1394696.02   |1410810.13    |C834369930 |2642508.03    |2626393.92    |0      |0             |CC   |2.0          |(5,[2],[1.0])|\n",
      "|35  |CASH_IN |65320.6  |C2012783974|1410810.13   |1476130.73    |C1837613240|3709177.65    |3643857.05    |0      |0             |CC   |2.0          |(5,[2],[1.0])|\n",
      "|35  |CASH_IN |197260.06|C1511215903|1476130.73   |1673390.79    |C1053726450|389463.19     |192203.13     |0      |0             |CC   |2.0          |(5,[2],[1.0])|\n",
      "|35  |CASH_IN |17589.2  |C1345504923|1673390.79   |1690979.99    |C573946296 |76894.38      |59305.18      |0      |0             |CC   |2.0          |(5,[2],[1.0])|\n",
      "|35  |CASH_IN |225958.23|C1819325554|1690979.99   |1916938.22    |C1615795666|997413.03     |771454.81     |0      |0             |CC   |2.0          |(5,[2],[1.0])|\n",
      "|35  |CASH_IN |137987.66|C1578237711|10889.0      |148876.66     |C1395949792|421743.44     |283755.78     |0      |0             |CC   |2.0          |(5,[2],[1.0])|\n",
      "|35  |PAYMENT |2550.67  |C509265017 |148876.66    |146325.99     |M1486544695|0.0           |0.0           |0      |0             |CM   |1.0          |(5,[1],[1.0])|\n",
      "|35  |PAYMENT |10807.74 |C832582514 |153908.0     |143100.26     |M1612209102|0.0           |0.0           |0      |0             |CM   |1.0          |(5,[1],[1.0])|\n",
      "|35  |PAYMENT |788.2    |C682173112 |23862.0      |23073.8       |M650392573 |0.0           |0.0           |0      |0             |CM   |1.0          |(5,[1],[1.0])|\n",
      "|35  |CASH_IN |26016.33 |C382713844 |136678.0     |162694.33     |C1441810518|80955.03      |54938.7       |0      |0             |CC   |2.0          |(5,[2],[1.0])|\n",
      "|35  |CASH_OUT|176914.1 |C883638472 |17796.0      |0.0           |C1693177571|487562.09     |664476.19     |0      |0             |CC   |0.0          |(5,[0],[1.0])|\n",
      "|35  |PAYMENT |13175.49 |C1442191367|62135.0      |48959.51      |M1378517663|0.0           |0.0           |0      |0             |CM   |1.0          |(5,[1],[1.0])|\n",
      "|35  |TRANSFER|101701.01|C972138289 |19988.0      |0.0           |C1485034389|837516.47     |939217.48     |0      |0             |CC   |3.0          |(5,[3],[1.0])|\n",
      "|35  |CASH_OUT|146052.99|C1462902215|0.0          |0.0           |C1935757345|1121971.73    |1268024.72    |0      |0             |CC   |0.0          |(5,[0],[1.0])|\n",
      "|35  |CASH_OUT|104230.91|C845222150 |495295.0     |391064.09     |C2049813033|9392809.57    |9497040.48    |0      |0             |CC   |0.0          |(5,[0],[1.0])|\n",
      "+----+--------+---------+-----------+-------------+--------------+-----------+--------------+--------------+-------+--------------+-----+-------------+-------------+\n",
      "only showing top 20 rows\n",
      "\n"
     ]
    }
   ],
   "source": [
    "### apply One-Hot-Encoding to the indexed column, that is, \n",
    "### \"types_indexed\"\n",
    "\n",
    "encoder_type = OneHotEncoder(dropLast=False, inputCol=\"types_indexed\", outputCol=\"types_onehot\")\n",
    "encoder_type_df = encoder_type.fit(indexed_df_type2).transform(indexed_df_type2)\n",
    "encoder_type_df.show(truncate=False)\n"
   ]
  },
  {
   "cell_type": "code",
   "execution_count": 20,
   "metadata": {},
   "outputs": [
    {
     "name": "stdout",
     "output_type": "stream",
     "text": [
      "root\n",
      " |-- step: string (nullable = true)\n",
      " |-- type: string (nullable = true)\n",
      " |-- amount: string (nullable = true)\n",
      " |-- nameOrig: string (nullable = true)\n",
      " |-- oldbalanceOrg: string (nullable = true)\n",
      " |-- newbalanceOrig: string (nullable = true)\n",
      " |-- nameDest: string (nullable = true)\n",
      " |-- oldbalanceDest: string (nullable = true)\n",
      " |-- newbalanceDest: string (nullable = true)\n",
      " |-- isFraud: string (nullable = true)\n",
      " |-- isFlaggedFraud: string (nullable = true)\n",
      " |-- type2: string (nullable = true)\n",
      " |-- types_indexed: double (nullable = false)\n",
      " |-- types_onehot: vector (nullable = true)\n",
      "\n"
     ]
    }
   ],
   "source": [
    "encoder_type_df.printSchema()"
   ]
  },
  {
   "cell_type": "code",
   "execution_count": 21,
   "metadata": {},
   "outputs": [
    {
     "name": "stdout",
     "output_type": "stream",
     "text": [
      "+----+-------+---------+-----------+-------------+--------------+-----------+--------------+--------------+-------+--------------+-----+-------------+-------------+--------------------+\n",
      "|step|   type|   amount|   nameOrig|oldbalanceOrg|newbalanceOrig|   nameDest|oldbalanceDest|newbalanceDest|isFraud|isFlaggedFraud|type2|types_indexed| types_onehot|  types_onehot_split|\n",
      "+----+-------+---------+-----------+-------------+--------------+-----------+--------------+--------------+-------+--------------+-----+-------------+-------------+--------------------+\n",
      "|  35|CASH_IN|312070.89| C154541954|     334944.3|     647015.19|C1995182035|     1030393.8|     718322.91|      0|             0|   CC|          2.0|(5,[2],[1.0])|[0.0, 0.0, 1.0, 0...|\n",
      "|  35|CASH_IN|244107.21|C1988196004|    647015.19|      891122.4| C877334652|     792091.74|     547984.53|      0|             0|   CC|          2.0|(5,[2],[1.0])|[0.0, 0.0, 1.0, 0...|\n",
      "|  35|CASH_IN| 17849.53|C1469762907|     891122.4|     908971.93| C733481207|     107400.33|       89550.8|      0|             0|   CC|          2.0|(5,[2],[1.0])|[0.0, 0.0, 1.0, 0...|\n",
      "|  35|CASH_IN|204719.93| C842268344|    908971.93|    1113691.86| C702268498|     531408.31|     326688.37|      0|             0|   CC|          2.0|(5,[2],[1.0])|[0.0, 0.0, 1.0, 0...|\n",
      "|  35|CASH_IN|281004.16| C188755315|   1113691.86|    1394696.02|C1358158097|     640496.15|     359491.99|      0|             0|   CC|          2.0|(5,[2],[1.0])|[0.0, 0.0, 1.0, 0...|\n",
      "+----+-------+---------+-----------+-------------+--------------+-----------+--------------+--------------+-------+--------------+-----+-------------+-------------+--------------------+\n",
      "only showing top 5 rows\n",
      "\n"
     ]
    }
   ],
   "source": [
    "encoder_type_df_split = encoder_type_df.select('*',vector_to_array('types_onehot').alias('types_onehot_split'))\n",
    "encoder_type_df_split.show(5)"
   ]
  },
  {
   "cell_type": "code",
   "execution_count": 22,
   "metadata": {},
   "outputs": [
    {
     "name": "stderr",
     "output_type": "stream",
     "text": [
      "                                                                                \r"
     ]
    }
   ],
   "source": [
    "### now, we´ll split the \"types_onehot_split\" into five columns, one per category\n",
    "\n",
    "num_categories = len(encoder_type_df_split.first()['types_onehot_split'])\n",
    "cols_expanded = [(f.col('types_onehot_split')[i].alias(f\"{indexerModel_type.labels[i]}\")) for i in range(num_categories)]\n",
    "type_df = encoder_type_df_split.select('*',*cols_expanded)\n"
   ]
  },
  {
   "cell_type": "code",
   "execution_count": 23,
   "metadata": {},
   "outputs": [
    {
     "name": "stdout",
     "output_type": "stream",
     "text": [
      "+----+--------+---------+-----------+-------------+--------------+-----------+--------------+--------------+-------+--------------+-----+-------------+-------------+--------------------+--------+-------+-------+--------+-----+\n",
      "|step|    type|   amount|   nameOrig|oldbalanceOrg|newbalanceOrig|   nameDest|oldbalanceDest|newbalanceDest|isFraud|isFlaggedFraud|type2|types_indexed| types_onehot|  types_onehot_split|CASH_OUT|PAYMENT|CASH_IN|TRANSFER|DEBIT|\n",
      "+----+--------+---------+-----------+-------------+--------------+-----------+--------------+--------------+-------+--------------+-----+-------------+-------------+--------------------+--------+-------+-------+--------+-----+\n",
      "|  35| CASH_IN|312070.89| C154541954|     334944.3|     647015.19|C1995182035|     1030393.8|     718322.91|      0|             0|   CC|          2.0|(5,[2],[1.0])|[0.0, 0.0, 1.0, 0...|     0.0|    0.0|    1.0|     0.0|  0.0|\n",
      "|  35| CASH_IN|244107.21|C1988196004|    647015.19|      891122.4| C877334652|     792091.74|     547984.53|      0|             0|   CC|          2.0|(5,[2],[1.0])|[0.0, 0.0, 1.0, 0...|     0.0|    0.0|    1.0|     0.0|  0.0|\n",
      "|  35| CASH_IN| 17849.53|C1469762907|     891122.4|     908971.93| C733481207|     107400.33|       89550.8|      0|             0|   CC|          2.0|(5,[2],[1.0])|[0.0, 0.0, 1.0, 0...|     0.0|    0.0|    1.0|     0.0|  0.0|\n",
      "|  35| CASH_IN|204719.93| C842268344|    908971.93|    1113691.86| C702268498|     531408.31|     326688.37|      0|             0|   CC|          2.0|(5,[2],[1.0])|[0.0, 0.0, 1.0, 0...|     0.0|    0.0|    1.0|     0.0|  0.0|\n",
      "|  35| CASH_IN|281004.16| C188755315|   1113691.86|    1394696.02|C1358158097|     640496.15|     359491.99|      0|             0|   CC|          2.0|(5,[2],[1.0])|[0.0, 0.0, 1.0, 0...|     0.0|    0.0|    1.0|     0.0|  0.0|\n",
      "|  35| CASH_IN| 16114.11|C1980321513|   1394696.02|    1410810.13| C834369930|    2642508.03|    2626393.92|      0|             0|   CC|          2.0|(5,[2],[1.0])|[0.0, 0.0, 1.0, 0...|     0.0|    0.0|    1.0|     0.0|  0.0|\n",
      "|  35| CASH_IN|  65320.6|C2012783974|   1410810.13|    1476130.73|C1837613240|    3709177.65|    3643857.05|      0|             0|   CC|          2.0|(5,[2],[1.0])|[0.0, 0.0, 1.0, 0...|     0.0|    0.0|    1.0|     0.0|  0.0|\n",
      "|  35| CASH_IN|197260.06|C1511215903|   1476130.73|    1673390.79|C1053726450|     389463.19|     192203.13|      0|             0|   CC|          2.0|(5,[2],[1.0])|[0.0, 0.0, 1.0, 0...|     0.0|    0.0|    1.0|     0.0|  0.0|\n",
      "|  35| CASH_IN|  17589.2|C1345504923|   1673390.79|    1690979.99| C573946296|      76894.38|      59305.18|      0|             0|   CC|          2.0|(5,[2],[1.0])|[0.0, 0.0, 1.0, 0...|     0.0|    0.0|    1.0|     0.0|  0.0|\n",
      "|  35| CASH_IN|225958.23|C1819325554|   1690979.99|    1916938.22|C1615795666|     997413.03|     771454.81|      0|             0|   CC|          2.0|(5,[2],[1.0])|[0.0, 0.0, 1.0, 0...|     0.0|    0.0|    1.0|     0.0|  0.0|\n",
      "|  35| CASH_IN|137987.66|C1578237711|      10889.0|     148876.66|C1395949792|     421743.44|     283755.78|      0|             0|   CC|          2.0|(5,[2],[1.0])|[0.0, 0.0, 1.0, 0...|     0.0|    0.0|    1.0|     0.0|  0.0|\n",
      "|  35| PAYMENT|  2550.67| C509265017|    148876.66|     146325.99|M1486544695|           0.0|           0.0|      0|             0|   CM|          1.0|(5,[1],[1.0])|[0.0, 1.0, 0.0, 0...|     0.0|    1.0|    0.0|     0.0|  0.0|\n",
      "|  35| PAYMENT| 10807.74| C832582514|     153908.0|     143100.26|M1612209102|           0.0|           0.0|      0|             0|   CM|          1.0|(5,[1],[1.0])|[0.0, 1.0, 0.0, 0...|     0.0|    1.0|    0.0|     0.0|  0.0|\n",
      "|  35| PAYMENT|    788.2| C682173112|      23862.0|       23073.8| M650392573|           0.0|           0.0|      0|             0|   CM|          1.0|(5,[1],[1.0])|[0.0, 1.0, 0.0, 0...|     0.0|    1.0|    0.0|     0.0|  0.0|\n",
      "|  35| CASH_IN| 26016.33| C382713844|     136678.0|     162694.33|C1441810518|      80955.03|       54938.7|      0|             0|   CC|          2.0|(5,[2],[1.0])|[0.0, 0.0, 1.0, 0...|     0.0|    0.0|    1.0|     0.0|  0.0|\n",
      "|  35|CASH_OUT| 176914.1| C883638472|      17796.0|           0.0|C1693177571|     487562.09|     664476.19|      0|             0|   CC|          0.0|(5,[0],[1.0])|[1.0, 0.0, 0.0, 0...|     1.0|    0.0|    0.0|     0.0|  0.0|\n",
      "|  35| PAYMENT| 13175.49|C1442191367|      62135.0|      48959.51|M1378517663|           0.0|           0.0|      0|             0|   CM|          1.0|(5,[1],[1.0])|[0.0, 1.0, 0.0, 0...|     0.0|    1.0|    0.0|     0.0|  0.0|\n",
      "|  35|TRANSFER|101701.01| C972138289|      19988.0|           0.0|C1485034389|     837516.47|     939217.48|      0|             0|   CC|          3.0|(5,[3],[1.0])|[0.0, 0.0, 0.0, 1...|     0.0|    0.0|    0.0|     1.0|  0.0|\n",
      "|  35|CASH_OUT|146052.99|C1462902215|          0.0|           0.0|C1935757345|    1121971.73|    1268024.72|      0|             0|   CC|          0.0|(5,[0],[1.0])|[1.0, 0.0, 0.0, 0...|     1.0|    0.0|    0.0|     0.0|  0.0|\n",
      "|  35|CASH_OUT|104230.91| C845222150|     495295.0|     391064.09|C2049813033|    9392809.57|    9497040.48|      0|             0|   CC|          0.0|(5,[0],[1.0])|[1.0, 0.0, 0.0, 0...|     1.0|    0.0|    0.0|     0.0|  0.0|\n",
      "|  35|CASH_OUT|110251.46| C878265263|        538.0|           0.0|C1430463714|    4203595.49|    4313846.96|      0|             0|   CC|          0.0|(5,[0],[1.0])|[1.0, 0.0, 0.0, 0...|     1.0|    0.0|    0.0|     0.0|  0.0|\n",
      "|  35| PAYMENT| 18766.09|  C10859066|     159924.0|     141157.91|M1195269068|           0.0|           0.0|      0|             0|   CM|          1.0|(5,[1],[1.0])|[0.0, 1.0, 0.0, 0...|     0.0|    1.0|    0.0|     0.0|  0.0|\n",
      "|  35|CASH_OUT|359468.59|C2104331020|      55496.0|           0.0|C1838303932|    2204689.84|    2564158.43|      0|             0|   CC|          0.0|(5,[0],[1.0])|[1.0, 0.0, 0.0, 0...|     1.0|    0.0|    0.0|     0.0|  0.0|\n",
      "|  35| PAYMENT|  3925.85|  C56097589|          0.0|           0.0| M785296647|           0.0|           0.0|      0|             0|   CM|          1.0|(5,[1],[1.0])|[0.0, 1.0, 0.0, 0...|     0.0|    1.0|    0.0|     0.0|  0.0|\n",
      "|  35| PAYMENT| 45092.98| C454779689|          0.0|           0.0| M171945645|           0.0|           0.0|      0|             0|   CM|          1.0|(5,[1],[1.0])|[0.0, 1.0, 0.0, 0...|     0.0|    1.0|    0.0|     0.0|  0.0|\n",
      "|  35| PAYMENT| 23537.84| C906846860|          0.0|           0.0|M1836079071|           0.0|           0.0|      0|             0|   CM|          1.0|(5,[1],[1.0])|[0.0, 1.0, 0.0, 0...|     0.0|    1.0|    0.0|     0.0|  0.0|\n",
      "|  35| PAYMENT|  7144.25| C758276979|          0.0|           0.0|M1510996670|           0.0|           0.0|      0|             0|   CM|          1.0|(5,[1],[1.0])|[0.0, 1.0, 0.0, 0...|     0.0|    1.0|    0.0|     0.0|  0.0|\n",
      "|  35| PAYMENT|  20442.1| C122419825|          0.0|           0.0|M1760201704|           0.0|           0.0|      0|             0|   CM|          1.0|(5,[1],[1.0])|[0.0, 1.0, 0.0, 0...|     0.0|    1.0|    0.0|     0.0|  0.0|\n",
      "|  35| PAYMENT|  9306.54|C1459438717|          0.0|           0.0|M1937935894|           0.0|           0.0|      0|             0|   CM|          1.0|(5,[1],[1.0])|[0.0, 1.0, 0.0, 0...|     0.0|    1.0|    0.0|     0.0|  0.0|\n",
      "|  35| PAYMENT|  4643.75| C734161509|          0.0|           0.0| M399180094|           0.0|           0.0|      0|             0|   CM|          1.0|(5,[1],[1.0])|[0.0, 1.0, 0.0, 0...|     0.0|    1.0|    0.0|     0.0|  0.0|\n",
      "|  35| PAYMENT| 16004.48| C724136214|          0.0|           0.0|M1287436379|           0.0|           0.0|      0|             0|   CM|          1.0|(5,[1],[1.0])|[0.0, 1.0, 0.0, 0...|     0.0|    1.0|    0.0|     0.0|  0.0|\n",
      "|  35| PAYMENT|  4945.76|C1955947243|          0.0|           0.0| M991449014|           0.0|           0.0|      0|             0|   CM|          1.0|(5,[1],[1.0])|[0.0, 1.0, 0.0, 0...|     0.0|    1.0|    0.0|     0.0|  0.0|\n",
      "|  35| PAYMENT| 16230.65|C1540962306|          0.0|           0.0|M1913535810|           0.0|           0.0|      0|             0|   CM|          1.0|(5,[1],[1.0])|[0.0, 1.0, 0.0, 0...|     0.0|    1.0|    0.0|     0.0|  0.0|\n",
      "|  35| PAYMENT|  5439.43| C768838610|          0.0|           0.0|M1422857249|           0.0|           0.0|      0|             0|   CM|          1.0|(5,[1],[1.0])|[0.0, 1.0, 0.0, 0...|     0.0|    1.0|    0.0|     0.0|  0.0|\n",
      "|  35| PAYMENT|   851.46|C1187262354|          0.0|           0.0|M1159982629|           0.0|           0.0|      0|             0|   CM|          1.0|(5,[1],[1.0])|[0.0, 1.0, 0.0, 0...|     0.0|    1.0|    0.0|     0.0|  0.0|\n",
      "|  35| PAYMENT|   9482.8|C1948217416|          0.0|           0.0|M1482497270|           0.0|           0.0|      0|             0|   CM|          1.0|(5,[1],[1.0])|[0.0, 1.0, 0.0, 0...|     0.0|    1.0|    0.0|     0.0|  0.0|\n",
      "|  35| PAYMENT|  3539.99|C1065484496|          0.0|           0.0|M1703576515|           0.0|           0.0|      0|             0|   CM|          1.0|(5,[1],[1.0])|[0.0, 1.0, 0.0, 0...|     0.0|    1.0|    0.0|     0.0|  0.0|\n",
      "|  35| PAYMENT|  1124.47|C1779970570|          0.0|           0.0|M1519532307|           0.0|           0.0|      0|             0|   CM|          1.0|(5,[1],[1.0])|[0.0, 1.0, 0.0, 0...|     0.0|    1.0|    0.0|     0.0|  0.0|\n",
      "|  35| PAYMENT|  2676.64|C1975068177|          0.0|           0.0|M1151084542|           0.0|           0.0|      0|             0|   CM|          1.0|(5,[1],[1.0])|[0.0, 1.0, 0.0, 0...|     0.0|    1.0|    0.0|     0.0|  0.0|\n",
      "|  35| PAYMENT|  1763.35|C1866454277|          0.0|           0.0| M607007568|           0.0|           0.0|      0|             0|   CM|          1.0|(5,[1],[1.0])|[0.0, 1.0, 0.0, 0...|     0.0|    1.0|    0.0|     0.0|  0.0|\n",
      "|  35| PAYMENT|  2568.07| C404422762|          0.0|           0.0|M1033729856|           0.0|           0.0|      0|             0|   CM|          1.0|(5,[1],[1.0])|[0.0, 1.0, 0.0, 0...|     0.0|    1.0|    0.0|     0.0|  0.0|\n",
      "|  35| PAYMENT| 14780.42| C739973643|          0.0|           0.0|M2038044779|           0.0|           0.0|      0|             0|   CM|          1.0|(5,[1],[1.0])|[0.0, 1.0, 0.0, 0...|     0.0|    1.0|    0.0|     0.0|  0.0|\n",
      "|  35| PAYMENT|  5695.76| C966938494|          0.0|           0.0|M1867716733|           0.0|           0.0|      0|             0|   CM|          1.0|(5,[1],[1.0])|[0.0, 1.0, 0.0, 0...|     0.0|    1.0|    0.0|     0.0|  0.0|\n",
      "|  35| PAYMENT| 21428.57| C460098782|          0.0|           0.0| M855406232|           0.0|           0.0|      0|             0|   CM|          1.0|(5,[1],[1.0])|[0.0, 1.0, 0.0, 0...|     0.0|    1.0|    0.0|     0.0|  0.0|\n",
      "|  35| CASH_IN| 88348.49| C420353542|      51985.0|     140333.49| C126978053|    1451025.04|    1362676.55|      0|             0|   CC|          2.0|(5,[2],[1.0])|[0.0, 0.0, 1.0, 0...|     0.0|    0.0|    1.0|     0.0|  0.0|\n",
      "|  35| PAYMENT| 14321.49|C1860793770|      15538.0|       1216.51| M295440085|           0.0|           0.0|      0|             0|   CM|          1.0|(5,[1],[1.0])|[0.0, 1.0, 0.0, 0...|     0.0|    1.0|    0.0|     0.0|  0.0|\n",
      "|  35|CASH_OUT|161270.26|C1074131656|     165947.0|       4676.74| C247803393|           0.0|     161270.26|      0|             0|   CC|          0.0|(5,[0],[1.0])|[1.0, 0.0, 0.0, 0...|     1.0|    0.0|    0.0|     0.0|  0.0|\n",
      "|  35| PAYMENT| 14496.64| C701657832|      4676.74|           0.0| M213059165|           0.0|           0.0|      0|             0|   CM|          1.0|(5,[1],[1.0])|[0.0, 1.0, 0.0, 0...|     0.0|    1.0|    0.0|     0.0|  0.0|\n",
      "|  35| PAYMENT|  3901.81|C2108185528|          0.0|           0.0| M315913591|           0.0|           0.0|      0|             0|   CM|          1.0|(5,[1],[1.0])|[0.0, 1.0, 0.0, 0...|     0.0|    1.0|    0.0|     0.0|  0.0|\n",
      "|  35| CASH_IN| 151679.7| C682299639|      45544.0|      197223.7|C1674217439|           0.0|           0.0|      0|             0|   CC|          2.0|(5,[2],[1.0])|[0.0, 0.0, 1.0, 0...|     0.0|    0.0|    1.0|     0.0|  0.0|\n",
      "|  35|CASH_OUT| 90960.33|C1010723409|      25561.0|           0.0| C287560801|     2623310.3|    2714270.63|      0|             0|   CC|          0.0|(5,[0],[1.0])|[1.0, 0.0, 0.0, 0...|     1.0|    0.0|    0.0|     0.0|  0.0|\n",
      "|  35| CASH_IN|258137.47|  C57971701|       5255.0|     263392.47| C909295153| 2.195781352E7| 2.169967605E7|      0|             0|   CC|          2.0|(5,[2],[1.0])|[0.0, 0.0, 1.0, 0...|     0.0|    0.0|    1.0|     0.0|  0.0|\n",
      "|  35| PAYMENT|  1210.05| C842674465|    263392.47|     262182.42|M1122411321|           0.0|           0.0|      0|             0|   CM|          1.0|(5,[1],[1.0])|[0.0, 1.0, 0.0, 0...|     0.0|    1.0|    0.0|     0.0|  0.0|\n",
      "|  35|CASH_OUT| 35684.14| C231024086|      15450.0|           0.0|C2006795469|      94890.58|     130574.71|      0|             0|   CC|          0.0|(5,[0],[1.0])|[1.0, 0.0, 0.0, 0...|     1.0|    0.0|    0.0|     0.0|  0.0|\n",
      "|  35|CASH_OUT| 85472.06| C705295520|       5029.0|           0.0| C876373474|      18621.61|     104093.67|      0|             0|   CC|          0.0|(5,[0],[1.0])|[1.0, 0.0, 0.0, 0...|     1.0|    0.0|    0.0|     0.0|  0.0|\n",
      "|  35| PAYMENT|  17003.5|C1238989817|      21621.0|        4617.5|M1045554832|           0.0|           0.0|      0|             0|   CM|          1.0|(5,[1],[1.0])|[0.0, 1.0, 0.0, 0...|     0.0|    1.0|    0.0|     0.0|  0.0|\n",
      "|  35|CASH_OUT| 62553.07| C446603033|     427235.0|     364681.93| C559154038|      97402.49|     159955.56|      0|             0|   CC|          0.0|(5,[0],[1.0])|[1.0, 0.0, 0.0, 0...|     1.0|    0.0|    0.0|     0.0|  0.0|\n",
      "|  35| PAYMENT|  19199.2|C2136458270|      12868.0|           0.0|M2111012542|           0.0|           0.0|      0|             0|   CM|          1.0|(5,[1],[1.0])|[0.0, 1.0, 0.0, 0...|     0.0|    1.0|    0.0|     0.0|  0.0|\n",
      "|  35| CASH_IN|186057.66|C1275552498|          0.0|     186057.66| C143770259|     485805.55|      299747.9|      0|             0|   CC|          2.0|(5,[2],[1.0])|[0.0, 0.0, 1.0, 0...|     0.0|    0.0|    1.0|     0.0|  0.0|\n",
      "|  35| CASH_IN|232993.44| C579820092|    186057.66|     419051.09|C1327728482|     766632.66|     533639.23|      0|             0|   CC|          2.0|(5,[2],[1.0])|[0.0, 0.0, 1.0, 0...|     0.0|    0.0|    1.0|     0.0|  0.0|\n",
      "|  35| CASH_IN|185319.59|C1664683335|    419051.09|     604370.68|C1936074663|     188247.06|       2927.47|      0|             0|   CC|          2.0|(5,[2],[1.0])|[0.0, 0.0, 1.0, 0...|     0.0|    0.0|    1.0|     0.0|  0.0|\n",
      "|  35| CASH_IN|151446.99|  C91859216|    604370.68|     755817.67|C1572164601|    1841949.24|    1690502.25|      0|             0|   CC|          2.0|(5,[2],[1.0])|[0.0, 0.0, 1.0, 0...|     0.0|    0.0|    1.0|     0.0|  0.0|\n",
      "|  35| CASH_IN| 59167.78|C1914588095|    755817.67|     814985.46|C1187717512|     152302.59|      93134.81|      0|             0|   CC|          2.0|(5,[2],[1.0])|[0.0, 0.0, 1.0, 0...|     0.0|    0.0|    1.0|     0.0|  0.0|\n",
      "|  35| CASH_IN|266814.92| C714645882|    814985.46|    1081800.38| C972381775|     526796.02|      259981.1|      0|             0|   CC|          2.0|(5,[2],[1.0])|[0.0, 0.0, 1.0, 0...|     0.0|    0.0|    1.0|     0.0|  0.0|\n",
      "|  35| CASH_IN| 49011.95|  C23122523|   1081800.38|    1130812.32| C564802404|       53516.0|       4504.05|      0|             0|   CC|          2.0|(5,[2],[1.0])|[0.0, 0.0, 1.0, 0...|     0.0|    0.0|    1.0|     0.0|  0.0|\n",
      "|  35| CASH_IN|104665.53|C1234815566|   1130812.32|    1235477.86|C1508400096|     169325.93|       64660.4|      0|             0|   CC|          2.0|(5,[2],[1.0])|[0.0, 0.0, 1.0, 0...|     0.0|    0.0|    1.0|     0.0|  0.0|\n",
      "|  35| CASH_IN|316099.38|C1230644081|   1235477.86|    1551577.24| C258311078|     931992.12|     615892.74|      0|             0|   CC|          2.0|(5,[2],[1.0])|[0.0, 0.0, 1.0, 0...|     0.0|    0.0|    1.0|     0.0|  0.0|\n",
      "|  35| CASH_IN| 21812.65| C648464465|   1551577.24|    1573389.89|C1315841811|    1242690.59|    1220877.95|      0|             0|   CC|          2.0|(5,[2],[1.0])|[0.0, 0.0, 1.0, 0...|     0.0|    0.0|    1.0|     0.0|  0.0|\n",
      "|  35| CASH_IN| 14803.07| C559101140|   1573389.89|    1588192.95|C2026644517|     531240.67|      516437.6|      0|             0|   CC|          2.0|(5,[2],[1.0])|[0.0, 0.0, 1.0, 0...|     0.0|    0.0|    1.0|     0.0|  0.0|\n",
      "|  35| CASH_IN|133054.86| C647971082|   1588192.95|    1721247.81|C2099893482|    1718158.41|    1585103.55|      0|             0|   CC|          2.0|(5,[2],[1.0])|[0.0, 0.0, 1.0, 0...|     0.0|    0.0|    1.0|     0.0|  0.0|\n",
      "|  35| CASH_IN| 82892.91|C1044819715|   1721247.81|    1804140.73| C903798224|     251647.68|     168754.77|      0|             0|   CC|          2.0|(5,[2],[1.0])|[0.0, 0.0, 1.0, 0...|     0.0|    0.0|    1.0|     0.0|  0.0|\n",
      "|  35| CASH_IN|103179.07| C783424730|   1804140.73|     1907319.8|C1372520401|    6149572.93|    6046393.86|      0|             0|   CC|          2.0|(5,[2],[1.0])|[0.0, 0.0, 1.0, 0...|     0.0|    0.0|    1.0|     0.0|  0.0|\n",
      "|  35| CASH_IN|135319.76| C385837132|    1907319.8|    2042639.55|C1139004975|     4927681.8|    4792362.04|      0|             0|   CC|          2.0|(5,[2],[1.0])|[0.0, 0.0, 1.0, 0...|     0.0|    0.0|    1.0|     0.0|  0.0|\n",
      "|  35| CASH_IN|121452.35|C1253371016|   2042639.55|     2164091.9|C1857182924|     455692.55|      334240.2|      0|             0|   CC|          2.0|(5,[2],[1.0])|[0.0, 0.0, 1.0, 0...|     0.0|    0.0|    1.0|     0.0|  0.0|\n",
      "|  35| CASH_IN| 50691.72|C1090616426|    2164091.9|    2214783.62| C344245633|     355018.35|     304326.62|      0|             0|   CC|          2.0|(5,[2],[1.0])|[0.0, 0.0, 1.0, 0...|     0.0|    0.0|    1.0|     0.0|  0.0|\n",
      "|  35| CASH_IN| 12339.37|C2137779292|   2214783.62|    2227122.99| C677321856|     193503.01|     181163.64|      0|             0|   CC|          2.0|(5,[2],[1.0])|[0.0, 0.0, 1.0, 0...|     0.0|    0.0|    1.0|     0.0|  0.0|\n",
      "|  35| CASH_IN| 89613.42| C305878773|   2227122.99|    2316736.41|C1299864770|    1070057.27|     980443.86|      0|             0|   CC|          2.0|(5,[2],[1.0])|[0.0, 0.0, 1.0, 0...|     0.0|    0.0|    1.0|     0.0|  0.0|\n",
      "|  35| CASH_IN|312547.65|C2139502742|   2316736.41|    2629284.06|   C8857666|     960227.65|      647680.0|      0|             0|   CC|          2.0|(5,[2],[1.0])|[0.0, 0.0, 1.0, 0...|     0.0|    0.0|    1.0|     0.0|  0.0|\n",
      "|  35| CASH_IN|399235.26| C892266784|   2629284.06|    3028519.32| C176304417|     958081.34|     558846.08|      0|             0|   CC|          2.0|(5,[2],[1.0])|[0.0, 0.0, 1.0, 0...|     0.0|    0.0|    1.0|     0.0|  0.0|\n",
      "|  35| CASH_IN| 89457.97| C352844501|   3028519.32|    3117977.29|C1787556170|    4178304.13|    4088846.15|      0|             0|   CC|          2.0|(5,[2],[1.0])|[0.0, 0.0, 1.0, 0...|     0.0|    0.0|    1.0|     0.0|  0.0|\n",
      "|  35| CASH_IN|290786.32|C1573100158|   3117977.29|    3408763.62|   C7347113|    2317610.95|    2026824.63|      0|             0|   CC|          2.0|(5,[2],[1.0])|[0.0, 0.0, 1.0, 0...|     0.0|    0.0|    1.0|     0.0|  0.0|\n",
      "|  35| CASH_IN|151698.45| C323963864|   3408763.62|    3560462.07|C1433756384|    1031949.48|     880251.03|      0|             0|   CC|          2.0|(5,[2],[1.0])|[0.0, 0.0, 1.0, 0...|     0.0|    0.0|    1.0|     0.0|  0.0|\n",
      "|  35| CASH_IN| 91179.46|C1374340984|   3560462.07|    3651641.53| C834808790| 2.942981751E7| 2.933863804E7|      0|             0|   CC|          2.0|(5,[2],[1.0])|[0.0, 0.0, 1.0, 0...|     0.0|    0.0|    1.0|     0.0|  0.0|\n",
      "|  35| CASH_IN| 12679.87|C2073124546|   3651641.53|     3664321.4|C1653041616|    1093193.39|    1080513.53|      0|             0|   CC|          2.0|(5,[2],[1.0])|[0.0, 0.0, 1.0, 0...|     0.0|    0.0|    1.0|     0.0|  0.0|\n",
      "|  35| CASH_IN|209488.22| C977284004|    3664321.4|    3873809.62| C640672953|     446934.85|     237446.63|      0|             0|   CC|          2.0|(5,[2],[1.0])|[0.0, 0.0, 1.0, 0...|     0.0|    0.0|    1.0|     0.0|  0.0|\n",
      "|  35| CASH_IN|259319.98|C1396221631|   3873809.62|     4133129.6|C1311515272|    8843196.67|    8583876.69|      0|             0|   CC|          2.0|(5,[2],[1.0])|[0.0, 0.0, 1.0, 0...|     0.0|    0.0|    1.0|     0.0|  0.0|\n",
      "|  35| CASH_IN|430290.47|C1416522407|    4133129.6|    4563420.07| C287588933|    2082936.04|    1652645.57|      0|             0|   CC|          2.0|(5,[2],[1.0])|[0.0, 0.0, 1.0, 0...|     0.0|    0.0|    1.0|     0.0|  0.0|\n",
      "|  35| CASH_IN| 329477.2| C637028774|   4563420.07|    4892897.27| C294951184|    1840732.26|    1511255.06|      0|             0|   CC|          2.0|(5,[2],[1.0])|[0.0, 0.0, 1.0, 0...|     0.0|    0.0|    1.0|     0.0|  0.0|\n",
      "|  35| CASH_IN| 49834.77| C509496246|   4892897.27|    4942732.04| C690821844|     655673.96|     605839.19|      0|             0|   CC|          2.0|(5,[2],[1.0])|[0.0, 0.0, 1.0, 0...|     0.0|    0.0|    1.0|     0.0|  0.0|\n",
      "|  35| CASH_IN|252039.65| C138746780|   4942732.04|    5194771.69|  C23017640|     561134.75|      309095.1|      0|             0|   CC|          2.0|(5,[2],[1.0])|[0.0, 0.0, 1.0, 0...|     0.0|    0.0|    1.0|     0.0|  0.0|\n",
      "|  35| CASH_IN|159848.58| C794391393|   5194771.69|    5354620.27|C1838171162|    1005561.72|     845713.14|      0|             0|   CC|          2.0|(5,[2],[1.0])|[0.0, 0.0, 1.0, 0...|     0.0|    0.0|    1.0|     0.0|  0.0|\n",
      "|  35| CASH_IN|  9741.07|C1217116757|   5354620.27|    5364361.34| C273761368|     308781.26|     299040.19|      0|             0|   CC|          2.0|(5,[2],[1.0])|[0.0, 0.0, 1.0, 0...|     0.0|    0.0|    1.0|     0.0|  0.0|\n",
      "|  35| CASH_IN|392270.58| C610552585|   5364361.34|    5756631.92|C1778890613|    1912997.99|    1520727.41|      0|             0|   CC|          2.0|(5,[2],[1.0])|[0.0, 0.0, 1.0, 0...|     0.0|    0.0|    1.0|     0.0|  0.0|\n",
      "|  35| CASH_IN|150327.73|  C81608162|   5756631.92|    5906959.65|C1094277319|     398534.45|      33134.92|      0|             0|   CC|          2.0|(5,[2],[1.0])|[0.0, 0.0, 1.0, 0...|     0.0|    0.0|    1.0|     0.0|  0.0|\n",
      "|  35| CASH_IN|106669.02|C1627100259|   5906959.65|    6013628.67| C720252194|    2517317.66|    2410648.64|      0|             0|   CC|          2.0|(5,[2],[1.0])|[0.0, 0.0, 1.0, 0...|     0.0|    0.0|    1.0|     0.0|  0.0|\n",
      "|  35| CASH_IN|319952.85|C1974981435|   6013628.67|    6333581.52| C800643630|    1012320.29|     692367.43|      0|             0|   CC|          2.0|(5,[2],[1.0])|[0.0, 0.0, 1.0, 0...|     0.0|    0.0|    1.0|     0.0|  0.0|\n",
      "|  35| CASH_IN|  7934.79|C1930289799|   6333581.52|    6341516.31|C1308979018|     609134.15|     601199.36|      0|             0|   CC|          2.0|(5,[2],[1.0])|[0.0, 0.0, 1.0, 0...|     0.0|    0.0|    1.0|     0.0|  0.0|\n",
      "|  35| CASH_IN|249733.01| C508748585|   6341516.31|    6591249.33|C1699046512|     648556.05|     398823.04|      0|             0|   CC|          2.0|(5,[2],[1.0])|[0.0, 0.0, 1.0, 0...|     0.0|    0.0|    1.0|     0.0|  0.0|\n",
      "|  35| CASH_IN| 130319.6| C582362124|   6591249.33|    6721568.93| C576654614|    1661242.15|    1530922.55|      0|             0|   CC|          2.0|(5,[2],[1.0])|[0.0, 0.0, 1.0, 0...|     0.0|    0.0|    1.0|     0.0|  0.0|\n",
      "|  35| CASH_IN|382528.38|C1767048554|   6721568.93|    7104097.31|C1434179268|     848230.83|      477634.3|      0|             0|   CC|          2.0|(5,[2],[1.0])|[0.0, 0.0, 1.0, 0...|     0.0|    0.0|    1.0|     0.0|  0.0|\n",
      "+----+--------+---------+-----------+-------------+--------------+-----------+--------------+--------------+-------+--------------+-----+-------------+-------------+--------------------+--------+-------+-------+--------+-----+\n",
      "only showing top 100 rows\n",
      "\n"
     ]
    }
   ],
   "source": [
    "type_df.show(100)"
   ]
  },
  {
   "cell_type": "markdown",
   "metadata": {},
   "source": [
    "#### We´ve applied One-Hot-Encoding to the column \"type\" resulting in five new columns:\n",
    "+ CASH_OUT\n",
    "+ CASH_IN\n",
    "+ PAYMENT\n",
    "+ TRANSFER \n",
    "+ DEBIT"
   ]
  },
  {
   "cell_type": "markdown",
   "metadata": {},
   "source": [
    "#### Now, we´ll apply this procedure to the column \"type2\"."
   ]
  },
  {
   "cell_type": "code",
   "execution_count": 24,
   "metadata": {},
   "outputs": [
    {
     "name": "stdout",
     "output_type": "stream",
     "text": [
      "+----+-------+---------+-----------+-------------+--------------+-----------+--------------+--------------+-------+--------------+-----+-------------+-------------+--------------------+--------+-------+-------+--------+-----+\n",
      "|step|   type|   amount|   nameOrig|oldbalanceOrg|newbalanceOrig|   nameDest|oldbalanceDest|newbalanceDest|isFraud|isFlaggedFraud|type2|types_indexed| types_onehot|  types_onehot_split|CASH_OUT|PAYMENT|CASH_IN|TRANSFER|DEBIT|\n",
      "+----+-------+---------+-----------+-------------+--------------+-----------+--------------+--------------+-------+--------------+-----+-------------+-------------+--------------------+--------+-------+-------+--------+-----+\n",
      "|  35|CASH_IN|312070.89| C154541954|     334944.3|     647015.19|C1995182035|     1030393.8|     718322.91|      0|             0|   CC|          2.0|(5,[2],[1.0])|[0.0, 0.0, 1.0, 0...|     0.0|    0.0|    1.0|     0.0|  0.0|\n",
      "|  35|CASH_IN|244107.21|C1988196004|    647015.19|      891122.4| C877334652|     792091.74|     547984.53|      0|             0|   CC|          2.0|(5,[2],[1.0])|[0.0, 0.0, 1.0, 0...|     0.0|    0.0|    1.0|     0.0|  0.0|\n",
      "|  35|CASH_IN| 17849.53|C1469762907|     891122.4|     908971.93| C733481207|     107400.33|       89550.8|      0|             0|   CC|          2.0|(5,[2],[1.0])|[0.0, 0.0, 1.0, 0...|     0.0|    0.0|    1.0|     0.0|  0.0|\n",
      "|  35|CASH_IN|204719.93| C842268344|    908971.93|    1113691.86| C702268498|     531408.31|     326688.37|      0|             0|   CC|          2.0|(5,[2],[1.0])|[0.0, 0.0, 1.0, 0...|     0.0|    0.0|    1.0|     0.0|  0.0|\n",
      "|  35|CASH_IN|281004.16| C188755315|   1113691.86|    1394696.02|C1358158097|     640496.15|     359491.99|      0|             0|   CC|          2.0|(5,[2],[1.0])|[0.0, 0.0, 1.0, 0...|     0.0|    0.0|    1.0|     0.0|  0.0|\n",
      "+----+-------+---------+-----------+-------------+--------------+-----------+--------------+--------------+-------+--------------+-----+-------------+-------------+--------------------+--------+-------+-------+--------+-----+\n",
      "only showing top 5 rows\n",
      "\n"
     ]
    }
   ],
   "source": [
    "### 2.1.2.2.- One Hot Encoding: column \"type2\"\n",
    "\n",
    "type_df.show(5)"
   ]
  },
  {
   "cell_type": "code",
   "execution_count": 25,
   "metadata": {},
   "outputs": [
    {
     "name": "stderr",
     "output_type": "stream",
     "text": [
      "                                                                                \r"
     ]
    }
   ],
   "source": [
    "### StringIndexer Initialization\n",
    "### column: type2\n",
    "\n",
    "indexer_type = StringIndexer(inputCol=\"type2\",outputCol=\"types_indexed2\")\n",
    "indexerModel_type = indexer_type.fit(type_df)"
   ]
  },
  {
   "cell_type": "code",
   "execution_count": 26,
   "metadata": {},
   "outputs": [
    {
     "name": "stdout",
     "output_type": "stream",
     "text": [
      "+----+-------+---------+-----------+-------------+--------------+-----------+--------------+--------------+-------+--------------+-----+-------------+-------------+--------------------+--------+-------+-------+--------+-----+--------------+\n",
      "|step|   type|   amount|   nameOrig|oldbalanceOrg|newbalanceOrig|   nameDest|oldbalanceDest|newbalanceDest|isFraud|isFlaggedFraud|type2|types_indexed| types_onehot|  types_onehot_split|CASH_OUT|PAYMENT|CASH_IN|TRANSFER|DEBIT|types_indexed2|\n",
      "+----+-------+---------+-----------+-------------+--------------+-----------+--------------+--------------+-------+--------------+-----+-------------+-------------+--------------------+--------+-------+-------+--------+-----+--------------+\n",
      "|  35|CASH_IN|312070.89| C154541954|     334944.3|     647015.19|C1995182035|     1030393.8|     718322.91|      0|             0|   CC|          2.0|(5,[2],[1.0])|[0.0, 0.0, 1.0, 0...|     0.0|    0.0|    1.0|     0.0|  0.0|           0.0|\n",
      "|  35|CASH_IN|244107.21|C1988196004|    647015.19|      891122.4| C877334652|     792091.74|     547984.53|      0|             0|   CC|          2.0|(5,[2],[1.0])|[0.0, 0.0, 1.0, 0...|     0.0|    0.0|    1.0|     0.0|  0.0|           0.0|\n",
      "|  35|CASH_IN| 17849.53|C1469762907|     891122.4|     908971.93| C733481207|     107400.33|       89550.8|      0|             0|   CC|          2.0|(5,[2],[1.0])|[0.0, 0.0, 1.0, 0...|     0.0|    0.0|    1.0|     0.0|  0.0|           0.0|\n",
      "|  35|CASH_IN|204719.93| C842268344|    908971.93|    1113691.86| C702268498|     531408.31|     326688.37|      0|             0|   CC|          2.0|(5,[2],[1.0])|[0.0, 0.0, 1.0, 0...|     0.0|    0.0|    1.0|     0.0|  0.0|           0.0|\n",
      "|  35|CASH_IN|281004.16| C188755315|   1113691.86|    1394696.02|C1358158097|     640496.15|     359491.99|      0|             0|   CC|          2.0|(5,[2],[1.0])|[0.0, 0.0, 1.0, 0...|     0.0|    0.0|    1.0|     0.0|  0.0|           0.0|\n",
      "|  35|CASH_IN| 16114.11|C1980321513|   1394696.02|    1410810.13| C834369930|    2642508.03|    2626393.92|      0|             0|   CC|          2.0|(5,[2],[1.0])|[0.0, 0.0, 1.0, 0...|     0.0|    0.0|    1.0|     0.0|  0.0|           0.0|\n",
      "|  35|CASH_IN|  65320.6|C2012783974|   1410810.13|    1476130.73|C1837613240|    3709177.65|    3643857.05|      0|             0|   CC|          2.0|(5,[2],[1.0])|[0.0, 0.0, 1.0, 0...|     0.0|    0.0|    1.0|     0.0|  0.0|           0.0|\n",
      "|  35|CASH_IN|197260.06|C1511215903|   1476130.73|    1673390.79|C1053726450|     389463.19|     192203.13|      0|             0|   CC|          2.0|(5,[2],[1.0])|[0.0, 0.0, 1.0, 0...|     0.0|    0.0|    1.0|     0.0|  0.0|           0.0|\n",
      "|  35|CASH_IN|  17589.2|C1345504923|   1673390.79|    1690979.99| C573946296|      76894.38|      59305.18|      0|             0|   CC|          2.0|(5,[2],[1.0])|[0.0, 0.0, 1.0, 0...|     0.0|    0.0|    1.0|     0.0|  0.0|           0.0|\n",
      "|  35|CASH_IN|225958.23|C1819325554|   1690979.99|    1916938.22|C1615795666|     997413.03|     771454.81|      0|             0|   CC|          2.0|(5,[2],[1.0])|[0.0, 0.0, 1.0, 0...|     0.0|    0.0|    1.0|     0.0|  0.0|           0.0|\n",
      "+----+-------+---------+-----------+-------------+--------------+-----------+--------------+--------------+-------+--------------+-----+-------------+-------------+--------------------+--------+-------+-------+--------+-----+--------------+\n",
      "only showing top 10 rows\n",
      "\n"
     ]
    }
   ],
   "source": [
    "### Transform the DataFrame using the fitted StringIndexer model\n",
    "\n",
    "indexed_df_type = indexerModel_type.transform(type_df)\n",
    "indexed_df_type.show(10)"
   ]
  },
  {
   "cell_type": "code",
   "execution_count": 27,
   "metadata": {},
   "outputs": [
    {
     "name": "stdout",
     "output_type": "stream",
     "text": [
      "+----+--------+---------+-----------+-------------+--------------+-----------+--------------+--------------+-------+--------------+-----+-------------+-------------+-------------------------+--------+-------+-------+--------+-----+--------------+-------------+\n",
      "|step|type    |amount   |nameOrig   |oldbalanceOrg|newbalanceOrig|nameDest   |oldbalanceDest|newbalanceDest|isFraud|isFlaggedFraud|type2|types_indexed|types_onehot |types_onehot_split       |CASH_OUT|PAYMENT|CASH_IN|TRANSFER|DEBIT|types_indexed2|types_onehot2|\n",
      "+----+--------+---------+-----------+-------------+--------------+-----------+--------------+--------------+-------+--------------+-----+-------------+-------------+-------------------------+--------+-------+-------+--------+-----+--------------+-------------+\n",
      "|35  |CASH_IN |312070.89|C154541954 |334944.3     |647015.19     |C1995182035|1030393.8     |718322.91     |0      |0             |CC   |2.0          |(5,[2],[1.0])|[0.0, 0.0, 1.0, 0.0, 0.0]|0.0     |0.0    |1.0    |0.0     |0.0  |0.0           |(2,[0],[1.0])|\n",
      "|35  |CASH_IN |244107.21|C1988196004|647015.19    |891122.4      |C877334652 |792091.74     |547984.53     |0      |0             |CC   |2.0          |(5,[2],[1.0])|[0.0, 0.0, 1.0, 0.0, 0.0]|0.0     |0.0    |1.0    |0.0     |0.0  |0.0           |(2,[0],[1.0])|\n",
      "|35  |CASH_IN |17849.53 |C1469762907|891122.4     |908971.93     |C733481207 |107400.33     |89550.8       |0      |0             |CC   |2.0          |(5,[2],[1.0])|[0.0, 0.0, 1.0, 0.0, 0.0]|0.0     |0.0    |1.0    |0.0     |0.0  |0.0           |(2,[0],[1.0])|\n",
      "|35  |CASH_IN |204719.93|C842268344 |908971.93    |1113691.86    |C702268498 |531408.31     |326688.37     |0      |0             |CC   |2.0          |(5,[2],[1.0])|[0.0, 0.0, 1.0, 0.0, 0.0]|0.0     |0.0    |1.0    |0.0     |0.0  |0.0           |(2,[0],[1.0])|\n",
      "|35  |CASH_IN |281004.16|C188755315 |1113691.86   |1394696.02    |C1358158097|640496.15     |359491.99     |0      |0             |CC   |2.0          |(5,[2],[1.0])|[0.0, 0.0, 1.0, 0.0, 0.0]|0.0     |0.0    |1.0    |0.0     |0.0  |0.0           |(2,[0],[1.0])|\n",
      "|35  |CASH_IN |16114.11 |C1980321513|1394696.02   |1410810.13    |C834369930 |2642508.03    |2626393.92    |0      |0             |CC   |2.0          |(5,[2],[1.0])|[0.0, 0.0, 1.0, 0.0, 0.0]|0.0     |0.0    |1.0    |0.0     |0.0  |0.0           |(2,[0],[1.0])|\n",
      "|35  |CASH_IN |65320.6  |C2012783974|1410810.13   |1476130.73    |C1837613240|3709177.65    |3643857.05    |0      |0             |CC   |2.0          |(5,[2],[1.0])|[0.0, 0.0, 1.0, 0.0, 0.0]|0.0     |0.0    |1.0    |0.0     |0.0  |0.0           |(2,[0],[1.0])|\n",
      "|35  |CASH_IN |197260.06|C1511215903|1476130.73   |1673390.79    |C1053726450|389463.19     |192203.13     |0      |0             |CC   |2.0          |(5,[2],[1.0])|[0.0, 0.0, 1.0, 0.0, 0.0]|0.0     |0.0    |1.0    |0.0     |0.0  |0.0           |(2,[0],[1.0])|\n",
      "|35  |CASH_IN |17589.2  |C1345504923|1673390.79   |1690979.99    |C573946296 |76894.38      |59305.18      |0      |0             |CC   |2.0          |(5,[2],[1.0])|[0.0, 0.0, 1.0, 0.0, 0.0]|0.0     |0.0    |1.0    |0.0     |0.0  |0.0           |(2,[0],[1.0])|\n",
      "|35  |CASH_IN |225958.23|C1819325554|1690979.99   |1916938.22    |C1615795666|997413.03     |771454.81     |0      |0             |CC   |2.0          |(5,[2],[1.0])|[0.0, 0.0, 1.0, 0.0, 0.0]|0.0     |0.0    |1.0    |0.0     |0.0  |0.0           |(2,[0],[1.0])|\n",
      "|35  |CASH_IN |137987.66|C1578237711|10889.0      |148876.66     |C1395949792|421743.44     |283755.78     |0      |0             |CC   |2.0          |(5,[2],[1.0])|[0.0, 0.0, 1.0, 0.0, 0.0]|0.0     |0.0    |1.0    |0.0     |0.0  |0.0           |(2,[0],[1.0])|\n",
      "|35  |PAYMENT |2550.67  |C509265017 |148876.66    |146325.99     |M1486544695|0.0           |0.0           |0      |0             |CM   |1.0          |(5,[1],[1.0])|[0.0, 1.0, 0.0, 0.0, 0.0]|0.0     |1.0    |0.0    |0.0     |0.0  |1.0           |(2,[1],[1.0])|\n",
      "|35  |PAYMENT |10807.74 |C832582514 |153908.0     |143100.26     |M1612209102|0.0           |0.0           |0      |0             |CM   |1.0          |(5,[1],[1.0])|[0.0, 1.0, 0.0, 0.0, 0.0]|0.0     |1.0    |0.0    |0.0     |0.0  |1.0           |(2,[1],[1.0])|\n",
      "|35  |PAYMENT |788.2    |C682173112 |23862.0      |23073.8       |M650392573 |0.0           |0.0           |0      |0             |CM   |1.0          |(5,[1],[1.0])|[0.0, 1.0, 0.0, 0.0, 0.0]|0.0     |1.0    |0.0    |0.0     |0.0  |1.0           |(2,[1],[1.0])|\n",
      "|35  |CASH_IN |26016.33 |C382713844 |136678.0     |162694.33     |C1441810518|80955.03      |54938.7       |0      |0             |CC   |2.0          |(5,[2],[1.0])|[0.0, 0.0, 1.0, 0.0, 0.0]|0.0     |0.0    |1.0    |0.0     |0.0  |0.0           |(2,[0],[1.0])|\n",
      "|35  |CASH_OUT|176914.1 |C883638472 |17796.0      |0.0           |C1693177571|487562.09     |664476.19     |0      |0             |CC   |0.0          |(5,[0],[1.0])|[1.0, 0.0, 0.0, 0.0, 0.0]|1.0     |0.0    |0.0    |0.0     |0.0  |0.0           |(2,[0],[1.0])|\n",
      "|35  |PAYMENT |13175.49 |C1442191367|62135.0      |48959.51      |M1378517663|0.0           |0.0           |0      |0             |CM   |1.0          |(5,[1],[1.0])|[0.0, 1.0, 0.0, 0.0, 0.0]|0.0     |1.0    |0.0    |0.0     |0.0  |1.0           |(2,[1],[1.0])|\n",
      "|35  |TRANSFER|101701.01|C972138289 |19988.0      |0.0           |C1485034389|837516.47     |939217.48     |0      |0             |CC   |3.0          |(5,[3],[1.0])|[0.0, 0.0, 0.0, 1.0, 0.0]|0.0     |0.0    |0.0    |1.0     |0.0  |0.0           |(2,[0],[1.0])|\n",
      "|35  |CASH_OUT|146052.99|C1462902215|0.0          |0.0           |C1935757345|1121971.73    |1268024.72    |0      |0             |CC   |0.0          |(5,[0],[1.0])|[1.0, 0.0, 0.0, 0.0, 0.0]|1.0     |0.0    |0.0    |0.0     |0.0  |0.0           |(2,[0],[1.0])|\n",
      "|35  |CASH_OUT|104230.91|C845222150 |495295.0     |391064.09     |C2049813033|9392809.57    |9497040.48    |0      |0             |CC   |0.0          |(5,[0],[1.0])|[1.0, 0.0, 0.0, 0.0, 0.0]|1.0     |0.0    |0.0    |0.0     |0.0  |0.0           |(2,[0],[1.0])|\n",
      "+----+--------+---------+-----------+-------------+--------------+-----------+--------------+--------------+-------+--------------+-----+-------------+-------------+-------------------------+--------+-------+-------+--------+-----+--------------+-------------+\n",
      "only showing top 20 rows\n",
      "\n"
     ]
    }
   ],
   "source": [
    "### apply One-Hot-Encoding to the indexed column, that is, \n",
    "### \"types_indexed2\"\n",
    "\n",
    "encoder_type2 = OneHotEncoder(dropLast=False, inputCol=\"types_indexed2\", outputCol=\"types_onehot2\")\n",
    "encoder_type2_df = encoder_type2.fit(indexed_df_type).transform(indexed_df_type)\n",
    "encoder_type2_df.show(truncate=False)"
   ]
  },
  {
   "cell_type": "code",
   "execution_count": 28,
   "metadata": {},
   "outputs": [
    {
     "name": "stdout",
     "output_type": "stream",
     "text": [
      "root\n",
      " |-- step: string (nullable = true)\n",
      " |-- type: string (nullable = true)\n",
      " |-- amount: string (nullable = true)\n",
      " |-- nameOrig: string (nullable = true)\n",
      " |-- oldbalanceOrg: string (nullable = true)\n",
      " |-- newbalanceOrig: string (nullable = true)\n",
      " |-- nameDest: string (nullable = true)\n",
      " |-- oldbalanceDest: string (nullable = true)\n",
      " |-- newbalanceDest: string (nullable = true)\n",
      " |-- isFraud: string (nullable = true)\n",
      " |-- isFlaggedFraud: string (nullable = true)\n",
      " |-- type2: string (nullable = true)\n",
      " |-- types_indexed: double (nullable = false)\n",
      " |-- types_onehot: vector (nullable = true)\n",
      " |-- types_onehot_split: array (nullable = false)\n",
      " |    |-- element: double (containsNull = false)\n",
      " |-- CASH_OUT: double (nullable = true)\n",
      " |-- PAYMENT: double (nullable = true)\n",
      " |-- CASH_IN: double (nullable = true)\n",
      " |-- TRANSFER: double (nullable = true)\n",
      " |-- DEBIT: double (nullable = true)\n",
      " |-- types_indexed2: double (nullable = false)\n",
      " |-- types_onehot2: vector (nullable = true)\n",
      "\n"
     ]
    }
   ],
   "source": [
    "encoder_type2_df.printSchema()"
   ]
  },
  {
   "cell_type": "code",
   "execution_count": 29,
   "metadata": {},
   "outputs": [
    {
     "name": "stdout",
     "output_type": "stream",
     "text": [
      "+----+-------+---------+-----------+-------------+--------------+-----------+--------------+--------------+-------+--------------+-----+-------------+-------------+--------------------+--------+-------+-------+--------+-----+--------------+-------------+-------------------+\n",
      "|step|   type|   amount|   nameOrig|oldbalanceOrg|newbalanceOrig|   nameDest|oldbalanceDest|newbalanceDest|isFraud|isFlaggedFraud|type2|types_indexed| types_onehot|  types_onehot_split|CASH_OUT|PAYMENT|CASH_IN|TRANSFER|DEBIT|types_indexed2|types_onehot2|types_onehot_split2|\n",
      "+----+-------+---------+-----------+-------------+--------------+-----------+--------------+--------------+-------+--------------+-----+-------------+-------------+--------------------+--------+-------+-------+--------+-----+--------------+-------------+-------------------+\n",
      "|  35|CASH_IN|312070.89| C154541954|     334944.3|     647015.19|C1995182035|     1030393.8|     718322.91|      0|             0|   CC|          2.0|(5,[2],[1.0])|[0.0, 0.0, 1.0, 0...|     0.0|    0.0|    1.0|     0.0|  0.0|           0.0|(2,[0],[1.0])|         [1.0, 0.0]|\n",
      "|  35|CASH_IN|244107.21|C1988196004|    647015.19|      891122.4| C877334652|     792091.74|     547984.53|      0|             0|   CC|          2.0|(5,[2],[1.0])|[0.0, 0.0, 1.0, 0...|     0.0|    0.0|    1.0|     0.0|  0.0|           0.0|(2,[0],[1.0])|         [1.0, 0.0]|\n",
      "|  35|CASH_IN| 17849.53|C1469762907|     891122.4|     908971.93| C733481207|     107400.33|       89550.8|      0|             0|   CC|          2.0|(5,[2],[1.0])|[0.0, 0.0, 1.0, 0...|     0.0|    0.0|    1.0|     0.0|  0.0|           0.0|(2,[0],[1.0])|         [1.0, 0.0]|\n",
      "|  35|CASH_IN|204719.93| C842268344|    908971.93|    1113691.86| C702268498|     531408.31|     326688.37|      0|             0|   CC|          2.0|(5,[2],[1.0])|[0.0, 0.0, 1.0, 0...|     0.0|    0.0|    1.0|     0.0|  0.0|           0.0|(2,[0],[1.0])|         [1.0, 0.0]|\n",
      "|  35|CASH_IN|281004.16| C188755315|   1113691.86|    1394696.02|C1358158097|     640496.15|     359491.99|      0|             0|   CC|          2.0|(5,[2],[1.0])|[0.0, 0.0, 1.0, 0...|     0.0|    0.0|    1.0|     0.0|  0.0|           0.0|(2,[0],[1.0])|         [1.0, 0.0]|\n",
      "+----+-------+---------+-----------+-------------+--------------+-----------+--------------+--------------+-------+--------------+-----+-------------+-------------+--------------------+--------+-------+-------+--------+-----+--------------+-------------+-------------------+\n",
      "only showing top 5 rows\n",
      "\n"
     ]
    }
   ],
   "source": [
    "encoder_type2_df_split = encoder_type2_df.select('*',vector_to_array('types_onehot2').alias('types_onehot_split2'))\n",
    "encoder_type2_df_split.show(5)"
   ]
  },
  {
   "cell_type": "code",
   "execution_count": 30,
   "metadata": {},
   "outputs": [],
   "source": [
    "### now, we´ll split the \"types_onehot_split2\" into two columns, one per category\n",
    "\n",
    "num_categories = len(encoder_type2_df_split.first()['types_onehot_split2'])\n",
    "cols_expanded = [(f.col('types_onehot_split2')[i].alias(f\"{indexerModel_type.labels[i]}\")) for i in range(num_categories)]\n",
    "encoder_type2_df_split = encoder_type2_df_split.select('*',*cols_expanded)"
   ]
  },
  {
   "cell_type": "code",
   "execution_count": 31,
   "metadata": {},
   "outputs": [
    {
     "name": "stdout",
     "output_type": "stream",
     "text": [
      "+----+-------+---------+-----------+-------------+--------------+-----------+--------------+--------------+-------+--------------+-----+-------------+-------------+--------------------+--------+-------+-------+--------+-----+--------------+-------------+-------------------+---+---+\n",
      "|step|   type|   amount|   nameOrig|oldbalanceOrg|newbalanceOrig|   nameDest|oldbalanceDest|newbalanceDest|isFraud|isFlaggedFraud|type2|types_indexed| types_onehot|  types_onehot_split|CASH_OUT|PAYMENT|CASH_IN|TRANSFER|DEBIT|types_indexed2|types_onehot2|types_onehot_split2| CC| CM|\n",
      "+----+-------+---------+-----------+-------------+--------------+-----------+--------------+--------------+-------+--------------+-----+-------------+-------------+--------------------+--------+-------+-------+--------+-----+--------------+-------------+-------------------+---+---+\n",
      "|  35|CASH_IN|312070.89| C154541954|     334944.3|     647015.19|C1995182035|     1030393.8|     718322.91|      0|             0|   CC|          2.0|(5,[2],[1.0])|[0.0, 0.0, 1.0, 0...|     0.0|    0.0|    1.0|     0.0|  0.0|           0.0|(2,[0],[1.0])|         [1.0, 0.0]|1.0|0.0|\n",
      "|  35|CASH_IN|244107.21|C1988196004|    647015.19|      891122.4| C877334652|     792091.74|     547984.53|      0|             0|   CC|          2.0|(5,[2],[1.0])|[0.0, 0.0, 1.0, 0...|     0.0|    0.0|    1.0|     0.0|  0.0|           0.0|(2,[0],[1.0])|         [1.0, 0.0]|1.0|0.0|\n",
      "|  35|CASH_IN| 17849.53|C1469762907|     891122.4|     908971.93| C733481207|     107400.33|       89550.8|      0|             0|   CC|          2.0|(5,[2],[1.0])|[0.0, 0.0, 1.0, 0...|     0.0|    0.0|    1.0|     0.0|  0.0|           0.0|(2,[0],[1.0])|         [1.0, 0.0]|1.0|0.0|\n",
      "|  35|CASH_IN|204719.93| C842268344|    908971.93|    1113691.86| C702268498|     531408.31|     326688.37|      0|             0|   CC|          2.0|(5,[2],[1.0])|[0.0, 0.0, 1.0, 0...|     0.0|    0.0|    1.0|     0.0|  0.0|           0.0|(2,[0],[1.0])|         [1.0, 0.0]|1.0|0.0|\n",
      "|  35|CASH_IN|281004.16| C188755315|   1113691.86|    1394696.02|C1358158097|     640496.15|     359491.99|      0|             0|   CC|          2.0|(5,[2],[1.0])|[0.0, 0.0, 1.0, 0...|     0.0|    0.0|    1.0|     0.0|  0.0|           0.0|(2,[0],[1.0])|         [1.0, 0.0]|1.0|0.0|\n",
      "+----+-------+---------+-----------+-------------+--------------+-----------+--------------+--------------+-------+--------------+-----+-------------+-------------+--------------------+--------+-------+-------+--------+-----+--------------+-------------+-------------------+---+---+\n",
      "only showing top 5 rows\n",
      "\n"
     ]
    }
   ],
   "source": [
    "encoder_type2_df_split.show(5)"
   ]
  },
  {
   "cell_type": "markdown",
   "metadata": {},
   "source": [
    "#### We´ve split the \"type2\" column into two columns based on One-Hot-Encoding. Now, we´ll eliminate some unnecessaruy columns. Let´s check out all the columns."
   ]
  },
  {
   "cell_type": "code",
   "execution_count": 32,
   "metadata": {},
   "outputs": [
    {
     "name": "stdout",
     "output_type": "stream",
     "text": [
      "root\n",
      " |-- step: string (nullable = true)\n",
      " |-- type: string (nullable = true)\n",
      " |-- amount: string (nullable = true)\n",
      " |-- nameOrig: string (nullable = true)\n",
      " |-- oldbalanceOrg: string (nullable = true)\n",
      " |-- newbalanceOrig: string (nullable = true)\n",
      " |-- nameDest: string (nullable = true)\n",
      " |-- oldbalanceDest: string (nullable = true)\n",
      " |-- newbalanceDest: string (nullable = true)\n",
      " |-- isFraud: string (nullable = true)\n",
      " |-- isFlaggedFraud: string (nullable = true)\n",
      " |-- type2: string (nullable = true)\n",
      " |-- types_indexed: double (nullable = false)\n",
      " |-- types_onehot: vector (nullable = true)\n",
      " |-- types_onehot_split: array (nullable = false)\n",
      " |    |-- element: double (containsNull = false)\n",
      " |-- CASH_OUT: double (nullable = true)\n",
      " |-- PAYMENT: double (nullable = true)\n",
      " |-- CASH_IN: double (nullable = true)\n",
      " |-- TRANSFER: double (nullable = true)\n",
      " |-- DEBIT: double (nullable = true)\n",
      " |-- types_indexed2: double (nullable = false)\n",
      " |-- types_onehot2: vector (nullable = true)\n",
      " |-- types_onehot_split2: array (nullable = false)\n",
      " |    |-- element: double (containsNull = false)\n",
      " |-- CC: double (nullable = true)\n",
      " |-- CM: double (nullable = true)\n",
      "\n"
     ]
    }
   ],
   "source": [
    "encoder_type2_df_split.printSchema()"
   ]
  },
  {
   "cell_type": "markdown",
   "metadata": {},
   "source": [
    "#### Now, we´ll eliminate the unnecessary columns:\n",
    "+ nameOrig\n",
    "+ nameDest\n",
    "+ isFlaggedFraud\n",
    "+ newbalanceDest\n",
    "+ oldbalanceDest\n",
    "+ oldbalanceOrg\n",
    "+ newbalanceOrig \n",
    "+ types_indexed\n",
    "+ types_onehot\n",
    "+ types_onehot_split\n",
    "+ types_indexed2\n",
    "+ types_onehot2\n",
    "+ types_onehot_split2\n",
    "+ type\n",
    "+ type2"
   ]
  },
  {
   "cell_type": "code",
   "execution_count": 34,
   "metadata": {},
   "outputs": [
    {
     "name": "stdout",
     "output_type": "stream",
     "text": [
      "+----+---------+-------+--------+-------+-------+--------+-----+---+---+\n",
      "|step|   amount|isFraud|CASH_OUT|PAYMENT|CASH_IN|TRANSFER|DEBIT| CC| CM|\n",
      "+----+---------+-------+--------+-------+-------+--------+-----+---+---+\n",
      "|  35|312070.89|      0|     0.0|    0.0|    1.0|     0.0|  0.0|1.0|0.0|\n",
      "|  35|244107.21|      0|     0.0|    0.0|    1.0|     0.0|  0.0|1.0|0.0|\n",
      "|  35| 17849.53|      0|     0.0|    0.0|    1.0|     0.0|  0.0|1.0|0.0|\n",
      "|  35|204719.93|      0|     0.0|    0.0|    1.0|     0.0|  0.0|1.0|0.0|\n",
      "|  35|281004.16|      0|     0.0|    0.0|    1.0|     0.0|  0.0|1.0|0.0|\n",
      "+----+---------+-------+--------+-------+-------+--------+-----+---+---+\n",
      "only showing top 5 rows\n",
      "\n"
     ]
    }
   ],
   "source": [
    "df_bank_par = encoder_type2_df_split.drop(\"nameOrig\",\"nameDest\",\"isFlaggedFraud\",\"newbalanceDest\",\"oldbalanceDest\",\n",
    "                       \"oldbalanceOrg\",\"newbalanceOrig\",\"type\",\"types_indexed\",\"types_onehot\",\n",
    "                       \"types_onehot_split\",\"type2\",\"types_indexed2\",\"types_onehot2\",\"types_onehot_split2\",\"types_indexed3\",\"types_onehot3\",\"types_onehot_split3\" )\n",
    "df_bank_par.show(5)"
   ]
  },
  {
   "cell_type": "code",
   "execution_count": 35,
   "metadata": {},
   "outputs": [
    {
     "data": {
      "text/plain": [
       "['step',\n",
       " 'amount',\n",
       " 'isFraud',\n",
       " 'CASH_OUT',\n",
       " 'PAYMENT',\n",
       " 'CASH_IN',\n",
       " 'TRANSFER',\n",
       " 'DEBIT',\n",
       " 'CC',\n",
       " 'CM']"
      ]
     },
     "execution_count": 35,
     "metadata": {},
     "output_type": "execute_result"
    }
   ],
   "source": [
    "df_bank_par.columns"
   ]
  },
  {
   "cell_type": "code",
   "execution_count": 36,
   "metadata": {},
   "outputs": [
    {
     "data": {
      "text/plain": [
       "6362620"
      ]
     },
     "execution_count": 36,
     "metadata": {},
     "output_type": "execute_result"
    }
   ],
   "source": [
    "df_bank_par.count()"
   ]
  },
  {
   "cell_type": "code",
   "execution_count": 37,
   "metadata": {},
   "outputs": [
    {
     "data": {
      "text/plain": [
       "pyspark.sql.dataframe.DataFrame"
      ]
     },
     "execution_count": 37,
     "metadata": {},
     "output_type": "execute_result"
    }
   ],
   "source": [
    "type(df_bank_par)"
   ]
  },
  {
   "cell_type": "markdown",
   "metadata": {},
   "source": [
    "#### We can see that there are the same quantity of registers."
   ]
  },
  {
   "cell_type": "markdown",
   "metadata": {},
   "source": [
    "### 2.2 Data Cleaning"
   ]
  },
  {
   "cell_type": "code",
   "execution_count": 38,
   "metadata": {},
   "outputs": [
    {
     "data": {
      "text/plain": [
       "6362620"
      ]
     },
     "execution_count": 38,
     "metadata": {},
     "output_type": "execute_result"
    }
   ],
   "source": [
    "### 2.2.1.- Eliminate duplicated\n",
    "\n",
    "num_all_rows = df_bank_par.count()\n",
    "num_all_rows"
   ]
  },
  {
   "cell_type": "code",
   "execution_count": 39,
   "metadata": {},
   "outputs": [
    {
     "name": "stderr",
     "output_type": "stream",
     "text": [
      "24/05/28 12:53:19 WARN RowBasedKeyValueBatch: Calling spill() on RowBasedKeyValueBatch. Will not spill but return 0.\n",
      "24/05/28 12:53:19 WARN RowBasedKeyValueBatch: Calling spill() on RowBasedKeyValueBatch. Will not spill but return 0.\n",
      "24/05/28 12:53:19 WARN RowBasedKeyValueBatch: Calling spill() on RowBasedKeyValueBatch. Will not spill but return 0.\n",
      "24/05/28 12:53:19 WARN RowBasedKeyValueBatch: Calling spill() on RowBasedKeyValueBatch. Will not spill but return 0.\n",
      "24/05/28 12:53:19 WARN RowBasedKeyValueBatch: Calling spill() on RowBasedKeyValueBatch. Will not spill but return 0.\n",
      "24/05/28 12:53:19 WARN RowBasedKeyValueBatch: Calling spill() on RowBasedKeyValueBatch. Will not spill but return 0.\n",
      "24/05/28 12:53:19 WARN RowBasedKeyValueBatch: Calling spill() on RowBasedKeyValueBatch. Will not spill but return 0.\n",
      "24/05/28 12:53:19 WARN RowBasedKeyValueBatch: Calling spill() on RowBasedKeyValueBatch. Will not spill but return 0.\n",
      "24/05/28 12:53:19 WARN RowBasedKeyValueBatch: Calling spill() on RowBasedKeyValueBatch. Will not spill but return 0.\n",
      "24/05/28 12:53:19 WARN RowBasedKeyValueBatch: Calling spill() on RowBasedKeyValueBatch. Will not spill but return 0.\n",
      "24/05/28 12:53:19 WARN RowBasedKeyValueBatch: Calling spill() on RowBasedKeyValueBatch. Will not spill but return 0.\n",
      "24/05/28 12:53:19 WARN RowBasedKeyValueBatch: Calling spill() on RowBasedKeyValueBatch. Will not spill but return 0.\n",
      "24/05/28 12:53:19 WARN RowBasedKeyValueBatch: Calling spill() on RowBasedKeyValueBatch. Will not spill but return 0.\n",
      "24/05/28 12:53:19 WARN RowBasedKeyValueBatch: Calling spill() on RowBasedKeyValueBatch. Will not spill but return 0.\n",
      "24/05/28 12:53:19 WARN RowBasedKeyValueBatch: Calling spill() on RowBasedKeyValueBatch. Will not spill but return 0.\n",
      "24/05/28 12:53:19 WARN RowBasedKeyValueBatch: Calling spill() on RowBasedKeyValueBatch. Will not spill but return 0.\n",
      "24/05/28 12:53:19 WARN RowBasedKeyValueBatch: Calling spill() on RowBasedKeyValueBatch. Will not spill but return 0.\n",
      "24/05/28 12:53:19 WARN RowBasedKeyValueBatch: Calling spill() on RowBasedKeyValueBatch. Will not spill but return 0.\n",
      "24/05/28 12:53:19 WARN RowBasedKeyValueBatch: Calling spill() on RowBasedKeyValueBatch. Will not spill but return 0.\n",
      "24/05/28 12:53:19 WARN RowBasedKeyValueBatch: Calling spill() on RowBasedKeyValueBatch. Will not spill but return 0.\n",
      "24/05/28 12:53:22 WARN RowBasedKeyValueBatch: Calling spill() on RowBasedKeyValueBatch. Will not spill but return 0.\n",
      "24/05/28 12:53:22 WARN RowBasedKeyValueBatch: Calling spill() on RowBasedKeyValueBatch. Will not spill but return 0.\n",
      "24/05/28 12:53:22 WARN RowBasedKeyValueBatch: Calling spill() on RowBasedKeyValueBatch. Will not spill but return 0.\n",
      "24/05/28 12:53:22 WARN RowBasedKeyValueBatch: Calling spill() on RowBasedKeyValueBatch. Will not spill but return 0.\n",
      "24/05/28 12:53:22 WARN RowBasedKeyValueBatch: Calling spill() on RowBasedKeyValueBatch. Will not spill but return 0.\n",
      "24/05/28 12:53:22 WARN RowBasedKeyValueBatch: Calling spill() on RowBasedKeyValueBatch. Will not spill but return 0.\n",
      "24/05/28 12:53:22 WARN RowBasedKeyValueBatch: Calling spill() on RowBasedKeyValueBatch. Will not spill but return 0.\n",
      "24/05/28 12:53:22 WARN RowBasedKeyValueBatch: Calling spill() on RowBasedKeyValueBatch. Will not spill but return 0.\n",
      "24/05/28 12:53:22 WARN RowBasedKeyValueBatch: Calling spill() on RowBasedKeyValueBatch. Will not spill but return 0.\n",
      "24/05/28 12:53:22 WARN RowBasedKeyValueBatch: Calling spill() on RowBasedKeyValueBatch. Will not spill but return 0.\n",
      "24/05/28 12:53:22 WARN RowBasedKeyValueBatch: Calling spill() on RowBasedKeyValueBatch. Will not spill but return 0.\n",
      "24/05/28 12:53:22 WARN RowBasedKeyValueBatch: Calling spill() on RowBasedKeyValueBatch. Will not spill but return 0.\n",
      "24/05/28 12:53:22 WARN RowBasedKeyValueBatch: Calling spill() on RowBasedKeyValueBatch. Will not spill but return 0.\n",
      "24/05/28 12:53:22 WARN RowBasedKeyValueBatch: Calling spill() on RowBasedKeyValueBatch. Will not spill but return 0.\n",
      "24/05/28 12:53:22 WARN RowBasedKeyValueBatch: Calling spill() on RowBasedKeyValueBatch. Will not spill but return 0.\n",
      "24/05/28 12:53:22 WARN RowBasedKeyValueBatch: Calling spill() on RowBasedKeyValueBatch. Will not spill but return 0.\n",
      "24/05/28 12:53:22 WARN RowBasedKeyValueBatch: Calling spill() on RowBasedKeyValueBatch. Will not spill but return 0.\n",
      "24/05/28 12:53:22 WARN RowBasedKeyValueBatch: Calling spill() on RowBasedKeyValueBatch. Will not spill but return 0.\n",
      "24/05/28 12:53:22 WARN RowBasedKeyValueBatch: Calling spill() on RowBasedKeyValueBatch. Will not spill but return 0.\n",
      "24/05/28 12:53:22 WARN RowBasedKeyValueBatch: Calling spill() on RowBasedKeyValueBatch. Will not spill but return 0.\n",
      "24/05/28 12:53:28 WARN RowBasedKeyValueBatch: Calling spill() on RowBasedKeyValueBatch. Will not spill but return 0.\n",
      "24/05/28 12:53:28 WARN RowBasedKeyValueBatch: Calling spill() on RowBasedKeyValueBatch. Will not spill but return 0.\n",
      "24/05/28 12:53:28 WARN RowBasedKeyValueBatch: Calling spill() on RowBasedKeyValueBatch. Will not spill but return 0.\n",
      "24/05/28 12:53:29 WARN RowBasedKeyValueBatch: Calling spill() on RowBasedKeyValueBatch. Will not spill but return 0.\n",
      "24/05/28 12:53:29 WARN RowBasedKeyValueBatch: Calling spill() on RowBasedKeyValueBatch. Will not spill but return 0.\n",
      "24/05/28 12:53:29 WARN RowBasedKeyValueBatch: Calling spill() on RowBasedKeyValueBatch. Will not spill but return 0.\n",
      "24/05/28 12:53:29 WARN RowBasedKeyValueBatch: Calling spill() on RowBasedKeyValueBatch. Will not spill but return 0.\n",
      "24/05/28 12:53:29 WARN RowBasedKeyValueBatch: Calling spill() on RowBasedKeyValueBatch. Will not spill but return 0.\n",
      "24/05/28 12:53:29 WARN RowBasedKeyValueBatch: Calling spill() on RowBasedKeyValueBatch. Will not spill but return 0.\n",
      "24/05/28 12:53:29 WARN RowBasedKeyValueBatch: Calling spill() on RowBasedKeyValueBatch. Will not spill but return 0.\n",
      "24/05/28 12:53:29 WARN RowBasedKeyValueBatch: Calling spill() on RowBasedKeyValueBatch. Will not spill but return 0.\n",
      "24/05/28 12:53:29 WARN RowBasedKeyValueBatch: Calling spill() on RowBasedKeyValueBatch. Will not spill but return 0.\n",
      "24/05/28 12:53:29 WARN RowBasedKeyValueBatch: Calling spill() on RowBasedKeyValueBatch. Will not spill but return 0.\n",
      "24/05/28 12:53:29 WARN RowBasedKeyValueBatch: Calling spill() on RowBasedKeyValueBatch. Will not spill but return 0.\n",
      "24/05/28 12:53:29 WARN RowBasedKeyValueBatch: Calling spill() on RowBasedKeyValueBatch. Will not spill but return 0.\n",
      "24/05/28 12:53:29 WARN RowBasedKeyValueBatch: Calling spill() on RowBasedKeyValueBatch. Will not spill but return 0.\n",
      "24/05/28 12:53:29 WARN RowBasedKeyValueBatch: Calling spill() on RowBasedKeyValueBatch. Will not spill but return 0.\n",
      "24/05/28 12:53:29 WARN RowBasedKeyValueBatch: Calling spill() on RowBasedKeyValueBatch. Will not spill but return 0.\n",
      "24/05/28 12:53:29 WARN RowBasedKeyValueBatch: Calling spill() on RowBasedKeyValueBatch. Will not spill but return 0.\n",
      "24/05/28 12:53:29 WARN RowBasedKeyValueBatch: Calling spill() on RowBasedKeyValueBatch. Will not spill but return 0.\n",
      "24/05/28 12:53:29 WARN RowBasedKeyValueBatch: Calling spill() on RowBasedKeyValueBatch. Will not spill but return 0.\n",
      "24/05/28 12:53:29 WARN RowBasedKeyValueBatch: Calling spill() on RowBasedKeyValueBatch. Will not spill but return 0.\n",
      "24/05/28 12:53:29 WARN RowBasedKeyValueBatch: Calling spill() on RowBasedKeyValueBatch. Will not spill but return 0.\n",
      "24/05/28 12:53:29 WARN RowBasedKeyValueBatch: Calling spill() on RowBasedKeyValueBatch. Will not spill but return 0.\n",
      "24/05/28 12:53:29 WARN RowBasedKeyValueBatch: Calling spill() on RowBasedKeyValueBatch. Will not spill but return 0.\n",
      "24/05/28 12:53:29 WARN RowBasedKeyValueBatch: Calling spill() on RowBasedKeyValueBatch. Will not spill but return 0.\n",
      "24/05/28 12:53:29 WARN RowBasedKeyValueBatch: Calling spill() on RowBasedKeyValueBatch. Will not spill but return 0.\n",
      "24/05/28 12:53:29 WARN RowBasedKeyValueBatch: Calling spill() on RowBasedKeyValueBatch. Will not spill but return 0.\n",
      "24/05/28 12:53:29 WARN RowBasedKeyValueBatch: Calling spill() on RowBasedKeyValueBatch. Will not spill but return 0.\n",
      "24/05/28 12:53:29 WARN RowBasedKeyValueBatch: Calling spill() on RowBasedKeyValueBatch. Will not spill but return 0.\n",
      "24/05/28 12:53:29 WARN RowBasedKeyValueBatch: Calling spill() on RowBasedKeyValueBatch. Will not spill but return 0.\n",
      "24/05/28 12:53:29 WARN RowBasedKeyValueBatch: Calling spill() on RowBasedKeyValueBatch. Will not spill but return 0.\n",
      "24/05/28 12:53:29 WARN RowBasedKeyValueBatch: Calling spill() on RowBasedKeyValueBatch. Will not spill but return 0.\n",
      "24/05/28 12:53:29 WARN RowBasedKeyValueBatch: Calling spill() on RowBasedKeyValueBatch. Will not spill but return 0.\n",
      "24/05/28 12:53:29 WARN RowBasedKeyValueBatch: Calling spill() on RowBasedKeyValueBatch. Will not spill but return 0.\n",
      "24/05/28 12:53:29 WARN RowBasedKeyValueBatch: Calling spill() on RowBasedKeyValueBatch. Will not spill but return 0.\n",
      "24/05/28 12:53:29 WARN RowBasedKeyValueBatch: Calling spill() on RowBasedKeyValueBatch. Will not spill but return 0.\n",
      "24/05/28 12:53:29 WARN RowBasedKeyValueBatch: Calling spill() on RowBasedKeyValueBatch. Will not spill but return 0.\n",
      "24/05/28 12:53:29 WARN RowBasedKeyValueBatch: Calling spill() on RowBasedKeyValueBatch. Will not spill but return 0.\n",
      "24/05/28 12:53:29 WARN RowBasedKeyValueBatch: Calling spill() on RowBasedKeyValueBatch. Will not spill but return 0.\n",
      "24/05/28 12:53:29 WARN RowBasedKeyValueBatch: Calling spill() on RowBasedKeyValueBatch. Will not spill but return 0.\n",
      "                                                                                \r"
     ]
    }
   ],
   "source": [
    "num_duplicated_rows = df_bank_par.distinct().count() "
   ]
  },
  {
   "cell_type": "code",
   "execution_count": 40,
   "metadata": {},
   "outputs": [
    {
     "name": "stdout",
     "output_type": "stream",
     "text": [
      "The total number of duplicated rows is: 7597\n"
     ]
    }
   ],
   "source": [
    "print(f\"The total number of duplicated rows is:\",num_all_rows - num_duplicated_rows)"
   ]
  },
  {
   "cell_type": "markdown",
   "metadata": {},
   "source": [
    "#### We can see that there are 7597 duplicated rows. Let´s remove the null values and duplicated values from the df_bank_par dataframe."
   ]
  },
  {
   "cell_type": "code",
   "execution_count": 41,
   "metadata": {},
   "outputs": [],
   "source": [
    "df_bank_par = df_bank_par.dropna()\n",
    "\n",
    "df_bank_par = df_bank_par.dropDuplicates()"
   ]
  },
  {
   "cell_type": "code",
   "execution_count": 42,
   "metadata": {},
   "outputs": [
    {
     "name": "stderr",
     "output_type": "stream",
     "text": [
      "24/05/28 12:53:35 WARN RowBasedKeyValueBatch: Calling spill() on RowBasedKeyValueBatch. Will not spill but return 0.\n",
      "24/05/28 12:53:35 WARN RowBasedKeyValueBatch: Calling spill() on RowBasedKeyValueBatch. Will not spill but return 0.\n",
      "24/05/28 12:53:35 WARN RowBasedKeyValueBatch: Calling spill() on RowBasedKeyValueBatch. Will not spill but return 0.\n",
      "24/05/28 12:53:35 WARN RowBasedKeyValueBatch: Calling spill() on RowBasedKeyValueBatch. Will not spill but return 0.\n",
      "24/05/28 12:53:35 WARN RowBasedKeyValueBatch: Calling spill() on RowBasedKeyValueBatch. Will not spill but return 0.\n",
      "24/05/28 12:53:35 WARN RowBasedKeyValueBatch: Calling spill() on RowBasedKeyValueBatch. Will not spill but return 0.\n",
      "24/05/28 12:53:35 WARN RowBasedKeyValueBatch: Calling spill() on RowBasedKeyValueBatch. Will not spill but return 0.\n",
      "24/05/28 12:53:35 WARN RowBasedKeyValueBatch: Calling spill() on RowBasedKeyValueBatch. Will not spill but return 0.\n",
      "24/05/28 12:53:35 WARN RowBasedKeyValueBatch: Calling spill() on RowBasedKeyValueBatch. Will not spill but return 0.\n",
      "24/05/28 12:53:35 WARN RowBasedKeyValueBatch: Calling spill() on RowBasedKeyValueBatch. Will not spill but return 0.\n",
      "24/05/28 12:53:35 WARN RowBasedKeyValueBatch: Calling spill() on RowBasedKeyValueBatch. Will not spill but return 0.\n",
      "24/05/28 12:53:35 WARN RowBasedKeyValueBatch: Calling spill() on RowBasedKeyValueBatch. Will not spill but return 0.\n",
      "24/05/28 12:53:35 WARN RowBasedKeyValueBatch: Calling spill() on RowBasedKeyValueBatch. Will not spill but return 0.\n",
      "24/05/28 12:53:35 WARN RowBasedKeyValueBatch: Calling spill() on RowBasedKeyValueBatch. Will not spill but return 0.\n",
      "24/05/28 12:53:35 WARN RowBasedKeyValueBatch: Calling spill() on RowBasedKeyValueBatch. Will not spill but return 0.\n",
      "24/05/28 12:53:35 WARN RowBasedKeyValueBatch: Calling spill() on RowBasedKeyValueBatch. Will not spill but return 0.\n",
      "24/05/28 12:53:35 WARN RowBasedKeyValueBatch: Calling spill() on RowBasedKeyValueBatch. Will not spill but return 0.\n",
      "24/05/28 12:53:35 WARN RowBasedKeyValueBatch: Calling spill() on RowBasedKeyValueBatch. Will not spill but return 0.\n",
      "24/05/28 12:53:35 WARN RowBasedKeyValueBatch: Calling spill() on RowBasedKeyValueBatch. Will not spill but return 0.\n",
      "24/05/28 12:53:35 WARN RowBasedKeyValueBatch: Calling spill() on RowBasedKeyValueBatch. Will not spill but return 0.\n",
      "24/05/28 12:53:37 WARN RowBasedKeyValueBatch: Calling spill() on RowBasedKeyValueBatch. Will not spill but return 0.\n",
      "24/05/28 12:53:37 WARN RowBasedKeyValueBatch: Calling spill() on RowBasedKeyValueBatch. Will not spill but return 0.\n",
      "24/05/28 12:53:37 WARN RowBasedKeyValueBatch: Calling spill() on RowBasedKeyValueBatch. Will not spill but return 0.\n",
      "24/05/28 12:53:37 WARN RowBasedKeyValueBatch: Calling spill() on RowBasedKeyValueBatch. Will not spill but return 0.\n",
      "24/05/28 12:53:37 WARN RowBasedKeyValueBatch: Calling spill() on RowBasedKeyValueBatch. Will not spill but return 0.\n",
      "24/05/28 12:53:37 WARN RowBasedKeyValueBatch: Calling spill() on RowBasedKeyValueBatch. Will not spill but return 0.\n",
      "24/05/28 12:53:37 WARN RowBasedKeyValueBatch: Calling spill() on RowBasedKeyValueBatch. Will not spill but return 0.\n",
      "24/05/28 12:53:37 WARN RowBasedKeyValueBatch: Calling spill() on RowBasedKeyValueBatch. Will not spill but return 0.\n",
      "24/05/28 12:53:37 WARN RowBasedKeyValueBatch: Calling spill() on RowBasedKeyValueBatch. Will not spill but return 0.\n",
      "24/05/28 12:53:37 WARN RowBasedKeyValueBatch: Calling spill() on RowBasedKeyValueBatch. Will not spill but return 0.\n",
      "24/05/28 12:53:37 WARN RowBasedKeyValueBatch: Calling spill() on RowBasedKeyValueBatch. Will not spill but return 0.\n",
      "24/05/28 12:53:37 WARN RowBasedKeyValueBatch: Calling spill() on RowBasedKeyValueBatch. Will not spill but return 0.\n",
      "24/05/28 12:53:37 WARN RowBasedKeyValueBatch: Calling spill() on RowBasedKeyValueBatch. Will not spill but return 0.\n",
      "24/05/28 12:53:37 WARN RowBasedKeyValueBatch: Calling spill() on RowBasedKeyValueBatch. Will not spill but return 0.\n",
      "24/05/28 12:53:37 WARN RowBasedKeyValueBatch: Calling spill() on RowBasedKeyValueBatch. Will not spill but return 0.\n",
      "24/05/28 12:53:37 WARN RowBasedKeyValueBatch: Calling spill() on RowBasedKeyValueBatch. Will not spill but return 0.\n",
      "24/05/28 12:53:37 WARN RowBasedKeyValueBatch: Calling spill() on RowBasedKeyValueBatch. Will not spill but return 0.\n",
      "24/05/28 12:53:37 WARN RowBasedKeyValueBatch: Calling spill() on RowBasedKeyValueBatch. Will not spill but return 0.\n",
      "24/05/28 12:53:37 WARN RowBasedKeyValueBatch: Calling spill() on RowBasedKeyValueBatch. Will not spill but return 0.\n",
      "24/05/28 12:53:37 WARN RowBasedKeyValueBatch: Calling spill() on RowBasedKeyValueBatch. Will not spill but return 0.\n",
      "24/05/28 12:53:41 WARN RowBasedKeyValueBatch: Calling spill() on RowBasedKeyValueBatch. Will not spill but return 0.\n",
      "24/05/28 12:53:41 WARN RowBasedKeyValueBatch: Calling spill() on RowBasedKeyValueBatch. Will not spill but return 0.\n",
      "24/05/28 12:53:41 WARN RowBasedKeyValueBatch: Calling spill() on RowBasedKeyValueBatch. Will not spill but return 0.\n",
      "24/05/28 12:53:41 WARN RowBasedKeyValueBatch: Calling spill() on RowBasedKeyValueBatch. Will not spill but return 0.\n",
      "24/05/28 12:53:41 WARN RowBasedKeyValueBatch: Calling spill() on RowBasedKeyValueBatch. Will not spill but return 0.\n",
      "24/05/28 12:53:41 WARN RowBasedKeyValueBatch: Calling spill() on RowBasedKeyValueBatch. Will not spill but return 0.\n",
      "24/05/28 12:53:41 WARN RowBasedKeyValueBatch: Calling spill() on RowBasedKeyValueBatch. Will not spill but return 0.\n",
      "24/05/28 12:53:41 WARN RowBasedKeyValueBatch: Calling spill() on RowBasedKeyValueBatch. Will not spill but return 0.\n",
      "24/05/28 12:53:41 WARN RowBasedKeyValueBatch: Calling spill() on RowBasedKeyValueBatch. Will not spill but return 0.\n",
      "24/05/28 12:53:41 WARN RowBasedKeyValueBatch: Calling spill() on RowBasedKeyValueBatch. Will not spill but return 0.\n",
      "24/05/28 12:53:41 WARN RowBasedKeyValueBatch: Calling spill() on RowBasedKeyValueBatch. Will not spill but return 0.\n",
      "24/05/28 12:53:41 WARN RowBasedKeyValueBatch: Calling spill() on RowBasedKeyValueBatch. Will not spill but return 0.\n",
      "24/05/28 12:53:41 WARN RowBasedKeyValueBatch: Calling spill() on RowBasedKeyValueBatch. Will not spill but return 0.\n",
      "24/05/28 12:53:41 WARN RowBasedKeyValueBatch: Calling spill() on RowBasedKeyValueBatch. Will not spill but return 0.\n",
      "24/05/28 12:53:41 WARN RowBasedKeyValueBatch: Calling spill() on RowBasedKeyValueBatch. Will not spill but return 0.\n",
      "24/05/28 12:53:41 WARN RowBasedKeyValueBatch: Calling spill() on RowBasedKeyValueBatch. Will not spill but return 0.\n",
      "24/05/28 12:53:41 WARN RowBasedKeyValueBatch: Calling spill() on RowBasedKeyValueBatch. Will not spill but return 0.\n",
      "24/05/28 12:53:41 WARN RowBasedKeyValueBatch: Calling spill() on RowBasedKeyValueBatch. Will not spill but return 0.\n",
      "24/05/28 12:53:41 WARN RowBasedKeyValueBatch: Calling spill() on RowBasedKeyValueBatch. Will not spill but return 0.\n",
      "24/05/28 12:53:41 WARN RowBasedKeyValueBatch: Calling spill() on RowBasedKeyValueBatch. Will not spill but return 0.\n",
      "24/05/28 12:53:41 WARN RowBasedKeyValueBatch: Calling spill() on RowBasedKeyValueBatch. Will not spill but return 0.\n",
      "24/05/28 12:53:41 WARN RowBasedKeyValueBatch: Calling spill() on RowBasedKeyValueBatch. Will not spill but return 0.\n",
      "24/05/28 12:53:42 WARN RowBasedKeyValueBatch: Calling spill() on RowBasedKeyValueBatch. Will not spill but return 0.\n",
      "24/05/28 12:53:42 WARN RowBasedKeyValueBatch: Calling spill() on RowBasedKeyValueBatch. Will not spill but return 0.\n",
      "24/05/28 12:53:42 WARN RowBasedKeyValueBatch: Calling spill() on RowBasedKeyValueBatch. Will not spill but return 0.\n",
      "24/05/28 12:53:42 WARN RowBasedKeyValueBatch: Calling spill() on RowBasedKeyValueBatch. Will not spill but return 0.\n",
      "24/05/28 12:53:42 WARN RowBasedKeyValueBatch: Calling spill() on RowBasedKeyValueBatch. Will not spill but return 0.\n",
      "24/05/28 12:53:42 WARN RowBasedKeyValueBatch: Calling spill() on RowBasedKeyValueBatch. Will not spill but return 0.\n",
      "24/05/28 12:53:42 WARN RowBasedKeyValueBatch: Calling spill() on RowBasedKeyValueBatch. Will not spill but return 0.\n",
      "24/05/28 12:53:42 WARN RowBasedKeyValueBatch: Calling spill() on RowBasedKeyValueBatch. Will not spill but return 0.\n",
      "24/05/28 12:53:42 WARN RowBasedKeyValueBatch: Calling spill() on RowBasedKeyValueBatch. Will not spill but return 0.\n",
      "24/05/28 12:53:42 WARN RowBasedKeyValueBatch: Calling spill() on RowBasedKeyValueBatch. Will not spill but return 0.\n",
      "24/05/28 12:53:42 WARN RowBasedKeyValueBatch: Calling spill() on RowBasedKeyValueBatch. Will not spill but return 0.\n",
      "24/05/28 12:53:42 WARN RowBasedKeyValueBatch: Calling spill() on RowBasedKeyValueBatch. Will not spill but return 0.\n",
      "24/05/28 12:53:42 WARN RowBasedKeyValueBatch: Calling spill() on RowBasedKeyValueBatch. Will not spill but return 0.\n",
      "24/05/28 12:53:42 WARN RowBasedKeyValueBatch: Calling spill() on RowBasedKeyValueBatch. Will not spill but return 0.\n",
      "24/05/28 12:53:42 WARN RowBasedKeyValueBatch: Calling spill() on RowBasedKeyValueBatch. Will not spill but return 0.\n",
      "24/05/28 12:53:42 WARN RowBasedKeyValueBatch: Calling spill() on RowBasedKeyValueBatch. Will not spill but return 0.\n",
      "24/05/28 12:53:42 WARN RowBasedKeyValueBatch: Calling spill() on RowBasedKeyValueBatch. Will not spill but return 0.\n",
      "24/05/28 12:53:42 WARN RowBasedKeyValueBatch: Calling spill() on RowBasedKeyValueBatch. Will not spill but return 0.\n",
      "24/05/28 12:53:42 WARN RowBasedKeyValueBatch: Calling spill() on RowBasedKeyValueBatch. Will not spill but return 0.\n",
      "24/05/28 12:53:42 WARN RowBasedKeyValueBatch: Calling spill() on RowBasedKeyValueBatch. Will not spill but return 0.\n",
      "                                                                                \r"
     ]
    },
    {
     "data": {
      "text/plain": [
       "6355023"
      ]
     },
     "execution_count": 42,
     "metadata": {},
     "output_type": "execute_result"
    }
   ],
   "source": [
    "df_bank_par.count()"
   ]
  },
  {
   "cell_type": "markdown",
   "metadata": {},
   "source": [
    "#### We can see the duplicated registers have been removed because there are fewer registers than before. Let´s take a look at the \"clean\" dataset."
   ]
  },
  {
   "cell_type": "code",
   "execution_count": 43,
   "metadata": {},
   "outputs": [
    {
     "name": "stderr",
     "output_type": "stream",
     "text": [
      "24/05/28 12:53:46 WARN RowBasedKeyValueBatch: Calling spill() on RowBasedKeyValueBatch. Will not spill but return 0.\n",
      "24/05/28 12:53:46 WARN RowBasedKeyValueBatch: Calling spill() on RowBasedKeyValueBatch. Will not spill but return 0.\n",
      "24/05/28 12:53:46 WARN RowBasedKeyValueBatch: Calling spill() on RowBasedKeyValueBatch. Will not spill but return 0.\n",
      "24/05/28 12:53:46 WARN RowBasedKeyValueBatch: Calling spill() on RowBasedKeyValueBatch. Will not spill but return 0.\n",
      "24/05/28 12:53:46 WARN RowBasedKeyValueBatch: Calling spill() on RowBasedKeyValueBatch. Will not spill but return 0.\n",
      "24/05/28 12:53:46 WARN RowBasedKeyValueBatch: Calling spill() on RowBasedKeyValueBatch. Will not spill but return 0.\n",
      "24/05/28 12:53:46 WARN RowBasedKeyValueBatch: Calling spill() on RowBasedKeyValueBatch. Will not spill but return 0.\n",
      "24/05/28 12:53:46 WARN RowBasedKeyValueBatch: Calling spill() on RowBasedKeyValueBatch. Will not spill but return 0.\n",
      "24/05/28 12:53:46 WARN RowBasedKeyValueBatch: Calling spill() on RowBasedKeyValueBatch. Will not spill but return 0.\n",
      "24/05/28 12:53:46 WARN RowBasedKeyValueBatch: Calling spill() on RowBasedKeyValueBatch. Will not spill but return 0.\n",
      "24/05/28 12:53:46 WARN RowBasedKeyValueBatch: Calling spill() on RowBasedKeyValueBatch. Will not spill but return 0.\n",
      "24/05/28 12:53:46 WARN RowBasedKeyValueBatch: Calling spill() on RowBasedKeyValueBatch. Will not spill but return 0.\n",
      "24/05/28 12:53:46 WARN RowBasedKeyValueBatch: Calling spill() on RowBasedKeyValueBatch. Will not spill but return 0.\n",
      "24/05/28 12:53:46 WARN RowBasedKeyValueBatch: Calling spill() on RowBasedKeyValueBatch. Will not spill but return 0.\n",
      "24/05/28 12:53:46 WARN RowBasedKeyValueBatch: Calling spill() on RowBasedKeyValueBatch. Will not spill but return 0.\n",
      "24/05/28 12:53:46 WARN RowBasedKeyValueBatch: Calling spill() on RowBasedKeyValueBatch. Will not spill but return 0.\n",
      "24/05/28 12:53:46 WARN RowBasedKeyValueBatch: Calling spill() on RowBasedKeyValueBatch. Will not spill but return 0.\n",
      "24/05/28 12:53:46 WARN RowBasedKeyValueBatch: Calling spill() on RowBasedKeyValueBatch. Will not spill but return 0.\n",
      "24/05/28 12:53:46 WARN RowBasedKeyValueBatch: Calling spill() on RowBasedKeyValueBatch. Will not spill but return 0.\n",
      "24/05/28 12:53:46 WARN RowBasedKeyValueBatch: Calling spill() on RowBasedKeyValueBatch. Will not spill but return 0.\n",
      "24/05/28 12:53:48 WARN RowBasedKeyValueBatch: Calling spill() on RowBasedKeyValueBatch. Will not spill but return 0.\n",
      "24/05/28 12:53:48 WARN RowBasedKeyValueBatch: Calling spill() on RowBasedKeyValueBatch. Will not spill but return 0.\n",
      "24/05/28 12:53:48 WARN RowBasedKeyValueBatch: Calling spill() on RowBasedKeyValueBatch. Will not spill but return 0.\n",
      "24/05/28 12:53:48 WARN RowBasedKeyValueBatch: Calling spill() on RowBasedKeyValueBatch. Will not spill but return 0.\n",
      "24/05/28 12:53:48 WARN RowBasedKeyValueBatch: Calling spill() on RowBasedKeyValueBatch. Will not spill but return 0.\n",
      "24/05/28 12:53:48 WARN RowBasedKeyValueBatch: Calling spill() on RowBasedKeyValueBatch. Will not spill but return 0.\n",
      "24/05/28 12:53:48 WARN RowBasedKeyValueBatch: Calling spill() on RowBasedKeyValueBatch. Will not spill but return 0.\n",
      "24/05/28 12:53:48 WARN RowBasedKeyValueBatch: Calling spill() on RowBasedKeyValueBatch. Will not spill but return 0.\n",
      "24/05/28 12:53:48 WARN RowBasedKeyValueBatch: Calling spill() on RowBasedKeyValueBatch. Will not spill but return 0.\n",
      "24/05/28 12:53:48 WARN RowBasedKeyValueBatch: Calling spill() on RowBasedKeyValueBatch. Will not spill but return 0.\n",
      "24/05/28 12:53:48 WARN RowBasedKeyValueBatch: Calling spill() on RowBasedKeyValueBatch. Will not spill but return 0.\n",
      "24/05/28 12:53:48 WARN RowBasedKeyValueBatch: Calling spill() on RowBasedKeyValueBatch. Will not spill but return 0.\n",
      "24/05/28 12:53:48 WARN RowBasedKeyValueBatch: Calling spill() on RowBasedKeyValueBatch. Will not spill but return 0.\n",
      "24/05/28 12:53:48 WARN RowBasedKeyValueBatch: Calling spill() on RowBasedKeyValueBatch. Will not spill but return 0.\n",
      "24/05/28 12:53:48 WARN RowBasedKeyValueBatch: Calling spill() on RowBasedKeyValueBatch. Will not spill but return 0.\n",
      "24/05/28 12:53:48 WARN RowBasedKeyValueBatch: Calling spill() on RowBasedKeyValueBatch. Will not spill but return 0.\n",
      "24/05/28 12:53:48 WARN RowBasedKeyValueBatch: Calling spill() on RowBasedKeyValueBatch. Will not spill but return 0.\n",
      "24/05/28 12:53:48 WARN RowBasedKeyValueBatch: Calling spill() on RowBasedKeyValueBatch. Will not spill but return 0.\n",
      "24/05/28 12:53:48 WARN RowBasedKeyValueBatch: Calling spill() on RowBasedKeyValueBatch. Will not spill but return 0.\n",
      "24/05/28 12:53:48 WARN RowBasedKeyValueBatch: Calling spill() on RowBasedKeyValueBatch. Will not spill but return 0.\n",
      "[Stage 44:=======================================>                 (7 + 3) / 10]\r"
     ]
    },
    {
     "name": "stdout",
     "output_type": "stream",
     "text": [
      "+----+---------+-------+--------+-------+-------+--------+-----+---+---+\n",
      "|step|   amount|isFraud|CASH_OUT|PAYMENT|CASH_IN|TRANSFER|DEBIT| CC| CM|\n",
      "+----+---------+-------+--------+-------+-------+--------+-----+---+---+\n",
      "|  35| 23148.99|      0|     0.0|    1.0|    0.0|     0.0|  0.0|0.0|1.0|\n",
      "|  35| 21158.22|      0|     0.0|    1.0|    0.0|     0.0|  0.0|0.0|1.0|\n",
      "|  35|  7326.08|      0|     0.0|    1.0|    0.0|     0.0|  0.0|0.0|1.0|\n",
      "|  35|248000.14|      0|     0.0|    0.0|    1.0|     0.0|  0.0|1.0|0.0|\n",
      "|  35|   227.92|      0|     0.0|    1.0|    0.0|     0.0|  0.0|0.0|1.0|\n",
      "|  35| 74827.29|      0|     0.0|    0.0|    1.0|     0.0|  0.0|1.0|0.0|\n",
      "|  35| 36205.75|      0|     1.0|    0.0|    0.0|     0.0|  0.0|1.0|0.0|\n",
      "|  35| 25359.28|      0|     1.0|    0.0|    0.0|     0.0|  0.0|1.0|0.0|\n",
      "|  35|  3579.31|      0|     0.0|    1.0|    0.0|     0.0|  0.0|0.0|1.0|\n",
      "|  35| 11931.85|      0|     1.0|    0.0|    0.0|     0.0|  0.0|1.0|0.0|\n",
      "+----+---------+-------+--------+-------+-------+--------+-----+---+---+\n",
      "only showing top 10 rows\n",
      "\n"
     ]
    },
    {
     "name": "stderr",
     "output_type": "stream",
     "text": [
      "                                                                                \r"
     ]
    }
   ],
   "source": [
    "df_bank_par.show(10)"
   ]
  },
  {
   "cell_type": "markdown",
   "metadata": {},
   "source": [
    "## 3. Exploratory Data Analysis (EDA)"
   ]
  },
  {
   "cell_type": "markdown",
   "metadata": {},
   "source": [
    "### 3.1 Visualization"
   ]
  },
  {
   "cell_type": "markdown",
   "metadata": {},
   "source": [
    "#### The visualization will be done using a functions which leverages the method histogram() of pyspark. "
   ]
  },
  {
   "cell_type": "code",
   "execution_count": 44,
   "metadata": {},
   "outputs": [],
   "source": [
    "# definition of the \"histogram\" function\n",
    "\n",
    "def histogram(df, col, bins=10, xname=None, yname=None):\n",
    "    \n",
    "    '''\n",
    "    This function makes a histogram from spark dataframe named \n",
    "    df for column name col. \n",
    "    '''\n",
    "    \n",
    "    # Calculating histogram in Spark \n",
    "    vals = df.select(col).rdd.flatMap(lambda x: x).histogram(bins)\n",
    "    \n",
    "    # Preprocessing histogram points and locations \n",
    "    width = vals[0][1] - vals[0][0]\n",
    "    loc = [vals[0][0] + (i+1) * width for i in range(len(vals[1]))]\n",
    "    \n",
    "    # Making a bar plot \n",
    "    mpt.bar(loc, vals[1], width=width)\n",
    "    mpt.xlabel(col)\n",
    "    mpt.ylabel(yname)\n",
    "    mpt.show()"
   ]
  },
  {
   "cell_type": "markdown",
   "metadata": {},
   "source": [
    "#### There are some features that need to be converted to integers such as \"step\",\"amount\" and \"isFraud\"."
   ]
  },
  {
   "cell_type": "code",
   "execution_count": 45,
   "metadata": {},
   "outputs": [],
   "source": [
    "# convert string columns into integer columns\n",
    "\n",
    "df_bank_par = df_bank_par.withColumn(\"step\",df_bank_par[\"step\"].cast(IntegerType()))"
   ]
  },
  {
   "cell_type": "code",
   "execution_count": 46,
   "metadata": {},
   "outputs": [],
   "source": [
    "df_bank_par = df_bank_par.withColumn(\"amount\",df_bank_par[\"amount\"].cast(IntegerType()))"
   ]
  },
  {
   "cell_type": "code",
   "execution_count": 47,
   "metadata": {},
   "outputs": [],
   "source": [
    "df_bank_par = df_bank_par.withColumn(\"isFraud\",df_bank_par[\"isFraud\"].cast(IntegerType()))"
   ]
  },
  {
   "cell_type": "code",
   "execution_count": 48,
   "metadata": {},
   "outputs": [
    {
     "name": "stdout",
     "output_type": "stream",
     "text": [
      "root\n",
      " |-- step: integer (nullable = true)\n",
      " |-- amount: integer (nullable = true)\n",
      " |-- isFraud: integer (nullable = true)\n",
      " |-- CASH_OUT: double (nullable = true)\n",
      " |-- PAYMENT: double (nullable = true)\n",
      " |-- CASH_IN: double (nullable = true)\n",
      " |-- TRANSFER: double (nullable = true)\n",
      " |-- DEBIT: double (nullable = true)\n",
      " |-- CC: double (nullable = true)\n",
      " |-- CM: double (nullable = true)\n",
      "\n"
     ]
    }
   ],
   "source": [
    "df_bank_par.printSchema()"
   ]
  },
  {
   "cell_type": "code",
   "execution_count": 49,
   "metadata": {},
   "outputs": [
    {
     "data": {
      "text/plain": [
       "pyspark.sql.dataframe.DataFrame"
      ]
     },
     "execution_count": 49,
     "metadata": {},
     "output_type": "execute_result"
    }
   ],
   "source": [
    "type(df_bank_par)"
   ]
  },
  {
   "cell_type": "markdown",
   "metadata": {},
   "source": [
    "#### We´ve seen that all the features are \"integer\" types now. Therefore, we´re able to perform various visualizations with the histogram method. That´s what we´ll do next."
   ]
  },
  {
   "cell_type": "code",
   "execution_count": 50,
   "metadata": {},
   "outputs": [],
   "source": [
    "# histogram: \"step\"\n",
    "\n",
    "##histogram(df_bank_par, 'step', bins=15, yname='frequency')"
   ]
  },
  {
   "cell_type": "code",
   "execution_count": 51,
   "metadata": {},
   "outputs": [],
   "source": [
    "# histogram: \"amount\"\n",
    "\n",
    "##histogram(df_bank_par, 'amount', bins=15, yname='frequency')"
   ]
  },
  {
   "cell_type": "code",
   "execution_count": 52,
   "metadata": {},
   "outputs": [],
   "source": [
    "# histogram: \"Debit\"\n",
    "\n",
    "##histogram(df_bank_par, 'Debit', bins=15, yname='frequency')\n"
   ]
  },
  {
   "cell_type": "code",
   "execution_count": 53,
   "metadata": {},
   "outputs": [],
   "source": [
    "# histogram: \"Payment\"\n",
    "\n",
    "##histogram(df_bank_par, 'Payment', bins=15, yname='frequency')\n"
   ]
  },
  {
   "cell_type": "code",
   "execution_count": 54,
   "metadata": {},
   "outputs": [],
   "source": [
    "# histogram: \"CASH_OUT\"\n",
    "\n",
    "##histogram(df_bank_par, 'CASH_OUT', bins=15, yname='frequency')\n"
   ]
  },
  {
   "cell_type": "code",
   "execution_count": 55,
   "metadata": {},
   "outputs": [],
   "source": [
    "# histogram: \"CASH_IN\"\n",
    "\n",
    "##histogram(df_bank_par, 'CASH_IN', bins=15, yname='frequency')\n"
   ]
  },
  {
   "cell_type": "code",
   "execution_count": 56,
   "metadata": {},
   "outputs": [],
   "source": [
    "# histogram: \"TRANSFER\"\n",
    "\n",
    "##histogram(df_bank_par, 'TRANSFER', bins=15, yname='frequency')\n"
   ]
  },
  {
   "cell_type": "code",
   "execution_count": 57,
   "metadata": {},
   "outputs": [],
   "source": [
    "# histogram: \"CC\"\n",
    "\n",
    "##histogram(df_bank_par, 'CC', bins=15, yname='frequency')\n"
   ]
  },
  {
   "cell_type": "code",
   "execution_count": 58,
   "metadata": {},
   "outputs": [],
   "source": [
    "# histogram: \"CM\"\n",
    "\n",
    "##histogram(df_bank_par, 'CM', bins=15, yname='frequency')"
   ]
  },
  {
   "cell_type": "code",
   "execution_count": 59,
   "metadata": {},
   "outputs": [],
   "source": [
    "# histogram: \"isFraud\"\n",
    "\n",
    "##histogram(df_bank_par, 'isFraud', bins=15, yname='frequency')"
   ]
  },
  {
   "cell_type": "markdown",
   "metadata": {},
   "source": [
    "#### Remember that our label is \"isFraud\", therefore, we can see that this class is unbalanced as we can see from the previous graphic. We need to perform an **Oversampling** through ***Data Balancing*** using *pyspark*."
   ]
  },
  {
   "cell_type": "markdown",
   "metadata": {},
   "source": [
    "### 3.2 Data Balancing"
   ]
  },
  {
   "cell_type": "code",
   "execution_count": 60,
   "metadata": {},
   "outputs": [],
   "source": [
    "############################################################## Oversampling with PySpark #########################################################\n",
    "\n",
    "# Create undersampling function\n",
    "#def oversample_minority(df, ratio=1):\n",
    "#    '''\n",
    "#    ratio is the ratio of majority to minority\n",
    "#    Eg. ratio 1 is equivalent to majority:minority = 1:1\n",
    "#    ratio 5 is equivalent to majority:minority = 5:1\n",
    "#    '''\n",
    "#    minority_count = df.filter(f.col('isFraud')==1).count()\n",
    "#    majority_count = df.filter(f.col('isFraud')==0).count()\n",
    "#    \n",
    "#    balance_ratio = majority_count / minority_count\n",
    "#    \n",
    "#    print(f\"Initial Majority:Minority ratio is {balance_ratio:.2f}:1\")\n",
    "#    if ratio >= balance_ratio:\n",
    "#        print(\"No oversampling of minority was done as the input ratio was more than or equal to the initial ratio.\")\n",
    "#    else:\n",
    "#        print(f\"Oversampling of minority done such that Majority:Minority ratio is {ratio}:1\")\n",
    "#    \n",
    "#    oversampled_minority = df.filter(f.col('isFraud')==1).sample(withReplacement=True, fraction=(balance_ratio/ratio),seed=88)\n",
    "#    oversampled_df = df.filter(f.col('isFraud')==0).union(oversampled_minority)\n",
    "#    \n",
    "#    return oversampled_df\n",
    "\n",
    "#oversampled_df = oversample_minority(df_bank_par,ratio=1)\n",
    "\n",
    "#minority_count = oversampled_df.filter(f.col('isFraud')==1).count()\n",
    "#majority_count = oversampled_df.filter(f.col('isFraud')==0).count()\n",
    "#minority_count, majority_count\n",
    "#oversampled_df = oversampled_df.dropna()\n",
    "#oversampled_df = oversampled_df.dropDuplicates()\n",
    "#df_bank_par = oversampled_df\n"
   ]
  },
  {
   "cell_type": "code",
   "execution_count": null,
   "metadata": {},
   "outputs": [],
   "source": [
    "############################################################## Oversampling with Sklearn #########################################################\n",
    "#@title\n",
    "\n",
    "df_banco = pd.read_csv(\"fraudDetection.csv\")\n",
    "\n",
    "\n",
    "def balanceo_clases():\n",
    "    global df_banco, resultados\n",
    "\n",
    "    # Instancia SMOTE\n",
    "    smote = SMOTE(random_state=42)\n",
    "\n",
    "    # Balanceo de clases\n",
    "    X_res, y_res = smote.fit_resample(df_banco.drop(columns=['isFraud']), df_banco['isFraud'])\n",
    "\n",
    "    # Reconstrucción del DataFrame balanceado\n",
    "    df_banco = pd.DataFrame(X_res, columns=df_banco.drop(columns=['isFraud']).columns)\n",
    "    df_banco['isFraud'] = y_res\n",
    "\n",
    "    # Elimina registros duplicados\n",
    "    df_banco.drop_duplicates(inplace=True)\n",
    "    df_banco.reset_index(drop=True, inplace=True)\n",
    "\n",
    "# Llama a la función balanceo_clases\n",
    "balanceo_clases()\n",
    "\n",
    "# Imprime el resultado final\n",
    "df_banco\n"
   ]
  },
  {
   "cell_type": "code",
   "execution_count": null,
   "metadata": {},
   "outputs": [],
   "source": [
    "# Contar los valores de la columna isFraud\n",
    "conteo_isfraud = df_banco['isFraud'].value_counts()\n",
    "\n",
    "# Crear el gráfico de barras verticales\n",
    "mpt.figure(figsize=(8, 6))\n",
    "conteo_isfraud.plot(kind='bar', color=['skyblue', 'salmon'])\n",
    "mpt.title('Distribución de la columna isFraud')\n",
    "mpt.xlabel('isFraud')\n",
    "mpt.ylabel('Cantidad')\n",
    "mpt.xticks([0, 1], ['No Fraude', 'Fraude'], rotation=0)\n",
    "mpt.show()"
   ]
  },
  {
   "cell_type": "code",
   "execution_count": 74,
   "metadata": {},
   "outputs": [
    {
     "data": {
      "image/png": "[encoded data removed]",
      "text/plain": [
       "<Figure size 800x600 with 1 Axes>"
      ]
     },
     "metadata": {},
     "output_type": "display_data"
    }
   ],
   "source": [
    "# Contar los valores de la columna isFraud\n",
    "conteo_isfraud = df_banco['isFraud'].value_counts()\n",
    "\n",
    "# Crear el gráfico de barras verticales\n",
    "mpt.figure(figsize=(8, 6))\n",
    "conteo_isfraud.plot(kind='bar', color=['skyblue', 'salmon'])\n",
    "mpt.title('Distribución de la columna isFraud')\n",
    "mpt.xlabel('isFraud')\n",
    "mpt.ylabel('Cantidad')\n",
    "mpt.xticks([0, 1], ['No Fraude', 'Fraude'], rotation=0)\n",
    "mpt.show()"
   ]
  },
  {
   "cell_type": "code",
   "execution_count": 75,
   "metadata": {},
   "outputs": [
    {
     "data": {
      "text/plain": [
       "pandas.core.frame.DataFrame"
      ]
     },
     "execution_count": 75,
     "metadata": {},
     "output_type": "execute_result"
    }
   ],
   "source": [
    "type(df_banco)"
   ]
  },
  {
   "cell_type": "markdown",
   "metadata": {},
   "source": [
    "#### Now, we´ll convert this pandas dataframe into a PySpark dataframe to leverage, but first to a parquet file."
   ]
  },
  {
   "cell_type": "code",
   "execution_count": 76,
   "metadata": {},
   "outputs": [],
   "source": [
    "df_banco.to_parquet('df.parquet')"
   ]
  },
  {
   "cell_type": "code",
   "execution_count": 77,
   "metadata": {},
   "outputs": [],
   "source": [
    "df_bank_par = spark.read.parquet('df.parquet')"
   ]
  },
  {
   "cell_type": "code",
   "execution_count": 78,
   "metadata": {},
   "outputs": [
    {
     "data": {
      "text/plain": [
       "pyspark.sql.dataframe.DataFrame"
      ]
     },
     "execution_count": 78,
     "metadata": {},
     "output_type": "execute_result"
    }
   ],
   "source": [
    "type(df_bank_par)"
   ]
  },
  {
   "cell_type": "code",
   "execution_count": 79,
   "metadata": {},
   "outputs": [
    {
     "name": "stdout",
     "output_type": "stream",
     "text": [
      "+----+--------+------------+-------------+----------+------------+-------------+--------+--------+-------+\n",
      "|step|  amount|type_CASH_IN|type_CASH_OUT|type_DEBIT|type_PAYMENT|type_TRANSFER|type2_CC|type2_CM|isFraud|\n",
      "+----+--------+------------+-------------+----------+------------+-------------+--------+--------+-------+\n",
      "|   1| 9839.64|           0|            0|         0|           1|            0|       0|       1|      0|\n",
      "|   1| 1864.28|           0|            0|         0|           1|            0|       0|       1|      0|\n",
      "|   1|   181.0|           0|            0|         0|           0|            1|       1|       0|      1|\n",
      "|   1|   181.0|           0|            1|         0|           0|            0|       1|       0|      1|\n",
      "|   1|11668.14|           0|            0|         0|           1|            0|       0|       1|      0|\n",
      "|   1| 7817.71|           0|            0|         0|           1|            0|       0|       1|      0|\n",
      "|   1| 7107.77|           0|            0|         0|           1|            0|       0|       1|      0|\n",
      "|   1| 7861.64|           0|            0|         0|           1|            0|       0|       1|      0|\n",
      "|   1| 4024.36|           0|            0|         0|           1|            0|       0|       1|      0|\n",
      "|   1| 5337.77|           0|            0|         1|           0|            0|       1|       0|      0|\n",
      "+----+--------+------------+-------------+----------+------------+-------------+--------+--------+-------+\n",
      "only showing top 10 rows\n",
      "\n"
     ]
    }
   ],
   "source": [
    "df_bank_par.show(10)"
   ]
  },
  {
   "cell_type": "code",
   "execution_count": 80,
   "metadata": {},
   "outputs": [
    {
     "name": "stdout",
     "output_type": "stream",
     "text": [
      "root\n",
      " |-- step: long (nullable = true)\n",
      " |-- amount: double (nullable = true)\n",
      " |-- type_CASH_IN: long (nullable = true)\n",
      " |-- type_CASH_OUT: long (nullable = true)\n",
      " |-- type_DEBIT: long (nullable = true)\n",
      " |-- type_PAYMENT: long (nullable = true)\n",
      " |-- type_TRANSFER: long (nullable = true)\n",
      " |-- type2_CC: long (nullable = true)\n",
      " |-- type2_CM: long (nullable = true)\n",
      " |-- isFraud: long (nullable = true)\n",
      "\n"
     ]
    }
   ],
   "source": [
    "df_bank_par.printSchema()"
   ]
  },
  {
   "cell_type": "code",
   "execution_count": 81,
   "metadata": {},
   "outputs": [
    {
     "data": {
      "text/plain": [
       "11316849"
      ]
     },
     "execution_count": 81,
     "metadata": {},
     "output_type": "execute_result"
    }
   ],
   "source": [
    "df_bank_par.count()"
   ]
  },
  {
   "cell_type": "code",
   "execution_count": 82,
   "metadata": {},
   "outputs": [],
   "source": [
    "# convert string columns into integer columns\n",
    "\n",
    "df_bank_par = df_bank_par.withColumn(\"isFraud\",df_bank_par[\"isFraud\"].cast(IntegerType()))"
   ]
  },
  {
   "cell_type": "code",
   "execution_count": 83,
   "metadata": {},
   "outputs": [
    {
     "name": "stdout",
     "output_type": "stream",
     "text": [
      "root\n",
      " |-- step: long (nullable = true)\n",
      " |-- amount: double (nullable = true)\n",
      " |-- type_CASH_IN: long (nullable = true)\n",
      " |-- type_CASH_OUT: long (nullable = true)\n",
      " |-- type_DEBIT: long (nullable = true)\n",
      " |-- type_PAYMENT: long (nullable = true)\n",
      " |-- type_TRANSFER: long (nullable = true)\n",
      " |-- type2_CC: long (nullable = true)\n",
      " |-- type2_CM: long (nullable = true)\n",
      " |-- isFraud: integer (nullable = true)\n",
      "\n"
     ]
    }
   ],
   "source": [
    "df_bank_par.printSchema()"
   ]
  },
  {
   "cell_type": "code",
   "execution_count": 84,
   "metadata": {},
   "outputs": [],
   "source": [
    "class_0 = df_bank_par.filter(f.col(\"isFraud\")==0)\n",
    "class_1 = df_bank_par.filter(f.col(\"isFraud\")==1)"
   ]
  },
  {
   "cell_type": "code",
   "execution_count": 85,
   "metadata": {},
   "outputs": [
    {
     "data": {
      "text/plain": [
       "6346920"
      ]
     },
     "execution_count": 85,
     "metadata": {},
     "output_type": "execute_result"
    }
   ],
   "source": [
    "class_0.count()"
   ]
  },
  {
   "cell_type": "code",
   "execution_count": 86,
   "metadata": {},
   "outputs": [
    {
     "data": {
      "text/plain": [
       "4969929"
      ]
     },
     "execution_count": 86,
     "metadata": {},
     "output_type": "execute_result"
    }
   ],
   "source": [
    "class_1.count()"
   ]
  },
  {
   "cell_type": "code",
   "execution_count": 87,
   "metadata": {},
   "outputs": [],
   "source": [
    "######################################## Convert parquet file into Pandas ##########################\n",
    "\n",
    "##df_bank_par_pandas = df_bank_par.to_pandas_on_spark()\n",
    "##df_bank_par_pandas.head(10)\n",
    "##df_bank_par_pandas.describe()\n",
    "##type(df_bank_par_pandas)"
   ]
  },
  {
   "cell_type": "markdown",
   "metadata": {},
   "source": [
    "#### Let´s create a function to find a correlation between the target variable \"isFraud\" and the features. "
   ]
  },
  {
   "cell_type": "code",
   "execution_count": 88,
   "metadata": {},
   "outputs": [],
   "source": [
    "# definition of the function \"correlation_df\"\n",
    "\n",
    "def correlation_df(df,target_var,feature_cols, method):\n",
    "    # assemble features into a vector\n",
    "    target_var = [target_var]\n",
    "    feature_cols = feature_cols\n",
    "    df_cor = df.select(target_var + feature_cols)\n",
    "    assembler = VectorAssembler(inputCols=target_var + feature_cols, outputCol=\"features\")\n",
    "    df_cor = assembler.transform(df_cor)\n",
    "\n",
    "    # calculate correlation matrix\n",
    "    correlation_matrix = Correlation.corr(df_cor, \"features\", method =method).head()[0]\n",
    "\n",
    "    # extract the correlation coefficient between target and each feature\n",
    "    target_corr_list = [correlation_matrix[i,0] for i in range(len(feature_cols)+1)][1:]\n",
    "\n",
    "    # create a Dataframe with target variable, feature names and correlation coefficients\n",
    "    correlation_data = [(feature_cols[i],float(target_corr_list[i])) for i in range(len(feature_cols))]\n",
    "\n",
    "    correlation_df = spark.createDataFrame(correlation_data, [\"feature\",\"correlation\"] )\n",
    "\n",
    "    correlation_df = correlation_df.withColumn(\"abs_correlation\",f.abs(\"correlation\"))\n",
    "\n",
    "    # print the result\n",
    "    return correlation_df"
   ]
  },
  {
   "cell_type": "code",
   "execution_count": 89,
   "metadata": {},
   "outputs": [
    {
     "name": "stdout",
     "output_type": "stream",
     "text": [
      "root\n",
      " |-- step: long (nullable = true)\n",
      " |-- amount: double (nullable = true)\n",
      " |-- type_CASH_IN: long (nullable = true)\n",
      " |-- type_CASH_OUT: long (nullable = true)\n",
      " |-- type_DEBIT: long (nullable = true)\n",
      " |-- type_PAYMENT: long (nullable = true)\n",
      " |-- type_TRANSFER: long (nullable = true)\n",
      " |-- type2_CC: long (nullable = true)\n",
      " |-- type2_CM: long (nullable = true)\n",
      " |-- isFraud: integer (nullable = true)\n",
      "\n"
     ]
    }
   ],
   "source": [
    "df_bank_par.printSchema()"
   ]
  },
  {
   "cell_type": "code",
   "execution_count": 90,
   "metadata": {},
   "outputs": [
    {
     "name": "stderr",
     "output_type": "stream",
     "text": [
      "24/05/28 12:54:11 WARN SQLConf: The SQL config 'spark.sql.execution.arrow.enabled' has been deprecated in Spark v3.0 and may be removed in the future. Use 'spark.sql.execution.arrow.pyspark.enabled' instead of it.\n",
      "24/05/28 12:54:12 WARN SQLConf: The SQL config 'spark.sql.execution.arrow.enabled' has been deprecated in Spark v3.0 and may be removed in the future. Use 'spark.sql.execution.arrow.pyspark.enabled' instead of it.\n",
      "24/05/28 12:54:12 WARN SQLConf: The SQL config 'spark.sql.execution.arrow.enabled' has been deprecated in Spark v3.0 and may be removed in the future. Use 'spark.sql.execution.arrow.pyspark.enabled' instead of it.\n",
      "24/05/28 12:54:12 WARN SQLConf: The SQL config 'spark.sql.execution.arrow.enabled' has been deprecated in Spark v3.0 and may be removed in the future. Use 'spark.sql.execution.arrow.pyspark.enabled' instead of it.\n",
      "24/05/28 12:54:12 WARN SQLConf: The SQL config 'spark.sql.execution.arrow.enabled' has been deprecated in Spark v3.0 and may be removed in the future. Use 'spark.sql.execution.arrow.pyspark.enabled' instead of it.\n",
      "24/05/28 12:54:12 WARN SQLConf: The SQL config 'spark.sql.execution.arrow.enabled' has been deprecated in Spark v3.0 and may be removed in the future. Use 'spark.sql.execution.arrow.pyspark.enabled' instead of it.\n",
      "24/05/28 12:54:12 WARN SQLConf: The SQL config 'spark.sql.execution.arrow.enabled' has been deprecated in Spark v3.0 and may be removed in the future. Use 'spark.sql.execution.arrow.pyspark.enabled' instead of it.\n",
      "24/05/28 12:54:12 WARN SQLConf: The SQL config 'spark.sql.execution.arrow.enabled' has been deprecated in Spark v3.0 and may be removed in the future. Use 'spark.sql.execution.arrow.pyspark.enabled' instead of it.\n",
      "24/05/28 12:54:12 WARN SQLConf: The SQL config 'spark.sql.execution.arrow.enabled' has been deprecated in Spark v3.0 and may be removed in the future. Use 'spark.sql.execution.arrow.pyspark.enabled' instead of it.\n",
      "24/05/28 12:54:12 WARN SQLConf: The SQL config 'spark.sql.execution.arrow.enabled' has been deprecated in Spark v3.0 and may be removed in the future. Use 'spark.sql.execution.arrow.pyspark.enabled' instead of it.\n",
      "24/05/28 12:54:12 WARN SQLConf: The SQL config 'spark.sql.execution.arrow.enabled' has been deprecated in Spark v3.0 and may be removed in the future. Use 'spark.sql.execution.arrow.pyspark.enabled' instead of it.\n",
      "24/05/28 12:54:20 WARN SQLConf: The SQL config 'spark.sql.execution.arrow.enabled' has been deprecated in Spark v3.0 and may be removed in the future. Use 'spark.sql.execution.arrow.pyspark.enabled' instead of it.\n",
      "24/05/28 12:54:21 WARN SQLConf: The SQL config 'spark.sql.execution.arrow.enabled' has been deprecated in Spark v3.0 and may be removed in the future. Use 'spark.sql.execution.arrow.pyspark.enabled' instead of it.\n",
      "24/05/28 12:54:21 WARN SQLConf: The SQL config 'spark.sql.execution.arrow.enabled' has been deprecated in Spark v3.0 and may be removed in the future. Use 'spark.sql.execution.arrow.pyspark.enabled' instead of it.\n",
      "24/05/28 12:54:21 WARN SQLConf: The SQL config 'spark.sql.execution.arrow.enabled' has been deprecated in Spark v3.0 and may be removed in the future. Use 'spark.sql.execution.arrow.pyspark.enabled' instead of it.\n",
      "24/05/28 12:54:21 WARN SQLConf: The SQL config 'spark.sql.execution.arrow.enabled' has been deprecated in Spark v3.0 and may be removed in the future. Use 'spark.sql.execution.arrow.pyspark.enabled' instead of it.\n",
      "24/05/28 12:54:23 WARN SQLConf: The SQL config 'spark.sql.execution.arrow.enabled' has been deprecated in Spark v3.0 and may be removed in the future. Use 'spark.sql.execution.arrow.pyspark.enabled' instead of it.\n",
      "24/05/28 12:54:23 WARN SQLConf: The SQL config 'spark.sql.execution.arrow.enabled' has been deprecated in Spark v3.0 and may be removed in the future. Use 'spark.sql.execution.arrow.pyspark.enabled' instead of it.\n",
      "24/05/28 12:54:23 WARN SQLConf: The SQL config 'spark.sql.execution.arrow.enabled' has been deprecated in Spark v3.0 and may be removed in the future. Use 'spark.sql.execution.arrow.pyspark.enabled' instead of it.\n",
      "24/05/28 12:54:23 WARN SQLConf: The SQL config 'spark.sql.execution.arrow.enabled' has been deprecated in Spark v3.0 and may be removed in the future. Use 'spark.sql.execution.arrow.pyspark.enabled' instead of it.\n",
      "24/05/28 12:54:23 WARN SQLConf: The SQL config 'spark.sql.execution.arrow.enabled' has been deprecated in Spark v3.0 and may be removed in the future. Use 'spark.sql.execution.arrow.pyspark.enabled' instead of it.\n",
      "24/05/28 12:54:25 WARN SQLConf: The SQL config 'spark.sql.execution.arrow.enabled' has been deprecated in Spark v3.0 and may be removed in the future. Use 'spark.sql.execution.arrow.pyspark.enabled' instead of it.\n",
      "24/05/28 12:54:25 WARN SQLConf: The SQL config 'spark.sql.execution.arrow.enabled' has been deprecated in Spark v3.0 and may be removed in the future. Use 'spark.sql.execution.arrow.pyspark.enabled' instead of it.\n",
      "24/05/28 12:54:25 WARN SQLConf: The SQL config 'spark.sql.execution.arrow.enabled' has been deprecated in Spark v3.0 and may be removed in the future. Use 'spark.sql.execution.arrow.pyspark.enabled' instead of it.\n",
      "24/05/28 12:54:25 WARN SQLConf: The SQL config 'spark.sql.execution.arrow.enabled' has been deprecated in Spark v3.0 and may be removed in the future. Use 'spark.sql.execution.arrow.pyspark.enabled' instead of it.\n",
      "24/05/28 12:54:25 WARN SQLConf: The SQL config 'spark.sql.execution.arrow.enabled' has been deprecated in Spark v3.0 and may be removed in the future. Use 'spark.sql.execution.arrow.pyspark.enabled' instead of it.\n",
      "24/05/28 12:54:25 WARN SQLConf: The SQL config 'spark.sql.execution.arrow.enabled' has been deprecated in Spark v3.0 and may be removed in the future. Use 'spark.sql.execution.arrow.pyspark.enabled' instead of it.\n",
      "24/05/28 12:54:25 WARN SQLConf: The SQL config 'spark.sql.execution.arrow.enabled' has been deprecated in Spark v3.0 and may be removed in the future. Use 'spark.sql.execution.arrow.pyspark.enabled' instead of it.\n",
      "24/05/28 12:54:25 WARN SQLConf: The SQL config 'spark.sql.execution.arrow.enabled' has been deprecated in Spark v3.0 and may be removed in the future. Use 'spark.sql.execution.arrow.pyspark.enabled' instead of it.\n",
      "24/05/28 12:54:25 WARN SQLConf: The SQL config 'spark.sql.execution.arrow.enabled' has been deprecated in Spark v3.0 and may be removed in the future. Use 'spark.sql.execution.arrow.pyspark.enabled' instead of it.\n",
      "24/05/28 12:54:25 WARN SQLConf: The SQL config 'spark.sql.execution.arrow.enabled' has been deprecated in Spark v3.0 and may be removed in the future. Use 'spark.sql.execution.arrow.pyspark.enabled' instead of it.\n",
      "                                                                                \r"
     ]
    },
    {
     "name": "stdout",
     "output_type": "stream",
     "text": [
      "The corelation between isFraud and the other features is: \n"
     ]
    },
    {
     "name": "stderr",
     "output_type": "stream",
     "text": [
      "                                                                                \r"
     ]
    },
    {
     "name": "stdout",
     "output_type": "stream",
     "text": [
      "+-------------+--------------------+-------------------+\n",
      "|      feature|         correlation|    abs_correlation|\n",
      "+-------------+--------------------+-------------------+\n",
      "|         step| 0.34684009076918143|0.34684009076918143|\n",
      "|       amount|  0.3604992933016074| 0.3604992933016074|\n",
      "| type_CASH_IN| -0.3323385816575818| 0.3323385816575818|\n",
      "|type_CASH_OUT|-0.10691980783674657|0.10691980783674657|\n",
      "|   type_DEBIT|-0.05363819819216311|0.05363819819216311|\n",
      "| type_PAYMENT| -0.4282609844322808| 0.4282609844322808|\n",
      "|type_TRANSFER| 0.22944948951215355|0.22944948951215355|\n",
      "|     type2_CC| 0.42826098443228067|0.42826098443228067|\n",
      "|     type2_CM| -0.4282609844322808| 0.4282609844322808|\n",
      "+-------------+--------------------+-------------------+\n",
      "\n"
     ]
    }
   ],
   "source": [
    "target = \"isFraud\"\n",
    "\n",
    "indep_cols = [x for x in df_bank_par.columns if x not in [target] ]\n",
    "\n",
    "corr_values_df = correlation_df(df=df_bank_par, target_var= target, feature_cols= indep_cols, method='pearson')\n",
    "\n",
    "print(f\"The corelation between {target} and the other features is: \")\n",
    "\n",
    "corr_values_df.show()\n"
   ]
  },
  {
   "cell_type": "code",
   "execution_count": 91,
   "metadata": {},
   "outputs": [
    {
     "name": "stdout",
     "output_type": "stream",
     "text": [
      "root\n",
      " |-- step: long (nullable = true)\n",
      " |-- amount: double (nullable = true)\n",
      " |-- type_CASH_IN: long (nullable = true)\n",
      " |-- type_CASH_OUT: long (nullable = true)\n",
      " |-- type_DEBIT: long (nullable = true)\n",
      " |-- type_PAYMENT: long (nullable = true)\n",
      " |-- type_TRANSFER: long (nullable = true)\n",
      " |-- type2_CC: long (nullable = true)\n",
      " |-- type2_CM: long (nullable = true)\n",
      " |-- isFraud: integer (nullable = true)\n",
      "\n"
     ]
    }
   ],
   "source": [
    "df_bank_par.printSchema()"
   ]
  },
  {
   "cell_type": "code",
   "execution_count": 92,
   "metadata": {},
   "outputs": [
    {
     "name": "stderr",
     "output_type": "stream",
     "text": [
      "24/05/28 12:54:32 WARN SQLConf: The SQL config 'spark.sql.execution.arrow.enabled' has been deprecated in Spark v3.0 and may be removed in the future. Use 'spark.sql.execution.arrow.pyspark.enabled' instead of it.\n",
      "24/05/28 12:54:32 WARN SQLConf: The SQL config 'spark.sql.execution.arrow.enabled' has been deprecated in Spark v3.0 and may be removed in the future. Use 'spark.sql.execution.arrow.pyspark.enabled' instead of it.\n",
      "24/05/28 12:54:32 WARN SQLConf: The SQL config 'spark.sql.execution.arrow.enabled' has been deprecated in Spark v3.0 and may be removed in the future. Use 'spark.sql.execution.arrow.pyspark.enabled' instead of it.\n",
      "24/05/28 12:54:32 WARN SQLConf: The SQL config 'spark.sql.execution.arrow.enabled' has been deprecated in Spark v3.0 and may be removed in the future. Use 'spark.sql.execution.arrow.pyspark.enabled' instead of it.\n",
      "24/05/28 12:54:32 WARN SQLConf: The SQL config 'spark.sql.execution.arrow.enabled' has been deprecated in Spark v3.0 and may be removed in the future. Use 'spark.sql.execution.arrow.pyspark.enabled' instead of it.\n",
      "24/05/28 12:54:32 WARN SQLConf: The SQL config 'spark.sql.execution.arrow.enabled' has been deprecated in Spark v3.0 and may be removed in the future. Use 'spark.sql.execution.arrow.pyspark.enabled' instead of it.\n",
      "24/05/28 12:54:32 WARN SQLConf: The SQL config 'spark.sql.execution.arrow.enabled' has been deprecated in Spark v3.0 and may be removed in the future. Use 'spark.sql.execution.arrow.pyspark.enabled' instead of it.\n",
      "24/05/28 12:54:32 WARN SQLConf: The SQL config 'spark.sql.execution.arrow.enabled' has been deprecated in Spark v3.0 and may be removed in the future. Use 'spark.sql.execution.arrow.pyspark.enabled' instead of it.\n",
      "24/05/28 12:54:32 WARN SQLConf: The SQL config 'spark.sql.execution.arrow.enabled' has been deprecated in Spark v3.0 and may be removed in the future. Use 'spark.sql.execution.arrow.pyspark.enabled' instead of it.\n",
      "24/05/28 12:54:32 WARN SQLConf: The SQL config 'spark.sql.execution.arrow.enabled' has been deprecated in Spark v3.0 and may be removed in the future. Use 'spark.sql.execution.arrow.pyspark.enabled' instead of it.\n",
      "24/05/28 12:54:32 WARN SQLConf: The SQL config 'spark.sql.execution.arrow.enabled' has been deprecated in Spark v3.0 and may be removed in the future. Use 'spark.sql.execution.arrow.pyspark.enabled' instead of it.\n",
      "24/05/28 12:54:36 WARN SQLConf: The SQL config 'spark.sql.execution.arrow.enabled' has been deprecated in Spark v3.0 and may be removed in the future. Use 'spark.sql.execution.arrow.pyspark.enabled' instead of it.\n",
      "24/05/28 12:54:38 WARN SQLConf: The SQL config 'spark.sql.execution.arrow.enabled' has been deprecated in Spark v3.0 and may be removed in the future. Use 'spark.sql.execution.arrow.pyspark.enabled' instead of it.\n",
      "24/05/28 12:54:38 WARN SQLConf: The SQL config 'spark.sql.execution.arrow.enabled' has been deprecated in Spark v3.0 and may be removed in the future. Use 'spark.sql.execution.arrow.pyspark.enabled' instead of it.\n",
      "24/05/28 12:54:38 WARN SQLConf: The SQL config 'spark.sql.execution.arrow.enabled' has been deprecated in Spark v3.0 and may be removed in the future. Use 'spark.sql.execution.arrow.pyspark.enabled' instead of it.\n",
      "24/05/28 12:54:38 WARN SQLConf: The SQL config 'spark.sql.execution.arrow.enabled' has been deprecated in Spark v3.0 and may be removed in the future. Use 'spark.sql.execution.arrow.pyspark.enabled' instead of it.\n",
      "24/05/28 12:54:40 WARN SQLConf: The SQL config 'spark.sql.execution.arrow.enabled' has been deprecated in Spark v3.0 and may be removed in the future. Use 'spark.sql.execution.arrow.pyspark.enabled' instead of it.\n",
      "24/05/28 12:54:40 WARN SQLConf: The SQL config 'spark.sql.execution.arrow.enabled' has been deprecated in Spark v3.0 and may be removed in the future. Use 'spark.sql.execution.arrow.pyspark.enabled' instead of it.\n",
      "24/05/28 12:54:40 WARN SQLConf: The SQL config 'spark.sql.execution.arrow.enabled' has been deprecated in Spark v3.0 and may be removed in the future. Use 'spark.sql.execution.arrow.pyspark.enabled' instead of it.\n",
      "24/05/28 12:54:40 WARN SQLConf: The SQL config 'spark.sql.execution.arrow.enabled' has been deprecated in Spark v3.0 and may be removed in the future. Use 'spark.sql.execution.arrow.pyspark.enabled' instead of it.\n",
      "24/05/28 12:54:40 WARN SQLConf: The SQL config 'spark.sql.execution.arrow.enabled' has been deprecated in Spark v3.0 and may be removed in the future. Use 'spark.sql.execution.arrow.pyspark.enabled' instead of it.\n",
      "24/05/28 12:54:42 WARN SQLConf: The SQL config 'spark.sql.execution.arrow.enabled' has been deprecated in Spark v3.0 and may be removed in the future. Use 'spark.sql.execution.arrow.pyspark.enabled' instead of it.\n",
      "24/05/28 12:54:42 WARN SQLConf: The SQL config 'spark.sql.execution.arrow.enabled' has been deprecated in Spark v3.0 and may be removed in the future. Use 'spark.sql.execution.arrow.pyspark.enabled' instead of it.\n",
      "24/05/28 12:54:42 WARN SQLConf: The SQL config 'spark.sql.execution.arrow.enabled' has been deprecated in Spark v3.0 and may be removed in the future. Use 'spark.sql.execution.arrow.pyspark.enabled' instead of it.\n",
      "24/05/28 12:54:42 WARN SQLConf: The SQL config 'spark.sql.execution.arrow.enabled' has been deprecated in Spark v3.0 and may be removed in the future. Use 'spark.sql.execution.arrow.pyspark.enabled' instead of it.\n",
      "24/05/28 12:54:42 WARN SQLConf: The SQL config 'spark.sql.execution.arrow.enabled' has been deprecated in Spark v3.0 and may be removed in the future. Use 'spark.sql.execution.arrow.pyspark.enabled' instead of it.\n",
      "24/05/28 12:54:42 WARN SQLConf: The SQL config 'spark.sql.execution.arrow.enabled' has been deprecated in Spark v3.0 and may be removed in the future. Use 'spark.sql.execution.arrow.pyspark.enabled' instead of it.\n",
      "24/05/28 12:54:42 WARN SQLConf: The SQL config 'spark.sql.execution.arrow.enabled' has been deprecated in Spark v3.0 and may be removed in the future. Use 'spark.sql.execution.arrow.pyspark.enabled' instead of it.\n",
      "24/05/28 12:54:42 WARN SQLConf: The SQL config 'spark.sql.execution.arrow.enabled' has been deprecated in Spark v3.0 and may be removed in the future. Use 'spark.sql.execution.arrow.pyspark.enabled' instead of it.\n",
      "24/05/28 12:54:42 WARN SQLConf: The SQL config 'spark.sql.execution.arrow.enabled' has been deprecated in Spark v3.0 and may be removed in the future. Use 'spark.sql.execution.arrow.pyspark.enabled' instead of it.\n",
      "24/05/28 12:54:42 WARN SQLConf: The SQL config 'spark.sql.execution.arrow.enabled' has been deprecated in Spark v3.0 and may be removed in the future. Use 'spark.sql.execution.arrow.pyspark.enabled' instead of it.\n",
      "                                                                                \r"
     ]
    },
    {
     "name": "stdout",
     "output_type": "stream",
     "text": [
      "The corelation between amount and the other features is: \n",
      "+-------------+--------------------+--------------------+\n",
      "|      feature|         correlation|     abs_correlation|\n",
      "+-------------+--------------------+--------------------+\n",
      "|         step|  0.1242909520536949|  0.1242909520536949|\n",
      "| type_CASH_IN| -0.1211462312604748|  0.1211462312604748|\n",
      "|type_CASH_OUT|-0.04141203102129405| 0.04141203102129405|\n",
      "|   type_DEBIT|-0.02682257141276...|0.026822571412764645|\n",
      "| type_PAYMENT| -0.2114653262805776|  0.2114653262805776|\n",
      "|type_TRANSFER| 0.15105593069727094| 0.15105593069727094|\n",
      "|     type2_CC| 0.21146532628056097| 0.21146532628056097|\n",
      "|     type2_CM| -0.2114653262805776|  0.2114653262805776|\n",
      "|      isFraud|  0.3604992933016073|  0.3604992933016073|\n",
      "+-------------+--------------------+--------------------+\n",
      "\n"
     ]
    }
   ],
   "source": [
    "target = \"amount\"\n",
    "\n",
    "indep_cols = [x for x in df_bank_par.columns if x not in [target] ]\n",
    "\n",
    "corr_values_df = correlation_df(df=df_bank_par, target_var= target, feature_cols= indep_cols, method='pearson')\n",
    "\n",
    "print(f\"The corelation between {target} and the other features is: \")\n",
    "\n",
    "corr_values_df.show()\n"
   ]
  },
  {
   "cell_type": "code",
   "execution_count": 93,
   "metadata": {},
   "outputs": [
    {
     "name": "stderr",
     "output_type": "stream",
     "text": [
      "24/05/28 12:54:47 WARN SQLConf: The SQL config 'spark.sql.execution.arrow.enabled' has been deprecated in Spark v3.0 and may be removed in the future. Use 'spark.sql.execution.arrow.pyspark.enabled' instead of it.\n",
      "24/05/28 12:54:47 WARN SQLConf: The SQL config 'spark.sql.execution.arrow.enabled' has been deprecated in Spark v3.0 and may be removed in the future. Use 'spark.sql.execution.arrow.pyspark.enabled' instead of it.\n",
      "24/05/28 12:54:47 WARN SQLConf: The SQL config 'spark.sql.execution.arrow.enabled' has been deprecated in Spark v3.0 and may be removed in the future. Use 'spark.sql.execution.arrow.pyspark.enabled' instead of it.\n",
      "24/05/28 12:54:47 WARN SQLConf: The SQL config 'spark.sql.execution.arrow.enabled' has been deprecated in Spark v3.0 and may be removed in the future. Use 'spark.sql.execution.arrow.pyspark.enabled' instead of it.\n",
      "24/05/28 12:54:47 WARN SQLConf: The SQL config 'spark.sql.execution.arrow.enabled' has been deprecated in Spark v3.0 and may be removed in the future. Use 'spark.sql.execution.arrow.pyspark.enabled' instead of it.\n",
      "24/05/28 12:54:47 WARN SQLConf: The SQL config 'spark.sql.execution.arrow.enabled' has been deprecated in Spark v3.0 and may be removed in the future. Use 'spark.sql.execution.arrow.pyspark.enabled' instead of it.\n",
      "24/05/28 12:54:47 WARN SQLConf: The SQL config 'spark.sql.execution.arrow.enabled' has been deprecated in Spark v3.0 and may be removed in the future. Use 'spark.sql.execution.arrow.pyspark.enabled' instead of it.\n",
      "24/05/28 12:54:47 WARN SQLConf: The SQL config 'spark.sql.execution.arrow.enabled' has been deprecated in Spark v3.0 and may be removed in the future. Use 'spark.sql.execution.arrow.pyspark.enabled' instead of it.\n",
      "24/05/28 12:54:47 WARN SQLConf: The SQL config 'spark.sql.execution.arrow.enabled' has been deprecated in Spark v3.0 and may be removed in the future. Use 'spark.sql.execution.arrow.pyspark.enabled' instead of it.\n",
      "24/05/28 12:54:47 WARN SQLConf: The SQL config 'spark.sql.execution.arrow.enabled' has been deprecated in Spark v3.0 and may be removed in the future. Use 'spark.sql.execution.arrow.pyspark.enabled' instead of it.\n",
      "24/05/28 12:54:47 WARN SQLConf: The SQL config 'spark.sql.execution.arrow.enabled' has been deprecated in Spark v3.0 and may be removed in the future. Use 'spark.sql.execution.arrow.pyspark.enabled' instead of it.\n",
      "24/05/28 12:54:51 WARN SQLConf: The SQL config 'spark.sql.execution.arrow.enabled' has been deprecated in Spark v3.0 and may be removed in the future. Use 'spark.sql.execution.arrow.pyspark.enabled' instead of it.\n",
      "24/05/28 12:54:52 WARN SQLConf: The SQL config 'spark.sql.execution.arrow.enabled' has been deprecated in Spark v3.0 and may be removed in the future. Use 'spark.sql.execution.arrow.pyspark.enabled' instead of it.\n",
      "24/05/28 12:54:52 WARN SQLConf: The SQL config 'spark.sql.execution.arrow.enabled' has been deprecated in Spark v3.0 and may be removed in the future. Use 'spark.sql.execution.arrow.pyspark.enabled' instead of it.\n",
      "24/05/28 12:54:52 WARN SQLConf: The SQL config 'spark.sql.execution.arrow.enabled' has been deprecated in Spark v3.0 and may be removed in the future. Use 'spark.sql.execution.arrow.pyspark.enabled' instead of it.\n",
      "24/05/28 12:54:52 WARN SQLConf: The SQL config 'spark.sql.execution.arrow.enabled' has been deprecated in Spark v3.0 and may be removed in the future. Use 'spark.sql.execution.arrow.pyspark.enabled' instead of it.\n",
      "24/05/28 12:54:54 WARN SQLConf: The SQL config 'spark.sql.execution.arrow.enabled' has been deprecated in Spark v3.0 and may be removed in the future. Use 'spark.sql.execution.arrow.pyspark.enabled' instead of it.\n",
      "24/05/28 12:54:54 WARN SQLConf: The SQL config 'spark.sql.execution.arrow.enabled' has been deprecated in Spark v3.0 and may be removed in the future. Use 'spark.sql.execution.arrow.pyspark.enabled' instead of it.\n",
      "24/05/28 12:54:54 WARN SQLConf: The SQL config 'spark.sql.execution.arrow.enabled' has been deprecated in Spark v3.0 and may be removed in the future. Use 'spark.sql.execution.arrow.pyspark.enabled' instead of it.\n",
      "24/05/28 12:54:54 WARN SQLConf: The SQL config 'spark.sql.execution.arrow.enabled' has been deprecated in Spark v3.0 and may be removed in the future. Use 'spark.sql.execution.arrow.pyspark.enabled' instead of it.\n",
      "24/05/28 12:54:54 WARN SQLConf: The SQL config 'spark.sql.execution.arrow.enabled' has been deprecated in Spark v3.0 and may be removed in the future. Use 'spark.sql.execution.arrow.pyspark.enabled' instead of it.\n",
      "24/05/28 12:54:56 WARN SQLConf: The SQL config 'spark.sql.execution.arrow.enabled' has been deprecated in Spark v3.0 and may be removed in the future. Use 'spark.sql.execution.arrow.pyspark.enabled' instead of it.\n",
      "24/05/28 12:54:56 WARN SQLConf: The SQL config 'spark.sql.execution.arrow.enabled' has been deprecated in Spark v3.0 and may be removed in the future. Use 'spark.sql.execution.arrow.pyspark.enabled' instead of it.\n",
      "24/05/28 12:54:56 WARN SQLConf: The SQL config 'spark.sql.execution.arrow.enabled' has been deprecated in Spark v3.0 and may be removed in the future. Use 'spark.sql.execution.arrow.pyspark.enabled' instead of it.\n",
      "24/05/28 12:54:56 WARN SQLConf: The SQL config 'spark.sql.execution.arrow.enabled' has been deprecated in Spark v3.0 and may be removed in the future. Use 'spark.sql.execution.arrow.pyspark.enabled' instead of it.\n",
      "24/05/28 12:54:56 WARN SQLConf: The SQL config 'spark.sql.execution.arrow.enabled' has been deprecated in Spark v3.0 and may be removed in the future. Use 'spark.sql.execution.arrow.pyspark.enabled' instead of it.\n",
      "24/05/28 12:54:56 WARN SQLConf: The SQL config 'spark.sql.execution.arrow.enabled' has been deprecated in Spark v3.0 and may be removed in the future. Use 'spark.sql.execution.arrow.pyspark.enabled' instead of it.\n",
      "24/05/28 12:54:56 WARN SQLConf: The SQL config 'spark.sql.execution.arrow.enabled' has been deprecated in Spark v3.0 and may be removed in the future. Use 'spark.sql.execution.arrow.pyspark.enabled' instead of it.\n",
      "24/05/28 12:54:56 WARN SQLConf: The SQL config 'spark.sql.execution.arrow.enabled' has been deprecated in Spark v3.0 and may be removed in the future. Use 'spark.sql.execution.arrow.pyspark.enabled' instead of it.\n",
      "24/05/28 12:54:56 WARN SQLConf: The SQL config 'spark.sql.execution.arrow.enabled' has been deprecated in Spark v3.0 and may be removed in the future. Use 'spark.sql.execution.arrow.pyspark.enabled' instead of it.\n",
      "24/05/28 12:54:56 WARN SQLConf: The SQL config 'spark.sql.execution.arrow.enabled' has been deprecated in Spark v3.0 and may be removed in the future. Use 'spark.sql.execution.arrow.pyspark.enabled' instead of it.\n",
      "                                                                                \r"
     ]
    },
    {
     "name": "stdout",
     "output_type": "stream",
     "text": [
      "The corelation between step and the other features is: \n",
      "+-------------+--------------------+--------------------+\n",
      "|      feature|         correlation|     abs_correlation|\n",
      "+-------------+--------------------+--------------------+\n",
      "|       amount|  0.1242909520536949|  0.1242909520536949|\n",
      "| type_CASH_IN|-0.11255059686687098| 0.11255059686687098|\n",
      "|type_CASH_OUT|-0.04565434924107...|0.045654349241078744|\n",
      "|   type_DEBIT|-0.01678650820881...|0.016786508208811435|\n",
      "| type_PAYMENT|-0.14515981565813296| 0.14515981565813296|\n",
      "|type_TRANSFER| 0.08329816241940949| 0.08329816241940949|\n",
      "|     type2_CC|  0.1451598156581346|  0.1451598156581346|\n",
      "|     type2_CM|-0.14515981565813296| 0.14515981565813296|\n",
      "|      isFraud| 0.34684009076918176| 0.34684009076918176|\n",
      "+-------------+--------------------+--------------------+\n",
      "\n"
     ]
    }
   ],
   "source": [
    "target = \"step\"\n",
    "\n",
    "indep_cols = [x for x in df_bank_par.columns if x not in [target] ]\n",
    "\n",
    "corr_values_df = correlation_df(df=df_bank_par, target_var= target, feature_cols= indep_cols, method='pearson')\n",
    "\n",
    "print(f\"The corelation between {target} and the other features is: \")\n",
    "\n",
    "corr_values_df.show()"
   ]
  },
  {
   "cell_type": "markdown",
   "metadata": {},
   "source": [
    "## 4. Construction of models"
   ]
  },
  {
   "cell_type": "markdown",
   "metadata": {},
   "source": [
    "## 4.1 train/test split"
   ]
  },
  {
   "cell_type": "code",
   "execution_count": 474,
   "metadata": {},
   "outputs": [],
   "source": [
    "train,test = df_bank_par.randomSplit([0.7,0.3])"
   ]
  },
  {
   "cell_type": "markdown",
   "metadata": {},
   "source": [
    "#### Let´s assemble these datasets \"train\" and \"test\" into a single feature vector using VectorAssembler class per each one."
   ]
  },
  {
   "cell_type": "code",
   "execution_count": 475,
   "metadata": {},
   "outputs": [
    {
     "name": "stderr",
     "output_type": "stream",
     "text": [
      "[Stage 2487:>                                                       (0 + 1) / 1]\r"
     ]
    },
    {
     "name": "stdout",
     "output_type": "stream",
     "text": [
      "+----+------+------------+-------------+----------+------------+-------------+--------+--------+-------+--------------------+\n",
      "|step|amount|type_CASH_IN|type_CASH_OUT|type_DEBIT|type_PAYMENT|type_TRANSFER|type2_CC|type2_CM|isFraud|         my_features|\n",
      "+----+------+------------+-------------+----------+------------+-------------+--------+--------+-------+--------------------+\n",
      "|   1|  6.93|           0|            0|         0|           1|            0|       0|       1|      0|(10,[0,1,3,8],[1....|\n",
      "|   1|  8.73|           0|            0|         0|           1|            0|       0|       1|      0|(10,[0,1,3,8],[1....|\n",
      "|   1| 23.31|           0|            0|         0|           1|            0|       0|       1|      0|(10,[0,1,3,8],[1....|\n",
      "|   1| 27.55|           0|            0|         0|           1|            0|       0|       1|      0|(10,[0,1,3,8],[1....|\n",
      "|   1| 38.66|           0|            0|         0|           1|            0|       0|       1|      0|(10,[0,1,3,8],[1....|\n",
      "|   1|  42.0|           0|            0|         0|           1|            0|       0|       1|      0|(10,[0,1,3,8],[1....|\n",
      "|   1| 58.21|           0|            0|         0|           1|            0|       0|       1|      0|(10,[0,1,3,8],[1....|\n",
      "|   1| 79.26|           0|            0|         0|           1|            0|       0|       1|      0|(10,[0,1,3,8],[1....|\n",
      "|   1| 84.22|           0|            0|         0|           1|            0|       0|       1|      0|(10,[0,1,3,8],[1....|\n",
      "|   1| 96.32|           0|            0|         0|           1|            0|       0|       1|      0|(10,[0,1,3,8],[1....|\n",
      "+----+------+------------+-------------+----------+------------+-------------+--------+--------+-------+--------------------+\n",
      "only showing top 10 rows\n",
      "\n"
     ]
    },
    {
     "name": "stderr",
     "output_type": "stream",
     "text": [
      "                                                                                \r"
     ]
    }
   ],
   "source": [
    "# let´s assemble the train dataset as a single feature vector using VectorAssembler class\n",
    "\n",
    "columns = ['step','amount','type_CASH_OUT','type_PAYMENT','type_CASH_IN','type_TRANSFER','type_DEBIT','type2_CC','type2_CM','isFraud']\n",
    "\n",
    "assembler = VectorAssembler(inputCols=columns, outputCol='features')\n",
    "\n",
    "train = assembler.transform(train).withColumnRenamed(\"features\", \"my_features\")\n",
    "\n",
    "train.show(10)"
   ]
  },
  {
   "cell_type": "code",
   "execution_count": 476,
   "metadata": {},
   "outputs": [
    {
     "name": "stderr",
     "output_type": "stream",
     "text": [
      "[Stage 2488:>                                                       (0 + 1) / 1]\r"
     ]
    },
    {
     "name": "stdout",
     "output_type": "stream",
     "text": [
      "+----+------+------------+-------------+----------+------------+-------------+--------+--------+-------+--------------------+\n",
      "|step|amount|type_CASH_IN|type_CASH_OUT|type_DEBIT|type_PAYMENT|type_TRANSFER|type2_CC|type2_CM|isFraud|         my_features|\n",
      "+----+------+------------+-------------+----------+------------+-------------+--------+--------+-------+--------------------+\n",
      "|   1|  6.42|           0|            0|         0|           1|            0|       0|       1|      0|(10,[0,1,3,8],[1....|\n",
      "|   1| 13.54|           0|            0|         0|           1|            0|       0|       1|      0|(10,[0,1,3,8],[1....|\n",
      "|   1| 15.06|           0|            0|         0|           1|            0|       0|       1|      0|(10,[0,1,3,8],[1....|\n",
      "|   1| 25.12|           0|            0|         0|           1|            0|       0|       1|      0|(10,[0,1,3,8],[1....|\n",
      "|   1| 53.35|           0|            0|         0|           1|            0|       0|       1|      0|(10,[0,1,3,8],[1....|\n",
      "|   1|106.81|           0|            0|         0|           1|            0|       0|       1|      0|(10,[0,1,3,8],[1....|\n",
      "|   1|112.56|           0|            0|         0|           1|            0|       0|       1|      0|(10,[0,1,3,8],[1....|\n",
      "|   1|121.27|           0|            0|         0|           1|            0|       0|       1|      0|(10,[0,1,3,8],[1....|\n",
      "|   1|232.74|           0|            0|         0|           1|            0|       0|       1|      0|(10,[0,1,3,8],[1....|\n",
      "|   1|233.76|           0|            0|         0|           1|            0|       0|       1|      0|(10,[0,1,3,8],[1....|\n",
      "+----+------+------------+-------------+----------+------------+-------------+--------+--------+-------+--------------------+\n",
      "only showing top 10 rows\n",
      "\n"
     ]
    },
    {
     "name": "stderr",
     "output_type": "stream",
     "text": [
      "                                                                                \r"
     ]
    }
   ],
   "source": [
    "# let´s assemble the test dataset as a single feature vector using VectorAssembler class\n",
    "\n",
    "columns = ['step','amount','type_CASH_OUT','type_PAYMENT','type_CASH_IN','type_TRANSFER','type_DEBIT','type2_CC','type2_CM','isFraud']\n",
    "\n",
    "assembler = VectorAssembler(inputCols=columns, outputCol='features')\n",
    "\n",
    "test = assembler.transform(test).withColumnRenamed(\"features\", \"my_features\")\n",
    "\n",
    "test.show(10)"
   ]
  },
  {
   "cell_type": "markdown",
   "metadata": {},
   "source": [
    "## 4.2 Models\n",
    "\n",
    "We´ll use several machine learning algorithms to evaluate all of them and to select the best one. We´ll start with Random Forest. However, it´s important to create some lists where to store the results of the models:"
   ]
  },
  {
   "cell_type": "code",
   "execution_count": 477,
   "metadata": {},
   "outputs": [],
   "source": [
    "name_model = []\n",
    "\n",
    "accuracy = []\n",
    "\n",
    "precision = []\n",
    "\n",
    "recall = []\n",
    "\n",
    "auc_roc = []"
   ]
  },
  {
   "cell_type": "markdown",
   "metadata": {},
   "source": [
    "### 4.2.1 Random Forest"
   ]
  },
  {
   "cell_type": "markdown",
   "metadata": {},
   "source": [
    "#### Training"
   ]
  },
  {
   "cell_type": "code",
   "execution_count": 248,
   "metadata": {},
   "outputs": [
    {
     "name": "stderr",
     "output_type": "stream",
     "text": [
      "24/05/28 14:43:13 WARN SQLConf: The SQL config 'spark.sql.execution.arrow.enabled' has been deprecated in Spark v3.0 and may be removed in the future. Use 'spark.sql.execution.arrow.pyspark.enabled' instead of it.\n",
      "24/05/28 14:43:14 WARN SQLConf: The SQL config 'spark.sql.execution.arrow.enabled' has been deprecated in Spark v3.0 and may be removed in the future. Use 'spark.sql.execution.arrow.pyspark.enabled' instead of it.\n"
     ]
    },
    {
     "name": "stdout",
     "output_type": "stream",
     "text": [
      "estimator: estimator to be cross-validated (current: Pipeline_48c78d62663a)\n",
      "estimatorParamMaps: estimator param maps (current: [{Param(parent='RandomForestClassifier_bb3413b295c6', name='numTrees', doc='Number of trees to train (>= 1).'): 10, Param(parent='RandomForestClassifier_bb3413b295c6', name='maxDepth', doc='Maximum depth of the tree. (>= 0) E.g., depth 0 means 1 leaf node; depth 1 means 1 internal node + 2 leaf nodes. Must be in range [0, 30].'): 5}, {Param(parent='RandomForestClassifier_bb3413b295c6', name='numTrees', doc='Number of trees to train (>= 1).'): 10, Param(parent='RandomForestClassifier_bb3413b295c6', name='maxDepth', doc='Maximum depth of the tree. (>= 0) E.g., depth 0 means 1 leaf node; depth 1 means 1 internal node + 2 leaf nodes. Must be in range [0, 30].'): 12}, {Param(parent='RandomForestClassifier_bb3413b295c6', name='numTrees', doc='Number of trees to train (>= 1).'): 10, Param(parent='RandomForestClassifier_bb3413b295c6', name='maxDepth', doc='Maximum depth of the tree. (>= 0) E.g., depth 0 means 1 leaf node; depth 1 means 1 internal node + 2 leaf nodes. Must be in range [0, 30].'): 20}, {Param(parent='RandomForestClassifier_bb3413b295c6', name='numTrees', doc='Number of trees to train (>= 1).'): 20, Param(parent='RandomForestClassifier_bb3413b295c6', name='maxDepth', doc='Maximum depth of the tree. (>= 0) E.g., depth 0 means 1 leaf node; depth 1 means 1 internal node + 2 leaf nodes. Must be in range [0, 30].'): 5}, {Param(parent='RandomForestClassifier_bb3413b295c6', name='numTrees', doc='Number of trees to train (>= 1).'): 20, Param(parent='RandomForestClassifier_bb3413b295c6', name='maxDepth', doc='Maximum depth of the tree. (>= 0) E.g., depth 0 means 1 leaf node; depth 1 means 1 internal node + 2 leaf nodes. Must be in range [0, 30].'): 12}, {Param(parent='RandomForestClassifier_bb3413b295c6', name='numTrees', doc='Number of trees to train (>= 1).'): 20, Param(parent='RandomForestClassifier_bb3413b295c6', name='maxDepth', doc='Maximum depth of the tree. (>= 0) E.g., depth 0 means 1 leaf node; depth 1 means 1 internal node + 2 leaf nodes. Must be in range [0, 30].'): 20}, {Param(parent='RandomForestClassifier_bb3413b295c6', name='numTrees', doc='Number of trees to train (>= 1).'): 30, Param(parent='RandomForestClassifier_bb3413b295c6', name='maxDepth', doc='Maximum depth of the tree. (>= 0) E.g., depth 0 means 1 leaf node; depth 1 means 1 internal node + 2 leaf nodes. Must be in range [0, 30].'): 5}, {Param(parent='RandomForestClassifier_bb3413b295c6', name='numTrees', doc='Number of trees to train (>= 1).'): 30, Param(parent='RandomForestClassifier_bb3413b295c6', name='maxDepth', doc='Maximum depth of the tree. (>= 0) E.g., depth 0 means 1 leaf node; depth 1 means 1 internal node + 2 leaf nodes. Must be in range [0, 30].'): 12}, {Param(parent='RandomForestClassifier_bb3413b295c6', name='numTrees', doc='Number of trees to train (>= 1).'): 30, Param(parent='RandomForestClassifier_bb3413b295c6', name='maxDepth', doc='Maximum depth of the tree. (>= 0) E.g., depth 0 means 1 leaf node; depth 1 means 1 internal node + 2 leaf nodes. Must be in range [0, 30].'): 20}])\n",
      "evaluator: evaluator used to select hyper-parameters that maximize the validator metric (current: BinaryClassificationEvaluator_c0e655a4429b)\n",
      "seed: random seed. (default: -628876264959939065, current: -2611022497370876594)\n",
      "trainRatio: Param for ratio between train and     validation data. Must be between 0 and 1. (default: 0.75, current: 0.75)\n"
     ]
    }
   ],
   "source": [
    "# train the model \"random forest\" (rf)\n",
    "\n",
    "modelRF = TrainValidationSplitModel.load(\"tuningRFProof\")\n",
    "print(modelRF.explainParams())"
   ]
  },
  {
   "cell_type": "code",
   "execution_count": 148,
   "metadata": {},
   "outputs": [
    {
     "data": {
      "text/plain": [
       "pyspark.ml.tuning.TrainValidationSplitModel"
      ]
     },
     "execution_count": 148,
     "metadata": {},
     "output_type": "execute_result"
    }
   ],
   "source": [
    "type(modelRF)"
   ]
  },
  {
   "cell_type": "code",
   "execution_count": null,
   "metadata": {},
   "outputs": [],
   "source": [
    "modelRF.extractParamMap()"
   ]
  },
  {
   "cell_type": "code",
   "execution_count": 479,
   "metadata": {},
   "outputs": [],
   "source": [
    "rf = RandomForestClassifier(labelCol=\"isFraud\", featuresCol=\"my_features\")"
   ]
  },
  {
   "cell_type": "code",
   "execution_count": 480,
   "metadata": {},
   "outputs": [
    {
     "name": "stderr",
     "output_type": "stream",
     "text": [
      "24/05/29 00:15:44 WARN SQLConf: The SQL config 'spark.sql.execution.arrow.enabled' has been deprecated in Spark v3.0 and may be removed in the future. Use 'spark.sql.execution.arrow.pyspark.enabled' instead of it.\n",
      "24/05/29 00:15:45 WARN SQLConf: The SQL config 'spark.sql.execution.arrow.enabled' has been deprecated in Spark v3.0 and may be removed in the future. Use 'spark.sql.execution.arrow.pyspark.enabled' instead of it.\n",
      "24/05/29 00:15:45 WARN SQLConf: The SQL config 'spark.sql.execution.arrow.enabled' has been deprecated in Spark v3.0 and may be removed in the future. Use 'spark.sql.execution.arrow.pyspark.enabled' instead of it.\n",
      "24/05/29 00:15:45 WARN SQLConf: The SQL config 'spark.sql.execution.arrow.enabled' has been deprecated in Spark v3.0 and may be removed in the future. Use 'spark.sql.execution.arrow.pyspark.enabled' instead of it.\n",
      "24/05/29 00:15:45 WARN SQLConf: The SQL config 'spark.sql.execution.arrow.enabled' has been deprecated in Spark v3.0 and may be removed in the future. Use 'spark.sql.execution.arrow.pyspark.enabled' instead of it.\n",
      "24/05/29 00:15:45 WARN SQLConf: The SQL config 'spark.sql.execution.arrow.enabled' has been deprecated in Spark v3.0 and may be removed in the future. Use 'spark.sql.execution.arrow.pyspark.enabled' instead of it.\n",
      "24/05/29 00:15:45 WARN SQLConf: The SQL config 'spark.sql.execution.arrow.enabled' has been deprecated in Spark v3.0 and may be removed in the future. Use 'spark.sql.execution.arrow.pyspark.enabled' instead of it.\n",
      "24/05/29 00:15:45 WARN SQLConf: The SQL config 'spark.sql.execution.arrow.enabled' has been deprecated in Spark v3.0 and may be removed in the future. Use 'spark.sql.execution.arrow.pyspark.enabled' instead of it.\n",
      "24/05/29 00:15:45 WARN SQLConf: The SQL config 'spark.sql.execution.arrow.enabled' has been deprecated in Spark v3.0 and may be removed in the future. Use 'spark.sql.execution.arrow.pyspark.enabled' instead of it.\n",
      "24/05/29 00:15:45 WARN SQLConf: The SQL config 'spark.sql.execution.arrow.enabled' has been deprecated in Spark v3.0 and may be removed in the future. Use 'spark.sql.execution.arrow.pyspark.enabled' instead of it.\n",
      "24/05/29 00:15:45 WARN SQLConf: The SQL config 'spark.sql.execution.arrow.enabled' has been deprecated in Spark v3.0 and may be removed in the future. Use 'spark.sql.execution.arrow.pyspark.enabled' instead of it.\n",
      "24/05/29 00:15:53 WARN SQLConf: The SQL config 'spark.sql.execution.arrow.enabled' has been deprecated in Spark v3.0 and may be removed in the future. Use 'spark.sql.execution.arrow.pyspark.enabled' instead of it.\n",
      "24/05/29 00:15:53 WARN SQLConf: The SQL config 'spark.sql.execution.arrow.enabled' has been deprecated in Spark v3.0 and may be removed in the future. Use 'spark.sql.execution.arrow.pyspark.enabled' instead of it.\n",
      "24/05/29 00:15:53 WARN SQLConf: The SQL config 'spark.sql.execution.arrow.enabled' has been deprecated in Spark v3.0 and may be removed in the future. Use 'spark.sql.execution.arrow.pyspark.enabled' instead of it.\n",
      "24/05/29 00:15:53 WARN SQLConf: The SQL config 'spark.sql.execution.arrow.enabled' has been deprecated in Spark v3.0 and may be removed in the future. Use 'spark.sql.execution.arrow.pyspark.enabled' instead of it.\n",
      "24/05/29 00:15:53 WARN SQLConf: The SQL config 'spark.sql.execution.arrow.enabled' has been deprecated in Spark v3.0 and may be removed in the future. Use 'spark.sql.execution.arrow.pyspark.enabled' instead of it.\n",
      "24/05/29 00:15:53 WARN SQLConf: The SQL config 'spark.sql.execution.arrow.enabled' has been deprecated in Spark v3.0 and may be removed in the future. Use 'spark.sql.execution.arrow.pyspark.enabled' instead of it.\n",
      "24/05/29 00:15:53 WARN SQLConf: The SQL config 'spark.sql.execution.arrow.enabled' has been deprecated in Spark v3.0 and may be removed in the future. Use 'spark.sql.execution.arrow.pyspark.enabled' instead of it.\n",
      "24/05/29 00:15:53 WARN SQLConf: The SQL config 'spark.sql.execution.arrow.enabled' has been deprecated in Spark v3.0 and may be removed in the future. Use 'spark.sql.execution.arrow.pyspark.enabled' instead of it.\n",
      "24/05/29 00:15:53 WARN SQLConf: The SQL config 'spark.sql.execution.arrow.enabled' has been deprecated in Spark v3.0 and may be removed in the future. Use 'spark.sql.execution.arrow.pyspark.enabled' instead of it.\n",
      "24/05/29 00:15:53 WARN SQLConf: The SQL config 'spark.sql.execution.arrow.enabled' has been deprecated in Spark v3.0 and may be removed in the future. Use 'spark.sql.execution.arrow.pyspark.enabled' instead of it.\n",
      "24/05/29 00:16:01 WARN SQLConf: The SQL config 'spark.sql.execution.arrow.enabled' has been deprecated in Spark v3.0 and may be removed in the future. Use 'spark.sql.execution.arrow.pyspark.enabled' instead of it.\n",
      "24/05/29 00:16:01 WARN SQLConf: The SQL config 'spark.sql.execution.arrow.enabled' has been deprecated in Spark v3.0 and may be removed in the future. Use 'spark.sql.execution.arrow.pyspark.enabled' instead of it.\n",
      "24/05/29 00:16:01 WARN SQLConf: The SQL config 'spark.sql.execution.arrow.enabled' has been deprecated in Spark v3.0 and may be removed in the future. Use 'spark.sql.execution.arrow.pyspark.enabled' instead of it.\n",
      "24/05/29 00:16:01 WARN SQLConf: The SQL config 'spark.sql.execution.arrow.enabled' has been deprecated in Spark v3.0 and may be removed in the future. Use 'spark.sql.execution.arrow.pyspark.enabled' instead of it.\n",
      "24/05/29 00:16:01 WARN SQLConf: The SQL config 'spark.sql.execution.arrow.enabled' has been deprecated in Spark v3.0 and may be removed in the future. Use 'spark.sql.execution.arrow.pyspark.enabled' instead of it.\n",
      "24/05/29 00:16:01 WARN SQLConf: The SQL config 'spark.sql.execution.arrow.enabled' has been deprecated in Spark v3.0 and may be removed in the future. Use 'spark.sql.execution.arrow.pyspark.enabled' instead of it.\n",
      "24/05/29 00:16:01 WARN SQLConf: The SQL config 'spark.sql.execution.arrow.enabled' has been deprecated in Spark v3.0 and may be removed in the future. Use 'spark.sql.execution.arrow.pyspark.enabled' instead of it.\n",
      "24/05/29 00:16:01 WARN SQLConf: The SQL config 'spark.sql.execution.arrow.enabled' has been deprecated in Spark v3.0 and may be removed in the future. Use 'spark.sql.execution.arrow.pyspark.enabled' instead of it.\n",
      "24/05/29 00:16:01 WARN SQLConf: The SQL config 'spark.sql.execution.arrow.enabled' has been deprecated in Spark v3.0 and may be removed in the future. Use 'spark.sql.execution.arrow.pyspark.enabled' instead of it.\n",
      "24/05/29 00:16:01 WARN SQLConf: The SQL config 'spark.sql.execution.arrow.enabled' has been deprecated in Spark v3.0 and may be removed in the future. Use 'spark.sql.execution.arrow.pyspark.enabled' instead of it.\n",
      "24/05/29 00:16:04 WARN MemoryStore: Not enough space to cache rdd_7931_2 in memory! (computed 18.0 MiB so far)\n",
      "24/05/29 00:16:04 WARN MemoryStore: Not enough space to cache rdd_7931_3 in memory! (computed 18.0 MiB so far)\n",
      "24/05/29 00:16:05 WARN MemoryStore: Not enough space to cache rdd_7931_7 in memory! (computed 11.7 MiB so far)\n",
      "24/05/29 00:16:05 WARN MemoryStore: Not enough space to cache rdd_7931_6 in memory! (computed 11.7 MiB so far)\n",
      "24/05/29 00:16:05 WARN MemoryStore: Not enough space to cache rdd_7931_0 in memory! (computed 18.0 MiB so far)\n",
      "24/05/29 00:16:05 WARN MemoryStore: Not enough space to cache rdd_7931_9 in memory! (computed 18.0 MiB so far)\n",
      "24/05/29 00:16:05 WARN MemoryStore: Not enough space to cache rdd_7931_8 in memory! (computed 11.7 MiB so far)\n",
      "24/05/29 00:16:05 WARN BlockManager: Persisting block rdd_7931_9 to disk instead.\n",
      "24/05/29 00:16:05 WARN BlockManager: Persisting block rdd_7931_6 to disk instead.\n",
      "24/05/29 00:16:05 WARN BlockManager: Persisting block rdd_7931_3 to disk instead.\n",
      "24/05/29 00:16:05 WARN BlockManager: Persisting block rdd_7931_8 to disk instead.\n",
      "24/05/29 00:16:05 WARN BlockManager: Persisting block rdd_7931_0 to disk instead.\n",
      "24/05/29 00:16:05 WARN BlockManager: Persisting block rdd_7931_7 to disk instead.\n",
      "24/05/29 00:16:05 WARN BlockManager: Persisting block rdd_7931_2 to disk instead.\n",
      "24/05/29 00:16:07 WARN MemoryStore: Not enough space to cache rdd_7931_5 in memory! (computed 61.4 MiB so far)\n",
      "24/05/29 00:16:07 WARN BlockManager: Persisting block rdd_7931_5 to disk instead.\n",
      "24/05/29 00:16:07 WARN MemoryStore: Not enough space to cache rdd_7931_1 in memory! (computed 18.0 MiB so far)\n",
      "24/05/29 00:16:07 WARN BlockManager: Persisting block rdd_7931_1 to disk instead.\n",
      "24/05/29 00:16:09 WARN MemoryStore: Not enough space to cache rdd_7931_4 in memory! (computed 140.7 MiB so far)\n",
      "24/05/29 00:16:09 WARN BlockManager: Persisting block rdd_7931_4 to disk instead.\n",
      "24/05/29 00:16:12 WARN MemoryStore: Not enough space to cache rdd_7931_0 in memory! (computed 7.8 MiB so far)\n",
      "24/05/29 00:16:12 WARN MemoryStore: Not enough space to cache rdd_7931_3 in memory! (computed 27.1 MiB so far)\n",
      "24/05/29 00:16:12 WARN MemoryStore: Not enough space to cache rdd_7931_4 in memory! (computed 61.4 MiB so far)\n",
      "24/05/29 00:16:12 WARN MemoryStore: Not enough space to cache rdd_7931_2 in memory! (computed 61.4 MiB so far)\n",
      "24/05/29 00:16:12 WARN MemoryStore: Not enough space to cache rdd_7931_5 in memory! (computed 27.1 MiB so far)\n",
      "24/05/29 00:16:12 WARN MemoryStore: Not enough space to cache rdd_7931_8 in memory! (computed 18.0 MiB so far)\n",
      "24/05/29 00:16:12 WARN MemoryStore: Not enough space to cache rdd_7931_6 in memory! (computed 18.0 MiB so far)\n",
      "24/05/29 00:16:13 WARN MemoryStore: Not enough space to cache rdd_7931_7 in memory! (computed 61.4 MiB so far)\n",
      "24/05/29 00:16:20 WARN MemoryStore: Not enough space to cache rdd_7931_1 in memory! (computed 211.0 MiB so far)\n",
      "24/05/29 00:16:26 WARN MemoryStore: Not enough space to cache rdd_7931_7 in memory! (computed 27.1 MiB so far)\n",
      "24/05/29 00:16:26 WARN MemoryStore: Not enough space to cache rdd_7931_8 in memory! (computed 27.1 MiB so far)\n",
      "24/05/29 00:16:26 WARN MemoryStore: Not enough space to cache rdd_7931_3 in memory! (computed 27.1 MiB so far)\n",
      "24/05/29 00:16:26 WARN MemoryStore: Not enough space to cache rdd_7931_6 in memory! (computed 27.1 MiB so far)\n",
      "24/05/29 00:16:26 WARN MemoryStore: Not enough space to cache rdd_7931_1 in memory! (computed 27.1 MiB so far)\n",
      "24/05/29 00:16:26 WARN MemoryStore: Not enough space to cache rdd_7931_0 in memory! (computed 27.1 MiB so far)\n",
      "24/05/29 00:16:26 WARN MemoryStore: Not enough space to cache rdd_7931_2 in memory! (computed 27.1 MiB so far)\n",
      "24/05/29 00:16:26 WARN MemoryStore: Not enough space to cache rdd_7931_5 in memory! (computed 27.1 MiB so far)\n",
      "24/05/29 00:16:26 WARN MemoryStore: Not enough space to cache rdd_7931_4 in memory! (computed 27.1 MiB so far)\n",
      "24/05/29 00:16:34 WARN MemoryStore: Not enough space to cache rdd_7931_5 in memory! (computed 27.1 MiB so far)\n",
      "24/05/29 00:16:34 WARN MemoryStore: Not enough space to cache rdd_7931_1 in memory! (computed 27.1 MiB so far)\n",
      "24/05/29 00:16:34 WARN MemoryStore: Not enough space to cache rdd_7931_3 in memory! (computed 27.1 MiB so far)\n",
      "24/05/29 00:16:34 WARN MemoryStore: Not enough space to cache rdd_7931_6 in memory! (computed 27.1 MiB so far)\n",
      "24/05/29 00:16:34 WARN MemoryStore: Not enough space to cache rdd_7931_4 in memory! (computed 27.1 MiB so far)\n",
      "24/05/29 00:16:34 WARN MemoryStore: Not enough space to cache rdd_7931_8 in memory! (computed 27.1 MiB so far)\n",
      "24/05/29 00:16:34 WARN MemoryStore: Not enough space to cache rdd_7931_2 in memory! (computed 27.1 MiB so far)\n",
      "24/05/29 00:16:34 WARN MemoryStore: Not enough space to cache rdd_7931_7 in memory! (computed 27.1 MiB so far)\n",
      "24/05/29 00:16:34 WARN MemoryStore: Not enough space to cache rdd_7931_0 in memory! (computed 27.1 MiB so far)\n",
      "24/05/29 00:16:40 WARN MemoryStore: Not enough space to cache rdd_7931_8 in memory! (computed 27.1 MiB so far)\n",
      "24/05/29 00:16:40 WARN MemoryStore: Not enough space to cache rdd_7931_6 in memory! (computed 27.1 MiB so far)\n",
      "24/05/29 00:16:40 WARN MemoryStore: Not enough space to cache rdd_7931_3 in memory! (computed 27.1 MiB so far)\n",
      "24/05/29 00:16:40 WARN MemoryStore: Not enough space to cache rdd_7931_1 in memory! (computed 27.1 MiB so far)\n",
      "24/05/29 00:16:40 WARN MemoryStore: Not enough space to cache rdd_7931_4 in memory! (computed 27.1 MiB so far)\n",
      "24/05/29 00:16:40 WARN MemoryStore: Not enough space to cache rdd_7931_0 in memory! (computed 27.1 MiB so far)\n",
      "24/05/29 00:16:40 WARN MemoryStore: Not enough space to cache rdd_7931_7 in memory! (computed 27.1 MiB so far)\n",
      "24/05/29 00:16:40 WARN MemoryStore: Not enough space to cache rdd_7931_2 in memory! (computed 27.1 MiB so far)\n",
      "24/05/29 00:16:40 WARN MemoryStore: Not enough space to cache rdd_7931_5 in memory! (computed 27.1 MiB so far)\n",
      "24/05/29 00:16:46 WARN MemoryStore: Not enough space to cache rdd_7931_5 in memory! (computed 27.1 MiB so far)\n",
      "24/05/29 00:16:46 WARN MemoryStore: Not enough space to cache rdd_7931_1 in memory! (computed 27.1 MiB so far)\n",
      "24/05/29 00:16:46 WARN MemoryStore: Not enough space to cache rdd_7931_2 in memory! (computed 27.1 MiB so far)\n",
      "24/05/29 00:16:46 WARN MemoryStore: Not enough space to cache rdd_7931_4 in memory! (computed 27.1 MiB so far)\n",
      "24/05/29 00:16:46 WARN MemoryStore: Not enough space to cache rdd_7931_8 in memory! (computed 27.1 MiB so far)\n",
      "24/05/29 00:16:46 WARN MemoryStore: Not enough space to cache rdd_7931_3 in memory! (computed 27.1 MiB so far)\n",
      "24/05/29 00:16:46 WARN MemoryStore: Not enough space to cache rdd_7931_6 in memory! (computed 27.1 MiB so far)\n",
      "24/05/29 00:16:46 WARN MemoryStore: Not enough space to cache rdd_7931_0 in memory! (computed 27.1 MiB so far)\n",
      "24/05/29 00:16:46 WARN MemoryStore: Not enough space to cache rdd_7931_7 in memory! (computed 27.1 MiB so far)\n",
      "                                                                                \r"
     ]
    }
   ],
   "source": [
    "modelRF = rf.fit(train)"
   ]
  },
  {
   "cell_type": "code",
   "execution_count": 481,
   "metadata": {},
   "outputs": [],
   "source": [
    "predictions = modelRF.transform(test)"
   ]
  },
  {
   "cell_type": "code",
   "execution_count": null,
   "metadata": {},
   "outputs": [],
   "source": [
    "# evaluation\n",
    "\n",
    "evaluator = BinaryClassificationEvaluator(rawPredictionCol=\"prediction\", labelCol=\"isFraud\")\n",
    "\n",
    "auc_rf = evaluator.evaluate(predictions)\n",
    "\n",
    "# Accuracy, Precision and Recall\n",
    "\n",
    "metrics = MulticlassClassificationEvaluator(predictionCol=\"prediction\",labelCol=\"isFraud\")\n",
    "\n",
    "accuracy_rf = metrics.evaluate(predictions, {metrics.metricName:\"accuracy\"})\n",
    "\n",
    "print(f\"AUC-ROC: \", auc_rf)\n",
    "\n",
    "print(f\"Accuracy: \", accuracy_rf)\n"
   ]
  },
  {
   "cell_type": "markdown",
   "metadata": {},
   "source": [
    "#### Hyperparameters tuning"
   ]
  },
  {
   "cell_type": "code",
   "execution_count": 430,
   "metadata": {},
   "outputs": [],
   "source": [
    "rf = RandomForestClassifier(labelCol=\"isFraud\", featuresCol=\"my_features\")"
   ]
  },
  {
   "cell_type": "code",
   "execution_count": null,
   "metadata": {},
   "outputs": [],
   "source": [
    "print(rf.explainParams())"
   ]
  },
  {
   "cell_type": "code",
   "execution_count": null,
   "metadata": {},
   "outputs": [],
   "source": [
    "# visualization of the overfitting\n",
    "\n",
    "# define the tree depths to evaluate\n",
    "values = [i for i in range(1, 11)]\n",
    "train_scores = []\n",
    "test_scores = []\n",
    "# evaluate a decision tree for each depth\n",
    "for i in values:\n",
    " # configure the model\n",
    " rf = RandomForestClassifier(labelCol=\"isFraud\", featuresCol=\"my_features\", maxDepth=1, numTrees=i)\n",
    " # configure the evaluators and metrics\n",
    " evaluator = BinaryClassificationEvaluator(rawPredictionCol=\"prediction\", labelCol=\"isFraud\")\n",
    " metrics = MulticlassClassificationEvaluator(predictionCol=\"prediction\",labelCol=\"isFraud\")\n",
    " # fit model on the training dataset\n",
    " modelRF = rf.fit(train)\n",
    " # predictions on the training dataset\n",
    " predictions = modelRF.transform(train)\n",
    " # evaluate on the train dataset\n",
    " train_accuracy = metrics.evaluate(predictions, {metrics.metricName:\"accuracy\"})\n",
    " train_scores.append(train_accuracy)\n",
    " # evaluate on the test dataset\n",
    " predictions = modelRF.transform(test)\n",
    " test_accuracy = metrics.evaluate(predictions, {metrics.metricName:\"accuracy\"})\n",
    " test_scores.append(test_accuracy)\n",
    " # summarize progress\n",
    " print('>%d, train: %.3f, test: %.3f' % (i, train_accuracy, test_accuracy))"
   ]
  },
  {
   "cell_type": "code",
   "execution_count": 428,
   "metadata": {},
   "outputs": [
    {
     "data": {
      "image/png": "[encoded data removed]",
      "text/plain": [
       "<Figure size 640x480 with 1 Axes>"
      ]
     },
     "metadata": {},
     "output_type": "display_data"
    }
   ],
   "source": [
    "# plot of train and test scores vs tree depth\n",
    "\n",
    "mpt.plot(values, train_scores, '-o', label='Train')\n",
    "mpt.plot(values, test_scores, '-o', label='Test')\n",
    "mpt.legend()\n",
    "mpt.show()"
   ]
  },
  {
   "cell_type": "code",
   "execution_count": 458,
   "metadata": {},
   "outputs": [
    {
     "name": "stderr",
     "output_type": "stream",
     "text": [
      "24/05/28 23:58:05 WARN SQLConf: The SQL config 'spark.sql.execution.arrow.enabled' has been deprecated in Spark v3.0 and may be removed in the future. Use 'spark.sql.execution.arrow.pyspark.enabled' instead of it.\n",
      "24/05/28 23:58:05 WARN SQLConf: The SQL config 'spark.sql.execution.arrow.enabled' has been deprecated in Spark v3.0 and may be removed in the future. Use 'spark.sql.execution.arrow.pyspark.enabled' instead of it.\n",
      "24/05/28 23:58:05 WARN SQLConf: The SQL config 'spark.sql.execution.arrow.enabled' has been deprecated in Spark v3.0 and may be removed in the future. Use 'spark.sql.execution.arrow.pyspark.enabled' instead of it.\n",
      "24/05/28 23:58:05 WARN SQLConf: The SQL config 'spark.sql.execution.arrow.enabled' has been deprecated in Spark v3.0 and may be removed in the future. Use 'spark.sql.execution.arrow.pyspark.enabled' instead of it.\n",
      "24/05/28 23:58:05 WARN SQLConf: The SQL config 'spark.sql.execution.arrow.enabled' has been deprecated in Spark v3.0 and may be removed in the future. Use 'spark.sql.execution.arrow.pyspark.enabled' instead of it.\n",
      "24/05/28 23:58:05 WARN SQLConf: The SQL config 'spark.sql.execution.arrow.enabled' has been deprecated in Spark v3.0 and may be removed in the future. Use 'spark.sql.execution.arrow.pyspark.enabled' instead of it.\n",
      "24/05/28 23:58:05 WARN SQLConf: The SQL config 'spark.sql.execution.arrow.enabled' has been deprecated in Spark v3.0 and may be removed in the future. Use 'spark.sql.execution.arrow.pyspark.enabled' instead of it.\n",
      "24/05/28 23:58:05 WARN SQLConf: The SQL config 'spark.sql.execution.arrow.enabled' has been deprecated in Spark v3.0 and may be removed in the future. Use 'spark.sql.execution.arrow.pyspark.enabled' instead of it.\n",
      "24/05/28 23:58:05 WARN SQLConf: The SQL config 'spark.sql.execution.arrow.enabled' has been deprecated in Spark v3.0 and may be removed in the future. Use 'spark.sql.execution.arrow.pyspark.enabled' instead of it.\n",
      "24/05/28 23:58:05 WARN SQLConf: The SQL config 'spark.sql.execution.arrow.enabled' has been deprecated in Spark v3.0 and may be removed in the future. Use 'spark.sql.execution.arrow.pyspark.enabled' instead of it.\n",
      "24/05/28 23:58:19 WARN SQLConf: The SQL config 'spark.sql.execution.arrow.enabled' has been deprecated in Spark v3.0 and may be removed in the future. Use 'spark.sql.execution.arrow.pyspark.enabled' instead of it.\n",
      "24/05/28 23:58:19 WARN SQLConf: The SQL config 'spark.sql.execution.arrow.enabled' has been deprecated in Spark v3.0 and may be removed in the future. Use 'spark.sql.execution.arrow.pyspark.enabled' instead of it.\n",
      "24/05/28 23:58:19 WARN SQLConf: The SQL config 'spark.sql.execution.arrow.enabled' has been deprecated in Spark v3.0 and may be removed in the future. Use 'spark.sql.execution.arrow.pyspark.enabled' instead of it.\n",
      "24/05/28 23:58:19 WARN SQLConf: The SQL config 'spark.sql.execution.arrow.enabled' has been deprecated in Spark v3.0 and may be removed in the future. Use 'spark.sql.execution.arrow.pyspark.enabled' instead of it.\n",
      "24/05/28 23:58:19 WARN SQLConf: The SQL config 'spark.sql.execution.arrow.enabled' has been deprecated in Spark v3.0 and may be removed in the future. Use 'spark.sql.execution.arrow.pyspark.enabled' instead of it.\n",
      "24/05/28 23:58:19 WARN SQLConf: The SQL config 'spark.sql.execution.arrow.enabled' has been deprecated in Spark v3.0 and may be removed in the future. Use 'spark.sql.execution.arrow.pyspark.enabled' instead of it.\n",
      "24/05/28 23:58:19 WARN SQLConf: The SQL config 'spark.sql.execution.arrow.enabled' has been deprecated in Spark v3.0 and may be removed in the future. Use 'spark.sql.execution.arrow.pyspark.enabled' instead of it.\n",
      "24/05/28 23:58:19 WARN SQLConf: The SQL config 'spark.sql.execution.arrow.enabled' has been deprecated in Spark v3.0 and may be removed in the future. Use 'spark.sql.execution.arrow.pyspark.enabled' instead of it.\n",
      "24/05/28 23:58:19 WARN SQLConf: The SQL config 'spark.sql.execution.arrow.enabled' has been deprecated in Spark v3.0 and may be removed in the future. Use 'spark.sql.execution.arrow.pyspark.enabled' instead of it.\n",
      "24/05/28 23:58:19 WARN SQLConf: The SQL config 'spark.sql.execution.arrow.enabled' has been deprecated in Spark v3.0 and may be removed in the future. Use 'spark.sql.execution.arrow.pyspark.enabled' instead of it.\n",
      "24/05/28 23:58:34 WARN SQLConf: The SQL config 'spark.sql.execution.arrow.enabled' has been deprecated in Spark v3.0 and may be removed in the future. Use 'spark.sql.execution.arrow.pyspark.enabled' instead of it.\n",
      "24/05/28 23:58:34 WARN SQLConf: The SQL config 'spark.sql.execution.arrow.enabled' has been deprecated in Spark v3.0 and may be removed in the future. Use 'spark.sql.execution.arrow.pyspark.enabled' instead of it.\n",
      "24/05/28 23:58:34 WARN SQLConf: The SQL config 'spark.sql.execution.arrow.enabled' has been deprecated in Spark v3.0 and may be removed in the future. Use 'spark.sql.execution.arrow.pyspark.enabled' instead of it.\n",
      "24/05/28 23:58:34 WARN SQLConf: The SQL config 'spark.sql.execution.arrow.enabled' has been deprecated in Spark v3.0 and may be removed in the future. Use 'spark.sql.execution.arrow.pyspark.enabled' instead of it.\n",
      "24/05/28 23:58:34 WARN SQLConf: The SQL config 'spark.sql.execution.arrow.enabled' has been deprecated in Spark v3.0 and may be removed in the future. Use 'spark.sql.execution.arrow.pyspark.enabled' instead of it.\n",
      "24/05/28 23:58:34 WARN SQLConf: The SQL config 'spark.sql.execution.arrow.enabled' has been deprecated in Spark v3.0 and may be removed in the future. Use 'spark.sql.execution.arrow.pyspark.enabled' instead of it.\n",
      "24/05/28 23:58:34 WARN SQLConf: The SQL config 'spark.sql.execution.arrow.enabled' has been deprecated in Spark v3.0 and may be removed in the future. Use 'spark.sql.execution.arrow.pyspark.enabled' instead of it.\n",
      "24/05/28 23:58:34 WARN SQLConf: The SQL config 'spark.sql.execution.arrow.enabled' has been deprecated in Spark v3.0 and may be removed in the future. Use 'spark.sql.execution.arrow.pyspark.enabled' instead of it.\n",
      "24/05/28 23:58:34 WARN SQLConf: The SQL config 'spark.sql.execution.arrow.enabled' has been deprecated in Spark v3.0 and may be removed in the future. Use 'spark.sql.execution.arrow.pyspark.enabled' instead of it.\n",
      "24/05/28 23:58:34 WARN SQLConf: The SQL config 'spark.sql.execution.arrow.enabled' has been deprecated in Spark v3.0 and may be removed in the future. Use 'spark.sql.execution.arrow.pyspark.enabled' instead of it.\n",
      "24/05/28 23:58:48 WARN SQLConf: The SQL config 'spark.sql.execution.arrow.enabled' has been deprecated in Spark v3.0 and may be removed in the future. Use 'spark.sql.execution.arrow.pyspark.enabled' instead of it.\n",
      "24/05/28 23:58:48 WARN SQLConf: The SQL config 'spark.sql.execution.arrow.enabled' has been deprecated in Spark v3.0 and may be removed in the future. Use 'spark.sql.execution.arrow.pyspark.enabled' instead of it.\n",
      "24/05/28 23:58:48 WARN SQLConf: The SQL config 'spark.sql.execution.arrow.enabled' has been deprecated in Spark v3.0 and may be removed in the future. Use 'spark.sql.execution.arrow.pyspark.enabled' instead of it.\n",
      "24/05/28 23:58:48 WARN SQLConf: The SQL config 'spark.sql.execution.arrow.enabled' has been deprecated in Spark v3.0 and may be removed in the future. Use 'spark.sql.execution.arrow.pyspark.enabled' instead of it.\n",
      "24/05/28 23:58:48 WARN SQLConf: The SQL config 'spark.sql.execution.arrow.enabled' has been deprecated in Spark v3.0 and may be removed in the future. Use 'spark.sql.execution.arrow.pyspark.enabled' instead of it.\n",
      "24/05/28 23:58:48 WARN SQLConf: The SQL config 'spark.sql.execution.arrow.enabled' has been deprecated in Spark v3.0 and may be removed in the future. Use 'spark.sql.execution.arrow.pyspark.enabled' instead of it.\n",
      "24/05/28 23:58:48 WARN SQLConf: The SQL config 'spark.sql.execution.arrow.enabled' has been deprecated in Spark v3.0 and may be removed in the future. Use 'spark.sql.execution.arrow.pyspark.enabled' instead of it.\n",
      "24/05/28 23:58:48 WARN SQLConf: The SQL config 'spark.sql.execution.arrow.enabled' has been deprecated in Spark v3.0 and may be removed in the future. Use 'spark.sql.execution.arrow.pyspark.enabled' instead of it.\n",
      "24/05/28 23:58:48 WARN SQLConf: The SQL config 'spark.sql.execution.arrow.enabled' has been deprecated in Spark v3.0 and may be removed in the future. Use 'spark.sql.execution.arrow.pyspark.enabled' instead of it.\n",
      "24/05/28 23:58:48 WARN SQLConf: The SQL config 'spark.sql.execution.arrow.enabled' has been deprecated in Spark v3.0 and may be removed in the future. Use 'spark.sql.execution.arrow.pyspark.enabled' instead of it.\n",
      "[Stage 2393:=================================================>     (9 + 1) / 10]\r"
     ]
    },
    {
     "name": "stdout",
     "output_type": "stream",
     "text": [
      "AUC-ROC:  0.998142848622413\n",
      "Accuracy:  0.9979170379555241\n",
      "Precsion:  0.9979268699252918\n",
      "Recall:  0.997917037955524\n"
     ]
    },
    {
     "name": "stderr",
     "output_type": "stream",
     "text": [
      "                                                                                \r"
     ]
    }
   ],
   "source": [
    "# evaluate in the training dataset\n",
    "\n",
    "predictions = modelRF.transform(train)\n",
    "\n",
    "evaluator = BinaryClassificationEvaluator(rawPredictionCol=\"prediction\", labelCol=\"isFraud\")\n",
    "\n",
    "auc_rf = evaluator.evaluate(predictions)\n",
    "\n",
    "# Accuracy, Precision and Recall\n",
    "\n",
    "metrics = MulticlassClassificationEvaluator(predictionCol=\"prediction\",labelCol=\"isFraud\")\n",
    "\n",
    "accuracy_rf = metrics.evaluate(predictions, {metrics.metricName:\"accuracy\"})\n",
    "\n",
    "precision_rf = metrics.evaluate(predictions, {metrics.metricName:\"weightedPrecision\"})\n",
    "\n",
    "recall_rf = metrics.evaluate(predictions, {metrics.metricName:\"weightedRecall\"})\n",
    "\n",
    "print(f\"AUC-ROC: \", auc_rf)\n",
    "\n",
    "print(f\"Accuracy: \", accuracy_rf)\n",
    "\n",
    "print(f\"Precsion: \", precision_rf)\n",
    "\n",
    "print(f\"Recall: \", recall_rf)\n",
    "\n",
    "# full the results list\n",
    "\n",
    "auc_roc.append(auc_rf)\n",
    "\n",
    "accuracy.append(accuracy_rf)\n",
    "\n",
    "recall.append(recall_rf)\n",
    "\n",
    "precision.append(precision_rf)\n",
    "\n",
    "name_model.append(\"Random Forest\")\n"
   ]
  },
  {
   "cell_type": "code",
   "execution_count": null,
   "metadata": {},
   "outputs": [],
   "source": [
    "########################### ROC graphic ###########################\n",
    "\n",
    "preds_and_labels = predictions.select(\"prediction\", \"isFraud\")\n",
    "preds_and_labels_collect = preds_and_labels.collect()\n",
    "\n",
    "#preds_and_labels_list = [ (float(i[0][0]), 1.0 - float(i[1])) for i in preds_and_labels_collect  ]\n",
    "#preds_and_labels = sc.parallelize(preds_and_labels_list)\n",
    "\n",
    "#metrics = BinaryClassificationMetrics(preds_and_labels)\n",
    "\n",
    "\n",
    "######################### Visualization ###########################\n",
    "\n",
    "fpr = dict()\n",
    "tpr = dict()\n",
    "roc_auc = dict()\n",
    "\n",
    "y_test = [i[1] for i in preds_and_labels_collect]\n",
    "y_score = [i[0] for i in preds_and_labels_collect]\n",
    "\n",
    "fpr, tpr, _ = roc_curve(y_test, y_score)\n",
    "\n",
    "roc_auc = auc(fpr, tpr)\n",
    "\n",
    "print(\"The graphic ROC curve is:\")\n",
    "\n",
    "mpt.figure(figsize=(5,4))\n",
    "mpt.plot(fpr, tpr, label='ROC curve' % roc_auc)\n",
    "mpt.plot([0,1],[0,1],'k--')\n",
    "mpt.xlim([0.0,1.0])\n",
    "mpt.ylim([0.0,1.05])\n",
    "mpt.xlabel('False Positive Rate')\n",
    "mpt.ylabel('True Positive Rate')\n",
    "mpt.title('ROC Curve - Logistic Regression')\n",
    "mpt.show()\n"
   ]
  },
  {
   "cell_type": "code",
   "execution_count": 482,
   "metadata": {},
   "outputs": [
    {
     "name": "stderr",
     "output_type": "stream",
     "text": [
      "24/05/29 00:16:51 WARN SQLConf: The SQL config 'spark.sql.execution.arrow.enabled' has been deprecated in Spark v3.0 and may be removed in the future. Use 'spark.sql.execution.arrow.pyspark.enabled' instead of it.\n",
      "24/05/29 00:16:51 WARN SQLConf: The SQL config 'spark.sql.execution.arrow.enabled' has been deprecated in Spark v3.0 and may be removed in the future. Use 'spark.sql.execution.arrow.pyspark.enabled' instead of it.\n",
      "24/05/29 00:16:51 WARN SQLConf: The SQL config 'spark.sql.execution.arrow.enabled' has been deprecated in Spark v3.0 and may be removed in the future. Use 'spark.sql.execution.arrow.pyspark.enabled' instead of it.\n",
      "24/05/29 00:16:51 WARN SQLConf: The SQL config 'spark.sql.execution.arrow.enabled' has been deprecated in Spark v3.0 and may be removed in the future. Use 'spark.sql.execution.arrow.pyspark.enabled' instead of it.\n",
      "24/05/29 00:16:51 WARN SQLConf: The SQL config 'spark.sql.execution.arrow.enabled' has been deprecated in Spark v3.0 and may be removed in the future. Use 'spark.sql.execution.arrow.pyspark.enabled' instead of it.\n",
      "24/05/29 00:16:51 WARN SQLConf: The SQL config 'spark.sql.execution.arrow.enabled' has been deprecated in Spark v3.0 and may be removed in the future. Use 'spark.sql.execution.arrow.pyspark.enabled' instead of it.\n",
      "24/05/29 00:16:51 WARN SQLConf: The SQL config 'spark.sql.execution.arrow.enabled' has been deprecated in Spark v3.0 and may be removed in the future. Use 'spark.sql.execution.arrow.pyspark.enabled' instead of it.\n",
      "24/05/29 00:16:51 WARN SQLConf: The SQL config 'spark.sql.execution.arrow.enabled' has been deprecated in Spark v3.0 and may be removed in the future. Use 'spark.sql.execution.arrow.pyspark.enabled' instead of it.\n",
      "24/05/29 00:16:51 WARN SQLConf: The SQL config 'spark.sql.execution.arrow.enabled' has been deprecated in Spark v3.0 and may be removed in the future. Use 'spark.sql.execution.arrow.pyspark.enabled' instead of it.\n",
      "24/05/29 00:16:51 WARN SQLConf: The SQL config 'spark.sql.execution.arrow.enabled' has been deprecated in Spark v3.0 and may be removed in the future. Use 'spark.sql.execution.arrow.pyspark.enabled' instead of it.\n",
      "24/05/29 00:17:01 WARN SQLConf: The SQL config 'spark.sql.execution.arrow.enabled' has been deprecated in Spark v3.0 and may be removed in the future. Use 'spark.sql.execution.arrow.pyspark.enabled' instead of it.\n",
      "24/05/29 00:17:01 WARN SQLConf: The SQL config 'spark.sql.execution.arrow.enabled' has been deprecated in Spark v3.0 and may be removed in the future. Use 'spark.sql.execution.arrow.pyspark.enabled' instead of it.\n",
      "24/05/29 00:17:01 WARN SQLConf: The SQL config 'spark.sql.execution.arrow.enabled' has been deprecated in Spark v3.0 and may be removed in the future. Use 'spark.sql.execution.arrow.pyspark.enabled' instead of it.\n",
      "24/05/29 00:17:01 WARN SQLConf: The SQL config 'spark.sql.execution.arrow.enabled' has been deprecated in Spark v3.0 and may be removed in the future. Use 'spark.sql.execution.arrow.pyspark.enabled' instead of it.\n",
      "24/05/29 00:17:01 WARN SQLConf: The SQL config 'spark.sql.execution.arrow.enabled' has been deprecated in Spark v3.0 and may be removed in the future. Use 'spark.sql.execution.arrow.pyspark.enabled' instead of it.\n",
      "24/05/29 00:17:01 WARN SQLConf: The SQL config 'spark.sql.execution.arrow.enabled' has been deprecated in Spark v3.0 and may be removed in the future. Use 'spark.sql.execution.arrow.pyspark.enabled' instead of it.\n",
      "24/05/29 00:17:01 WARN SQLConf: The SQL config 'spark.sql.execution.arrow.enabled' has been deprecated in Spark v3.0 and may be removed in the future. Use 'spark.sql.execution.arrow.pyspark.enabled' instead of it.\n",
      "24/05/29 00:17:01 WARN SQLConf: The SQL config 'spark.sql.execution.arrow.enabled' has been deprecated in Spark v3.0 and may be removed in the future. Use 'spark.sql.execution.arrow.pyspark.enabled' instead of it.\n",
      "24/05/29 00:17:01 WARN SQLConf: The SQL config 'spark.sql.execution.arrow.enabled' has been deprecated in Spark v3.0 and may be removed in the future. Use 'spark.sql.execution.arrow.pyspark.enabled' instead of it.\n",
      "24/05/29 00:17:01 WARN SQLConf: The SQL config 'spark.sql.execution.arrow.enabled' has been deprecated in Spark v3.0 and may be removed in the future. Use 'spark.sql.execution.arrow.pyspark.enabled' instead of it.\n",
      "24/05/29 00:17:11 WARN SQLConf: The SQL config 'spark.sql.execution.arrow.enabled' has been deprecated in Spark v3.0 and may be removed in the future. Use 'spark.sql.execution.arrow.pyspark.enabled' instead of it.\n",
      "24/05/29 00:17:11 WARN SQLConf: The SQL config 'spark.sql.execution.arrow.enabled' has been deprecated in Spark v3.0 and may be removed in the future. Use 'spark.sql.execution.arrow.pyspark.enabled' instead of it.\n",
      "24/05/29 00:17:11 WARN SQLConf: The SQL config 'spark.sql.execution.arrow.enabled' has been deprecated in Spark v3.0 and may be removed in the future. Use 'spark.sql.execution.arrow.pyspark.enabled' instead of it.\n",
      "24/05/29 00:17:11 WARN SQLConf: The SQL config 'spark.sql.execution.arrow.enabled' has been deprecated in Spark v3.0 and may be removed in the future. Use 'spark.sql.execution.arrow.pyspark.enabled' instead of it.\n",
      "24/05/29 00:17:11 WARN SQLConf: The SQL config 'spark.sql.execution.arrow.enabled' has been deprecated in Spark v3.0 and may be removed in the future. Use 'spark.sql.execution.arrow.pyspark.enabled' instead of it.\n",
      "24/05/29 00:17:11 WARN SQLConf: The SQL config 'spark.sql.execution.arrow.enabled' has been deprecated in Spark v3.0 and may be removed in the future. Use 'spark.sql.execution.arrow.pyspark.enabled' instead of it.\n",
      "24/05/29 00:17:11 WARN SQLConf: The SQL config 'spark.sql.execution.arrow.enabled' has been deprecated in Spark v3.0 and may be removed in the future. Use 'spark.sql.execution.arrow.pyspark.enabled' instead of it.\n",
      "24/05/29 00:17:11 WARN SQLConf: The SQL config 'spark.sql.execution.arrow.enabled' has been deprecated in Spark v3.0 and may be removed in the future. Use 'spark.sql.execution.arrow.pyspark.enabled' instead of it.\n",
      "24/05/29 00:17:11 WARN SQLConf: The SQL config 'spark.sql.execution.arrow.enabled' has been deprecated in Spark v3.0 and may be removed in the future. Use 'spark.sql.execution.arrow.pyspark.enabled' instead of it.\n",
      "24/05/29 00:17:11 WARN SQLConf: The SQL config 'spark.sql.execution.arrow.enabled' has been deprecated in Spark v3.0 and may be removed in the future. Use 'spark.sql.execution.arrow.pyspark.enabled' instead of it.\n",
      "24/05/29 00:17:20 WARN SQLConf: The SQL config 'spark.sql.execution.arrow.enabled' has been deprecated in Spark v3.0 and may be removed in the future. Use 'spark.sql.execution.arrow.pyspark.enabled' instead of it.\n",
      "24/05/29 00:17:20 WARN SQLConf: The SQL config 'spark.sql.execution.arrow.enabled' has been deprecated in Spark v3.0 and may be removed in the future. Use 'spark.sql.execution.arrow.pyspark.enabled' instead of it.\n",
      "24/05/29 00:17:20 WARN SQLConf: The SQL config 'spark.sql.execution.arrow.enabled' has been deprecated in Spark v3.0 and may be removed in the future. Use 'spark.sql.execution.arrow.pyspark.enabled' instead of it.\n",
      "24/05/29 00:17:20 WARN SQLConf: The SQL config 'spark.sql.execution.arrow.enabled' has been deprecated in Spark v3.0 and may be removed in the future. Use 'spark.sql.execution.arrow.pyspark.enabled' instead of it.\n",
      "24/05/29 00:17:20 WARN SQLConf: The SQL config 'spark.sql.execution.arrow.enabled' has been deprecated in Spark v3.0 and may be removed in the future. Use 'spark.sql.execution.arrow.pyspark.enabled' instead of it.\n",
      "24/05/29 00:17:20 WARN SQLConf: The SQL config 'spark.sql.execution.arrow.enabled' has been deprecated in Spark v3.0 and may be removed in the future. Use 'spark.sql.execution.arrow.pyspark.enabled' instead of it.\n",
      "24/05/29 00:17:20 WARN SQLConf: The SQL config 'spark.sql.execution.arrow.enabled' has been deprecated in Spark v3.0 and may be removed in the future. Use 'spark.sql.execution.arrow.pyspark.enabled' instead of it.\n",
      "24/05/29 00:17:20 WARN SQLConf: The SQL config 'spark.sql.execution.arrow.enabled' has been deprecated in Spark v3.0 and may be removed in the future. Use 'spark.sql.execution.arrow.pyspark.enabled' instead of it.\n",
      "24/05/29 00:17:20 WARN SQLConf: The SQL config 'spark.sql.execution.arrow.enabled' has been deprecated in Spark v3.0 and may be removed in the future. Use 'spark.sql.execution.arrow.pyspark.enabled' instead of it.\n",
      "24/05/29 00:17:20 WARN SQLConf: The SQL config 'spark.sql.execution.arrow.enabled' has been deprecated in Spark v3.0 and may be removed in the future. Use 'spark.sql.execution.arrow.pyspark.enabled' instead of it.\n",
      "[Stage 2521:=================================================>     (9 + 1) / 10]\r"
     ]
    },
    {
     "name": "stdout",
     "output_type": "stream",
     "text": [
      "AUC-ROC:  1.0\n",
      "Accuracy:  1.0\n",
      "Precsion:  1.0\n",
      "Recall:  1.0\n"
     ]
    },
    {
     "name": "stderr",
     "output_type": "stream",
     "text": [
      "                                                                                \r"
     ]
    }
   ],
   "source": [
    "# evaluate in the test dataset\n",
    "\n",
    "predictions = modelRF.transform(test)\n",
    "\n",
    "evaluator = BinaryClassificationEvaluator(rawPredictionCol=\"prediction\", labelCol=\"isFraud\")\n",
    "\n",
    "auc_rf = evaluator.evaluate(predictions)\n",
    "\n",
    "# Accuracy, Precision and Recall\n",
    "\n",
    "metrics = MulticlassClassificationEvaluator(predictionCol=\"prediction\",labelCol=\"isFraud\")\n",
    "\n",
    "accuracy_rf = metrics.evaluate(predictions, {metrics.metricName:\"accuracy\"})\n",
    "\n",
    "precision_rf = metrics.evaluate(predictions, {metrics.metricName:\"weightedPrecision\"})\n",
    "\n",
    "recall_rf = metrics.evaluate(predictions, {metrics.metricName:\"weightedRecall\"})\n",
    "\n",
    "print(f\"AUC-ROC: \", auc_rf)\n",
    "\n",
    "print(f\"Accuracy: \", accuracy_rf)\n",
    "\n",
    "print(f\"Precsion: \", precision_rf)\n",
    "\n",
    "print(f\"Recall: \", recall_rf)\n",
    "\n",
    "# full the results list\n",
    "\n",
    "auc_roc.append(auc_rf)\n",
    "\n",
    "accuracy.append(accuracy_rf)\n",
    "\n",
    "recall.append(recall_rf)\n",
    "\n",
    "precision.append(precision_rf)\n",
    "\n",
    "name_model.append(\"Random Forest\")\n"
   ]
  },
  {
   "cell_type": "code",
   "execution_count": null,
   "metadata": {},
   "outputs": [],
   "source": [
    "########################### ROC graphic ###########################\n",
    "\n",
    "preds_and_labels = predictions.select(\"prediction\", \"isFraud\")\n",
    "preds_and_labels_collect = preds_and_labels.collect()\n",
    "\n",
    "#preds_and_labels_list = [ (float(i[0][0]), 1.0 - float(i[1])) for i in preds_and_labels_collect  ]\n",
    "#preds_and_labels = sc.parallelize(preds_and_labels_list)\n",
    "\n",
    "#metrics = BinaryClassificationMetrics(preds_and_labels)\n",
    "\n",
    "\n",
    "######################### Visualization ###########################\n",
    "\n",
    "fpr = dict()\n",
    "tpr = dict()\n",
    "roc_auc = dict()\n",
    "\n",
    "y_test = [i[1] for i in preds_and_labels_collect]\n",
    "y_score = [i[0] for i in preds_and_labels_collect]\n",
    "\n",
    "fpr, tpr, _ = roc_curve(y_test, y_score)\n",
    "\n",
    "roc_auc = auc(fpr, tpr)\n",
    "\n",
    "print(\"The graphic ROC curve is:\")\n",
    "\n",
    "mpt.figure(figsize=(5,4))\n",
    "mpt.plot(fpr, tpr, label='ROC curve' % roc_auc)\n",
    "mpt.plot([0,1],[0,1],'k--')\n",
    "mpt.xlim([0.0,1.0])\n",
    "mpt.ylim([0.0,1.05])\n",
    "mpt.xlabel('False Positive Rate')\n",
    "mpt.ylabel('True Positive Rate')\n",
    "mpt.title('ROC Curve - Logistic Regression')\n",
    "mpt.show()\n"
   ]
  },
  {
   "cell_type": "markdown",
   "metadata": {},
   "source": [
    "Now, we put our simple, two-stage workflow into an ML pipeline."
   ]
  },
  {
   "cell_type": "code",
   "execution_count": null,
   "metadata": {},
   "outputs": [],
   "source": [
    "# Cross Validation Model: feature importance \n",
    "\n",
    "bestPipeline = modelRF.bestModel\n",
    "bestModel = bestPipeline.stages[1] # type: ignore\n",
    "\n",
    "importances = bestModel.featureImportances\n",
    "\n",
    "x_values = list(range(len(importances)))\n",
    "\n",
    "mpt.bar(x_values,importances, orientation='vertical')\n",
    "mpt.xticks(x_values, columns, rotation = 40)\n",
    "mpt.ylabel('Importance')\n",
    "mpt.xlabel('Feature')\n",
    "mpt.title('Feature Importances')\n"
   ]
  },
  {
   "cell_type": "markdown",
   "metadata": {},
   "source": [
    "### Predictions"
   ]
  },
  {
   "cell_type": "code",
   "execution_count": 101,
   "metadata": {},
   "outputs": [
    {
     "name": "stdout",
     "output_type": "stream",
     "text": [
      "The predictions of the model are:\n"
     ]
    },
    {
     "name": "stderr",
     "output_type": "stream",
     "text": [
      "[Stage 113:>                                                        (0 + 1) / 1]\r"
     ]
    },
    {
     "name": "stdout",
     "output_type": "stream",
     "text": [
      "+----+------+------------+-------------+----------+------------+-------------+--------+--------+-------+--------------------+--------------------+--------------------+--------------------+----------+\n",
      "|step|amount|type_CASH_IN|type_CASH_OUT|type_DEBIT|type_PAYMENT|type_TRANSFER|type2_CC|type2_CM|isFraud|         my_features|            features|       rawPrediction|         probability|prediction|\n",
      "+----+------+------------+-------------+----------+------------+-------------+--------+--------+-------+--------------------+--------------------+--------------------+--------------------+----------+\n",
      "|   1|  8.73|           0|            0|         0|           1|            0|       0|       1|      0|(10,[0,1,3,8],[1....|(10,[0,1,3,8],[1....|          [10.0,0.0]|           [1.0,0.0]|       0.0|\n",
      "|   1| 13.54|           0|            0|         0|           1|            0|       0|       1|      0|(10,[0,1,3,8],[1....|(10,[0,1,3,8],[1....|          [10.0,0.0]|           [1.0,0.0]|       0.0|\n",
      "|   1| 23.31|           0|            0|         0|           1|            0|       0|       1|      0|(10,[0,1,3,8],[1....|(10,[0,1,3,8],[1....|          [10.0,0.0]|           [1.0,0.0]|       0.0|\n",
      "|   1| 25.12|           0|            0|         0|           1|            0|       0|       1|      0|(10,[0,1,3,8],[1....|(10,[0,1,3,8],[1....|          [10.0,0.0]|           [1.0,0.0]|       0.0|\n",
      "|   1| 53.35|           0|            0|         0|           1|            0|       0|       1|      0|(10,[0,1,3,8],[1....|(10,[0,1,3,8],[1....|          [10.0,0.0]|           [1.0,0.0]|       0.0|\n",
      "|   1| 58.21|           0|            0|         0|           1|            0|       0|       1|      0|(10,[0,1,3,8],[1....|(10,[0,1,3,8],[1....|          [10.0,0.0]|           [1.0,0.0]|       0.0|\n",
      "|   1|112.56|           0|            0|         0|           1|            0|       0|       1|      0|(10,[0,1,3,8],[1....|(10,[0,1,3,8],[1....|          [10.0,0.0]|           [1.0,0.0]|       0.0|\n",
      "|   1|141.87|           0|            0|         0|           1|            0|       0|       1|      0|(10,[0,1,3,8],[1....|(10,[0,1,3,8],[1....|          [10.0,0.0]|           [1.0,0.0]|       0.0|\n",
      "|   1| 181.0|           0|            1|         0|           0|            0|       1|       0|      1|(10,[0,1,2,7,9],[...|(10,[0,1,2,7,9],[...|[0.75020481211557...|[0.07502048121155...|       1.0|\n",
      "|   1| 194.4|           0|            0|         1|           0|            0|       1|       0|      0|(10,[0,1,6,7],[1....|(10,[0,1,6,7],[1....|[9.75020481211557...|[0.97502048121155...|       0.0|\n",
      "+----+------+------------+-------------+----------+------------+-------------+--------+--------+-------+--------------------+--------------------+--------------------+--------------------+----------+\n",
      "only showing top 10 rows\n",
      "\n"
     ]
    },
    {
     "name": "stderr",
     "output_type": "stream",
     "text": [
      "                                                                                \r"
     ]
    }
   ],
   "source": [
    "# predictions of the model\n",
    "\n",
    "predictions = modelRF.transform(test)\n",
    "\n",
    "print('The predictions of the model are:')\n",
    "\n",
    "predictions.show(10)"
   ]
  },
  {
   "cell_type": "markdown",
   "metadata": {},
   "source": [
    "#### We can see that there are three more columns: rawPrediction, probability and prediction."
   ]
  },
  {
   "cell_type": "markdown",
   "metadata": {},
   "source": [
    "### Evaluation"
   ]
  },
  {
   "cell_type": "markdown",
   "metadata": {},
   "source": [
    "#### Let´s check out the Consufion Matrix."
   ]
  },
  {
   "cell_type": "code",
   "execution_count": null,
   "metadata": {},
   "outputs": [],
   "source": [
    "modelRF = rf.fit(train)\n",
    "predictions = modelRF.transform(test)\n",
    "\n",
    "preds_and_labels = predictions.select([\"prediction\",\"isFraud\"])\n",
    "preds_and_labels = preds_and_labels.withColumn(\"isFraud\", f.col(\"isFraud\").cast(FloatType())).orderBy(\"prediction\")\n",
    "\n",
    "metrics = MulticlassMetrics(preds_and_labels.rdd.map(tuple))\n",
    "\n",
    "print(\"The Confusion Matrix is:\")\n",
    "\n",
    "metrics.confusionMatrix().toArray()"
   ]
  },
  {
   "cell_type": "markdown",
   "metadata": {},
   "source": [
    "### 4.2.2 Logistic Regression"
   ]
  },
  {
   "cell_type": "markdown",
   "metadata": {},
   "source": [
    "#### Training"
   ]
  },
  {
   "cell_type": "code",
   "execution_count": 108,
   "metadata": {},
   "outputs": [
    {
     "name": "stdout",
     "output_type": "stream",
     "text": [
      "estimator: estimator to be cross-validated (current: Pipeline_f013f093b062)\n",
      "estimatorParamMaps: estimator param maps (current: [{Param(parent='LogisticRegression_7f5f784bc54e', name='regParam', doc='regularization parameter (>= 0).'): 0.0, Param(parent='LogisticRegression_7f5f784bc54e', name='elasticNetParam', doc='the ElasticNet mixing parameter, in range [0, 1]. For alpha = 0, the penalty is an L2 penalty. For alpha = 1, it is an L1 penalty.'): 0.0}, {Param(parent='LogisticRegression_7f5f784bc54e', name='regParam', doc='regularization parameter (>= 0).'): 0.0, Param(parent='LogisticRegression_7f5f784bc54e', name='elasticNetParam', doc='the ElasticNet mixing parameter, in range [0, 1]. For alpha = 0, the penalty is an L2 penalty. For alpha = 1, it is an L1 penalty.'): 0.0}, {Param(parent='LogisticRegression_7f5f784bc54e', name='regParam', doc='regularization parameter (>= 0).'): 0.0, Param(parent='LogisticRegression_7f5f784bc54e', name='elasticNetParam', doc='the ElasticNet mixing parameter, in range [0, 1]. For alpha = 0, the penalty is an L2 penalty. For alpha = 1, it is an L1 penalty.'): 1.0}, {Param(parent='LogisticRegression_7f5f784bc54e', name='regParam', doc='regularization parameter (>= 0).'): 0.0, Param(parent='LogisticRegression_7f5f784bc54e', name='elasticNetParam', doc='the ElasticNet mixing parameter, in range [0, 1]. For alpha = 0, the penalty is an L2 penalty. For alpha = 1, it is an L1 penalty.'): 0.0}, {Param(parent='LogisticRegression_7f5f784bc54e', name='regParam', doc='regularization parameter (>= 0).'): 0.0, Param(parent='LogisticRegression_7f5f784bc54e', name='elasticNetParam', doc='the ElasticNet mixing parameter, in range [0, 1]. For alpha = 0, the penalty is an L2 penalty. For alpha = 1, it is an L1 penalty.'): 0.0}, {Param(parent='LogisticRegression_7f5f784bc54e', name='regParam', doc='regularization parameter (>= 0).'): 0.0, Param(parent='LogisticRegression_7f5f784bc54e', name='elasticNetParam', doc='the ElasticNet mixing parameter, in range [0, 1]. For alpha = 0, the penalty is an L2 penalty. For alpha = 1, it is an L1 penalty.'): 1.0}, {Param(parent='LogisticRegression_7f5f784bc54e', name='regParam', doc='regularization parameter (>= 0).'): 1.0, Param(parent='LogisticRegression_7f5f784bc54e', name='elasticNetParam', doc='the ElasticNet mixing parameter, in range [0, 1]. For alpha = 0, the penalty is an L2 penalty. For alpha = 1, it is an L1 penalty.'): 0.0}, {Param(parent='LogisticRegression_7f5f784bc54e', name='regParam', doc='regularization parameter (>= 0).'): 1.0, Param(parent='LogisticRegression_7f5f784bc54e', name='elasticNetParam', doc='the ElasticNet mixing parameter, in range [0, 1]. For alpha = 0, the penalty is an L2 penalty. For alpha = 1, it is an L1 penalty.'): 0.0}, {Param(parent='LogisticRegression_7f5f784bc54e', name='regParam', doc='regularization parameter (>= 0).'): 1.0, Param(parent='LogisticRegression_7f5f784bc54e', name='elasticNetParam', doc='the ElasticNet mixing parameter, in range [0, 1]. For alpha = 0, the penalty is an L2 penalty. For alpha = 1, it is an L1 penalty.'): 1.0}])\n",
      "evaluator: evaluator used to select hyper-parameters that maximize the validator metric (current: BinaryClassificationEvaluator_b483bd2c7676)\n",
      "foldCol: Param for the column name of user specified fold number. Once this is specified, :py:class:`CrossValidator` won't do random k-fold split. Note that this column should be integer type with range [0, numFolds) and Spark will throw exception on out-of-range fold numbers. (default: , current: )\n",
      "numFolds: number of folds for cross validation (default: 3, current: 3)\n",
      "seed: random seed. (default: 4938167777969351549, current: -3087263388934076904)\n"
     ]
    }
   ],
   "source": [
    "# train the model \"logistic regression\" (lr)\n",
    "\n",
    "modelLR = CrossValidatorModel.load(\"tuningLRProof\")\n",
    "print(modelLR.explainParams())"
   ]
  },
  {
   "cell_type": "code",
   "execution_count": null,
   "metadata": {},
   "outputs": [],
   "source": [
    "type(modelLR)"
   ]
  },
  {
   "cell_type": "code",
   "execution_count": null,
   "metadata": {},
   "outputs": [],
   "source": [
    "modelLR.extractParamMap()"
   ]
  },
  {
   "cell_type": "code",
   "execution_count": 483,
   "metadata": {},
   "outputs": [],
   "source": [
    "lr = LogisticRegression(featuresCol=\"my_features\", labelCol=\"isFraud\")"
   ]
  },
  {
   "cell_type": "code",
   "execution_count": null,
   "metadata": {},
   "outputs": [],
   "source": [
    "print(lr.explainParams())"
   ]
  },
  {
   "cell_type": "code",
   "execution_count": 484,
   "metadata": {},
   "outputs": [
    {
     "name": "stderr",
     "output_type": "stream",
     "text": [
      "24/05/29 00:17:30 WARN SQLConf: The SQL config 'spark.sql.execution.arrow.enabled' has been deprecated in Spark v3.0 and may be removed in the future. Use 'spark.sql.execution.arrow.pyspark.enabled' instead of it.\n",
      "24/05/29 00:17:30 WARN SQLConf: The SQL config 'spark.sql.execution.arrow.enabled' has been deprecated in Spark v3.0 and may be removed in the future. Use 'spark.sql.execution.arrow.pyspark.enabled' instead of it.\n",
      "24/05/29 00:17:30 WARN SQLConf: The SQL config 'spark.sql.execution.arrow.enabled' has been deprecated in Spark v3.0 and may be removed in the future. Use 'spark.sql.execution.arrow.pyspark.enabled' instead of it.\n",
      "24/05/29 00:17:30 WARN SQLConf: The SQL config 'spark.sql.execution.arrow.enabled' has been deprecated in Spark v3.0 and may be removed in the future. Use 'spark.sql.execution.arrow.pyspark.enabled' instead of it.\n",
      "24/05/29 00:17:30 WARN SQLConf: The SQL config 'spark.sql.execution.arrow.enabled' has been deprecated in Spark v3.0 and may be removed in the future. Use 'spark.sql.execution.arrow.pyspark.enabled' instead of it.\n",
      "24/05/29 00:17:30 WARN SQLConf: The SQL config 'spark.sql.execution.arrow.enabled' has been deprecated in Spark v3.0 and may be removed in the future. Use 'spark.sql.execution.arrow.pyspark.enabled' instead of it.\n",
      "24/05/29 00:17:30 WARN SQLConf: The SQL config 'spark.sql.execution.arrow.enabled' has been deprecated in Spark v3.0 and may be removed in the future. Use 'spark.sql.execution.arrow.pyspark.enabled' instead of it.\n",
      "24/05/29 00:17:30 WARN SQLConf: The SQL config 'spark.sql.execution.arrow.enabled' has been deprecated in Spark v3.0 and may be removed in the future. Use 'spark.sql.execution.arrow.pyspark.enabled' instead of it.\n",
      "24/05/29 00:17:30 WARN SQLConf: The SQL config 'spark.sql.execution.arrow.enabled' has been deprecated in Spark v3.0 and may be removed in the future. Use 'spark.sql.execution.arrow.pyspark.enabled' instead of it.\n",
      "24/05/29 00:17:30 WARN SQLConf: The SQL config 'spark.sql.execution.arrow.enabled' has been deprecated in Spark v3.0 and may be removed in the future. Use 'spark.sql.execution.arrow.pyspark.enabled' instead of it.\n",
      "24/05/29 00:17:40 WARN SQLConf: The SQL config 'spark.sql.execution.arrow.enabled' has been deprecated in Spark v3.0 and may be removed in the future. Use 'spark.sql.execution.arrow.pyspark.enabled' instead of it.\n",
      "24/05/29 00:17:40 WARN SQLConf: The SQL config 'spark.sql.execution.arrow.enabled' has been deprecated in Spark v3.0 and may be removed in the future. Use 'spark.sql.execution.arrow.pyspark.enabled' instead of it.\n",
      "24/05/29 00:17:40 WARN SQLConf: The SQL config 'spark.sql.execution.arrow.enabled' has been deprecated in Spark v3.0 and may be removed in the future. Use 'spark.sql.execution.arrow.pyspark.enabled' instead of it.\n",
      "24/05/29 00:17:40 WARN SQLConf: The SQL config 'spark.sql.execution.arrow.enabled' has been deprecated in Spark v3.0 and may be removed in the future. Use 'spark.sql.execution.arrow.pyspark.enabled' instead of it.\n",
      "24/05/29 00:17:40 WARN SQLConf: The SQL config 'spark.sql.execution.arrow.enabled' has been deprecated in Spark v3.0 and may be removed in the future. Use 'spark.sql.execution.arrow.pyspark.enabled' instead of it.\n",
      "24/05/29 00:17:40 WARN SQLConf: The SQL config 'spark.sql.execution.arrow.enabled' has been deprecated in Spark v3.0 and may be removed in the future. Use 'spark.sql.execution.arrow.pyspark.enabled' instead of it.\n",
      "24/05/29 00:17:40 WARN SQLConf: The SQL config 'spark.sql.execution.arrow.enabled' has been deprecated in Spark v3.0 and may be removed in the future. Use 'spark.sql.execution.arrow.pyspark.enabled' instead of it.\n",
      "24/05/29 00:17:40 WARN SQLConf: The SQL config 'spark.sql.execution.arrow.enabled' has been deprecated in Spark v3.0 and may be removed in the future. Use 'spark.sql.execution.arrow.pyspark.enabled' instead of it.\n",
      "24/05/29 00:17:40 WARN SQLConf: The SQL config 'spark.sql.execution.arrow.enabled' has been deprecated in Spark v3.0 and may be removed in the future. Use 'spark.sql.execution.arrow.pyspark.enabled' instead of it.\n",
      "24/05/29 00:17:40 WARN SQLConf: The SQL config 'spark.sql.execution.arrow.enabled' has been deprecated in Spark v3.0 and may be removed in the future. Use 'spark.sql.execution.arrow.pyspark.enabled' instead of it.\n",
      "24/05/29 00:17:44 WARN MemoryStore: Not enough space to cache rdd_8026_5 in memory! (computed 17.0 MiB so far)\n",
      "24/05/29 00:17:44 WARN MemoryStore: Not enough space to cache rdd_8026_7 in memory! (computed 17.0 MiB so far)\n",
      "24/05/29 00:17:44 WARN BlockManager: Persisting block rdd_8026_5 to disk instead.\n",
      "24/05/29 00:17:44 WARN BlockManager: Persisting block rdd_8026_7 to disk instead.\n",
      "24/05/29 00:17:44 WARN MemoryStore: Not enough space to cache rdd_8026_6 in memory! (computed 17.0 MiB so far)\n",
      "24/05/29 00:17:44 WARN BlockManager: Persisting block rdd_8026_6 to disk instead.\n",
      "24/05/29 00:17:46 WARN MemoryStore: Not enough space to cache rdd_8026_1 in memory! (computed 17.0 MiB so far)\n",
      "24/05/29 00:17:46 WARN MemoryStore: Not enough space to cache rdd_8026_4 in memory! (computed 33.0 MiB so far)\n",
      "24/05/29 00:17:46 WARN BlockManager: Persisting block rdd_8026_4 to disk instead.\n",
      "24/05/29 00:17:46 WARN BlockManager: Persisting block rdd_8026_1 to disk instead.\n",
      "24/05/29 00:17:46 WARN MemoryStore: Not enough space to cache rdd_8026_9 in memory! (computed 33.0 MiB so far)\n",
      "24/05/29 00:17:46 WARN BlockManager: Persisting block rdd_8026_9 to disk instead.\n",
      "24/05/29 00:17:46 WARN MemoryStore: Not enough space to cache rdd_8026_3 in memory! (computed 33.0 MiB so far)\n",
      "24/05/29 00:17:46 WARN BlockManager: Persisting block rdd_8026_3 to disk instead.\n",
      "24/05/29 00:17:46 WARN MemoryStore: Not enough space to cache rdd_8026_0 in memory! (computed 33.0 MiB so far)\n",
      "24/05/29 00:17:46 WARN BlockManager: Persisting block rdd_8026_0 to disk instead.\n",
      "24/05/29 00:17:51 WARN MemoryStore: Not enough space to cache rdd_8026_7 in memory! (computed 17.0 MiB so far)\n",
      "24/05/29 00:17:55 WARN MemoryStore: Not enough space to cache rdd_8026_1 in memory! (computed 17.0 MiB so far)\n",
      "24/05/29 00:17:56 WARN MemoryStore: Not enough space to cache rdd_8026_7 in memory! (computed 17.0 MiB so far)\n",
      "24/05/29 00:17:56 WARN MemoryStore: Not enough space to cache rdd_8026_1 in memory! (computed 17.0 MiB so far)\n",
      "24/05/29 00:17:58 WARN MemoryStore: Not enough space to cache rdd_8026_1 in memory! (computed 17.0 MiB so far)\n",
      "24/05/29 00:17:58 WARN MemoryStore: Not enough space to cache rdd_8026_7 in memory! (computed 17.0 MiB so far)\n",
      "24/05/29 00:18:00 WARN MemoryStore: Not enough space to cache rdd_8026_1 in memory! (computed 17.0 MiB so far)\n",
      "24/05/29 00:18:00 WARN MemoryStore: Not enough space to cache rdd_8026_7 in memory! (computed 17.0 MiB so far)\n",
      "24/05/29 00:18:02 WARN MemoryStore: Not enough space to cache rdd_8026_7 in memory! (computed 17.0 MiB so far)\n",
      "24/05/29 00:18:02 WARN MemoryStore: Not enough space to cache rdd_8026_1 in memory! (computed 17.0 MiB so far)\n",
      "24/05/29 00:18:04 WARN MemoryStore: Not enough space to cache rdd_8026_1 in memory! (computed 17.0 MiB so far)\n",
      "24/05/29 00:18:04 WARN MemoryStore: Not enough space to cache rdd_8026_7 in memory! (computed 17.0 MiB so far)\n",
      "24/05/29 00:18:06 WARN MemoryStore: Not enough space to cache rdd_8026_1 in memory! (computed 17.0 MiB so far)\n",
      "24/05/29 00:18:06 WARN MemoryStore: Not enough space to cache rdd_8026_7 in memory! (computed 17.0 MiB so far)\n",
      "24/05/29 00:18:08 WARN MemoryStore: Not enough space to cache rdd_8026_7 in memory! (computed 17.0 MiB so far)\n",
      "24/05/29 00:18:08 WARN MemoryStore: Not enough space to cache rdd_8026_1 in memory! (computed 17.0 MiB so far)\n",
      "24/05/29 00:18:10 WARN MemoryStore: Not enough space to cache rdd_8026_1 in memory! (computed 17.0 MiB so far)\n",
      "24/05/29 00:18:10 WARN MemoryStore: Not enough space to cache rdd_8026_7 in memory! (computed 17.0 MiB so far)\n",
      "24/05/29 00:18:11 WARN MemoryStore: Not enough space to cache rdd_8026_1 in memory! (computed 17.0 MiB so far)\n",
      "24/05/29 00:18:11 WARN MemoryStore: Not enough space to cache rdd_8026_7 in memory! (computed 17.0 MiB so far)\n",
      "24/05/29 00:18:13 WARN MemoryStore: Not enough space to cache rdd_8026_1 in memory! (computed 17.0 MiB so far)\n",
      "24/05/29 00:18:13 WARN MemoryStore: Not enough space to cache rdd_8026_7 in memory! (computed 17.0 MiB so far)\n",
      "24/05/29 00:18:15 WARN MemoryStore: Not enough space to cache rdd_8026_7 in memory! (computed 17.0 MiB so far)\n",
      "24/05/29 00:18:15 WARN MemoryStore: Not enough space to cache rdd_8026_1 in memory! (computed 17.0 MiB so far)\n",
      "24/05/29 00:18:17 WARN MemoryStore: Not enough space to cache rdd_8026_1 in memory! (computed 17.0 MiB so far)\n",
      "24/05/29 00:18:17 WARN MemoryStore: Not enough space to cache rdd_8026_7 in memory! (computed 17.0 MiB so far)\n",
      "24/05/29 00:18:19 WARN MemoryStore: Not enough space to cache rdd_8026_1 in memory! (computed 17.0 MiB so far)\n",
      "24/05/29 00:18:19 WARN MemoryStore: Not enough space to cache rdd_8026_7 in memory! (computed 17.0 MiB so far)\n",
      "24/05/29 00:18:21 WARN MemoryStore: Not enough space to cache rdd_8026_7 in memory! (computed 17.0 MiB so far)\n",
      "24/05/29 00:18:21 WARN MemoryStore: Not enough space to cache rdd_8026_1 in memory! (computed 17.0 MiB so far)\n",
      "24/05/29 00:18:23 WARN MemoryStore: Not enough space to cache rdd_8026_7 in memory! (computed 17.0 MiB so far)\n",
      "24/05/29 00:18:23 WARN MemoryStore: Not enough space to cache rdd_8026_1 in memory! (computed 17.0 MiB so far)\n",
      "24/05/29 00:18:25 WARN MemoryStore: Not enough space to cache rdd_8026_1 in memory! (computed 17.0 MiB so far)\n",
      "24/05/29 00:18:25 WARN MemoryStore: Not enough space to cache rdd_8026_7 in memory! (computed 17.0 MiB so far)\n",
      "24/05/29 00:18:26 WARN MemoryStore: Not enough space to cache rdd_8026_7 in memory! (computed 17.0 MiB so far)\n",
      "24/05/29 00:18:26 WARN MemoryStore: Not enough space to cache rdd_8026_1 in memory! (computed 17.0 MiB so far)\n",
      "ERROR:root:KeyboardInterrupt while sending command.==========>     (9 + 1) / 10]\n",
      "Traceback (most recent call last):\n",
      "  File \"/opt/anaconda3/lib/python3.11/site-packages/py4j/java_gateway.py\", line 1038, in send_command\n",
      "    response = connection.send_command(command)\n",
      "               ^^^^^^^^^^^^^^^^^^^^^^^^^^^^^^^^\n",
      "  File \"/opt/anaconda3/lib/python3.11/site-packages/py4j/clientserver.py\", line 511, in send_command\n",
      "    answer = smart_decode(self.stream.readline()[:-1])\n",
      "                          ^^^^^^^^^^^^^^^^^^^^^^\n",
      "  File \"/opt/anaconda3/lib/python3.11/socket.py\", line 706, in readinto\n",
      "    return self._sock.recv_into(b)\n",
      "           ^^^^^^^^^^^^^^^^^^^^^^^\n",
      "KeyboardInterrupt\n"
     ]
    },
    {
     "ename": "KeyboardInterrupt",
     "evalue": "",
     "output_type": "error",
     "traceback": [
      "\u001b[0;31m---------------------------------------------------------------------------\u001b[0m",
      "\u001b[0;31mKeyboardInterrupt\u001b[0m                         Traceback (most recent call last)",
      "Cell \u001b[0;32mIn[484], line 1\u001b[0m\n\u001b[0;32m----> 1\u001b[0m modelLR \u001b[38;5;241m=\u001b[39m lr\u001b[38;5;241m.\u001b[39mfit(train)\n\u001b[1;32m      3\u001b[0m predictions \u001b[38;5;241m=\u001b[39m modelLR\u001b[38;5;241m.\u001b[39mtransform(test)\n",
      "File \u001b[0;32m/opt/anaconda3/lib/python3.11/site-packages/pyspark/ml/base.py:205\u001b[0m, in \u001b[0;36mEstimator.fit\u001b[0;34m(self, dataset, params)\u001b[0m\n\u001b[1;32m    203\u001b[0m         \u001b[38;5;28;01mreturn\u001b[39;00m \u001b[38;5;28mself\u001b[39m\u001b[38;5;241m.\u001b[39mcopy(params)\u001b[38;5;241m.\u001b[39m_fit(dataset)\n\u001b[1;32m    204\u001b[0m     \u001b[38;5;28;01melse\u001b[39;00m:\n\u001b[0;32m--> 205\u001b[0m         \u001b[38;5;28;01mreturn\u001b[39;00m \u001b[38;5;28mself\u001b[39m\u001b[38;5;241m.\u001b[39m_fit(dataset)\n\u001b[1;32m    206\u001b[0m \u001b[38;5;28;01melse\u001b[39;00m:\n\u001b[1;32m    207\u001b[0m     \u001b[38;5;28;01mraise\u001b[39;00m \u001b[38;5;167;01mTypeError\u001b[39;00m(\n\u001b[1;32m    208\u001b[0m         \u001b[38;5;124m\"\u001b[39m\u001b[38;5;124mParams must be either a param map or a list/tuple of param maps, \u001b[39m\u001b[38;5;124m\"\u001b[39m\n\u001b[1;32m    209\u001b[0m         \u001b[38;5;124m\"\u001b[39m\u001b[38;5;124mbut got \u001b[39m\u001b[38;5;132;01m%s\u001b[39;00m\u001b[38;5;124m.\u001b[39m\u001b[38;5;124m\"\u001b[39m \u001b[38;5;241m%\u001b[39m \u001b[38;5;28mtype\u001b[39m(params)\n\u001b[1;32m    210\u001b[0m     )\n",
      "File \u001b[0;32m/opt/anaconda3/lib/python3.11/site-packages/pyspark/ml/wrapper.py:381\u001b[0m, in \u001b[0;36mJavaEstimator._fit\u001b[0;34m(self, dataset)\u001b[0m\n\u001b[1;32m    380\u001b[0m \u001b[38;5;28;01mdef\u001b[39;00m \u001b[38;5;21m_fit\u001b[39m(\u001b[38;5;28mself\u001b[39m, dataset: DataFrame) \u001b[38;5;241m-\u001b[39m\u001b[38;5;241m>\u001b[39m JM:\n\u001b[0;32m--> 381\u001b[0m     java_model \u001b[38;5;241m=\u001b[39m \u001b[38;5;28mself\u001b[39m\u001b[38;5;241m.\u001b[39m_fit_java(dataset)\n\u001b[1;32m    382\u001b[0m     model \u001b[38;5;241m=\u001b[39m \u001b[38;5;28mself\u001b[39m\u001b[38;5;241m.\u001b[39m_create_model(java_model)\n\u001b[1;32m    383\u001b[0m     \u001b[38;5;28;01mreturn\u001b[39;00m \u001b[38;5;28mself\u001b[39m\u001b[38;5;241m.\u001b[39m_copyValues(model)\n",
      "File \u001b[0;32m/opt/anaconda3/lib/python3.11/site-packages/pyspark/ml/wrapper.py:378\u001b[0m, in \u001b[0;36mJavaEstimator._fit_java\u001b[0;34m(self, dataset)\u001b[0m\n\u001b[1;32m    375\u001b[0m \u001b[38;5;28;01massert\u001b[39;00m \u001b[38;5;28mself\u001b[39m\u001b[38;5;241m.\u001b[39m_java_obj \u001b[38;5;129;01mis\u001b[39;00m \u001b[38;5;129;01mnot\u001b[39;00m \u001b[38;5;28;01mNone\u001b[39;00m\n\u001b[1;32m    377\u001b[0m \u001b[38;5;28mself\u001b[39m\u001b[38;5;241m.\u001b[39m_transfer_params_to_java()\n\u001b[0;32m--> 378\u001b[0m \u001b[38;5;28;01mreturn\u001b[39;00m \u001b[38;5;28mself\u001b[39m\u001b[38;5;241m.\u001b[39m_java_obj\u001b[38;5;241m.\u001b[39mfit(dataset\u001b[38;5;241m.\u001b[39m_jdf)\n",
      "File \u001b[0;32m/opt/anaconda3/lib/python3.11/site-packages/py4j/java_gateway.py:1321\u001b[0m, in \u001b[0;36mJavaMember.__call__\u001b[0;34m(self, *args)\u001b[0m\n\u001b[1;32m   1314\u001b[0m args_command, temp_args \u001b[38;5;241m=\u001b[39m \u001b[38;5;28mself\u001b[39m\u001b[38;5;241m.\u001b[39m_build_args(\u001b[38;5;241m*\u001b[39margs)\n\u001b[1;32m   1316\u001b[0m command \u001b[38;5;241m=\u001b[39m proto\u001b[38;5;241m.\u001b[39mCALL_COMMAND_NAME \u001b[38;5;241m+\u001b[39m\\\n\u001b[1;32m   1317\u001b[0m     \u001b[38;5;28mself\u001b[39m\u001b[38;5;241m.\u001b[39mcommand_header \u001b[38;5;241m+\u001b[39m\\\n\u001b[1;32m   1318\u001b[0m     args_command \u001b[38;5;241m+\u001b[39m\\\n\u001b[1;32m   1319\u001b[0m     proto\u001b[38;5;241m.\u001b[39mEND_COMMAND_PART\n\u001b[0;32m-> 1321\u001b[0m answer \u001b[38;5;241m=\u001b[39m \u001b[38;5;28mself\u001b[39m\u001b[38;5;241m.\u001b[39mgateway_client\u001b[38;5;241m.\u001b[39msend_command(command)\n\u001b[1;32m   1322\u001b[0m return_value \u001b[38;5;241m=\u001b[39m get_return_value(\n\u001b[1;32m   1323\u001b[0m     answer, \u001b[38;5;28mself\u001b[39m\u001b[38;5;241m.\u001b[39mgateway_client, \u001b[38;5;28mself\u001b[39m\u001b[38;5;241m.\u001b[39mtarget_id, \u001b[38;5;28mself\u001b[39m\u001b[38;5;241m.\u001b[39mname)\n\u001b[1;32m   1325\u001b[0m \u001b[38;5;28;01mfor\u001b[39;00m temp_arg \u001b[38;5;129;01min\u001b[39;00m temp_args:\n",
      "File \u001b[0;32m/opt/anaconda3/lib/python3.11/site-packages/py4j/java_gateway.py:1038\u001b[0m, in \u001b[0;36mGatewayClient.send_command\u001b[0;34m(self, command, retry, binary)\u001b[0m\n\u001b[1;32m   1036\u001b[0m connection \u001b[38;5;241m=\u001b[39m \u001b[38;5;28mself\u001b[39m\u001b[38;5;241m.\u001b[39m_get_connection()\n\u001b[1;32m   1037\u001b[0m \u001b[38;5;28;01mtry\u001b[39;00m:\n\u001b[0;32m-> 1038\u001b[0m     response \u001b[38;5;241m=\u001b[39m connection\u001b[38;5;241m.\u001b[39msend_command(command)\n\u001b[1;32m   1039\u001b[0m     \u001b[38;5;28;01mif\u001b[39;00m binary:\n\u001b[1;32m   1040\u001b[0m         \u001b[38;5;28;01mreturn\u001b[39;00m response, \u001b[38;5;28mself\u001b[39m\u001b[38;5;241m.\u001b[39m_create_connection_guard(connection)\n",
      "File \u001b[0;32m/opt/anaconda3/lib/python3.11/site-packages/py4j/clientserver.py:511\u001b[0m, in \u001b[0;36mClientServerConnection.send_command\u001b[0;34m(self, command)\u001b[0m\n\u001b[1;32m    509\u001b[0m \u001b[38;5;28;01mtry\u001b[39;00m:\n\u001b[1;32m    510\u001b[0m     \u001b[38;5;28;01mwhile\u001b[39;00m \u001b[38;5;28;01mTrue\u001b[39;00m:\n\u001b[0;32m--> 511\u001b[0m         answer \u001b[38;5;241m=\u001b[39m smart_decode(\u001b[38;5;28mself\u001b[39m\u001b[38;5;241m.\u001b[39mstream\u001b[38;5;241m.\u001b[39mreadline()[:\u001b[38;5;241m-\u001b[39m\u001b[38;5;241m1\u001b[39m])\n\u001b[1;32m    512\u001b[0m         logger\u001b[38;5;241m.\u001b[39mdebug(\u001b[38;5;124m\"\u001b[39m\u001b[38;5;124mAnswer received: \u001b[39m\u001b[38;5;132;01m{0}\u001b[39;00m\u001b[38;5;124m\"\u001b[39m\u001b[38;5;241m.\u001b[39mformat(answer))\n\u001b[1;32m    513\u001b[0m         \u001b[38;5;66;03m# Happens when a the other end is dead. There might be an empty\u001b[39;00m\n\u001b[1;32m    514\u001b[0m         \u001b[38;5;66;03m# answer before the socket raises an error.\u001b[39;00m\n",
      "File \u001b[0;32m/opt/anaconda3/lib/python3.11/socket.py:706\u001b[0m, in \u001b[0;36mSocketIO.readinto\u001b[0;34m(self, b)\u001b[0m\n\u001b[1;32m    704\u001b[0m \u001b[38;5;28;01mwhile\u001b[39;00m \u001b[38;5;28;01mTrue\u001b[39;00m:\n\u001b[1;32m    705\u001b[0m     \u001b[38;5;28;01mtry\u001b[39;00m:\n\u001b[0;32m--> 706\u001b[0m         \u001b[38;5;28;01mreturn\u001b[39;00m \u001b[38;5;28mself\u001b[39m\u001b[38;5;241m.\u001b[39m_sock\u001b[38;5;241m.\u001b[39mrecv_into(b)\n\u001b[1;32m    707\u001b[0m     \u001b[38;5;28;01mexcept\u001b[39;00m timeout:\n\u001b[1;32m    708\u001b[0m         \u001b[38;5;28mself\u001b[39m\u001b[38;5;241m.\u001b[39m_timeout_occurred \u001b[38;5;241m=\u001b[39m \u001b[38;5;28;01mTrue\u001b[39;00m\n",
      "\u001b[0;31mKeyboardInterrupt\u001b[0m: "
     ]
    },
    {
     "name": "stderr",
     "output_type": "stream",
     "text": [
      "24/05/29 00:18:28 WARN MemoryStore: Not enough space to cache rdd_8026_7 in memory! (computed 17.0 MiB so far)\n",
      "24/05/29 00:18:28 WARN MemoryStore: Not enough space to cache rdd_8026_1 in memory! (computed 17.0 MiB so far)\n",
      "24/05/29 00:18:30 WARN MemoryStore: Not enough space to cache rdd_8026_1 in memory! (computed 17.0 MiB so far)\n",
      "24/05/29 00:18:30 WARN MemoryStore: Not enough space to cache rdd_8026_7 in memory! (computed 17.0 MiB so far)\n",
      "24/05/29 00:18:32 WARN MemoryStore: Not enough space to cache rdd_8026_7 in memory! (computed 17.0 MiB so far)\n",
      "24/05/29 00:18:32 WARN MemoryStore: Not enough space to cache rdd_8026_1 in memory! (computed 17.0 MiB so far)\n",
      "[Stage 2565:===========================>                           (5 + 5) / 10]\r"
     ]
    }
   ],
   "source": [
    "modelLR = lr.fit(train)\n",
    "\n",
    "predictions = modelLR.transform(test)"
   ]
  },
  {
   "cell_type": "code",
   "execution_count": null,
   "metadata": {},
   "outputs": [],
   "source": [
    "# evaluation\n",
    "\n",
    "evaluator = BinaryClassificationEvaluator(rawPredictionCol=\"prediction\", labelCol=\"isFraud\")\n",
    "\n",
    "auc_rf = evaluator.evaluate(predictions)\n",
    "\n",
    "# Accuracy, Precision and Recall\n",
    "\n",
    "metrics = MulticlassClassificationEvaluator(predictionCol=\"prediction\",labelCol=\"isFraud\")\n",
    "\n",
    "accuracy_rf = metrics.evaluate(predictions, {metrics.metricName:\"accuracy\"})\n",
    "\n",
    "print(f\"AUC-ROC: \", auc_rf)\n",
    "\n",
    "print(f\"Accuracy: \", accuracy_rf)\n"
   ]
  },
  {
   "cell_type": "markdown",
   "metadata": {},
   "source": [
    "#### Hyperparameters tuning"
   ]
  },
  {
   "cell_type": "code",
   "execution_count": null,
   "metadata": {},
   "outputs": [],
   "source": [
    "# visualization of the overfitting\n",
    "\n",
    "# define the tree depths to evaluate\n",
    "values = [i for i in range(1, 11)]\n",
    "train_scores = []\n",
    "test_scores = []\n",
    "# evaluate a decision tree for each depth\n",
    "for i in values:\n",
    " # configure the model\n",
    " lr = LogisticRegression(labelCol=\"isFraud\", featuresCol=\"my_features\")\n",
    " # configure the evaluators and metrics\n",
    " evaluator = BinaryClassificationEvaluator(rawPredictionCol=\"prediction\", labelCol=\"isFraud\")\n",
    " metrics = MulticlassClassificationEvaluator(predictionCol=\"prediction\",labelCol=\"isFraud\")\n",
    " # fit model on the training dataset\n",
    " modelLR = lr.fit(train)\n",
    " # predictions on the training dataset\n",
    " predictions = modelLR.transform(train)\n",
    " # evaluate on the train dataset\n",
    " train_accuracy = metrics.evaluate(predictions, {metrics.metricName:\"accuracy\"})\n",
    " train_scores.append(train_accuracy)\n",
    " # evaluate on the test dataset\n",
    " predictions = modelLR.transform(test)\n",
    " test_accuracy = metrics.evaluate(predictions, {metrics.metricName:\"accuracy\"})\n",
    " test_scores.append(test_accuracy)\n",
    " # summarize progress\n",
    " print('>%d, train: %.3f, test: %.3f' % (i, train_accuracy, test_accuracy))"
   ]
  },
  {
   "cell_type": "code",
   "execution_count": null,
   "metadata": {},
   "outputs": [],
   "source": [
    "# plot of train and test scores vs tree depth\n",
    "\n",
    "mpt.plot(values, train_scores, '-o', label='Train')\n",
    "mpt.plot(values, test_scores, '-o', label='Test')\n",
    "mpt.legend()\n",
    "mpt.show()"
   ]
  },
  {
   "cell_type": "code",
   "execution_count": 460,
   "metadata": {},
   "outputs": [
    {
     "name": "stderr",
     "output_type": "stream",
     "text": [
      "24/05/28 23:59:55 WARN SQLConf: The SQL config 'spark.sql.execution.arrow.enabled' has been deprecated in Spark v3.0 and may be removed in the future. Use 'spark.sql.execution.arrow.pyspark.enabled' instead of it.\n",
      "24/05/28 23:59:55 WARN SQLConf: The SQL config 'spark.sql.execution.arrow.enabled' has been deprecated in Spark v3.0 and may be removed in the future. Use 'spark.sql.execution.arrow.pyspark.enabled' instead of it.\n",
      "24/05/28 23:59:55 WARN SQLConf: The SQL config 'spark.sql.execution.arrow.enabled' has been deprecated in Spark v3.0 and may be removed in the future. Use 'spark.sql.execution.arrow.pyspark.enabled' instead of it.\n",
      "24/05/28 23:59:55 WARN SQLConf: The SQL config 'spark.sql.execution.arrow.enabled' has been deprecated in Spark v3.0 and may be removed in the future. Use 'spark.sql.execution.arrow.pyspark.enabled' instead of it.\n",
      "24/05/28 23:59:55 WARN SQLConf: The SQL config 'spark.sql.execution.arrow.enabled' has been deprecated in Spark v3.0 and may be removed in the future. Use 'spark.sql.execution.arrow.pyspark.enabled' instead of it.\n",
      "24/05/28 23:59:55 WARN SQLConf: The SQL config 'spark.sql.execution.arrow.enabled' has been deprecated in Spark v3.0 and may be removed in the future. Use 'spark.sql.execution.arrow.pyspark.enabled' instead of it.\n",
      "24/05/28 23:59:55 WARN SQLConf: The SQL config 'spark.sql.execution.arrow.enabled' has been deprecated in Spark v3.0 and may be removed in the future. Use 'spark.sql.execution.arrow.pyspark.enabled' instead of it.\n",
      "24/05/28 23:59:55 WARN SQLConf: The SQL config 'spark.sql.execution.arrow.enabled' has been deprecated in Spark v3.0 and may be removed in the future. Use 'spark.sql.execution.arrow.pyspark.enabled' instead of it.\n",
      "24/05/28 23:59:55 WARN SQLConf: The SQL config 'spark.sql.execution.arrow.enabled' has been deprecated in Spark v3.0 and may be removed in the future. Use 'spark.sql.execution.arrow.pyspark.enabled' instead of it.\n",
      "24/05/28 23:59:55 WARN SQLConf: The SQL config 'spark.sql.execution.arrow.enabled' has been deprecated in Spark v3.0 and may be removed in the future. Use 'spark.sql.execution.arrow.pyspark.enabled' instead of it.\n",
      "24/05/29 00:00:05 WARN SQLConf: The SQL config 'spark.sql.execution.arrow.enabled' has been deprecated in Spark v3.0 and may be removed in the future. Use 'spark.sql.execution.arrow.pyspark.enabled' instead of it.\n",
      "24/05/29 00:00:05 WARN SQLConf: The SQL config 'spark.sql.execution.arrow.enabled' has been deprecated in Spark v3.0 and may be removed in the future. Use 'spark.sql.execution.arrow.pyspark.enabled' instead of it.\n",
      "24/05/29 00:00:05 WARN SQLConf: The SQL config 'spark.sql.execution.arrow.enabled' has been deprecated in Spark v3.0 and may be removed in the future. Use 'spark.sql.execution.arrow.pyspark.enabled' instead of it.\n",
      "24/05/29 00:00:05 WARN SQLConf: The SQL config 'spark.sql.execution.arrow.enabled' has been deprecated in Spark v3.0 and may be removed in the future. Use 'spark.sql.execution.arrow.pyspark.enabled' instead of it.\n",
      "24/05/29 00:00:05 WARN SQLConf: The SQL config 'spark.sql.execution.arrow.enabled' has been deprecated in Spark v3.0 and may be removed in the future. Use 'spark.sql.execution.arrow.pyspark.enabled' instead of it.\n",
      "24/05/29 00:00:05 WARN SQLConf: The SQL config 'spark.sql.execution.arrow.enabled' has been deprecated in Spark v3.0 and may be removed in the future. Use 'spark.sql.execution.arrow.pyspark.enabled' instead of it.\n",
      "24/05/29 00:00:05 WARN SQLConf: The SQL config 'spark.sql.execution.arrow.enabled' has been deprecated in Spark v3.0 and may be removed in the future. Use 'spark.sql.execution.arrow.pyspark.enabled' instead of it.\n",
      "24/05/29 00:00:05 WARN SQLConf: The SQL config 'spark.sql.execution.arrow.enabled' has been deprecated in Spark v3.0 and may be removed in the future. Use 'spark.sql.execution.arrow.pyspark.enabled' instead of it.\n",
      "24/05/29 00:00:05 WARN SQLConf: The SQL config 'spark.sql.execution.arrow.enabled' has been deprecated in Spark v3.0 and may be removed in the future. Use 'spark.sql.execution.arrow.pyspark.enabled' instead of it.\n",
      "24/05/29 00:00:05 WARN SQLConf: The SQL config 'spark.sql.execution.arrow.enabled' has been deprecated in Spark v3.0 and may be removed in the future. Use 'spark.sql.execution.arrow.pyspark.enabled' instead of it.\n",
      "ERROR:root:KeyboardInterrupt while sending command.==========>     (9 + 1) / 10]\n",
      "Traceback (most recent call last):\n",
      "  File \"/opt/anaconda3/lib/python3.11/site-packages/py4j/java_gateway.py\", line 1038, in send_command\n",
      "    response = connection.send_command(command)\n",
      "               ^^^^^^^^^^^^^^^^^^^^^^^^^^^^^^^^\n",
      "  File \"/opt/anaconda3/lib/python3.11/site-packages/py4j/clientserver.py\", line 511, in send_command\n",
      "    answer = smart_decode(self.stream.readline()[:-1])\n",
      "                          ^^^^^^^^^^^^^^^^^^^^^^\n",
      "  File \"/opt/anaconda3/lib/python3.11/socket.py\", line 706, in readinto\n",
      "    return self._sock.recv_into(b)\n",
      "           ^^^^^^^^^^^^^^^^^^^^^^^\n",
      "KeyboardInterrupt\n"
     ]
    },
    {
     "ename": "KeyboardInterrupt",
     "evalue": "",
     "output_type": "error",
     "traceback": [
      "\u001b[0;31m---------------------------------------------------------------------------\u001b[0m",
      "\u001b[0;31mKeyboardInterrupt\u001b[0m                         Traceback (most recent call last)",
      "Cell \u001b[0;32mIn[460], line 13\u001b[0m\n\u001b[1;32m      9\u001b[0m \u001b[38;5;66;03m# Accuracy, Precision and Recall\u001b[39;00m\n\u001b[1;32m     11\u001b[0m metrics \u001b[38;5;241m=\u001b[39m MulticlassClassificationEvaluator(predictionCol\u001b[38;5;241m=\u001b[39m\u001b[38;5;124m\"\u001b[39m\u001b[38;5;124mprediction\u001b[39m\u001b[38;5;124m\"\u001b[39m,labelCol\u001b[38;5;241m=\u001b[39m\u001b[38;5;124m\"\u001b[39m\u001b[38;5;124misFraud\u001b[39m\u001b[38;5;124m\"\u001b[39m)\n\u001b[0;32m---> 13\u001b[0m accuracy_rf \u001b[38;5;241m=\u001b[39m metrics\u001b[38;5;241m.\u001b[39mevaluate(predictions, {metrics\u001b[38;5;241m.\u001b[39mmetricName:\u001b[38;5;124m\"\u001b[39m\u001b[38;5;124maccuracy\u001b[39m\u001b[38;5;124m\"\u001b[39m})\n\u001b[1;32m     15\u001b[0m precision_rf \u001b[38;5;241m=\u001b[39m metrics\u001b[38;5;241m.\u001b[39mevaluate(predictions, {metrics\u001b[38;5;241m.\u001b[39mmetricName:\u001b[38;5;124m\"\u001b[39m\u001b[38;5;124mweightedPrecision\u001b[39m\u001b[38;5;124m\"\u001b[39m})\n\u001b[1;32m     17\u001b[0m recall_rf \u001b[38;5;241m=\u001b[39m metrics\u001b[38;5;241m.\u001b[39mevaluate(predictions, {metrics\u001b[38;5;241m.\u001b[39mmetricName:\u001b[38;5;124m\"\u001b[39m\u001b[38;5;124mweightedRecall\u001b[39m\u001b[38;5;124m\"\u001b[39m})\n",
      "File \u001b[0;32m/opt/anaconda3/lib/python3.11/site-packages/pyspark/ml/evaluation.py:109\u001b[0m, in \u001b[0;36mEvaluator.evaluate\u001b[0;34m(self, dataset, params)\u001b[0m\n\u001b[1;32m    107\u001b[0m \u001b[38;5;28;01mif\u001b[39;00m \u001b[38;5;28misinstance\u001b[39m(params, \u001b[38;5;28mdict\u001b[39m):\n\u001b[1;32m    108\u001b[0m     \u001b[38;5;28;01mif\u001b[39;00m params:\n\u001b[0;32m--> 109\u001b[0m         \u001b[38;5;28;01mreturn\u001b[39;00m \u001b[38;5;28mself\u001b[39m\u001b[38;5;241m.\u001b[39mcopy(params)\u001b[38;5;241m.\u001b[39m_evaluate(dataset)\n\u001b[1;32m    110\u001b[0m     \u001b[38;5;28;01melse\u001b[39;00m:\n\u001b[1;32m    111\u001b[0m         \u001b[38;5;28;01mreturn\u001b[39;00m \u001b[38;5;28mself\u001b[39m\u001b[38;5;241m.\u001b[39m_evaluate(dataset)\n",
      "File \u001b[0;32m/opt/anaconda3/lib/python3.11/site-packages/pyspark/ml/evaluation.py:148\u001b[0m, in \u001b[0;36mJavaEvaluator._evaluate\u001b[0;34m(self, dataset)\u001b[0m\n\u001b[1;32m    146\u001b[0m \u001b[38;5;28mself\u001b[39m\u001b[38;5;241m.\u001b[39m_transfer_params_to_java()\n\u001b[1;32m    147\u001b[0m \u001b[38;5;28;01massert\u001b[39;00m \u001b[38;5;28mself\u001b[39m\u001b[38;5;241m.\u001b[39m_java_obj \u001b[38;5;129;01mis\u001b[39;00m \u001b[38;5;129;01mnot\u001b[39;00m \u001b[38;5;28;01mNone\u001b[39;00m\n\u001b[0;32m--> 148\u001b[0m \u001b[38;5;28;01mreturn\u001b[39;00m \u001b[38;5;28mself\u001b[39m\u001b[38;5;241m.\u001b[39m_java_obj\u001b[38;5;241m.\u001b[39mevaluate(dataset\u001b[38;5;241m.\u001b[39m_jdf)\n",
      "File \u001b[0;32m/opt/anaconda3/lib/python3.11/site-packages/py4j/java_gateway.py:1321\u001b[0m, in \u001b[0;36mJavaMember.__call__\u001b[0;34m(self, *args)\u001b[0m\n\u001b[1;32m   1314\u001b[0m args_command, temp_args \u001b[38;5;241m=\u001b[39m \u001b[38;5;28mself\u001b[39m\u001b[38;5;241m.\u001b[39m_build_args(\u001b[38;5;241m*\u001b[39margs)\n\u001b[1;32m   1316\u001b[0m command \u001b[38;5;241m=\u001b[39m proto\u001b[38;5;241m.\u001b[39mCALL_COMMAND_NAME \u001b[38;5;241m+\u001b[39m\\\n\u001b[1;32m   1317\u001b[0m     \u001b[38;5;28mself\u001b[39m\u001b[38;5;241m.\u001b[39mcommand_header \u001b[38;5;241m+\u001b[39m\\\n\u001b[1;32m   1318\u001b[0m     args_command \u001b[38;5;241m+\u001b[39m\\\n\u001b[1;32m   1319\u001b[0m     proto\u001b[38;5;241m.\u001b[39mEND_COMMAND_PART\n\u001b[0;32m-> 1321\u001b[0m answer \u001b[38;5;241m=\u001b[39m \u001b[38;5;28mself\u001b[39m\u001b[38;5;241m.\u001b[39mgateway_client\u001b[38;5;241m.\u001b[39msend_command(command)\n\u001b[1;32m   1322\u001b[0m return_value \u001b[38;5;241m=\u001b[39m get_return_value(\n\u001b[1;32m   1323\u001b[0m     answer, \u001b[38;5;28mself\u001b[39m\u001b[38;5;241m.\u001b[39mgateway_client, \u001b[38;5;28mself\u001b[39m\u001b[38;5;241m.\u001b[39mtarget_id, \u001b[38;5;28mself\u001b[39m\u001b[38;5;241m.\u001b[39mname)\n\u001b[1;32m   1325\u001b[0m \u001b[38;5;28;01mfor\u001b[39;00m temp_arg \u001b[38;5;129;01min\u001b[39;00m temp_args:\n",
      "File \u001b[0;32m/opt/anaconda3/lib/python3.11/site-packages/py4j/java_gateway.py:1038\u001b[0m, in \u001b[0;36mGatewayClient.send_command\u001b[0;34m(self, command, retry, binary)\u001b[0m\n\u001b[1;32m   1036\u001b[0m connection \u001b[38;5;241m=\u001b[39m \u001b[38;5;28mself\u001b[39m\u001b[38;5;241m.\u001b[39m_get_connection()\n\u001b[1;32m   1037\u001b[0m \u001b[38;5;28;01mtry\u001b[39;00m:\n\u001b[0;32m-> 1038\u001b[0m     response \u001b[38;5;241m=\u001b[39m connection\u001b[38;5;241m.\u001b[39msend_command(command)\n\u001b[1;32m   1039\u001b[0m     \u001b[38;5;28;01mif\u001b[39;00m binary:\n\u001b[1;32m   1040\u001b[0m         \u001b[38;5;28;01mreturn\u001b[39;00m response, \u001b[38;5;28mself\u001b[39m\u001b[38;5;241m.\u001b[39m_create_connection_guard(connection)\n",
      "File \u001b[0;32m/opt/anaconda3/lib/python3.11/site-packages/py4j/clientserver.py:511\u001b[0m, in \u001b[0;36mClientServerConnection.send_command\u001b[0;34m(self, command)\u001b[0m\n\u001b[1;32m    509\u001b[0m \u001b[38;5;28;01mtry\u001b[39;00m:\n\u001b[1;32m    510\u001b[0m     \u001b[38;5;28;01mwhile\u001b[39;00m \u001b[38;5;28;01mTrue\u001b[39;00m:\n\u001b[0;32m--> 511\u001b[0m         answer \u001b[38;5;241m=\u001b[39m smart_decode(\u001b[38;5;28mself\u001b[39m\u001b[38;5;241m.\u001b[39mstream\u001b[38;5;241m.\u001b[39mreadline()[:\u001b[38;5;241m-\u001b[39m\u001b[38;5;241m1\u001b[39m])\n\u001b[1;32m    512\u001b[0m         logger\u001b[38;5;241m.\u001b[39mdebug(\u001b[38;5;124m\"\u001b[39m\u001b[38;5;124mAnswer received: \u001b[39m\u001b[38;5;132;01m{0}\u001b[39;00m\u001b[38;5;124m\"\u001b[39m\u001b[38;5;241m.\u001b[39mformat(answer))\n\u001b[1;32m    513\u001b[0m         \u001b[38;5;66;03m# Happens when a the other end is dead. There might be an empty\u001b[39;00m\n\u001b[1;32m    514\u001b[0m         \u001b[38;5;66;03m# answer before the socket raises an error.\u001b[39;00m\n",
      "File \u001b[0;32m/opt/anaconda3/lib/python3.11/socket.py:706\u001b[0m, in \u001b[0;36mSocketIO.readinto\u001b[0;34m(self, b)\u001b[0m\n\u001b[1;32m    704\u001b[0m \u001b[38;5;28;01mwhile\u001b[39;00m \u001b[38;5;28;01mTrue\u001b[39;00m:\n\u001b[1;32m    705\u001b[0m     \u001b[38;5;28;01mtry\u001b[39;00m:\n\u001b[0;32m--> 706\u001b[0m         \u001b[38;5;28;01mreturn\u001b[39;00m \u001b[38;5;28mself\u001b[39m\u001b[38;5;241m.\u001b[39m_sock\u001b[38;5;241m.\u001b[39mrecv_into(b)\n\u001b[1;32m    707\u001b[0m     \u001b[38;5;28;01mexcept\u001b[39;00m timeout:\n\u001b[1;32m    708\u001b[0m         \u001b[38;5;28mself\u001b[39m\u001b[38;5;241m.\u001b[39m_timeout_occurred \u001b[38;5;241m=\u001b[39m \u001b[38;5;28;01mTrue\u001b[39;00m\n",
      "\u001b[0;31mKeyboardInterrupt\u001b[0m: "
     ]
    },
    {
     "name": "stderr",
     "output_type": "stream",
     "text": [
      "                                                                                \r"
     ]
    }
   ],
   "source": [
    "# evaluate in the training dataset\n",
    "\n",
    "predictions = modelLR.transform(train)\n",
    "\n",
    "evaluator = BinaryClassificationEvaluator(rawPredictionCol=\"prediction\", labelCol=\"isFraud\")\n",
    "\n",
    "auc_rf = evaluator.evaluate(predictions)\n",
    "\n",
    "# Accuracy, Precision and Recall\n",
    "\n",
    "metrics = MulticlassClassificationEvaluator(predictionCol=\"prediction\",labelCol=\"isFraud\")\n",
    "\n",
    "accuracy_rf = metrics.evaluate(predictions, {metrics.metricName:\"accuracy\"})\n",
    "\n",
    "precision_rf = metrics.evaluate(predictions, {metrics.metricName:\"weightedPrecision\"})\n",
    "\n",
    "recall_rf = metrics.evaluate(predictions, {metrics.metricName:\"weightedRecall\"})\n",
    "\n",
    "print(f\"AUC-ROC: \", auc_rf)\n",
    "\n",
    "print(f\"Accuracy: \", accuracy_rf)\n",
    "\n",
    "print(f\"Precsion: \", precision_rf)\n",
    "\n",
    "print(f\"Recall: \", recall_rf)\n",
    "\n",
    "# full the results list\n",
    "\n",
    "auc_roc.append(auc_rf)\n",
    "\n",
    "accuracy.append(accuracy_rf)\n",
    "\n",
    "recall.append(recall_rf)\n",
    "\n",
    "precision.append(precision_rf)\n",
    "\n",
    "name_model.append(\"Logistic Regression\")\n"
   ]
  },
  {
   "cell_type": "code",
   "execution_count": null,
   "metadata": {},
   "outputs": [],
   "source": [
    "########################### ROC graphic ###########################\n",
    "\n",
    "preds_and_labels = predictions.select(\"prediction\", \"isFraud\")\n",
    "preds_and_labels_collect = preds_and_labels.collect()\n",
    "\n",
    "#preds_and_labels_list = [ (float(i[0][0]), 1.0 - float(i[1])) for i in preds_and_labels_collect  ]\n",
    "#preds_and_labels = sc.parallelize(preds_and_labels_list)\n",
    "\n",
    "#metrics = BinaryClassificationMetrics(preds_and_labels)\n",
    "\n",
    "\n",
    "######################### Visualization ###########################\n",
    "\n",
    "fpr = dict()\n",
    "tpr = dict()\n",
    "roc_auc = dict()\n",
    "\n",
    "y_test = [i[1] for i in preds_and_labels_collect]\n",
    "y_score = [i[0] for i in preds_and_labels_collect]\n",
    "\n",
    "fpr, tpr, _ = roc_curve(y_test, y_score)\n",
    "\n",
    "roc_auc = auc(fpr, tpr)\n",
    "\n",
    "print(\"The graphic ROC curve is:\")\n",
    "\n",
    "mpt.figure(figsize=(5,4))\n",
    "mpt.plot(fpr, tpr, label='ROC curve' % roc_auc)\n",
    "mpt.plot([0,1],[0,1],'k--')\n",
    "mpt.xlim([0.0,1.0])\n",
    "mpt.ylim([0.0,1.05])\n",
    "mpt.xlabel('False Positive Rate')\n",
    "mpt.ylabel('True Positive Rate')\n",
    "mpt.title('ROC Curve - Logistic Regression')\n",
    "mpt.show()"
   ]
  },
  {
   "cell_type": "code",
   "execution_count": null,
   "metadata": {},
   "outputs": [
    {
     "name": "stderr",
     "output_type": "stream",
     "text": [
      "24/05/29 00:06:53 WARN SQLConf: The SQL config 'spark.sql.execution.arrow.enabled' has been deprecated in Spark v3.0 and may be removed in the future. Use 'spark.sql.execution.arrow.pyspark.enabled' instead of it.\n",
      "24/05/29 00:06:53 WARN SQLConf: The SQL config 'spark.sql.execution.arrow.enabled' has been deprecated in Spark v3.0 and may be removed in the future. Use 'spark.sql.execution.arrow.pyspark.enabled' instead of it.\n",
      "24/05/29 00:06:53 WARN SQLConf: The SQL config 'spark.sql.execution.arrow.enabled' has been deprecated in Spark v3.0 and may be removed in the future. Use 'spark.sql.execution.arrow.pyspark.enabled' instead of it.\n",
      "24/05/29 00:06:53 WARN SQLConf: The SQL config 'spark.sql.execution.arrow.enabled' has been deprecated in Spark v3.0 and may be removed in the future. Use 'spark.sql.execution.arrow.pyspark.enabled' instead of it.\n",
      "24/05/29 00:06:53 WARN SQLConf: The SQL config 'spark.sql.execution.arrow.enabled' has been deprecated in Spark v3.0 and may be removed in the future. Use 'spark.sql.execution.arrow.pyspark.enabled' instead of it.\n",
      "24/05/29 00:06:53 WARN SQLConf: The SQL config 'spark.sql.execution.arrow.enabled' has been deprecated in Spark v3.0 and may be removed in the future. Use 'spark.sql.execution.arrow.pyspark.enabled' instead of it.\n",
      "24/05/29 00:06:53 WARN SQLConf: The SQL config 'spark.sql.execution.arrow.enabled' has been deprecated in Spark v3.0 and may be removed in the future. Use 'spark.sql.execution.arrow.pyspark.enabled' instead of it.\n",
      "24/05/29 00:06:53 WARN SQLConf: The SQL config 'spark.sql.execution.arrow.enabled' has been deprecated in Spark v3.0 and may be removed in the future. Use 'spark.sql.execution.arrow.pyspark.enabled' instead of it.\n",
      "24/05/29 00:06:53 WARN SQLConf: The SQL config 'spark.sql.execution.arrow.enabled' has been deprecated in Spark v3.0 and may be removed in the future. Use 'spark.sql.execution.arrow.pyspark.enabled' instead of it.\n",
      "24/05/29 00:06:53 WARN SQLConf: The SQL config 'spark.sql.execution.arrow.enabled' has been deprecated in Spark v3.0 and may be removed in the future. Use 'spark.sql.execution.arrow.pyspark.enabled' instead of it.\n",
      "24/05/29 00:07:00 WARN SQLConf: The SQL config 'spark.sql.execution.arrow.enabled' has been deprecated in Spark v3.0 and may be removed in the future. Use 'spark.sql.execution.arrow.pyspark.enabled' instead of it.\n",
      "24/05/29 00:07:00 WARN SQLConf: The SQL config 'spark.sql.execution.arrow.enabled' has been deprecated in Spark v3.0 and may be removed in the future. Use 'spark.sql.execution.arrow.pyspark.enabled' instead of it.\n",
      "24/05/29 00:07:00 WARN SQLConf: The SQL config 'spark.sql.execution.arrow.enabled' has been deprecated in Spark v3.0 and may be removed in the future. Use 'spark.sql.execution.arrow.pyspark.enabled' instead of it.\n",
      "24/05/29 00:07:00 WARN SQLConf: The SQL config 'spark.sql.execution.arrow.enabled' has been deprecated in Spark v3.0 and may be removed in the future. Use 'spark.sql.execution.arrow.pyspark.enabled' instead of it.\n",
      "24/05/29 00:07:00 WARN SQLConf: The SQL config 'spark.sql.execution.arrow.enabled' has been deprecated in Spark v3.0 and may be removed in the future. Use 'spark.sql.execution.arrow.pyspark.enabled' instead of it.\n",
      "24/05/29 00:07:00 WARN SQLConf: The SQL config 'spark.sql.execution.arrow.enabled' has been deprecated in Spark v3.0 and may be removed in the future. Use 'spark.sql.execution.arrow.pyspark.enabled' instead of it.\n",
      "24/05/29 00:07:00 WARN SQLConf: The SQL config 'spark.sql.execution.arrow.enabled' has been deprecated in Spark v3.0 and may be removed in the future. Use 'spark.sql.execution.arrow.pyspark.enabled' instead of it.\n",
      "24/05/29 00:07:00 WARN SQLConf: The SQL config 'spark.sql.execution.arrow.enabled' has been deprecated in Spark v3.0 and may be removed in the future. Use 'spark.sql.execution.arrow.pyspark.enabled' instead of it.\n",
      "24/05/29 00:07:00 WARN SQLConf: The SQL config 'spark.sql.execution.arrow.enabled' has been deprecated in Spark v3.0 and may be removed in the future. Use 'spark.sql.execution.arrow.pyspark.enabled' instead of it.\n",
      "24/05/29 00:07:00 WARN SQLConf: The SQL config 'spark.sql.execution.arrow.enabled' has been deprecated in Spark v3.0 and may be removed in the future. Use 'spark.sql.execution.arrow.pyspark.enabled' instead of it.\n",
      "24/05/29 00:07:09 WARN SQLConf: The SQL config 'spark.sql.execution.arrow.enabled' has been deprecated in Spark v3.0 and may be removed in the future. Use 'spark.sql.execution.arrow.pyspark.enabled' instead of it.\n",
      "24/05/29 00:07:09 WARN SQLConf: The SQL config 'spark.sql.execution.arrow.enabled' has been deprecated in Spark v3.0 and may be removed in the future. Use 'spark.sql.execution.arrow.pyspark.enabled' instead of it.\n",
      "24/05/29 00:07:09 WARN SQLConf: The SQL config 'spark.sql.execution.arrow.enabled' has been deprecated in Spark v3.0 and may be removed in the future. Use 'spark.sql.execution.arrow.pyspark.enabled' instead of it.\n",
      "24/05/29 00:07:09 WARN SQLConf: The SQL config 'spark.sql.execution.arrow.enabled' has been deprecated in Spark v3.0 and may be removed in the future. Use 'spark.sql.execution.arrow.pyspark.enabled' instead of it.\n",
      "24/05/29 00:07:09 WARN SQLConf: The SQL config 'spark.sql.execution.arrow.enabled' has been deprecated in Spark v3.0 and may be removed in the future. Use 'spark.sql.execution.arrow.pyspark.enabled' instead of it.\n",
      "24/05/29 00:07:09 WARN SQLConf: The SQL config 'spark.sql.execution.arrow.enabled' has been deprecated in Spark v3.0 and may be removed in the future. Use 'spark.sql.execution.arrow.pyspark.enabled' instead of it.\n",
      "24/05/29 00:07:09 WARN SQLConf: The SQL config 'spark.sql.execution.arrow.enabled' has been deprecated in Spark v3.0 and may be removed in the future. Use 'spark.sql.execution.arrow.pyspark.enabled' instead of it.\n",
      "24/05/29 00:07:09 WARN SQLConf: The SQL config 'spark.sql.execution.arrow.enabled' has been deprecated in Spark v3.0 and may be removed in the future. Use 'spark.sql.execution.arrow.pyspark.enabled' instead of it.\n",
      "24/05/29 00:07:09 WARN SQLConf: The SQL config 'spark.sql.execution.arrow.enabled' has been deprecated in Spark v3.0 and may be removed in the future. Use 'spark.sql.execution.arrow.pyspark.enabled' instead of it.\n",
      "24/05/29 00:07:09 WARN SQLConf: The SQL config 'spark.sql.execution.arrow.enabled' has been deprecated in Spark v3.0 and may be removed in the future. Use 'spark.sql.execution.arrow.pyspark.enabled' instead of it.\n",
      "24/05/29 00:07:17 WARN SQLConf: The SQL config 'spark.sql.execution.arrow.enabled' has been deprecated in Spark v3.0 and may be removed in the future. Use 'spark.sql.execution.arrow.pyspark.enabled' instead of it.\n",
      "24/05/29 00:07:17 WARN SQLConf: The SQL config 'spark.sql.execution.arrow.enabled' has been deprecated in Spark v3.0 and may be removed in the future. Use 'spark.sql.execution.arrow.pyspark.enabled' instead of it.\n",
      "24/05/29 00:07:17 WARN SQLConf: The SQL config 'spark.sql.execution.arrow.enabled' has been deprecated in Spark v3.0 and may be removed in the future. Use 'spark.sql.execution.arrow.pyspark.enabled' instead of it.\n",
      "24/05/29 00:07:17 WARN SQLConf: The SQL config 'spark.sql.execution.arrow.enabled' has been deprecated in Spark v3.0 and may be removed in the future. Use 'spark.sql.execution.arrow.pyspark.enabled' instead of it.\n",
      "24/05/29 00:07:17 WARN SQLConf: The SQL config 'spark.sql.execution.arrow.enabled' has been deprecated in Spark v3.0 and may be removed in the future. Use 'spark.sql.execution.arrow.pyspark.enabled' instead of it.\n",
      "24/05/29 00:07:17 WARN SQLConf: The SQL config 'spark.sql.execution.arrow.enabled' has been deprecated in Spark v3.0 and may be removed in the future. Use 'spark.sql.execution.arrow.pyspark.enabled' instead of it.\n",
      "24/05/29 00:07:17 WARN SQLConf: The SQL config 'spark.sql.execution.arrow.enabled' has been deprecated in Spark v3.0 and may be removed in the future. Use 'spark.sql.execution.arrow.pyspark.enabled' instead of it.\n",
      "24/05/29 00:07:17 WARN SQLConf: The SQL config 'spark.sql.execution.arrow.enabled' has been deprecated in Spark v3.0 and may be removed in the future. Use 'spark.sql.execution.arrow.pyspark.enabled' instead of it.\n",
      "24/05/29 00:07:17 WARN SQLConf: The SQL config 'spark.sql.execution.arrow.enabled' has been deprecated in Spark v3.0 and may be removed in the future. Use 'spark.sql.execution.arrow.pyspark.enabled' instead of it.\n",
      "24/05/29 00:07:17 WARN SQLConf: The SQL config 'spark.sql.execution.arrow.enabled' has been deprecated in Spark v3.0 and may be removed in the future. Use 'spark.sql.execution.arrow.pyspark.enabled' instead of it.\n",
      "[Stage 2451:=================================================>     (9 + 1) / 10]\r"
     ]
    },
    {
     "name": "stdout",
     "output_type": "stream",
     "text": [
      "AUC-ROC:  0.6544181140502122\n",
      "Accuracy:  0.6731756097604094\n",
      "Precsion:  0.6728923793706951\n",
      "Recall:  0.6731756097604094\n"
     ]
    },
    {
     "name": "stderr",
     "output_type": "stream",
     "text": [
      "                                                                                \r"
     ]
    }
   ],
   "source": [
    "# evaluate in the test dataset\n",
    "\n",
    "predictions = modelLR.transform(test)\n",
    "\n",
    "evaluator = BinaryClassificationEvaluator(rawPredictionCol=\"prediction\", labelCol=\"isFraud\")\n",
    "\n",
    "auc_rf = evaluator.evaluate(predictions)\n",
    "\n",
    "# Accuracy, Precision and Recall\n",
    "\n",
    "metrics = MulticlassClassificationEvaluator(predictionCol=\"prediction\",labelCol=\"isFraud\")\n",
    "\n",
    "accuracy_rf = metrics.evaluate(predictions, {metrics.metricName:\"accuracy\"})\n",
    "\n",
    "precision_rf = metrics.evaluate(predictions, {metrics.metricName:\"weightedPrecision\"})\n",
    "\n",
    "recall_rf = metrics.evaluate(predictions, {metrics.metricName:\"weightedRecall\"})\n",
    "\n",
    "print(f\"AUC-ROC: \", auc_rf)\n",
    "\n",
    "print(f\"Accuracy: \", accuracy_rf)\n",
    "\n",
    "print(f\"Precsion: \", precision_rf)\n",
    "\n",
    "print(f\"Recall: \", recall_rf)\n",
    "\n",
    "# full the results list\n",
    "\n",
    "auc_roc.append(auc_rf)\n",
    "\n",
    "accuracy.append(accuracy_rf)\n",
    "\n",
    "recall.append(recall_rf)\n",
    "\n",
    "precision.append(precision_rf)\n",
    "\n",
    "name_model.append(\"Logistic Regression\")\n",
    "\n"
   ]
  },
  {
   "cell_type": "code",
   "execution_count": 414,
   "metadata": {},
   "outputs": [
    {
     "name": "stderr",
     "output_type": "stream",
     "text": [
      "                                                                                \r"
     ]
    },
    {
     "name": "stdout",
     "output_type": "stream",
     "text": [
      "The graphic ROC curve is:\n"
     ]
    },
    {
     "data": {
      "image/png": "[encoded data removed]",
      "text/plain": [
       "<Figure size 500x400 with 1 Axes>"
      ]
     },
     "metadata": {},
     "output_type": "display_data"
    }
   ],
   "source": [
    "########################### ROC graphic ###########################\n",
    "\n",
    "preds_and_labels = predictions.select(\"prediction\", \"isFraud\")\n",
    "preds_and_labels_collect = preds_and_labels.collect()\n",
    "\n",
    "#preds_and_labels_list = [ (float(i[0][0]), 1.0 - float(i[1])) for i in preds_and_labels_collect  ]\n",
    "#preds_and_labels = sc.parallelize(preds_and_labels_list)\n",
    "\n",
    "#metrics = BinaryClassificationMetrics(preds_and_labels)\n",
    "\n",
    "\n",
    "######################### Visualization ###########################\n",
    "\n",
    "fpr = dict()\n",
    "tpr = dict()\n",
    "roc_auc = dict()\n",
    "\n",
    "y_test = [i[1] for i in preds_and_labels_collect]\n",
    "y_score = [i[0] for i in preds_and_labels_collect]\n",
    "\n",
    "fpr, tpr, _ = roc_curve(y_test, y_score)\n",
    "\n",
    "roc_auc = auc(fpr, tpr)\n",
    "\n",
    "print(\"The graphic ROC curve is:\")\n",
    "\n",
    "mpt.figure(figsize=(5,4))\n",
    "mpt.plot(fpr, tpr, label='ROC curve' % roc_auc)\n",
    "mpt.plot([0,1],[0,1],'k--')\n",
    "mpt.xlim([0.0,1.0])\n",
    "mpt.ylim([0.0,1.05])\n",
    "mpt.xlabel('False Positive Rate')\n",
    "mpt.ylabel('True Positive Rate')\n",
    "mpt.title('ROC Curve - Logistic Regression')\n",
    "mpt.show()\n"
   ]
  },
  {
   "cell_type": "code",
   "execution_count": 415,
   "metadata": {},
   "outputs": [
    {
     "name": "stderr",
     "output_type": "stream",
     "text": [
      "/opt/anaconda3/lib/python3.11/site-packages/pyspark/sql/context.py:158: FutureWarning: Deprecated in 3.0.0. Use SparkSession.builder.getOrCreate() instead.\n",
      "  warnings.warn(\n",
      "24/05/28 20:11:11 WARN SQLConf: The SQL config 'spark.sql.execution.arrow.enabled' has been deprecated in Spark v3.0 and may be removed in the future. Use 'spark.sql.execution.arrow.pyspark.enabled' instead of it.\n",
      "                                                                                \r"
     ]
    },
    {
     "name": "stdout",
     "output_type": "stream",
     "text": [
      "The Confusion Matrix is:\n"
     ]
    },
    {
     "name": "stderr",
     "output_type": "stream",
     "text": [
      "24/05/28 20:11:12 WARN SQLConf: The SQL config 'spark.sql.execution.arrow.enabled' has been deprecated in Spark v3.0 and may be removed in the future. Use 'spark.sql.execution.arrow.pyspark.enabled' instead of it.\n",
      "24/05/28 20:11:12 WARN SQLConf: The SQL config 'spark.sql.execution.arrow.enabled' has been deprecated in Spark v3.0 and may be removed in the future. Use 'spark.sql.execution.arrow.pyspark.enabled' instead of it.\n",
      "                                                                                \r"
     ]
    },
    {
     "data": {
      "text/plain": [
       "array([[1775824.,  128545.],\n",
       "       [      0., 1491844.]])"
      ]
     },
     "execution_count": 415,
     "metadata": {},
     "output_type": "execute_result"
    }
   ],
   "source": [
    "# confusion matrix\n",
    "\n",
    "predictions = modelLR.transform(test)\n",
    "\n",
    "preds_and_labels = predictions.select([\"prediction\",\"isFraud\"])\n",
    "preds_and_labels = preds_and_labels.withColumn(\"isFraud\", f.col(\"isFraud\").cast(FloatType())).orderBy(\"prediction\")\n",
    "\n",
    "metrics = MulticlassMetrics(preds_and_labels.rdd.map(tuple))\n",
    "\n",
    "print(\"The Confusion Matrix is:\")\n",
    "\n",
    "metrics.confusionMatrix().toArray()"
   ]
  },
  {
   "cell_type": "code",
   "execution_count": 113,
   "metadata": {},
   "outputs": [],
   "source": [
    "# coefficients and intercept\n",
    "\n",
    "##print('The coefficients are:', modelLR.coefficients)\n",
    "##print('The independent term is:', modelLR.intercept)"
   ]
  },
  {
   "cell_type": "code",
   "execution_count": 114,
   "metadata": {},
   "outputs": [],
   "source": [
    "# model summary\n",
    "\n",
    "##model_LR = CrossValidatorModel.load(\"tuningLRProof\")\n",
    "##summary_lr = model_LR.bestModel\n",
    "\n",
    "##print('The area under ROC:',summary_lr)\n",
    "##print('The ROC is:',summary_lr.roc.show())\n",
    "##print('pr is',summary_lr.pr.show())"
   ]
  },
  {
   "cell_type": "code",
   "execution_count": 115,
   "metadata": {},
   "outputs": [],
   "source": [
    "##summary_lr.objectiveHistory"
   ]
  },
  {
   "cell_type": "markdown",
   "metadata": {},
   "source": [
    "#### Predictions"
   ]
  },
  {
   "cell_type": "code",
   "execution_count": 116,
   "metadata": {},
   "outputs": [
    {
     "name": "stderr",
     "output_type": "stream",
     "text": [
      "[Stage 158:>                                                        (0 + 1) / 1]\r"
     ]
    },
    {
     "name": "stdout",
     "output_type": "stream",
     "text": [
      "+-------+----------+--------------------+\n",
      "|isfraud|prediction|         probability|\n",
      "+-------+----------+--------------------+\n",
      "|      0|       0.0|[0.99999999937023...|\n",
      "|      0|       0.0|[0.99999999937023...|\n",
      "|      0|       0.0|[0.99999999937023...|\n",
      "|      0|       0.0|[0.99999999937023...|\n",
      "|      0|       0.0|[0.99999999937023...|\n",
      "|      0|       0.0|[0.99999999937023...|\n",
      "|      0|       0.0|[0.99999999937023...|\n",
      "|      0|       0.0|[0.99999999937023...|\n",
      "|      1|       1.0|[2.14856365377640...|\n",
      "|      0|       0.0|[0.99999999835633...|\n",
      "+-------+----------+--------------------+\n",
      "only showing top 10 rows\n",
      "\n"
     ]
    },
    {
     "name": "stderr",
     "output_type": "stream",
     "text": [
      "                                                                                \r"
     ]
    }
   ],
   "source": [
    "# make predictions of the logistic regression model using the test dataset\n",
    "\n",
    "predictions.select('isfraud','prediction','probability').show(10)"
   ]
  },
  {
   "cell_type": "markdown",
   "metadata": {},
   "source": [
    "### Evaluation"
   ]
  },
  {
   "cell_type": "markdown",
   "metadata": {},
   "source": [
    "#### Let´s check out the Confusion Matrix."
   ]
  },
  {
   "cell_type": "code",
   "execution_count": 121,
   "metadata": {},
   "outputs": [
    {
     "name": "stderr",
     "output_type": "stream",
     "text": [
      "/opt/anaconda3/lib/python3.11/site-packages/pyspark/sql/context.py:158: FutureWarning: Deprecated in 3.0.0. Use SparkSession.builder.getOrCreate() instead.\n",
      "  warnings.warn(\n",
      "24/05/28 12:57:16 WARN SQLConf: The SQL config 'spark.sql.execution.arrow.enabled' has been deprecated in Spark v3.0 and may be removed in the future. Use 'spark.sql.execution.arrow.pyspark.enabled' instead of it.\n",
      "                                                                                \r"
     ]
    },
    {
     "name": "stdout",
     "output_type": "stream",
     "text": [
      "The Confusion Matrix is:\n"
     ]
    },
    {
     "name": "stderr",
     "output_type": "stream",
     "text": [
      "24/05/28 12:57:16 WARN SQLConf: The SQL config 'spark.sql.execution.arrow.enabled' has been deprecated in Spark v3.0 and may be removed in the future. Use 'spark.sql.execution.arrow.pyspark.enabled' instead of it.\n",
      "24/05/28 12:57:16 WARN SQLConf: The SQL config 'spark.sql.execution.arrow.enabled' has been deprecated in Spark v3.0 and may be removed in the future. Use 'spark.sql.execution.arrow.pyspark.enabled' instead of it.\n",
      "                                                                                \r"
     ]
    },
    {
     "data": {
      "text/plain": [
       "array([[1905170.,       0.],\n",
       "       [      0., 1491456.]])"
      ]
     },
     "execution_count": 121,
     "metadata": {},
     "output_type": "execute_result"
    }
   ],
   "source": [
    "preds_and_labels = predictions.select([\"prediction\",\"isFraud\"])\n",
    "preds_and_labels = preds_and_labels.withColumn(\"isFraud\", f.col(\"isFraud\").cast(FloatType())).orderBy(\"prediction\")\n",
    "\n",
    "metrics = MulticlassMetrics(preds_and_labels.rdd.map(tuple))\n",
    "\n",
    "print(\"The Confusion Matrix is:\")\n",
    "\n",
    "metrics.confusionMatrix().toArray()"
   ]
  },
  {
   "cell_type": "markdown",
   "metadata": {},
   "source": [
    "### 4.2.3 Decision Tree"
   ]
  },
  {
   "cell_type": "markdown",
   "metadata": {},
   "source": [
    "#### Training"
   ]
  },
  {
   "cell_type": "code",
   "execution_count": 122,
   "metadata": {},
   "outputs": [],
   "source": [
    "# train the model Decision Tree (dt)\n",
    "\n",
    "modelDT = CrossValidatorModel.load(\"tuningDTProof\")"
   ]
  },
  {
   "cell_type": "code",
   "execution_count": 123,
   "metadata": {},
   "outputs": [
    {
     "data": {
      "text/plain": [
       "pyspark.ml.tuning.CrossValidatorModel"
      ]
     },
     "execution_count": 123,
     "metadata": {},
     "output_type": "execute_result"
    }
   ],
   "source": [
    "type(modelDT)"
   ]
  },
  {
   "cell_type": "code",
   "execution_count": null,
   "metadata": {},
   "outputs": [],
   "source": [
    "dt = DecisionTreeClassifier(featuresCol=\"my_features\", labelCol=\"isFraud\")"
   ]
  },
  {
   "cell_type": "code",
   "execution_count": null,
   "metadata": {},
   "outputs": [],
   "source": [
    "modelDT = dt.fit(train)\n",
    "\n",
    "predictions = modelDT.transform(test)"
   ]
  },
  {
   "cell_type": "code",
   "execution_count": null,
   "metadata": {},
   "outputs": [],
   "source": [
    "# evaluation\n",
    "\n",
    "evaluator = BinaryClassificationEvaluator(rawPredictionCol=\"prediction\", labelCol=\"isFraud\")\n",
    "\n",
    "auc_rf = evaluator.evaluate(predictions)\n",
    "\n",
    "# Accuracy, Precision and Recall\n",
    "\n",
    "metrics = MulticlassClassificationEvaluator(predictionCol=\"prediction\",labelCol=\"isFraud\")\n",
    "\n",
    "accuracy_rf = metrics.evaluate(predictions, {metrics.metricName:\"accuracy\"})\n",
    "\n",
    "print(f\"AUC-ROC: \", auc_rf)\n",
    "\n",
    "print(f\"Accuracy: \", accuracy_rf)\n"
   ]
  },
  {
   "cell_type": "markdown",
   "metadata": {},
   "source": [
    "#### Hyperparameters tuning"
   ]
  },
  {
   "cell_type": "code",
   "execution_count": null,
   "metadata": {},
   "outputs": [],
   "source": [
    "# visualization of the overfitting\n",
    "\n",
    "\n",
    "# define the tree depths to evaluate\n",
    "values = [i for i in range(0, 6)]\n",
    "train_scores = []\n",
    "test_scores = []\n",
    "# evaluate a decision tree for each depth\n",
    "for i in values:\n",
    " # configure the model\n",
    " dt = DecisionTreeClassifier(featuresCol=\"my_features\",labelCol=\"isFraud\",maxDepth=i)\n",
    " # configure the evaluators and metrics\n",
    " evaluator = BinaryClassificationEvaluator(rawPredictionCol=\"prediction\", labelCol=\"isFraud\")\n",
    " metrics = MulticlassClassificationEvaluator(predictionCol=\"prediction\",labelCol=\"isFraud\")\n",
    " # fit model on the training dataset\n",
    " modelDT = dt.fit(train)\n",
    " # predictions on the training dataset\n",
    " predictions = modelDT.transform(train)\n",
    " # evaluate on the train dataset\n",
    " train_accuracy = metrics.evaluate(predictions, {metrics.metricName:\"accuracy\"})\n",
    " train_scores.append(train_accuracy)\n",
    " # evaluate on the test dataset\n",
    " predictions = modelDT.transform(test)\n",
    " test_accuracy = metrics.evaluate(predictions, {metrics.metricName:\"accuracy\"})\n",
    " test_scores.append(test_accuracy)\n",
    " # summarize progress\n",
    " print('>%d, train: %.3f, test: %.3f' % (i, train_accuracy, test_accuracy))\n",
    "\n",
    "\n",
    "# plot of train and test scores vs tree depth\n",
    "mpt.plot(values, train_scores, '-o', label='Train')\n",
    "mpt.plot(values, test_scores, '-o', label='Test')\n",
    "mpt.legend()\n",
    "mpt.show()"
   ]
  },
  {
   "cell_type": "code",
   "execution_count": null,
   "metadata": {},
   "outputs": [],
   "source": [
    "# evaluate in the training dataset\n",
    "\n",
    "predictions = modelDT.transform(train)\n",
    "\n",
    "evaluator = BinaryClassificationEvaluator(rawPredictionCol=\"prediction\", labelCol=\"isFraud\")\n",
    "\n",
    "auc_dt = evaluator.evaluate(predictions)\n",
    "\n",
    "# Accuracy, Precision and Recall\n",
    "\n",
    "metrics = MulticlassClassificationEvaluator(predictionCol=\"prediction\",labelCol=\"isFraud\")\n",
    "\n",
    "accuracy_dt = metrics.evaluate(predictions, {metrics.metricName:\"accuracy\"})\n",
    "\n",
    "precision_dt = metrics.evaluate(predictions, {metrics.metricName:\"weightedPrecision\"})\n",
    "\n",
    "recall_dt = metrics.evaluate(predictions, {metrics.metricName:\"weightedRecall\"})\n",
    "\n",
    "print(f\"AUC-ROC: \", auc_dt)\n",
    "\n",
    "print(f\"Accuracy: \", accuracy_dt)\n",
    "\n",
    "print(f\"Precsion: \", precision_dt)\n",
    "\n",
    "print(f\"Recall: \", recall_dt)\n",
    "\n",
    "# full the results list\n",
    "\n",
    "auc_roc.append(auc_dt)\n",
    "\n",
    "accuracy.append(accuracy_dt)\n",
    "\n",
    "recall.append(recall_dt)\n",
    "\n",
    "precision.append(precision_dt)\n",
    "\n",
    "name_model.append(\"Decision Tree\")\n"
   ]
  },
  {
   "cell_type": "code",
   "execution_count": null,
   "metadata": {},
   "outputs": [],
   "source": [
    "########################### ROC graphic ###########################\n",
    "\n",
    "preds_and_labels = predictions.select(\"prediction\", \"isFraud\")\n",
    "preds_and_labels_collect = preds_and_labels.collect()\n",
    "\n",
    "#preds_and_labels_list = [ (float(i[0][0]), 1.0 - float(i[1])) for i in preds_and_labels_collect  ]\n",
    "#preds_and_labels = sc.parallelize(preds_and_labels_list)\n",
    "\n",
    "#metrics = BinaryClassificationMetrics(preds_and_labels)\n",
    "\n",
    "######################### Visualization ###########################\n",
    "\n",
    "fpr = dict()\n",
    "tpr = dict()\n",
    "roc_auc = dict()\n",
    "\n",
    "y_test = [i[1] for i in preds_and_labels_collect]\n",
    "y_score = [i[0] for i in preds_and_labels_collect]\n",
    "\n",
    "fpr, tpr, _ = roc_curve(y_test, y_score)\n",
    "\n",
    "roc_auc = auc(fpr, tpr)\n",
    "\n",
    "print(\"The graphic ROC curve is:\")\n",
    "\n",
    "mpt.figure(figsize=(5,4))\n",
    "mpt.plot(fpr, tpr, label='ROC curve' % roc_auc)\n",
    "mpt.plot([0,1],[0,1],'k--')\n",
    "mpt.xlim([0.0,1.0])\n",
    "mpt.ylim([0.0,1.05])\n",
    "mpt.xlabel('False Positive Rate')\n",
    "mpt.ylabel('True Positive Rate')\n",
    "mpt.title('ROC Curve - Logistic Regression')\n",
    "mpt.show()"
   ]
  },
  {
   "cell_type": "code",
   "execution_count": null,
   "metadata": {},
   "outputs": [
    {
     "name": "stderr",
     "output_type": "stream",
     "text": [
      "24/05/29 00:07:26 WARN SQLConf: The SQL config 'spark.sql.execution.arrow.enabled' has been deprecated in Spark v3.0 and may be removed in the future. Use 'spark.sql.execution.arrow.pyspark.enabled' instead of it.\n",
      "24/05/29 00:07:26 WARN SQLConf: The SQL config 'spark.sql.execution.arrow.enabled' has been deprecated in Spark v3.0 and may be removed in the future. Use 'spark.sql.execution.arrow.pyspark.enabled' instead of it.\n",
      "24/05/29 00:07:26 WARN SQLConf: The SQL config 'spark.sql.execution.arrow.enabled' has been deprecated in Spark v3.0 and may be removed in the future. Use 'spark.sql.execution.arrow.pyspark.enabled' instead of it.\n",
      "24/05/29 00:07:26 WARN SQLConf: The SQL config 'spark.sql.execution.arrow.enabled' has been deprecated in Spark v3.0 and may be removed in the future. Use 'spark.sql.execution.arrow.pyspark.enabled' instead of it.\n",
      "24/05/29 00:07:26 WARN SQLConf: The SQL config 'spark.sql.execution.arrow.enabled' has been deprecated in Spark v3.0 and may be removed in the future. Use 'spark.sql.execution.arrow.pyspark.enabled' instead of it.\n",
      "24/05/29 00:07:26 WARN SQLConf: The SQL config 'spark.sql.execution.arrow.enabled' has been deprecated in Spark v3.0 and may be removed in the future. Use 'spark.sql.execution.arrow.pyspark.enabled' instead of it.\n",
      "24/05/29 00:07:26 WARN SQLConf: The SQL config 'spark.sql.execution.arrow.enabled' has been deprecated in Spark v3.0 and may be removed in the future. Use 'spark.sql.execution.arrow.pyspark.enabled' instead of it.\n",
      "24/05/29 00:07:26 WARN SQLConf: The SQL config 'spark.sql.execution.arrow.enabled' has been deprecated in Spark v3.0 and may be removed in the future. Use 'spark.sql.execution.arrow.pyspark.enabled' instead of it.\n",
      "24/05/29 00:07:26 WARN SQLConf: The SQL config 'spark.sql.execution.arrow.enabled' has been deprecated in Spark v3.0 and may be removed in the future. Use 'spark.sql.execution.arrow.pyspark.enabled' instead of it.\n",
      "24/05/29 00:07:26 WARN SQLConf: The SQL config 'spark.sql.execution.arrow.enabled' has been deprecated in Spark v3.0 and may be removed in the future. Use 'spark.sql.execution.arrow.pyspark.enabled' instead of it.\n",
      "24/05/29 00:07:34 WARN SQLConf: The SQL config 'spark.sql.execution.arrow.enabled' has been deprecated in Spark v3.0 and may be removed in the future. Use 'spark.sql.execution.arrow.pyspark.enabled' instead of it.\n",
      "24/05/29 00:07:34 WARN SQLConf: The SQL config 'spark.sql.execution.arrow.enabled' has been deprecated in Spark v3.0 and may be removed in the future. Use 'spark.sql.execution.arrow.pyspark.enabled' instead of it.\n",
      "24/05/29 00:07:34 WARN SQLConf: The SQL config 'spark.sql.execution.arrow.enabled' has been deprecated in Spark v3.0 and may be removed in the future. Use 'spark.sql.execution.arrow.pyspark.enabled' instead of it.\n",
      "24/05/29 00:07:34 WARN SQLConf: The SQL config 'spark.sql.execution.arrow.enabled' has been deprecated in Spark v3.0 and may be removed in the future. Use 'spark.sql.execution.arrow.pyspark.enabled' instead of it.\n",
      "24/05/29 00:07:34 WARN SQLConf: The SQL config 'spark.sql.execution.arrow.enabled' has been deprecated in Spark v3.0 and may be removed in the future. Use 'spark.sql.execution.arrow.pyspark.enabled' instead of it.\n",
      "24/05/29 00:07:34 WARN SQLConf: The SQL config 'spark.sql.execution.arrow.enabled' has been deprecated in Spark v3.0 and may be removed in the future. Use 'spark.sql.execution.arrow.pyspark.enabled' instead of it.\n",
      "24/05/29 00:07:34 WARN SQLConf: The SQL config 'spark.sql.execution.arrow.enabled' has been deprecated in Spark v3.0 and may be removed in the future. Use 'spark.sql.execution.arrow.pyspark.enabled' instead of it.\n",
      "24/05/29 00:07:34 WARN SQLConf: The SQL config 'spark.sql.execution.arrow.enabled' has been deprecated in Spark v3.0 and may be removed in the future. Use 'spark.sql.execution.arrow.pyspark.enabled' instead of it.\n",
      "24/05/29 00:07:34 WARN SQLConf: The SQL config 'spark.sql.execution.arrow.enabled' has been deprecated in Spark v3.0 and may be removed in the future. Use 'spark.sql.execution.arrow.pyspark.enabled' instead of it.\n",
      "24/05/29 00:07:34 WARN SQLConf: The SQL config 'spark.sql.execution.arrow.enabled' has been deprecated in Spark v3.0 and may be removed in the future. Use 'spark.sql.execution.arrow.pyspark.enabled' instead of it.\n",
      "24/05/29 00:07:42 WARN SQLConf: The SQL config 'spark.sql.execution.arrow.enabled' has been deprecated in Spark v3.0 and may be removed in the future. Use 'spark.sql.execution.arrow.pyspark.enabled' instead of it.\n",
      "24/05/29 00:07:42 WARN SQLConf: The SQL config 'spark.sql.execution.arrow.enabled' has been deprecated in Spark v3.0 and may be removed in the future. Use 'spark.sql.execution.arrow.pyspark.enabled' instead of it.\n",
      "24/05/29 00:07:42 WARN SQLConf: The SQL config 'spark.sql.execution.arrow.enabled' has been deprecated in Spark v3.0 and may be removed in the future. Use 'spark.sql.execution.arrow.pyspark.enabled' instead of it.\n",
      "24/05/29 00:07:42 WARN SQLConf: The SQL config 'spark.sql.execution.arrow.enabled' has been deprecated in Spark v3.0 and may be removed in the future. Use 'spark.sql.execution.arrow.pyspark.enabled' instead of it.\n",
      "24/05/29 00:07:42 WARN SQLConf: The SQL config 'spark.sql.execution.arrow.enabled' has been deprecated in Spark v3.0 and may be removed in the future. Use 'spark.sql.execution.arrow.pyspark.enabled' instead of it.\n",
      "24/05/29 00:07:42 WARN SQLConf: The SQL config 'spark.sql.execution.arrow.enabled' has been deprecated in Spark v3.0 and may be removed in the future. Use 'spark.sql.execution.arrow.pyspark.enabled' instead of it.\n",
      "24/05/29 00:07:42 WARN SQLConf: The SQL config 'spark.sql.execution.arrow.enabled' has been deprecated in Spark v3.0 and may be removed in the future. Use 'spark.sql.execution.arrow.pyspark.enabled' instead of it.\n",
      "24/05/29 00:07:42 WARN SQLConf: The SQL config 'spark.sql.execution.arrow.enabled' has been deprecated in Spark v3.0 and may be removed in the future. Use 'spark.sql.execution.arrow.pyspark.enabled' instead of it.\n",
      "24/05/29 00:07:42 WARN SQLConf: The SQL config 'spark.sql.execution.arrow.enabled' has been deprecated in Spark v3.0 and may be removed in the future. Use 'spark.sql.execution.arrow.pyspark.enabled' instead of it.\n",
      "24/05/29 00:07:42 WARN SQLConf: The SQL config 'spark.sql.execution.arrow.enabled' has been deprecated in Spark v3.0 and may be removed in the future. Use 'spark.sql.execution.arrow.pyspark.enabled' instead of it.\n",
      "24/05/29 00:07:50 WARN SQLConf: The SQL config 'spark.sql.execution.arrow.enabled' has been deprecated in Spark v3.0 and may be removed in the future. Use 'spark.sql.execution.arrow.pyspark.enabled' instead of it.\n",
      "24/05/29 00:07:50 WARN SQLConf: The SQL config 'spark.sql.execution.arrow.enabled' has been deprecated in Spark v3.0 and may be removed in the future. Use 'spark.sql.execution.arrow.pyspark.enabled' instead of it.\n",
      "24/05/29 00:07:50 WARN SQLConf: The SQL config 'spark.sql.execution.arrow.enabled' has been deprecated in Spark v3.0 and may be removed in the future. Use 'spark.sql.execution.arrow.pyspark.enabled' instead of it.\n",
      "24/05/29 00:07:50 WARN SQLConf: The SQL config 'spark.sql.execution.arrow.enabled' has been deprecated in Spark v3.0 and may be removed in the future. Use 'spark.sql.execution.arrow.pyspark.enabled' instead of it.\n",
      "24/05/29 00:07:50 WARN SQLConf: The SQL config 'spark.sql.execution.arrow.enabled' has been deprecated in Spark v3.0 and may be removed in the future. Use 'spark.sql.execution.arrow.pyspark.enabled' instead of it.\n",
      "24/05/29 00:07:50 WARN SQLConf: The SQL config 'spark.sql.execution.arrow.enabled' has been deprecated in Spark v3.0 and may be removed in the future. Use 'spark.sql.execution.arrow.pyspark.enabled' instead of it.\n",
      "24/05/29 00:07:50 WARN SQLConf: The SQL config 'spark.sql.execution.arrow.enabled' has been deprecated in Spark v3.0 and may be removed in the future. Use 'spark.sql.execution.arrow.pyspark.enabled' instead of it.\n",
      "24/05/29 00:07:50 WARN SQLConf: The SQL config 'spark.sql.execution.arrow.enabled' has been deprecated in Spark v3.0 and may be removed in the future. Use 'spark.sql.execution.arrow.pyspark.enabled' instead of it.\n",
      "24/05/29 00:07:50 WARN SQLConf: The SQL config 'spark.sql.execution.arrow.enabled' has been deprecated in Spark v3.0 and may be removed in the future. Use 'spark.sql.execution.arrow.pyspark.enabled' instead of it.\n",
      "24/05/29 00:07:50 WARN SQLConf: The SQL config 'spark.sql.execution.arrow.enabled' has been deprecated in Spark v3.0 and may be removed in the future. Use 'spark.sql.execution.arrow.pyspark.enabled' instead of it.\n",
      "[Stage 2468:=================================================>     (9 + 1) / 10]\r"
     ]
    },
    {
     "name": "stdout",
     "output_type": "stream",
     "text": [
      "AUC-ROC:  1.0\n",
      "Accuracy:  1.0\n",
      "Precsion:  1.0\n",
      "Recall:  1.0\n"
     ]
    },
    {
     "name": "stderr",
     "output_type": "stream",
     "text": [
      "                                                                                \r"
     ]
    }
   ],
   "source": [
    "# evaluate in the test dataset\n",
    "\n",
    "predictions = modelDT.transform(test)\n",
    "\n",
    "evaluator = BinaryClassificationEvaluator(rawPredictionCol=\"prediction\", labelCol=\"isFraud\")\n",
    "\n",
    "auc_rf = evaluator.evaluate(predictions)\n",
    "\n",
    "# Accuracy, Precision and Recall\n",
    "\n",
    "metrics = MulticlassClassificationEvaluator(predictionCol=\"prediction\",labelCol=\"isFraud\")\n",
    "\n",
    "accuracy_dt = metrics.evaluate(predictions, {metrics.metricName:\"accuracy\"})\n",
    "\n",
    "precision_dt = metrics.evaluate(predictions, {metrics.metricName:\"weightedPrecision\"})\n",
    "\n",
    "recall_dt = metrics.evaluate(predictions, {metrics.metricName:\"weightedRecall\"})\n",
    "\n",
    "print(f\"AUC-ROC: \", auc_rf)\n",
    "\n",
    "print(f\"Accuracy: \", accuracy_dt)\n",
    "\n",
    "print(f\"Precsion: \", precision_dt)\n",
    "\n",
    "print(f\"Recall: \", recall_dt)\n",
    "\n",
    "# full the results list\n",
    "\n",
    "auc_roc.append(auc_rf)\n",
    "\n",
    "accuracy.append(accuracy_rf)\n",
    "\n",
    "recall.append(recall_rf)\n",
    "\n",
    "precision.append(precision_rf)\n",
    "\n",
    "name_model.append(\"Decision Tree\")\n",
    "\n"
   ]
  },
  {
   "cell_type": "code",
   "execution_count": null,
   "metadata": {},
   "outputs": [],
   "source": [
    "########################### ROC graphic ###########################\n",
    "\n",
    "preds_and_labels = predictions.select(\"prediction\", \"isFraud\")\n",
    "preds_and_labels_collect = preds_and_labels.collect()\n",
    "\n",
    "#preds_and_labels_list = [ (float(i[0][0]), 1.0 - float(i[1])) for i in preds_and_labels_collect  ]\n",
    "#preds_and_labels = sc.parallelize(preds_and_labels_list)\n",
    "\n",
    "#metrics = BinaryClassificationMetrics(preds_and_labels)\n",
    "\n",
    "######################### Visualization ###########################\n",
    "\n",
    "fpr = dict()\n",
    "tpr = dict()\n",
    "roc_auc = dict()\n",
    "\n",
    "y_test = [i[1] for i in preds_and_labels_collect]\n",
    "y_score = [i[0] for i in preds_and_labels_collect]\n",
    "\n",
    "fpr, tpr, _ = roc_curve(y_test, y_score)\n",
    "\n",
    "roc_auc = auc(fpr, tpr)\n",
    "\n",
    "print(\"The graphic ROC curve is:\")\n",
    "\n",
    "mpt.figure(figsize=(5,4))\n",
    "mpt.plot(fpr, tpr, label='ROC curve' % roc_auc)\n",
    "mpt.plot([0,1],[0,1],'k--')\n",
    "mpt.xlim([0.0,1.0])\n",
    "mpt.ylim([0.0,1.05])\n",
    "mpt.xlabel('False Positive Rate')\n",
    "mpt.ylabel('True Positive Rate')\n",
    "mpt.title('ROC Curve - Logistic Regression')\n",
    "mpt.show()"
   ]
  },
  {
   "cell_type": "markdown",
   "metadata": {},
   "source": [
    "#### Predictions"
   ]
  },
  {
   "cell_type": "code",
   "execution_count": 124,
   "metadata": {},
   "outputs": [
    {
     "name": "stderr",
     "output_type": "stream",
     "text": [
      "[Stage 202:>                                                        (0 + 1) / 1]\r"
     ]
    },
    {
     "name": "stdout",
     "output_type": "stream",
     "text": [
      "+----+-------+------------+-------------+----------+------------+-------------+--------+--------+-------+--------------------+--------------------+---------------+-----------+----------+\n",
      "|step| amount|type_CASH_IN|type_CASH_OUT|type_DEBIT|type_PAYMENT|type_TRANSFER|type2_CC|type2_CM|isFraud|         my_features|            features|  rawPrediction|probability|prediction|\n",
      "+----+-------+------------+-------------+----------+------------+-------------+--------+--------+-------+--------------------+--------------------+---------------+-----------+----------+\n",
      "|   1|   8.73|           0|            0|         0|           1|            0|       0|       1|      0|(10,[0,1,3,8],[1....|(10,[0,1,3,8],[1....|[4441828.0,0.0]|  [1.0,0.0]|       0.0|\n",
      "|   1|  13.54|           0|            0|         0|           1|            0|       0|       1|      0|(10,[0,1,3,8],[1....|(10,[0,1,3,8],[1....|[4441828.0,0.0]|  [1.0,0.0]|       0.0|\n",
      "|   1|  23.31|           0|            0|         0|           1|            0|       0|       1|      0|(10,[0,1,3,8],[1....|(10,[0,1,3,8],[1....|[4441828.0,0.0]|  [1.0,0.0]|       0.0|\n",
      "|   1|  25.12|           0|            0|         0|           1|            0|       0|       1|      0|(10,[0,1,3,8],[1....|(10,[0,1,3,8],[1....|[4441828.0,0.0]|  [1.0,0.0]|       0.0|\n",
      "|   1|  53.35|           0|            0|         0|           1|            0|       0|       1|      0|(10,[0,1,3,8],[1....|(10,[0,1,3,8],[1....|[4441828.0,0.0]|  [1.0,0.0]|       0.0|\n",
      "|   1|  58.21|           0|            0|         0|           1|            0|       0|       1|      0|(10,[0,1,3,8],[1....|(10,[0,1,3,8],[1....|[4441828.0,0.0]|  [1.0,0.0]|       0.0|\n",
      "|   1| 112.56|           0|            0|         0|           1|            0|       0|       1|      0|(10,[0,1,3,8],[1....|(10,[0,1,3,8],[1....|[4441828.0,0.0]|  [1.0,0.0]|       0.0|\n",
      "|   1| 141.87|           0|            0|         0|           1|            0|       0|       1|      0|(10,[0,1,3,8],[1....|(10,[0,1,3,8],[1....|[4441828.0,0.0]|  [1.0,0.0]|       0.0|\n",
      "|   1|  181.0|           0|            1|         0|           0|            0|       1|       0|      1|(10,[0,1,2,7,9],[...|(10,[0,1,2,7,9],[...|[0.0,3477771.0]|  [0.0,1.0]|       1.0|\n",
      "|   1|  194.4|           0|            0|         1|           0|            0|       1|       0|      0|(10,[0,1,6,7],[1....|(10,[0,1,6,7],[1....|[4441828.0,0.0]|  [1.0,0.0]|       0.0|\n",
      "|   1| 226.29|           0|            0|         0|           1|            0|       0|       1|      0|(10,[0,1,3,8],[1....|(10,[0,1,3,8],[1....|[4441828.0,0.0]|  [1.0,0.0]|       0.0|\n",
      "|   1| 232.74|           0|            0|         0|           1|            0|       0|       1|      0|(10,[0,1,3,8],[1....|(10,[0,1,3,8],[1....|[4441828.0,0.0]|  [1.0,0.0]|       0.0|\n",
      "|   1| 264.93|           0|            0|         0|           1|            0|       0|       1|      0|(10,[0,1,3,8],[1....|(10,[0,1,3,8],[1....|[4441828.0,0.0]|  [1.0,0.0]|       0.0|\n",
      "|   1| 266.88|           0|            0|         0|           1|            0|       0|       1|      0|(10,[0,1,3,8],[1....|(10,[0,1,3,8],[1....|[4441828.0,0.0]|  [1.0,0.0]|       0.0|\n",
      "|   1| 280.59|           0|            0|         0|           1|            0|       0|       1|      0|(10,[0,1,3,8],[1....|(10,[0,1,3,8],[1....|[4441828.0,0.0]|  [1.0,0.0]|       0.0|\n",
      "|   1| 351.26|           0|            0|         0|           1|            0|       0|       1|      0|(10,[0,1,3,8],[1....|(10,[0,1,3,8],[1....|[4441828.0,0.0]|  [1.0,0.0]|       0.0|\n",
      "|   1|  353.9|           0|            0|         0|           1|            0|       0|       1|      0|(10,[0,1,3,8],[1....|(10,[0,1,3,8],[1....|[4441828.0,0.0]|  [1.0,0.0]|       0.0|\n",
      "|   1| 360.13|           0|            0|         0|           1|            0|       0|       1|      0|(10,[0,1,3,8],[1....|(10,[0,1,3,8],[1....|[4441828.0,0.0]|  [1.0,0.0]|       0.0|\n",
      "|   1| 372.34|           0|            0|         0|           1|            0|       0|       1|      0|(10,[0,1,3,8],[1....|(10,[0,1,3,8],[1....|[4441828.0,0.0]|  [1.0,0.0]|       0.0|\n",
      "|   1| 374.36|           0|            0|         1|           0|            0|       1|       0|      0|(10,[0,1,6,7],[1....|(10,[0,1,6,7],[1....|[4441828.0,0.0]|  [1.0,0.0]|       0.0|\n",
      "|   1| 402.54|           0|            0|         0|           1|            0|       0|       1|      0|(10,[0,1,3,8],[1....|(10,[0,1,3,8],[1....|[4441828.0,0.0]|  [1.0,0.0]|       0.0|\n",
      "|   1| 507.12|           0|            0|         0|           1|            0|       0|       1|      0|(10,[0,1,3,8],[1....|(10,[0,1,3,8],[1....|[4441828.0,0.0]|  [1.0,0.0]|       0.0|\n",
      "|   1| 525.89|           0|            0|         0|           1|            0|       0|       1|      0|(10,[0,1,3,8],[1....|(10,[0,1,3,8],[1....|[4441828.0,0.0]|  [1.0,0.0]|       0.0|\n",
      "|   1| 577.01|           0|            0|         0|           1|            0|       0|       1|      0|(10,[0,1,3,8],[1....|(10,[0,1,3,8],[1....|[4441828.0,0.0]|  [1.0,0.0]|       0.0|\n",
      "|   1| 598.24|           0|            0|         0|           1|            0|       0|       1|      0|(10,[0,1,3,8],[1....|(10,[0,1,3,8],[1....|[4441828.0,0.0]|  [1.0,0.0]|       0.0|\n",
      "|   1| 625.92|           0|            0|         1|           0|            0|       1|       0|      0|(10,[0,1,6,7],[1....|(10,[0,1,6,7],[1....|[4441828.0,0.0]|  [1.0,0.0]|       0.0|\n",
      "|   1| 635.55|           0|            0|         0|           1|            0|       0|       1|      0|(10,[0,1,3,8],[1....|(10,[0,1,3,8],[1....|[4441828.0,0.0]|  [1.0,0.0]|       0.0|\n",
      "|   1| 660.52|           0|            0|         0|           1|            0|       0|       1|      0|(10,[0,1,3,8],[1....|(10,[0,1,3,8],[1....|[4441828.0,0.0]|  [1.0,0.0]|       0.0|\n",
      "|   1| 664.35|           0|            0|         0|           1|            0|       0|       1|      0|(10,[0,1,3,8],[1....|(10,[0,1,3,8],[1....|[4441828.0,0.0]|  [1.0,0.0]|       0.0|\n",
      "|   1| 671.64|           0|            0|         0|           1|            0|       0|       1|      0|(10,[0,1,3,8],[1....|(10,[0,1,3,8],[1....|[4441828.0,0.0]|  [1.0,0.0]|       0.0|\n",
      "|   1| 688.53|           0|            0|         0|           1|            0|       0|       1|      0|(10,[0,1,3,8],[1....|(10,[0,1,3,8],[1....|[4441828.0,0.0]|  [1.0,0.0]|       0.0|\n",
      "|   1| 698.41|           0|            0|         0|           1|            0|       0|       1|      0|(10,[0,1,3,8],[1....|(10,[0,1,3,8],[1....|[4441828.0,0.0]|  [1.0,0.0]|       0.0|\n",
      "|   1| 700.86|           0|            0|         0|           1|            0|       0|       1|      0|(10,[0,1,3,8],[1....|(10,[0,1,3,8],[1....|[4441828.0,0.0]|  [1.0,0.0]|       0.0|\n",
      "|   1| 708.82|           0|            0|         0|           1|            0|       0|       1|      0|(10,[0,1,3,8],[1....|(10,[0,1,3,8],[1....|[4441828.0,0.0]|  [1.0,0.0]|       0.0|\n",
      "|   1| 727.25|           0|            0|         0|           1|            0|       0|       1|      0|(10,[0,1,3,8],[1....|(10,[0,1,3,8],[1....|[4441828.0,0.0]|  [1.0,0.0]|       0.0|\n",
      "|   1| 748.42|           0|            0|         0|           1|            0|       0|       1|      0|(10,[0,1,3,8],[1....|(10,[0,1,3,8],[1....|[4441828.0,0.0]|  [1.0,0.0]|       0.0|\n",
      "|   1| 760.21|           0|            0|         0|           1|            0|       0|       1|      0|(10,[0,1,3,8],[1....|(10,[0,1,3,8],[1....|[4441828.0,0.0]|  [1.0,0.0]|       0.0|\n",
      "|   1| 795.29|           0|            0|         0|           1|            0|       0|       1|      0|(10,[0,1,3,8],[1....|(10,[0,1,3,8],[1....|[4441828.0,0.0]|  [1.0,0.0]|       0.0|\n",
      "|   1| 823.36|           0|            0|         0|           1|            0|       0|       1|      0|(10,[0,1,3,8],[1....|(10,[0,1,3,8],[1....|[4441828.0,0.0]|  [1.0,0.0]|       0.0|\n",
      "|   1| 830.96|           0|            0|         0|           1|            0|       0|       1|      0|(10,[0,1,3,8],[1....|(10,[0,1,3,8],[1....|[4441828.0,0.0]|  [1.0,0.0]|       0.0|\n",
      "|   1| 848.74|           0|            0|         0|           1|            0|       0|       1|      0|(10,[0,1,3,8],[1....|(10,[0,1,3,8],[1....|[4441828.0,0.0]|  [1.0,0.0]|       0.0|\n",
      "|   1| 879.42|           0|            0|         0|           1|            0|       0|       1|      0|(10,[0,1,3,8],[1....|(10,[0,1,3,8],[1....|[4441828.0,0.0]|  [1.0,0.0]|       0.0|\n",
      "|   1| 881.26|           0|            0|         0|           1|            0|       0|       1|      0|(10,[0,1,3,8],[1....|(10,[0,1,3,8],[1....|[4441828.0,0.0]|  [1.0,0.0]|       0.0|\n",
      "|   1| 900.37|           0|            0|         0|           1|            0|       0|       1|      0|(10,[0,1,3,8],[1....|(10,[0,1,3,8],[1....|[4441828.0,0.0]|  [1.0,0.0]|       0.0|\n",
      "|   1| 909.33|           0|            0|         0|           1|            0|       0|       1|      0|(10,[0,1,3,8],[1....|(10,[0,1,3,8],[1....|[4441828.0,0.0]|  [1.0,0.0]|       0.0|\n",
      "|   1| 952.08|           0|            0|         0|           1|            0|       0|       1|      0|(10,[0,1,3,8],[1....|(10,[0,1,3,8],[1....|[4441828.0,0.0]|  [1.0,0.0]|       0.0|\n",
      "|   1| 962.43|           0|            0|         0|           1|            0|       0|       1|      0|(10,[0,1,3,8],[1....|(10,[0,1,3,8],[1....|[4441828.0,0.0]|  [1.0,0.0]|       0.0|\n",
      "|   1| 973.18|           0|            0|         0|           1|            0|       0|       1|      0|(10,[0,1,3,8],[1....|(10,[0,1,3,8],[1....|[4441828.0,0.0]|  [1.0,0.0]|       0.0|\n",
      "|   1| 993.46|           0|            0|         0|           1|            0|       0|       1|      0|(10,[0,1,3,8],[1....|(10,[0,1,3,8],[1....|[4441828.0,0.0]|  [1.0,0.0]|       0.0|\n",
      "|   1|1012.86|           0|            0|         0|           1|            0|       0|       1|      0|(10,[0,1,3,8],[1....|(10,[0,1,3,8],[1....|[4441828.0,0.0]|  [1.0,0.0]|       0.0|\n",
      "+----+-------+------------+-------------+----------+------------+-------------+--------+--------+-------+--------------------+--------------------+---------------+-----------+----------+\n",
      "only showing top 50 rows\n",
      "\n"
     ]
    },
    {
     "name": "stderr",
     "output_type": "stream",
     "text": [
      "                                                                                \r"
     ]
    }
   ],
   "source": [
    "# make predictions of the decision tree model using the test dataset\n",
    "\n",
    "predictions = modelDT.transform(test)\n",
    "\n",
    "predictions.show(50)"
   ]
  },
  {
   "cell_type": "markdown",
   "metadata": {},
   "source": [
    "### Evaluation"
   ]
  },
  {
   "cell_type": "markdown",
   "metadata": {},
   "source": [
    "#### Let´s check out the Confusion Matrix."
   ]
  },
  {
   "cell_type": "code",
   "execution_count": null,
   "metadata": {},
   "outputs": [],
   "source": [
    "preds_and_labels = predictions.select([\"prediction\",\"isFraud\"])\n",
    "preds_and_labels = preds_and_labels.withColumn(\"isFraud\", f.col(\"isFraud\").cast(FloatType())).orderBy(\"prediction\")\n",
    "\n",
    "metrics = MulticlassMetrics(preds_and_labels.rdd.map(tuple))\n",
    "\n",
    "print(\"The Confusion Matrix is:\")\n",
    "\n",
    "metrics.confusionMatrix().toArray()"
   ]
  },
  {
   "cell_type": "markdown",
   "metadata": {},
   "source": [
    "### 4.2.4 Naive Bayes"
   ]
  },
  {
   "cell_type": "markdown",
   "metadata": {},
   "source": [
    "#### Training"
   ]
  },
  {
   "cell_type": "code",
   "execution_count": 130,
   "metadata": {},
   "outputs": [],
   "source": [
    "# train the model Naive Bayes (nb)\n",
    "\n",
    "modelNB = CrossValidatorModel.load(\"tuningNBProof\")"
   ]
  },
  {
   "cell_type": "code",
   "execution_count": 131,
   "metadata": {},
   "outputs": [
    {
     "data": {
      "text/plain": [
       "pyspark.ml.tuning.CrossValidatorModel"
      ]
     },
     "execution_count": 131,
     "metadata": {},
     "output_type": "execute_result"
    }
   ],
   "source": [
    "type(modelNB)"
   ]
  },
  {
   "cell_type": "code",
   "execution_count": 485,
   "metadata": {},
   "outputs": [
    {
     "name": "stderr",
     "output_type": "stream",
     "text": [
      "24/05/29 00:18:34 WARN MemoryStore: Not enough space to cache rdd_8026_1 in memory! (computed 17.0 MiB so far)\n",
      "24/05/29 00:18:34 WARN MemoryStore: Not enough space to cache rdd_8026_7 in memory! (computed 17.0 MiB so far)\n",
      "24/05/29 00:18:44 WARN MemoryStore: Not enough space to cache rdd_8026_2 in memory! (computed 33.0 MiB so far)\n",
      "24/05/29 00:18:44 WARN MemoryStore: Not enough space to cache rdd_8026_5 in memory! (computed 33.0 MiB so far)\n",
      "24/05/29 00:18:44 WARN MemoryStore: Not enough space to cache rdd_8026_7 in memory! (computed 33.0 MiB so far)\n",
      "24/05/29 00:18:44 WARN MemoryStore: Not enough space to cache rdd_8026_8 in memory! (computed 33.0 MiB so far)\n",
      "24/05/29 00:18:44 WARN MemoryStore: Not enough space to cache rdd_8026_3 in memory! (computed 33.0 MiB so far)\n",
      "24/05/29 00:18:44 WARN MemoryStore: Not enough space to cache rdd_8026_1 in memory! (computed 65.0 MiB so far)\n",
      "24/05/29 00:18:46 WARN MemoryStore: Not enough space to cache rdd_8026_5 in memory! (computed 33.0 MiB so far)\n",
      "24/05/29 00:18:46 WARN MemoryStore: Not enough space to cache rdd_8026_7 in memory! (computed 33.0 MiB so far)\n",
      "24/05/29 00:18:46 WARN MemoryStore: Not enough space to cache rdd_8026_8 in memory! (computed 33.0 MiB so far)\n",
      "24/05/29 00:18:46 WARN MemoryStore: Not enough space to cache rdd_8026_2 in memory! (computed 33.0 MiB so far)\n",
      "24/05/29 00:18:46 WARN MemoryStore: Not enough space to cache rdd_8026_1 in memory! (computed 33.0 MiB so far)\n",
      "                                                                                \r"
     ]
    },
    {
     "name": "stderr",
     "output_type": "stream",
     "text": [
      "24/05/29 00:18:48 WARN MemoryStore: Not enough space to cache rdd_8026_5 in memory! (computed 33.0 MiB so far)\n",
      "24/05/29 00:18:48 WARN MemoryStore: Not enough space to cache rdd_8026_1 in memory! (computed 33.0 MiB so far)\n",
      "24/05/29 00:18:48 WARN MemoryStore: Not enough space to cache rdd_8026_8 in memory! (computed 33.0 MiB so far)\n",
      "24/05/29 00:18:48 WARN MemoryStore: Not enough space to cache rdd_8026_7 in memory! (computed 33.0 MiB so far)\n"
     ]
    }
   ],
   "source": [
    "nb = NaiveBayes(featuresCol=\"my_features\", labelCol=\"isFraud\")\n",
    "\n",
    "modelNB = nb.fit(train)\n",
    "\n",
    "predictions = modelNB.transform(test)\n"
   ]
  },
  {
   "cell_type": "code",
   "execution_count": 440,
   "metadata": {},
   "outputs": [
    {
     "name": "stdout",
     "output_type": "stream",
     "text": [
      "featuresCol: features column name. (default: features, current: my_features)\n",
      "labelCol: label column name. (default: label, current: isFraud)\n",
      "modelType: The model type which is a string (case-sensitive). Supported options: multinomial (default), bernoulli and gaussian. (default: multinomial)\n",
      "predictionCol: prediction column name. (default: prediction)\n",
      "probabilityCol: Column name for predicted class conditional probabilities. Note: Not all models output well-calibrated probability estimates! These probabilities should be treated as confidences, not precise probabilities. (default: probability)\n",
      "rawPredictionCol: raw prediction (a.k.a. confidence) column name. (default: rawPrediction)\n",
      "smoothing: The smoothing parameter, should be >= 0, default is 1.0 (default: 1.0)\n",
      "thresholds: Thresholds in multi-class classification to adjust the probability of predicting each class. Array must have length equal to the number of classes, with values > 0, excepting that at most one value may be 0. The class with largest value p/t is predicted, where p is the original probability of that class and t is the class's threshold. (undefined)\n",
      "weightCol: weight column name. If this is not set or empty, we treat all instance weights as 1.0. (undefined)\n"
     ]
    }
   ],
   "source": [
    "print(nb.explainParams())"
   ]
  },
  {
   "cell_type": "code",
   "execution_count": null,
   "metadata": {},
   "outputs": [],
   "source": [
    "# evaluation\n",
    "\n",
    "evaluator = BinaryClassificationEvaluator(rawPredictionCol=\"prediction\", labelCol=\"isFraud\")\n",
    "\n",
    "auc_rf = evaluator.evaluate(predictions)\n",
    "\n",
    "# Accuracy, Precision and Recall\n",
    "\n",
    "metrics = MulticlassClassificationEvaluator(predictionCol=\"prediction\",labelCol=\"isFraud\")\n",
    "\n",
    "accuracy_rf = metrics.evaluate(predictions, {metrics.metricName:\"accuracy\"})\n",
    "\n",
    "print(f\"AUC-ROC: \", auc_rf)\n",
    "\n",
    "print(f\"Accuracy: \", accuracy_rf)\n"
   ]
  },
  {
   "cell_type": "markdown",
   "metadata": {},
   "source": [
    "#### Hyperparameters tuning"
   ]
  },
  {
   "cell_type": "code",
   "execution_count": null,
   "metadata": {},
   "outputs": [],
   "source": [
    "# visualization of the overfitting\n",
    "\n",
    "# define the tree depths to evaluate\n",
    "values = [i for i in range(0, 6)]\n",
    "train_scores = []\n",
    "test_scores = []\n",
    "# evaluate a decision tree for each depth\n",
    "for i in values:\n",
    " # configure the model\n",
    " lr = NaiveBayes(labelCol=\"isFraud\", featuresCol=\"my_features\", smoothing=i)\n",
    " # configure the evaluators and metrics\n",
    " evaluator = BinaryClassificationEvaluator(rawPredictionCol=\"prediction\", labelCol=\"isFraud\")\n",
    " metrics = MulticlassClassificationEvaluator(predictionCol=\"prediction\",labelCol=\"isFraud\")\n",
    " # fit model on the training dataset\n",
    " modelLR = lr.fit(train)\n",
    " # predictions on the training dataset\n",
    " predictions = modelLR.transform(train)\n",
    " # evaluate on the train dataset\n",
    " train_accuracy = metrics.evaluate(predictions, {metrics.metricName:\"accuracy\"})\n",
    " train_scores.append(train_accuracy)\n",
    " # evaluate on the test dataset\n",
    " predictions = modelLR.transform(test)\n",
    " test_accuracy = metrics.evaluate(predictions, {metrics.metricName:\"accuracy\"})\n",
    " test_scores.append(test_accuracy)\n",
    " # summarize progress\n",
    " print('>%d, train: %.3f, test: %.3f' % (i, train_accuracy, test_accuracy))\n",
    "\n",
    " # plot of train and test scores vs tree depth\n",
    "\n",
    "mpt.plot(values, train_scores, '-o', label='Train')\n",
    "mpt.plot(values, test_scores, '-o', label='Test')\n",
    "mpt.legend()\n",
    "mpt.show()"
   ]
  },
  {
   "cell_type": "code",
   "execution_count": 442,
   "metadata": {},
   "outputs": [
    {
     "name": "stderr",
     "output_type": "stream",
     "text": [
      "24/05/28 23:37:49 WARN SQLConf: The SQL config 'spark.sql.execution.arrow.enabled' has been deprecated in Spark v3.0 and may be removed in the future. Use 'spark.sql.execution.arrow.pyspark.enabled' instead of it.\n",
      "24/05/28 23:37:49 WARN SQLConf: The SQL config 'spark.sql.execution.arrow.enabled' has been deprecated in Spark v3.0 and may be removed in the future. Use 'spark.sql.execution.arrow.pyspark.enabled' instead of it.\n",
      "24/05/28 23:37:49 WARN SQLConf: The SQL config 'spark.sql.execution.arrow.enabled' has been deprecated in Spark v3.0 and may be removed in the future. Use 'spark.sql.execution.arrow.pyspark.enabled' instead of it.\n",
      "24/05/28 23:37:49 WARN SQLConf: The SQL config 'spark.sql.execution.arrow.enabled' has been deprecated in Spark v3.0 and may be removed in the future. Use 'spark.sql.execution.arrow.pyspark.enabled' instead of it.\n",
      "24/05/28 23:37:49 WARN SQLConf: The SQL config 'spark.sql.execution.arrow.enabled' has been deprecated in Spark v3.0 and may be removed in the future. Use 'spark.sql.execution.arrow.pyspark.enabled' instead of it.\n",
      "24/05/28 23:37:49 WARN SQLConf: The SQL config 'spark.sql.execution.arrow.enabled' has been deprecated in Spark v3.0 and may be removed in the future. Use 'spark.sql.execution.arrow.pyspark.enabled' instead of it.\n",
      "24/05/28 23:37:49 WARN SQLConf: The SQL config 'spark.sql.execution.arrow.enabled' has been deprecated in Spark v3.0 and may be removed in the future. Use 'spark.sql.execution.arrow.pyspark.enabled' instead of it.\n",
      "24/05/28 23:37:49 WARN SQLConf: The SQL config 'spark.sql.execution.arrow.enabled' has been deprecated in Spark v3.0 and may be removed in the future. Use 'spark.sql.execution.arrow.pyspark.enabled' instead of it.\n",
      "24/05/28 23:37:49 WARN SQLConf: The SQL config 'spark.sql.execution.arrow.enabled' has been deprecated in Spark v3.0 and may be removed in the future. Use 'spark.sql.execution.arrow.pyspark.enabled' instead of it.\n",
      "24/05/28 23:37:49 WARN SQLConf: The SQL config 'spark.sql.execution.arrow.enabled' has been deprecated in Spark v3.0 and may be removed in the future. Use 'spark.sql.execution.arrow.pyspark.enabled' instead of it.\n",
      "24/05/28 23:38:01 WARN SQLConf: The SQL config 'spark.sql.execution.arrow.enabled' has been deprecated in Spark v3.0 and may be removed in the future. Use 'spark.sql.execution.arrow.pyspark.enabled' instead of it.\n",
      "24/05/28 23:38:01 WARN SQLConf: The SQL config 'spark.sql.execution.arrow.enabled' has been deprecated in Spark v3.0 and may be removed in the future. Use 'spark.sql.execution.arrow.pyspark.enabled' instead of it.\n",
      "24/05/28 23:38:01 WARN SQLConf: The SQL config 'spark.sql.execution.arrow.enabled' has been deprecated in Spark v3.0 and may be removed in the future. Use 'spark.sql.execution.arrow.pyspark.enabled' instead of it.\n",
      "24/05/28 23:38:01 WARN SQLConf: The SQL config 'spark.sql.execution.arrow.enabled' has been deprecated in Spark v3.0 and may be removed in the future. Use 'spark.sql.execution.arrow.pyspark.enabled' instead of it.\n",
      "24/05/28 23:38:01 WARN SQLConf: The SQL config 'spark.sql.execution.arrow.enabled' has been deprecated in Spark v3.0 and may be removed in the future. Use 'spark.sql.execution.arrow.pyspark.enabled' instead of it.\n",
      "24/05/28 23:38:01 WARN SQLConf: The SQL config 'spark.sql.execution.arrow.enabled' has been deprecated in Spark v3.0 and may be removed in the future. Use 'spark.sql.execution.arrow.pyspark.enabled' instead of it.\n",
      "24/05/28 23:38:01 WARN SQLConf: The SQL config 'spark.sql.execution.arrow.enabled' has been deprecated in Spark v3.0 and may be removed in the future. Use 'spark.sql.execution.arrow.pyspark.enabled' instead of it.\n",
      "24/05/28 23:38:01 WARN SQLConf: The SQL config 'spark.sql.execution.arrow.enabled' has been deprecated in Spark v3.0 and may be removed in the future. Use 'spark.sql.execution.arrow.pyspark.enabled' instead of it.\n",
      "24/05/28 23:38:01 WARN SQLConf: The SQL config 'spark.sql.execution.arrow.enabled' has been deprecated in Spark v3.0 and may be removed in the future. Use 'spark.sql.execution.arrow.pyspark.enabled' instead of it.\n",
      "24/05/28 23:38:01 WARN SQLConf: The SQL config 'spark.sql.execution.arrow.enabled' has been deprecated in Spark v3.0 and may be removed in the future. Use 'spark.sql.execution.arrow.pyspark.enabled' instead of it.\n",
      "24/05/28 23:38:12 WARN SQLConf: The SQL config 'spark.sql.execution.arrow.enabled' has been deprecated in Spark v3.0 and may be removed in the future. Use 'spark.sql.execution.arrow.pyspark.enabled' instead of it.\n",
      "24/05/28 23:38:12 WARN SQLConf: The SQL config 'spark.sql.execution.arrow.enabled' has been deprecated in Spark v3.0 and may be removed in the future. Use 'spark.sql.execution.arrow.pyspark.enabled' instead of it.\n",
      "24/05/28 23:38:12 WARN SQLConf: The SQL config 'spark.sql.execution.arrow.enabled' has been deprecated in Spark v3.0 and may be removed in the future. Use 'spark.sql.execution.arrow.pyspark.enabled' instead of it.\n",
      "24/05/28 23:38:12 WARN SQLConf: The SQL config 'spark.sql.execution.arrow.enabled' has been deprecated in Spark v3.0 and may be removed in the future. Use 'spark.sql.execution.arrow.pyspark.enabled' instead of it.\n",
      "24/05/28 23:38:12 WARN SQLConf: The SQL config 'spark.sql.execution.arrow.enabled' has been deprecated in Spark v3.0 and may be removed in the future. Use 'spark.sql.execution.arrow.pyspark.enabled' instead of it.\n",
      "24/05/28 23:38:12 WARN SQLConf: The SQL config 'spark.sql.execution.arrow.enabled' has been deprecated in Spark v3.0 and may be removed in the future. Use 'spark.sql.execution.arrow.pyspark.enabled' instead of it.\n",
      "24/05/28 23:38:12 WARN SQLConf: The SQL config 'spark.sql.execution.arrow.enabled' has been deprecated in Spark v3.0 and may be removed in the future. Use 'spark.sql.execution.arrow.pyspark.enabled' instead of it.\n",
      "24/05/28 23:38:12 WARN SQLConf: The SQL config 'spark.sql.execution.arrow.enabled' has been deprecated in Spark v3.0 and may be removed in the future. Use 'spark.sql.execution.arrow.pyspark.enabled' instead of it.\n",
      "24/05/28 23:38:12 WARN SQLConf: The SQL config 'spark.sql.execution.arrow.enabled' has been deprecated in Spark v3.0 and may be removed in the future. Use 'spark.sql.execution.arrow.pyspark.enabled' instead of it.\n",
      "24/05/28 23:38:12 WARN SQLConf: The SQL config 'spark.sql.execution.arrow.enabled' has been deprecated in Spark v3.0 and may be removed in the future. Use 'spark.sql.execution.arrow.pyspark.enabled' instead of it.\n",
      "24/05/28 23:38:24 WARN SQLConf: The SQL config 'spark.sql.execution.arrow.enabled' has been deprecated in Spark v3.0 and may be removed in the future. Use 'spark.sql.execution.arrow.pyspark.enabled' instead of it.\n",
      "24/05/28 23:38:24 WARN SQLConf: The SQL config 'spark.sql.execution.arrow.enabled' has been deprecated in Spark v3.0 and may be removed in the future. Use 'spark.sql.execution.arrow.pyspark.enabled' instead of it.\n",
      "24/05/28 23:38:24 WARN SQLConf: The SQL config 'spark.sql.execution.arrow.enabled' has been deprecated in Spark v3.0 and may be removed in the future. Use 'spark.sql.execution.arrow.pyspark.enabled' instead of it.\n",
      "24/05/28 23:38:24 WARN SQLConf: The SQL config 'spark.sql.execution.arrow.enabled' has been deprecated in Spark v3.0 and may be removed in the future. Use 'spark.sql.execution.arrow.pyspark.enabled' instead of it.\n",
      "24/05/28 23:38:24 WARN SQLConf: The SQL config 'spark.sql.execution.arrow.enabled' has been deprecated in Spark v3.0 and may be removed in the future. Use 'spark.sql.execution.arrow.pyspark.enabled' instead of it.\n",
      "24/05/28 23:38:24 WARN SQLConf: The SQL config 'spark.sql.execution.arrow.enabled' has been deprecated in Spark v3.0 and may be removed in the future. Use 'spark.sql.execution.arrow.pyspark.enabled' instead of it.\n",
      "24/05/28 23:38:24 WARN SQLConf: The SQL config 'spark.sql.execution.arrow.enabled' has been deprecated in Spark v3.0 and may be removed in the future. Use 'spark.sql.execution.arrow.pyspark.enabled' instead of it.\n",
      "24/05/28 23:38:24 WARN SQLConf: The SQL config 'spark.sql.execution.arrow.enabled' has been deprecated in Spark v3.0 and may be removed in the future. Use 'spark.sql.execution.arrow.pyspark.enabled' instead of it.\n",
      "24/05/28 23:38:24 WARN SQLConf: The SQL config 'spark.sql.execution.arrow.enabled' has been deprecated in Spark v3.0 and may be removed in the future. Use 'spark.sql.execution.arrow.pyspark.enabled' instead of it.\n",
      "24/05/28 23:38:24 WARN SQLConf: The SQL config 'spark.sql.execution.arrow.enabled' has been deprecated in Spark v3.0 and may be removed in the future. Use 'spark.sql.execution.arrow.pyspark.enabled' instead of it.\n",
      "[Stage 2348:=================================================>     (9 + 1) / 10]\r"
     ]
    },
    {
     "name": "stdout",
     "output_type": "stream",
     "text": [
      "AUC-ROC:  1.0\n",
      "Accuracy:  1.0\n",
      "Precsion:  1.0\n",
      "Recall:  1.0\n"
     ]
    },
    {
     "name": "stderr",
     "output_type": "stream",
     "text": [
      "                                                                                \r"
     ]
    }
   ],
   "source": [
    "# evaluate in the training dataset\n",
    "\n",
    "predictions = modelDT.transform(train)\n",
    "\n",
    "evaluator = BinaryClassificationEvaluator(rawPredictionCol=\"prediction\", labelCol=\"isFraud\")\n",
    "\n",
    "auc_dt = evaluator.evaluate(predictions)\n",
    "\n",
    "# Accuracy, Precision and Recall\n",
    "\n",
    "metrics = MulticlassClassificationEvaluator(predictionCol=\"prediction\",labelCol=\"isFraud\")\n",
    "\n",
    "accuracy_dt = metrics.evaluate(predictions, {metrics.metricName:\"accuracy\"})\n",
    "\n",
    "precision_dt = metrics.evaluate(predictions, {metrics.metricName:\"weightedPrecision\"})\n",
    "\n",
    "recall_dt = metrics.evaluate(predictions, {metrics.metricName:\"weightedRecall\"})\n",
    "\n",
    "print(f\"AUC-ROC: \", auc_dt)\n",
    "\n",
    "print(f\"Accuracy: \", accuracy_dt)\n",
    "\n",
    "print(f\"Precsion: \", precision_dt)\n",
    "\n",
    "print(f\"Recall: \", recall_dt)\n",
    "\n",
    "# full the results list\n",
    "\n",
    "auc_roc.append(auc_dt)\n",
    "\n",
    "accuracy.append(accuracy_dt)\n",
    "\n",
    "recall.append(recall_dt)\n",
    "\n",
    "precision.append(precision_dt)\n",
    "\n",
    "name_model.append(\"Naive Bayes\")\n",
    "\n"
   ]
  },
  {
   "cell_type": "code",
   "execution_count": 443,
   "metadata": {},
   "outputs": [
    {
     "name": "stderr",
     "output_type": "stream",
     "text": [
      "                                                                                \r"
     ]
    },
    {
     "name": "stdout",
     "output_type": "stream",
     "text": [
      "The graphic ROC curve is:\n"
     ]
    },
    {
     "data": {
      "image/png": "[encoded data removed]",
      "text/plain": [
       "<Figure size 500x400 with 1 Axes>"
      ]
     },
     "metadata": {},
     "output_type": "display_data"
    }
   ],
   "source": [
    "########################### ROC graphic ###########################\n",
    "\n",
    "preds_and_labels = predictions.select(\"prediction\", \"isFraud\")\n",
    "preds_and_labels_collect = preds_and_labels.collect()\n",
    "\n",
    "#preds_and_labels_list = [ (float(i[0][0]), 1.0 - float(i[1])) for i in preds_and_labels_collect  ]\n",
    "#preds_and_labels = sc.parallelize(preds_and_labels_list)\n",
    "\n",
    "#metrics = BinaryClassificationMetrics(preds_and_labels)\n",
    "\n",
    "######################### Visualization ###########################\n",
    "\n",
    "fpr = dict()\n",
    "tpr = dict()\n",
    "roc_auc = dict()\n",
    "\n",
    "y_test = [i[1] for i in preds_and_labels_collect]\n",
    "y_score = [i[0] for i in preds_and_labels_collect]\n",
    "\n",
    "fpr, tpr, _ = roc_curve(y_test, y_score)\n",
    "\n",
    "roc_auc = auc(fpr, tpr)\n",
    "\n",
    "print(\"The graphic ROC curve is:\")\n",
    "\n",
    "mpt.figure(figsize=(5,4))\n",
    "mpt.plot(fpr, tpr, label='ROC curve' % roc_auc)\n",
    "mpt.plot([0,1],[0,1],'k--')\n",
    "mpt.xlim([0.0,1.0])\n",
    "mpt.ylim([0.0,1.05])\n",
    "mpt.xlabel('False Positive Rate')\n",
    "mpt.ylabel('True Positive Rate')\n",
    "mpt.title('ROC Curve - Logistic Regression')\n",
    "mpt.show()\n"
   ]
  },
  {
   "cell_type": "code",
   "execution_count": 486,
   "metadata": {},
   "outputs": [
    {
     "name": "stderr",
     "output_type": "stream",
     "text": [
      "24/05/29 00:18:50 WARN SQLConf: The SQL config 'spark.sql.execution.arrow.enabled' has been deprecated in Spark v3.0 and may be removed in the future. Use 'spark.sql.execution.arrow.pyspark.enabled' instead of it.\n",
      "24/05/29 00:18:50 WARN SQLConf: The SQL config 'spark.sql.execution.arrow.enabled' has been deprecated in Spark v3.0 and may be removed in the future. Use 'spark.sql.execution.arrow.pyspark.enabled' instead of it.\n",
      "24/05/29 00:18:50 WARN SQLConf: The SQL config 'spark.sql.execution.arrow.enabled' has been deprecated in Spark v3.0 and may be removed in the future. Use 'spark.sql.execution.arrow.pyspark.enabled' instead of it.\n",
      "24/05/29 00:18:50 WARN SQLConf: The SQL config 'spark.sql.execution.arrow.enabled' has been deprecated in Spark v3.0 and may be removed in the future. Use 'spark.sql.execution.arrow.pyspark.enabled' instead of it.\n",
      "24/05/29 00:18:50 WARN SQLConf: The SQL config 'spark.sql.execution.arrow.enabled' has been deprecated in Spark v3.0 and may be removed in the future. Use 'spark.sql.execution.arrow.pyspark.enabled' instead of it.\n",
      "24/05/29 00:18:50 WARN SQLConf: The SQL config 'spark.sql.execution.arrow.enabled' has been deprecated in Spark v3.0 and may be removed in the future. Use 'spark.sql.execution.arrow.pyspark.enabled' instead of it.\n",
      "24/05/29 00:18:50 WARN SQLConf: The SQL config 'spark.sql.execution.arrow.enabled' has been deprecated in Spark v3.0 and may be removed in the future. Use 'spark.sql.execution.arrow.pyspark.enabled' instead of it.\n",
      "24/05/29 00:18:50 WARN SQLConf: The SQL config 'spark.sql.execution.arrow.enabled' has been deprecated in Spark v3.0 and may be removed in the future. Use 'spark.sql.execution.arrow.pyspark.enabled' instead of it.\n",
      "24/05/29 00:18:50 WARN SQLConf: The SQL config 'spark.sql.execution.arrow.enabled' has been deprecated in Spark v3.0 and may be removed in the future. Use 'spark.sql.execution.arrow.pyspark.enabled' instead of it.\n",
      "24/05/29 00:18:52 WARN SQLConf: The SQL config 'spark.sql.execution.arrow.enabled' has been deprecated in Spark v3.0 and may be removed in the future. Use 'spark.sql.execution.arrow.pyspark.enabled' instead of it.\n",
      "24/05/29 00:18:56 WARN MemoryStore: Not enough space to cache rdd_8026_1 in memory! (computed 33.0 MiB so far)\n",
      "24/05/29 00:18:56 WARN MemoryStore: Not enough space to cache rdd_8026_8 in memory! (computed 17.0 MiB so far)\n",
      "24/05/29 00:18:56 WARN MemoryStore: Not enough space to cache rdd_8026_7 in memory! (computed 33.0 MiB so far)\n",
      "24/05/29 00:18:58 WARN MemoryStore: Not enough space to cache rdd_8026_7 in memory! (computed 17.0 MiB so far)\n",
      "24/05/29 00:18:58 WARN MemoryStore: Not enough space to cache rdd_8026_1 in memory! (computed 33.0 MiB so far)\n",
      "24/05/29 00:18:58 WARN MemoryStore: Not enough space to cache rdd_8026_8 in memory! (computed 33.0 MiB so far)\n",
      "24/05/29 00:19:01 WARN SQLConf: The SQL config 'spark.sql.execution.arrow.enabled' has been deprecated in Spark v3.0 and may be removed in the future. Use 'spark.sql.execution.arrow.pyspark.enabled' instead of it.\n",
      "24/05/29 00:19:01 WARN SQLConf: The SQL config 'spark.sql.execution.arrow.enabled' has been deprecated in Spark v3.0 and may be removed in the future. Use 'spark.sql.execution.arrow.pyspark.enabled' instead of it.\n",
      "24/05/29 00:19:01 WARN SQLConf: The SQL config 'spark.sql.execution.arrow.enabled' has been deprecated in Spark v3.0 and may be removed in the future. Use 'spark.sql.execution.arrow.pyspark.enabled' instead of it.\n",
      "24/05/29 00:19:01 WARN SQLConf: The SQL config 'spark.sql.execution.arrow.enabled' has been deprecated in Spark v3.0 and may be removed in the future. Use 'spark.sql.execution.arrow.pyspark.enabled' instead of it.\n",
      "24/05/29 00:19:01 WARN SQLConf: The SQL config 'spark.sql.execution.arrow.enabled' has been deprecated in Spark v3.0 and may be removed in the future. Use 'spark.sql.execution.arrow.pyspark.enabled' instead of it.\n",
      "24/05/29 00:19:01 WARN SQLConf: The SQL config 'spark.sql.execution.arrow.enabled' has been deprecated in Spark v3.0 and may be removed in the future. Use 'spark.sql.execution.arrow.pyspark.enabled' instead of it.\n",
      "24/05/29 00:19:01 WARN SQLConf: The SQL config 'spark.sql.execution.arrow.enabled' has been deprecated in Spark v3.0 and may be removed in the future. Use 'spark.sql.execution.arrow.pyspark.enabled' instead of it.\n",
      "24/05/29 00:19:01 WARN SQLConf: The SQL config 'spark.sql.execution.arrow.enabled' has been deprecated in Spark v3.0 and may be removed in the future. Use 'spark.sql.execution.arrow.pyspark.enabled' instead of it.\n",
      "24/05/29 00:19:01 WARN SQLConf: The SQL config 'spark.sql.execution.arrow.enabled' has been deprecated in Spark v3.0 and may be removed in the future. Use 'spark.sql.execution.arrow.pyspark.enabled' instead of it.\n",
      "24/05/29 00:19:01 WARN SQLConf: The SQL config 'spark.sql.execution.arrow.enabled' has been deprecated in Spark v3.0 and may be removed in the future. Use 'spark.sql.execution.arrow.pyspark.enabled' instead of it.\n",
      "24/05/29 00:19:09 WARN SQLConf: The SQL config 'spark.sql.execution.arrow.enabled' has been deprecated in Spark v3.0 and may be removed in the future. Use 'spark.sql.execution.arrow.pyspark.enabled' instead of it.\n",
      "24/05/29 00:19:09 WARN SQLConf: The SQL config 'spark.sql.execution.arrow.enabled' has been deprecated in Spark v3.0 and may be removed in the future. Use 'spark.sql.execution.arrow.pyspark.enabled' instead of it.\n",
      "24/05/29 00:19:09 WARN SQLConf: The SQL config 'spark.sql.execution.arrow.enabled' has been deprecated in Spark v3.0 and may be removed in the future. Use 'spark.sql.execution.arrow.pyspark.enabled' instead of it.\n",
      "24/05/29 00:19:09 WARN SQLConf: The SQL config 'spark.sql.execution.arrow.enabled' has been deprecated in Spark v3.0 and may be removed in the future. Use 'spark.sql.execution.arrow.pyspark.enabled' instead of it.\n",
      "24/05/29 00:19:09 WARN SQLConf: The SQL config 'spark.sql.execution.arrow.enabled' has been deprecated in Spark v3.0 and may be removed in the future. Use 'spark.sql.execution.arrow.pyspark.enabled' instead of it.\n",
      "24/05/29 00:19:09 WARN SQLConf: The SQL config 'spark.sql.execution.arrow.enabled' has been deprecated in Spark v3.0 and may be removed in the future. Use 'spark.sql.execution.arrow.pyspark.enabled' instead of it.\n",
      "24/05/29 00:19:09 WARN SQLConf: The SQL config 'spark.sql.execution.arrow.enabled' has been deprecated in Spark v3.0 and may be removed in the future. Use 'spark.sql.execution.arrow.pyspark.enabled' instead of it.\n",
      "24/05/29 00:19:09 WARN SQLConf: The SQL config 'spark.sql.execution.arrow.enabled' has been deprecated in Spark v3.0 and may be removed in the future. Use 'spark.sql.execution.arrow.pyspark.enabled' instead of it.\n",
      "24/05/29 00:19:09 WARN SQLConf: The SQL config 'spark.sql.execution.arrow.enabled' has been deprecated in Spark v3.0 and may be removed in the future. Use 'spark.sql.execution.arrow.pyspark.enabled' instead of it.\n",
      "24/05/29 00:19:09 WARN SQLConf: The SQL config 'spark.sql.execution.arrow.enabled' has been deprecated in Spark v3.0 and may be removed in the future. Use 'spark.sql.execution.arrow.pyspark.enabled' instead of it.\n",
      "24/05/29 00:19:17 WARN SQLConf: The SQL config 'spark.sql.execution.arrow.enabled' has been deprecated in Spark v3.0 and may be removed in the future. Use 'spark.sql.execution.arrow.pyspark.enabled' instead of it.\n",
      "24/05/29 00:19:17 WARN SQLConf: The SQL config 'spark.sql.execution.arrow.enabled' has been deprecated in Spark v3.0 and may be removed in the future. Use 'spark.sql.execution.arrow.pyspark.enabled' instead of it.\n",
      "24/05/29 00:19:17 WARN SQLConf: The SQL config 'spark.sql.execution.arrow.enabled' has been deprecated in Spark v3.0 and may be removed in the future. Use 'spark.sql.execution.arrow.pyspark.enabled' instead of it.\n",
      "24/05/29 00:19:17 WARN SQLConf: The SQL config 'spark.sql.execution.arrow.enabled' has been deprecated in Spark v3.0 and may be removed in the future. Use 'spark.sql.execution.arrow.pyspark.enabled' instead of it.\n",
      "24/05/29 00:19:17 WARN SQLConf: The SQL config 'spark.sql.execution.arrow.enabled' has been deprecated in Spark v3.0 and may be removed in the future. Use 'spark.sql.execution.arrow.pyspark.enabled' instead of it.\n",
      "24/05/29 00:19:17 WARN SQLConf: The SQL config 'spark.sql.execution.arrow.enabled' has been deprecated in Spark v3.0 and may be removed in the future. Use 'spark.sql.execution.arrow.pyspark.enabled' instead of it.\n",
      "24/05/29 00:19:17 WARN SQLConf: The SQL config 'spark.sql.execution.arrow.enabled' has been deprecated in Spark v3.0 and may be removed in the future. Use 'spark.sql.execution.arrow.pyspark.enabled' instead of it.\n",
      "24/05/29 00:19:17 WARN SQLConf: The SQL config 'spark.sql.execution.arrow.enabled' has been deprecated in Spark v3.0 and may be removed in the future. Use 'spark.sql.execution.arrow.pyspark.enabled' instead of it.\n",
      "24/05/29 00:19:17 WARN SQLConf: The SQL config 'spark.sql.execution.arrow.enabled' has been deprecated in Spark v3.0 and may be removed in the future. Use 'spark.sql.execution.arrow.pyspark.enabled' instead of it.\n",
      "24/05/29 00:19:17 WARN SQLConf: The SQL config 'spark.sql.execution.arrow.enabled' has been deprecated in Spark v3.0 and may be removed in the future. Use 'spark.sql.execution.arrow.pyspark.enabled' instead of it.\n",
      "[Stage 2597:=================================================>     (9 + 1) / 10]\r"
     ]
    },
    {
     "name": "stdout",
     "output_type": "stream",
     "text": [
      "AUC-ROC:  0.6549852118719726\n",
      "Accuracy:  0.6737159738328996\n",
      "Precsion:  0.6734698164401426\n",
      "Recall:  0.6737159738328995\n"
     ]
    },
    {
     "name": "stderr",
     "output_type": "stream",
     "text": [
      "                                                                                \r"
     ]
    }
   ],
   "source": [
    "# evaluate in the test dataset\n",
    "\n",
    "predictions = modelNB.transform(test)\n",
    "\n",
    "evaluator = BinaryClassificationEvaluator(rawPredictionCol=\"prediction\", labelCol=\"isFraud\")\n",
    "\n",
    "auc_dt = evaluator.evaluate(predictions)\n",
    "\n",
    "# Accuracy, Precision and Recall\n",
    "\n",
    "metrics = MulticlassClassificationEvaluator(predictionCol=\"prediction\",labelCol=\"isFraud\")\n",
    "\n",
    "accuracy_dt = metrics.evaluate(predictions, {metrics.metricName:\"accuracy\"})\n",
    "\n",
    "precision_dt = metrics.evaluate(predictions, {metrics.metricName:\"weightedPrecision\"})\n",
    "\n",
    "recall_dt = metrics.evaluate(predictions, {metrics.metricName:\"weightedRecall\"})\n",
    "\n",
    "print(f\"AUC-ROC: \", auc_dt)\n",
    "\n",
    "print(f\"Accuracy: \", accuracy_dt)\n",
    "\n",
    "print(f\"Precsion: \", precision_dt)\n",
    "\n",
    "print(f\"Recall: \", recall_dt)\n",
    "\n",
    "# full the results list\n",
    "\n",
    "auc_roc.append(auc_dt)\n",
    "\n",
    "accuracy.append(accuracy_dt)\n",
    "\n",
    "recall.append(recall_dt)\n",
    "\n",
    "precision.append(precision_dt)\n",
    "\n",
    "name_model.append(\"Naive Bayes\")\n",
    "\n"
   ]
  },
  {
   "cell_type": "code",
   "execution_count": 445,
   "metadata": {},
   "outputs": [
    {
     "name": "stderr",
     "output_type": "stream",
     "text": [
      "                                                                                \r"
     ]
    },
    {
     "name": "stdout",
     "output_type": "stream",
     "text": [
      "The graphic ROC curve is:\n"
     ]
    },
    {
     "data": {
      "image/png": "[encoded data removed]",
      "text/plain": [
       "<Figure size 500x400 with 1 Axes>"
      ]
     },
     "metadata": {},
     "output_type": "display_data"
    }
   ],
   "source": [
    "########################### ROC graphic ###########################\n",
    "\n",
    "preds_and_labels = predictions.select(\"prediction\", \"isFraud\")\n",
    "preds_and_labels_collect = preds_and_labels.collect()\n",
    "\n",
    "#preds_and_labels_list = [ (float(i[0][0]), 1.0 - float(i[1])) for i in preds_and_labels_collect  ]\n",
    "#preds_and_labels = sc.parallelize(preds_and_labels_list)\n",
    "\n",
    "#metrics = BinaryClassificationMetrics(preds_and_labels)\n",
    "\n",
    "######################### Visualization ###########################\n",
    "\n",
    "fpr = dict()\n",
    "tpr = dict()\n",
    "roc_auc = dict()\n",
    "\n",
    "y_test = [i[1] for i in preds_and_labels_collect]\n",
    "y_score = [i[0] for i in preds_and_labels_collect]\n",
    "\n",
    "fpr, tpr, _ = roc_curve(y_test, y_score)\n",
    "\n",
    "roc_auc = auc(fpr, tpr)\n",
    "\n",
    "print(\"The graphic ROC curve is:\")\n",
    "\n",
    "mpt.figure(figsize=(5,4))\n",
    "mpt.plot(fpr, tpr, label='ROC curve' % roc_auc)\n",
    "mpt.plot([0,1],[0,1],'k--')\n",
    "mpt.xlim([0.0,1.0])\n",
    "mpt.ylim([0.0,1.05])\n",
    "mpt.xlabel('False Positive Rate')\n",
    "mpt.ylabel('True Positive Rate')\n",
    "mpt.title('ROC Curve - Logistic Regression')\n",
    "mpt.show()"
   ]
  },
  {
   "cell_type": "markdown",
   "metadata": {},
   "source": [
    "#### Predictions"
   ]
  },
  {
   "cell_type": "code",
   "execution_count": 135,
   "metadata": {},
   "outputs": [
    {
     "name": "stderr",
     "output_type": "stream",
     "text": [
      "[Stage 246:>                                                        (0 + 1) / 1]\r"
     ]
    },
    {
     "name": "stdout",
     "output_type": "stream",
     "text": [
      "+----+-------+------------+-------------+----------+------------+-------------+--------+--------+-------+--------------------+--------------------+--------------------+-----------+----------+\n",
      "|step| amount|type_CASH_IN|type_CASH_OUT|type_DEBIT|type_PAYMENT|type_TRANSFER|type2_CC|type2_CM|isFraud|         my_features|            features|       rawPrediction|probability|prediction|\n",
      "+----+-------+------------+-------------+----------+------------+-------------+--------+--------+-------+--------------------+--------------------+--------------------+-----------+----------+\n",
      "|   1|   8.73|           0|            0|         0|           1|            0|       0|       1|      0|(10,[0,1,3,8],[1....|(10,[0,1,3,8],[1....|[-33.461561721126...|  [1.0,0.0]|       0.0|\n",
      "|   1|  13.54|           0|            0|         0|           1|            0|       0|       1|      0|(10,[0,1,3,8],[1....|(10,[0,1,3,8],[1....|[-33.468347416645...|  [1.0,0.0]|       0.0|\n",
      "|   1|  23.31|           0|            0|         0|           1|            0|       0|       1|      0|(10,[0,1,3,8],[1....|(10,[0,1,3,8],[1....|[-33.482130419809...|  [1.0,0.0]|       0.0|\n",
      "|   1|  25.12|           0|            0|         0|           1|            0|       0|       1|      0|(10,[0,1,3,8],[1....|(10,[0,1,3,8],[1....|[-33.484683872801...|  [1.0,0.0]|       0.0|\n",
      "|   1|  53.35|           0|            0|         0|           1|            0|       0|       1|      0|(10,[0,1,3,8],[1....|(10,[0,1,3,8],[1....|[-33.524509274985...|  [1.0,0.0]|       0.0|\n",
      "|   1|  58.21|           0|            0|         0|           1|            0|       0|       1|      0|(10,[0,1,3,8],[1....|(10,[0,1,3,8],[1....|[-33.531365507879...|  [1.0,0.0]|       0.0|\n",
      "|   1| 112.56|           0|            0|         0|           1|            0|       0|       1|      0|(10,[0,1,3,8],[1....|(10,[0,1,3,8],[1....|[-33.608039635002...|  [1.0,0.0]|       0.0|\n",
      "|   1| 141.87|           0|            0|         0|           1|            0|       0|       1|      0|(10,[0,1,3,8],[1....|(10,[0,1,3,8],[1....|[-33.649388644496...|  [1.0,0.0]|       0.0|\n",
      "|   1|  181.0|           0|            1|         0|           0|            0|       1|       0|      1|(10,[0,1,2,7,9],[...|(10,[0,1,2,7,9],[...|[-Infinity,-52.22...|  [0.0,1.0]|       1.0|\n",
      "|   1|  194.4|           0|            0|         1|           0|            0|       1|       0|      0|(10,[0,1,6,7],[1....|(10,[0,1,6,7],[1....|[-37.004612591643...|  [1.0,0.0]|       0.0|\n",
      "|   1| 226.29|           0|            0|         0|           1|            0|       0|       1|      0|(10,[0,1,3,8],[1....|(10,[0,1,3,8],[1....|[-33.768483949219...|  [1.0,0.0]|       0.0|\n",
      "|   1| 232.74|           0|            0|         0|           1|            0|       0|       1|      0|(10,[0,1,3,8],[1....|(10,[0,1,3,8],[1....|[-33.777583270653...|  [1.0,0.0]|       0.0|\n",
      "|   1| 264.93|           0|            0|         0|           1|            0|       0|       1|      0|(10,[0,1,3,8],[1....|(10,[0,1,3,8],[1....|[-33.822995232973...|  [1.0,0.0]|       0.0|\n",
      "|   1| 266.88|           0|            0|         0|           1|            0|       0|       1|      0|(10,[0,1,3,8],[1....|(10,[0,1,3,8],[1....|[-33.825746190616...|  [1.0,0.0]|       0.0|\n",
      "|   1| 280.59|           0|            0|         0|           1|            0|       0|       1|      0|(10,[0,1,3,8],[1....|(10,[0,1,3,8],[1....|[-33.845087538967...|  [1.0,0.0]|       0.0|\n",
      "|   1| 351.26|           0|            0|         0|           1|            0|       0|       1|      0|(10,[0,1,3,8],[1....|(10,[0,1,3,8],[1....|[-33.944785065439...|  [1.0,0.0]|       0.0|\n",
      "|   1|  353.9|           0|            0|         0|           1|            0|       0|       1|      0|(10,[0,1,3,8],[1....|(10,[0,1,3,8],[1....|[-33.948509438863...|  [1.0,0.0]|       0.0|\n",
      "|   1| 360.13|           0|            0|         0|           1|            0|       0|       1|      0|(10,[0,1,3,8],[1....|(10,[0,1,3,8],[1....|[-33.957298395845...|  [1.0,0.0]|       0.0|\n",
      "|   1| 372.34|           0|            0|         0|           1|            0|       0|       1|      0|(10,[0,1,3,8],[1....|(10,[0,1,3,8],[1....|[-33.974523622932...|  [1.0,0.0]|       0.0|\n",
      "|   1| 374.36|           0|            0|         1|           0|            0|       1|       0|      0|(10,[0,1,6,7],[1....|(10,[0,1,6,7],[1....|[-37.258490713392...|  [1.0,0.0]|       0.0|\n",
      "|   1| 402.54|           0|            0|         0|           1|            0|       0|       1|      0|(10,[0,1,3,8],[1....|(10,[0,1,3,8],[1....|[-34.017128197709...|  [1.0,0.0]|       0.0|\n",
      "|   1| 507.12|           0|            0|         0|           1|            0|       0|       1|      0|(10,[0,1,3,8],[1....|(10,[0,1,3,8],[1....|[-34.164664172217...|  [1.0,0.0]|       0.0|\n",
      "|   1| 525.89|           0|            0|         0|           1|            0|       0|       1|      0|(10,[0,1,3,8],[1....|(10,[0,1,3,8],[1....|[-34.191143902964...|  [1.0,0.0]|       0.0|\n",
      "|   1| 577.01|           0|            0|         0|           1|            0|       0|       1|      0|(10,[0,1,3,8],[1....|(10,[0,1,3,8],[1....|[-34.263261315632...|  [1.0,0.0]|       0.0|\n",
      "|   1| 598.24|           0|            0|         0|           1|            0|       0|       1|      0|(10,[0,1,3,8],[1....|(10,[0,1,3,8],[1....|[-34.293211485252...|  [1.0,0.0]|       0.0|\n",
      "|   1| 625.92|           0|            0|         1|           0|            0|       1|       0|      0|(10,[0,1,6,7],[1....|(10,[0,1,6,7],[1....|[-37.613378356797...|  [1.0,0.0]|       0.0|\n",
      "|   1| 635.55|           0|            0|         0|           1|            0|       0|       1|      0|(10,[0,1,3,8],[1....|(10,[0,1,3,8],[1....|[-34.345846474819...|  [1.0,0.0]|       0.0|\n",
      "|   1| 660.52|           0|            0|         0|           1|            0|       0|       1|      0|(10,[0,1,3,8],[1....|(10,[0,1,3,8],[1....|[-34.381072840123...|  [1.0,0.0]|       0.0|\n",
      "|   1| 664.35|           0|            0|         0|           1|            0|       0|       1|      0|(10,[0,1,3,8],[1....|(10,[0,1,3,8],[1....|[-34.386476003083...|  [1.0,0.0]|       0.0|\n",
      "|   1| 671.64|           0|            0|         0|           1|            0|       0|       1|      0|(10,[0,1,3,8],[1....|(10,[0,1,3,8],[1....|[-34.396760352424...|  [1.0,0.0]|       0.0|\n",
      "|   1| 688.53|           0|            0|         0|           1|            0|       0|       1|      0|(10,[0,1,3,8],[1....|(10,[0,1,3,8],[1....|[-34.420587877854...|  [1.0,0.0]|       0.0|\n",
      "|   1| 698.41|           0|            0|         0|           1|            0|       0|       1|      0|(10,[0,1,3,8],[1....|(10,[0,1,3,8],[1....|[-34.434526063245...|  [1.0,0.0]|       0.0|\n",
      "|   1| 700.86|           0|            0|         0|           1|            0|       0|       1|      0|(10,[0,1,3,8],[1....|(10,[0,1,3,8],[1....|[-34.437982394642...|  [1.0,0.0]|       0.0|\n",
      "|   1| 708.82|           0|            0|         0|           1|            0|       0|       1|      0|(10,[0,1,3,8],[1....|(10,[0,1,3,8],[1....|[-34.449211944815...|  [1.0,0.0]|       0.0|\n",
      "|   1| 727.25|           0|            0|         0|           1|            0|       0|       1|      0|(10,[0,1,3,8],[1....|(10,[0,1,3,8],[1....|[-34.475212021409...|  [1.0,0.0]|       0.0|\n",
      "|   1| 748.42|           0|            0|         0|           1|            0|       0|       1|      0|(10,[0,1,3,8],[1....|(10,[0,1,3,8],[1....|[-34.505077546178...|  [1.0,0.0]|       0.0|\n",
      "|   1| 760.21|           0|            0|         0|           1|            0|       0|       1|      0|(10,[0,1,3,8],[1....|(10,[0,1,3,8],[1....|[-34.521710259311...|  [1.0,0.0]|       0.0|\n",
      "|   1| 795.29|           0|            0|         0|           1|            0|       0|       1|      0|(10,[0,1,3,8],[1....|(10,[0,1,3,8],[1....|[-34.571199281932...|  [1.0,0.0]|       0.0|\n",
      "|   1| 823.36|           0|            0|         0|           1|            0|       0|       1|      0|(10,[0,1,3,8],[1....|(10,[0,1,3,8],[1....|[-34.610798964515...|  [1.0,0.0]|       0.0|\n",
      "|   1| 830.96|           0|            0|         0|           1|            0|       0|       1|      0|(10,[0,1,3,8],[1....|(10,[0,1,3,8],[1....|[-34.621520645584...|  [1.0,0.0]|       0.0|\n",
      "|   1| 848.74|           0|            0|         0|           1|            0|       0|       1|      0|(10,[0,1,3,8],[1....|(10,[0,1,3,8],[1....|[-34.646603736297...|  [1.0,0.0]|       0.0|\n",
      "|   1| 879.42|           0|            0|         0|           1|            0|       0|       1|      0|(10,[0,1,3,8],[1....|(10,[0,1,3,8],[1....|[-34.689885469878...|  [1.0,0.0]|       0.0|\n",
      "|   1| 881.26|           0|            0|         0|           1|            0|       0|       1|      0|(10,[0,1,3,8],[1....|(10,[0,1,3,8],[1....|[-34.692481245295...|  [1.0,0.0]|       0.0|\n",
      "|   1| 900.37|           0|            0|         0|           1|            0|       0|       1|      0|(10,[0,1,3,8],[1....|(10,[0,1,3,8],[1....|[-34.719440630195...|  [1.0,0.0]|       0.0|\n",
      "|   1| 909.33|           0|            0|         0|           1|            0|       0|       1|      0|(10,[0,1,3,8],[1....|(10,[0,1,3,8],[1....|[-34.732080927877...|  [1.0,0.0]|       0.0|\n",
      "|   1| 952.08|           0|            0|         0|           1|            0|       0|       1|      0|(10,[0,1,3,8],[1....|(10,[0,1,3,8],[1....|[-34.792390383894...|  [1.0,0.0]|       0.0|\n",
      "|   1| 962.43|           0|            0|         0|           1|            0|       0|       1|      0|(10,[0,1,3,8],[1....|(10,[0,1,3,8],[1....|[-34.806991620614...|  [1.0,0.0]|       0.0|\n",
      "|   1| 973.18|           0|            0|         0|           1|            0|       0|       1|      0|(10,[0,1,3,8],[1....|(10,[0,1,3,8],[1....|[-34.822157156337...|  [1.0,0.0]|       0.0|\n",
      "|   1| 993.46|           0|            0|         0|           1|            0|       0|       1|      0|(10,[0,1,3,8],[1....|(10,[0,1,3,8],[1....|[-34.850767115823...|  [1.0,0.0]|       0.0|\n",
      "|   1|1012.86|           0|            0|         0|           1|            0|       0|       1|      0|(10,[0,1,3,8],[1....|(10,[0,1,3,8],[1....|[-34.878135617501...|  [1.0,0.0]|       0.0|\n",
      "+----+-------+------------+-------------+----------+------------+-------------+--------+--------+-------+--------------------+--------------------+--------------------+-----------+----------+\n",
      "only showing top 50 rows\n",
      "\n"
     ]
    },
    {
     "name": "stderr",
     "output_type": "stream",
     "text": [
      "24/05/28 12:58:30 WARN InstanceBuilder: Failed to load implementation from:dev.ludovic.netlib.blas.JNIBLAS\n",
      "                                                                                \r"
     ]
    }
   ],
   "source": [
    "# make predictions of the naive bayes model using the test dataset\n",
    "\n",
    "predictions = modelNB.transform(test)\n",
    "\n",
    "predictions.show(50)"
   ]
  },
  {
   "cell_type": "markdown",
   "metadata": {},
   "source": [
    "#### Evaluation"
   ]
  },
  {
   "cell_type": "markdown",
   "metadata": {},
   "source": [
    "#### Let´s check out the Confusion Matrix."
   ]
  },
  {
   "cell_type": "code",
   "execution_count": 446,
   "metadata": {},
   "outputs": [
    {
     "name": "stderr",
     "output_type": "stream",
     "text": [
      "/opt/anaconda3/lib/python3.11/site-packages/pyspark/sql/context.py:158: FutureWarning: Deprecated in 3.0.0. Use SparkSession.builder.getOrCreate() instead.\n",
      "  warnings.warn(\n",
      "24/05/28 23:43:50 WARN SQLConf: The SQL config 'spark.sql.execution.arrow.enabled' has been deprecated in Spark v3.0 and may be removed in the future. Use 'spark.sql.execution.arrow.pyspark.enabled' instead of it.\n",
      "                                                                                \r"
     ]
    },
    {
     "name": "stdout",
     "output_type": "stream",
     "text": [
      "The Confusion Matrix is:\n"
     ]
    },
    {
     "name": "stderr",
     "output_type": "stream",
     "text": [
      "24/05/28 23:43:51 WARN SQLConf: The SQL config 'spark.sql.execution.arrow.enabled' has been deprecated in Spark v3.0 and may be removed in the future. Use 'spark.sql.execution.arrow.pyspark.enabled' instead of it.\n",
      "24/05/28 23:43:51 WARN SQLConf: The SQL config 'spark.sql.execution.arrow.enabled' has been deprecated in Spark v3.0 and may be removed in the future. Use 'spark.sql.execution.arrow.pyspark.enabled' instead of it.\n",
      "                                                                                \r"
     ]
    },
    {
     "data": {
      "text/plain": [
       "array([[1539968.,  364401.],\n",
       "       [ 744605.,  747239.]])"
      ]
     },
     "execution_count": 446,
     "metadata": {},
     "output_type": "execute_result"
    }
   ],
   "source": [
    "preds_and_labels = predictions.select([\"prediction\",\"isFraud\"])\n",
    "preds_and_labels = preds_and_labels.withColumn(\"isFraud\", f.col(\"isFraud\").cast(FloatType())).orderBy(\"prediction\")\n",
    "\n",
    "metrics = MulticlassMetrics(preds_and_labels.rdd.map(tuple))\n",
    "\n",
    "print(\"The Confusion Matrix is:\")\n",
    "\n",
    "metrics.confusionMatrix().toArray()"
   ]
  },
  {
   "cell_type": "markdown",
   "metadata": {},
   "source": [
    "## 4.3 Evaluation and Selection of the model\n",
    "\n",
    "We´ll evaluate the models using the metrics used in the previous step and we´ll select the model with the best performance. As first step, let´s create a dictionary with the results of every model."
   ]
  },
  {
   "cell_type": "code",
   "execution_count": 487,
   "metadata": {},
   "outputs": [],
   "source": [
    "results = {\n",
    "    'Name_Model': name_model,\n",
    "    'Accuracy':accuracy,\n",
    "    'Precision':precision,\n",
    "    'Recall':recall,\n",
    "    'AUC_ROC':auc_roc\n",
    "}"
   ]
  },
  {
   "cell_type": "code",
   "execution_count": 488,
   "metadata": {},
   "outputs": [
    {
     "data": {
      "text/plain": [
       "{'Name_Model': ['Random Forest', 'Naive Bayes'],\n",
       " 'Accuracy': [1.0, 0.6737159738328996],\n",
       " 'Precision': [1.0, 0.6734698164401426],\n",
       " 'Recall': [1.0, 0.6737159738328995],\n",
       " 'AUC_ROC': [1.0, 0.6549852118719726]}"
      ]
     },
     "execution_count": 488,
     "metadata": {},
     "output_type": "execute_result"
    }
   ],
   "source": [
    "results"
   ]
  },
  {
   "cell_type": "markdown",
   "metadata": {},
   "source": [
    "#### Now, let´s create a pandas dataframe with the results dictionary."
   ]
  },
  {
   "cell_type": "code",
   "execution_count": 489,
   "metadata": {},
   "outputs": [],
   "source": [
    "results_df = pd.DataFrame(results)\n",
    "results_df.set_index('Name_Model', inplace=True)\n",
    "#results_df.set_index(\"Name_Model\", inplace=True)"
   ]
  },
  {
   "cell_type": "code",
   "execution_count": 490,
   "metadata": {},
   "outputs": [
    {
     "data": {
      "text/html": [
       "<div>\n",
       "<style scoped>\n",
       "    .dataframe tbody tr th:only-of-type {\n",
       "        vertical-align: middle;\n",
       "    }\n",
       "\n",
       "    .dataframe tbody tr th {\n",
       "        vertical-align: top;\n",
       "    }\n",
       "\n",
       "    .dataframe thead th {\n",
       "        text-align: right;\n",
       "    }\n",
       "</style>\n",
       "<table border=\"1\" class=\"dataframe\">\n",
       "  <thead>\n",
       "    <tr style=\"text-align: right;\">\n",
       "      <th></th>\n",
       "      <th>Accuracy</th>\n",
       "      <th>Precision</th>\n",
       "      <th>Recall</th>\n",
       "      <th>AUC_ROC</th>\n",
       "    </tr>\n",
       "    <tr>\n",
       "      <th>Name_Model</th>\n",
       "      <th></th>\n",
       "      <th></th>\n",
       "      <th></th>\n",
       "      <th></th>\n",
       "    </tr>\n",
       "  </thead>\n",
       "  <tbody>\n",
       "    <tr>\n",
       "      <th>Random Forest</th>\n",
       "      <td>1.000000</td>\n",
       "      <td>1.00000</td>\n",
       "      <td>1.000000</td>\n",
       "      <td>1.000000</td>\n",
       "    </tr>\n",
       "    <tr>\n",
       "      <th>Naive Bayes</th>\n",
       "      <td>0.673716</td>\n",
       "      <td>0.67347</td>\n",
       "      <td>0.673716</td>\n",
       "      <td>0.654985</td>\n",
       "    </tr>\n",
       "  </tbody>\n",
       "</table>\n",
       "</div>"
      ],
      "text/plain": [
       "               Accuracy  Precision    Recall   AUC_ROC\n",
       "Name_Model                                            \n",
       "Random Forest  1.000000    1.00000  1.000000  1.000000\n",
       "Naive Bayes    0.673716    0.67347  0.673716  0.654985"
      ]
     },
     "execution_count": 490,
     "metadata": {},
     "output_type": "execute_result"
    }
   ],
   "source": [
    "results_df.head(5)"
   ]
  },
  {
   "cell_type": "code",
   "execution_count": 471,
   "metadata": {},
   "outputs": [
    {
     "name": "stdout",
     "output_type": "stream",
     "text": [
      "<class 'pandas.core.frame.DataFrame'>\n",
      "Index: 4 entries, Random Forest to Naive Bayes\n",
      "Data columns (total 4 columns):\n",
      " #   Column     Non-Null Count  Dtype  \n",
      "---  ------     --------------  -----  \n",
      " 0   Accuracy   4 non-null      float64\n",
      " 1   Precision  4 non-null      float64\n",
      " 2   Recall     4 non-null      float64\n",
      " 3   AUC_ROC    4 non-null      float64\n",
      "dtypes: float64(4)\n",
      "memory usage: 160.0+ bytes\n"
     ]
    }
   ],
   "source": [
    "results_df.info()"
   ]
  },
  {
   "cell_type": "markdown",
   "metadata": {},
   "source": [
    "#### Let´s visualize these results."
   ]
  },
  {
   "cell_type": "code",
   "execution_count": 491,
   "metadata": {},
   "outputs": [
    {
     "data": {
      "image/png": "[encoded data removed]",
      "text/plain": [
       "<Figure size 1200x600 with 1 Axes>"
      ]
     },
     "metadata": {},
     "output_type": "display_data"
    },
    {
     "data": {
      "text/html": [
       "<div>\n",
       "<style scoped>\n",
       "    .dataframe tbody tr th:only-of-type {\n",
       "        vertical-align: middle;\n",
       "    }\n",
       "\n",
       "    .dataframe tbody tr th {\n",
       "        vertical-align: top;\n",
       "    }\n",
       "\n",
       "    .dataframe thead th {\n",
       "        text-align: right;\n",
       "    }\n",
       "</style>\n",
       "<table border=\"1\" class=\"dataframe\">\n",
       "  <thead>\n",
       "    <tr style=\"text-align: right;\">\n",
       "      <th></th>\n",
       "    </tr>\n",
       "  </thead>\n",
       "  <tbody>\n",
       "  </tbody>\n",
       "</table>\n",
       "</div>"
      ],
      "text/plain": [
       "Empty DataFrame\n",
       "Columns: []\n",
       "Index: []"
      ]
     },
     "execution_count": 491,
     "metadata": {},
     "output_type": "execute_result"
    }
   ],
   "source": [
    "# \"results_df\" dataframe\n",
    "\n",
    "colors = ['#0077b6','#CDDBF3','#9370DB','#DDA0DD']\n",
    "results_df.plot(kind='bar', figsize=(12,6), colormap='viridis', rot=0)\n",
    "mpt.title('Comparison of metrics per model')\n",
    "mpt.xlabel('Models')\n",
    "mpt.ylabel('Score')\n",
    "mpt.legend(title = 'Metrics')\n",
    "mpt.tight_layout\n",
    "mpt.show()\n",
    "\n",
    "pd.DataFrame()"
   ]
  },
  {
   "cell_type": "code",
   "execution_count": 492,
   "metadata": {},
   "outputs": [
    {
     "data": {
      "image/png": "[encoded data removed]",
      "text/plain": [
       "<Figure size 1200x600 with 1 Axes>"
      ]
     },
     "metadata": {},
     "output_type": "display_data"
    }
   ],
   "source": [
    "# transpose of the \"results_df\" dataframe\n",
    "\n",
    "results_df = results_df.T\n",
    "colors = ['#0077b6','#CDDBF3','#9370DB','#DDA0DD']\n",
    "results_df.plot(kind='bar', figsize=(12,6), colormap='viridis', rot=0)\n",
    "mpt.title('Comparison of metrics per model')\n",
    "mpt.xlabel('Metrics')\n",
    "mpt.ylabel('Score')\n",
    "mpt.legend(title = 'Models')\n",
    "mpt.tight_layout\n",
    "mpt.show()\n"
   ]
  },
  {
   "cell_type": "markdown",
   "metadata": {},
   "source": [
    "## 5. Storage"
   ]
  },
  {
   "cell_type": "markdown",
   "metadata": {},
   "source": [
    "### 5.1 Model"
   ]
  },
  {
   "cell_type": "code",
   "execution_count": 146,
   "metadata": {},
   "outputs": [
    {
     "ename": "Py4JJavaError",
     "evalue": "An error occurred while calling o3257.save.\n: java.io.IOException: Path modelRF already exists. To overwrite it, please use write.overwrite().save(path) for Scala and use write().overwrite().save(path) for Java and Python.\n\tat org.apache.spark.ml.util.FileSystemOverwrite.handleOverwrite(ReadWrite.scala:683)\n\tat org.apache.spark.ml.util.MLWriter.save(ReadWrite.scala:167)\n\tat sun.reflect.NativeMethodAccessorImpl.invoke0(Native Method)\n\tat sun.reflect.NativeMethodAccessorImpl.invoke(NativeMethodAccessorImpl.java:62)\n\tat sun.reflect.DelegatingMethodAccessorImpl.invoke(DelegatingMethodAccessorImpl.java:43)\n\tat java.lang.reflect.Method.invoke(Method.java:498)\n\tat py4j.reflection.MethodInvoker.invoke(MethodInvoker.java:244)\n\tat py4j.reflection.ReflectionEngine.invoke(ReflectionEngine.java:374)\n\tat py4j.Gateway.invoke(Gateway.java:282)\n\tat py4j.commands.AbstractCommand.invokeMethod(AbstractCommand.java:132)\n\tat py4j.commands.CallCommand.execute(CallCommand.java:79)\n\tat py4j.ClientServerConnection.waitForCommands(ClientServerConnection.java:182)\n\tat py4j.ClientServerConnection.run(ClientServerConnection.java:106)\n\tat java.lang.Thread.run(Thread.java:750)\n",
     "output_type": "error",
     "traceback": [
      "\u001b[0;31m---------------------------------------------------------------------------\u001b[0m",
      "\u001b[0;31mPy4JJavaError\u001b[0m                             Traceback (most recent call last)",
      "Cell \u001b[0;32mIn[146], line 3\u001b[0m\n\u001b[1;32m      1\u001b[0m \u001b[38;5;66;03m# model: Random Forest\u001b[39;00m\n\u001b[0;32m----> 3\u001b[0m modelRF\u001b[38;5;241m.\u001b[39msave(\u001b[38;5;124m\"\u001b[39m\u001b[38;5;124mmodelRF\u001b[39m\u001b[38;5;124m\"\u001b[39m)\n\u001b[1;32m      5\u001b[0m \u001b[38;5;66;03m# model: Logistic Regression\u001b[39;00m\n\u001b[1;32m      7\u001b[0m modelLR\u001b[38;5;241m.\u001b[39msave(\u001b[38;5;124m\"\u001b[39m\u001b[38;5;124mmodelLR\u001b[39m\u001b[38;5;124m\"\u001b[39m)\n",
      "File \u001b[0;32m/opt/anaconda3/lib/python3.11/site-packages/pyspark/ml/util.py:262\u001b[0m, in \u001b[0;36mMLWritable.save\u001b[0;34m(self, path)\u001b[0m\n\u001b[1;32m    260\u001b[0m \u001b[38;5;28;01mdef\u001b[39;00m \u001b[38;5;21msave\u001b[39m(\u001b[38;5;28mself\u001b[39m, path: \u001b[38;5;28mstr\u001b[39m) \u001b[38;5;241m-\u001b[39m\u001b[38;5;241m>\u001b[39m \u001b[38;5;28;01mNone\u001b[39;00m:\n\u001b[1;32m    261\u001b[0m \u001b[38;5;250m    \u001b[39m\u001b[38;5;124;03m\"\"\"Save this ML instance to the given path, a shortcut of 'write().save(path)'.\"\"\"\u001b[39;00m\n\u001b[0;32m--> 262\u001b[0m     \u001b[38;5;28mself\u001b[39m\u001b[38;5;241m.\u001b[39mwrite()\u001b[38;5;241m.\u001b[39msave(path)\n",
      "File \u001b[0;32m/opt/anaconda3/lib/python3.11/site-packages/pyspark/ml/util.py:213\u001b[0m, in \u001b[0;36mJavaMLWriter.save\u001b[0;34m(self, path)\u001b[0m\n\u001b[1;32m    211\u001b[0m \u001b[38;5;28;01mif\u001b[39;00m \u001b[38;5;129;01mnot\u001b[39;00m \u001b[38;5;28misinstance\u001b[39m(path, \u001b[38;5;28mstr\u001b[39m):\n\u001b[1;32m    212\u001b[0m     \u001b[38;5;28;01mraise\u001b[39;00m \u001b[38;5;167;01mTypeError\u001b[39;00m(\u001b[38;5;124m\"\u001b[39m\u001b[38;5;124mpath should be a string, got type \u001b[39m\u001b[38;5;132;01m%s\u001b[39;00m\u001b[38;5;124m\"\u001b[39m \u001b[38;5;241m%\u001b[39m \u001b[38;5;28mtype\u001b[39m(path))\n\u001b[0;32m--> 213\u001b[0m \u001b[38;5;28mself\u001b[39m\u001b[38;5;241m.\u001b[39m_jwrite\u001b[38;5;241m.\u001b[39msave(path)\n",
      "File \u001b[0;32m/opt/anaconda3/lib/python3.11/site-packages/py4j/java_gateway.py:1322\u001b[0m, in \u001b[0;36mJavaMember.__call__\u001b[0;34m(self, *args)\u001b[0m\n\u001b[1;32m   1316\u001b[0m command \u001b[38;5;241m=\u001b[39m proto\u001b[38;5;241m.\u001b[39mCALL_COMMAND_NAME \u001b[38;5;241m+\u001b[39m\\\n\u001b[1;32m   1317\u001b[0m     \u001b[38;5;28mself\u001b[39m\u001b[38;5;241m.\u001b[39mcommand_header \u001b[38;5;241m+\u001b[39m\\\n\u001b[1;32m   1318\u001b[0m     args_command \u001b[38;5;241m+\u001b[39m\\\n\u001b[1;32m   1319\u001b[0m     proto\u001b[38;5;241m.\u001b[39mEND_COMMAND_PART\n\u001b[1;32m   1321\u001b[0m answer \u001b[38;5;241m=\u001b[39m \u001b[38;5;28mself\u001b[39m\u001b[38;5;241m.\u001b[39mgateway_client\u001b[38;5;241m.\u001b[39msend_command(command)\n\u001b[0;32m-> 1322\u001b[0m return_value \u001b[38;5;241m=\u001b[39m get_return_value(\n\u001b[1;32m   1323\u001b[0m     answer, \u001b[38;5;28mself\u001b[39m\u001b[38;5;241m.\u001b[39mgateway_client, \u001b[38;5;28mself\u001b[39m\u001b[38;5;241m.\u001b[39mtarget_id, \u001b[38;5;28mself\u001b[39m\u001b[38;5;241m.\u001b[39mname)\n\u001b[1;32m   1325\u001b[0m \u001b[38;5;28;01mfor\u001b[39;00m temp_arg \u001b[38;5;129;01min\u001b[39;00m temp_args:\n\u001b[1;32m   1326\u001b[0m     \u001b[38;5;28;01mif\u001b[39;00m \u001b[38;5;28mhasattr\u001b[39m(temp_arg, \u001b[38;5;124m\"\u001b[39m\u001b[38;5;124m_detach\u001b[39m\u001b[38;5;124m\"\u001b[39m):\n",
      "File \u001b[0;32m/opt/anaconda3/lib/python3.11/site-packages/pyspark/errors/exceptions/captured.py:179\u001b[0m, in \u001b[0;36mcapture_sql_exception.<locals>.deco\u001b[0;34m(*a, **kw)\u001b[0m\n\u001b[1;32m    177\u001b[0m \u001b[38;5;28;01mdef\u001b[39;00m \u001b[38;5;21mdeco\u001b[39m(\u001b[38;5;241m*\u001b[39ma: Any, \u001b[38;5;241m*\u001b[39m\u001b[38;5;241m*\u001b[39mkw: Any) \u001b[38;5;241m-\u001b[39m\u001b[38;5;241m>\u001b[39m Any:\n\u001b[1;32m    178\u001b[0m     \u001b[38;5;28;01mtry\u001b[39;00m:\n\u001b[0;32m--> 179\u001b[0m         \u001b[38;5;28;01mreturn\u001b[39;00m f(\u001b[38;5;241m*\u001b[39ma, \u001b[38;5;241m*\u001b[39m\u001b[38;5;241m*\u001b[39mkw)\n\u001b[1;32m    180\u001b[0m     \u001b[38;5;28;01mexcept\u001b[39;00m Py4JJavaError \u001b[38;5;28;01mas\u001b[39;00m e:\n\u001b[1;32m    181\u001b[0m         converted \u001b[38;5;241m=\u001b[39m convert_exception(e\u001b[38;5;241m.\u001b[39mjava_exception)\n",
      "File \u001b[0;32m/opt/anaconda3/lib/python3.11/site-packages/py4j/protocol.py:326\u001b[0m, in \u001b[0;36mget_return_value\u001b[0;34m(answer, gateway_client, target_id, name)\u001b[0m\n\u001b[1;32m    324\u001b[0m value \u001b[38;5;241m=\u001b[39m OUTPUT_CONVERTER[\u001b[38;5;28mtype\u001b[39m](answer[\u001b[38;5;241m2\u001b[39m:], gateway_client)\n\u001b[1;32m    325\u001b[0m \u001b[38;5;28;01mif\u001b[39;00m answer[\u001b[38;5;241m1\u001b[39m] \u001b[38;5;241m==\u001b[39m REFERENCE_TYPE:\n\u001b[0;32m--> 326\u001b[0m     \u001b[38;5;28;01mraise\u001b[39;00m Py4JJavaError(\n\u001b[1;32m    327\u001b[0m         \u001b[38;5;124m\"\u001b[39m\u001b[38;5;124mAn error occurred while calling \u001b[39m\u001b[38;5;132;01m{0}\u001b[39;00m\u001b[38;5;132;01m{1}\u001b[39;00m\u001b[38;5;132;01m{2}\u001b[39;00m\u001b[38;5;124m.\u001b[39m\u001b[38;5;130;01m\\n\u001b[39;00m\u001b[38;5;124m\"\u001b[39m\u001b[38;5;241m.\u001b[39m\n\u001b[1;32m    328\u001b[0m         \u001b[38;5;28mformat\u001b[39m(target_id, \u001b[38;5;124m\"\u001b[39m\u001b[38;5;124m.\u001b[39m\u001b[38;5;124m\"\u001b[39m, name), value)\n\u001b[1;32m    329\u001b[0m \u001b[38;5;28;01melse\u001b[39;00m:\n\u001b[1;32m    330\u001b[0m     \u001b[38;5;28;01mraise\u001b[39;00m Py4JError(\n\u001b[1;32m    331\u001b[0m         \u001b[38;5;124m\"\u001b[39m\u001b[38;5;124mAn error occurred while calling \u001b[39m\u001b[38;5;132;01m{0}\u001b[39;00m\u001b[38;5;132;01m{1}\u001b[39;00m\u001b[38;5;132;01m{2}\u001b[39;00m\u001b[38;5;124m. Trace:\u001b[39m\u001b[38;5;130;01m\\n\u001b[39;00m\u001b[38;5;132;01m{3}\u001b[39;00m\u001b[38;5;130;01m\\n\u001b[39;00m\u001b[38;5;124m\"\u001b[39m\u001b[38;5;241m.\u001b[39m\n\u001b[1;32m    332\u001b[0m         \u001b[38;5;28mformat\u001b[39m(target_id, \u001b[38;5;124m\"\u001b[39m\u001b[38;5;124m.\u001b[39m\u001b[38;5;124m\"\u001b[39m, name, value))\n",
      "\u001b[0;31mPy4JJavaError\u001b[0m: An error occurred while calling o3257.save.\n: java.io.IOException: Path modelRF already exists. To overwrite it, please use write.overwrite().save(path) for Scala and use write().overwrite().save(path) for Java and Python.\n\tat org.apache.spark.ml.util.FileSystemOverwrite.handleOverwrite(ReadWrite.scala:683)\n\tat org.apache.spark.ml.util.MLWriter.save(ReadWrite.scala:167)\n\tat sun.reflect.NativeMethodAccessorImpl.invoke0(Native Method)\n\tat sun.reflect.NativeMethodAccessorImpl.invoke(NativeMethodAccessorImpl.java:62)\n\tat sun.reflect.DelegatingMethodAccessorImpl.invoke(DelegatingMethodAccessorImpl.java:43)\n\tat java.lang.reflect.Method.invoke(Method.java:498)\n\tat py4j.reflection.MethodInvoker.invoke(MethodInvoker.java:244)\n\tat py4j.reflection.ReflectionEngine.invoke(ReflectionEngine.java:374)\n\tat py4j.Gateway.invoke(Gateway.java:282)\n\tat py4j.commands.AbstractCommand.invokeMethod(AbstractCommand.java:132)\n\tat py4j.commands.CallCommand.execute(CallCommand.java:79)\n\tat py4j.ClientServerConnection.waitForCommands(ClientServerConnection.java:182)\n\tat py4j.ClientServerConnection.run(ClientServerConnection.java:106)\n\tat java.lang.Thread.run(Thread.java:750)\n"
     ]
    }
   ],
   "source": [
    "# model: Random Forest\n",
    "\n",
    "modelRF.save(\"modelRF\")\n",
    "\n",
    "# model: Logistic Regression\n",
    "\n",
    "modelLR.save(\"modelLR\")\n",
    "\n",
    "# model: Decision Tree\n",
    "\n",
    "modelDT.save(\"modelDT\")\n",
    "\n",
    "# model: Naive Bayes\n",
    "\n",
    "modelNB.save(\"modelNB\")\n"
   ]
  },
  {
   "cell_type": "markdown",
   "metadata": {},
   "source": [
    "### 5.2 Load"
   ]
  },
  {
   "cell_type": "code",
   "execution_count": null,
   "metadata": {},
   "outputs": [],
   "source": [
    "# model: Random Forest\n",
    "\n",
    "loaded_model_RF =  RandomForestClassificationModel().load(\"modelRF\")\n",
    "\n",
    "\n",
    "# model: Logistic Regression\n",
    "\n",
    "loaded_model_LR = LogisticRegression.load(\"modelLR\")\n",
    "\n",
    "# model: Decision Tree\n",
    "\n",
    "loaded_model_LR = DecisionTreeClassifier.load(\"modelDT\")\n",
    "\n",
    "# model: Naive Bayes\n",
    "\n",
    "loaded_model_LR = NaiveBayes.load(\"modelNB\")"
   ]
  }
 ],
 "metadata": {
  "kernelspec": {
   "display_name": "base",
   "language": "python",
   "name": "python3"
  },
  "language_info": {
   "codemirror_mode": {
    "name": "ipython",
    "version": 3
   },
   "file_extension": ".py",
   "mimetype": "text/x-python",
   "name": "python",
   "nbconvert_exporter": "python",
   "pygments_lexer": "ipython3",
   "version": "3.11.7"
  }
 },
 "nbformat": 4,
 "nbformat_minor": 2
}
