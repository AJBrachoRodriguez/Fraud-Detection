{
 "cells": [
  {
   "cell_type": "markdown",
   "metadata": {},
   "source": [
    "# Project: Fraud Detection "
   ]
  },
  {
   "cell_type": "markdown",
   "metadata": {},
   "source": [
    "## 1. Overview"
   ]
  },
  {
   "cell_type": "markdown",
   "metadata": {},
   "source": [
    "### PaySim simulates mobile money transactions based on a sample of real transacions extracted from one month of financial logs from a mobile money service implemented in an African country. The original logs were provided by a multinational company, who is the provider of the mobile financial service which is currently running in more than 14 countries all around the world. The objective of the project is to predict if a transaction is fraudulent or not."
   ]
  },
  {
   "cell_type": "markdown",
   "metadata": {},
   "source": [
    "## 2. Preprocess the data"
   ]
  },
  {
   "cell_type": "markdown",
   "metadata": {},
   "source": [
    "#### We´ll use PySpark to preprocess the data."
   ]
  },
  {
   "cell_type": "code",
   "execution_count": 226,
   "metadata": {},
   "outputs": [],
   "source": [
    "from pyspark.sql import SparkSession\n",
    "import pyspark.sql.functions as f\n",
    "from pyspark.ml.feature import StringIndexer, OneHotEncoder\n",
    "from pyspark.ml.functions import vector_to_array\n",
    "import functools"
   ]
  },
  {
   "cell_type": "code",
   "execution_count": 173,
   "metadata": {},
   "outputs": [],
   "source": [
    "# global variables\n",
    "\n",
    "global df_bank, results "
   ]
  },
  {
   "cell_type": "code",
   "execution_count": 174,
   "metadata": {},
   "outputs": [
    {
     "data": {
      "text/html": [
       "\n",
       "            <div>\n",
       "                <p><b>SparkSession - in-memory</b></p>\n",
       "                \n",
       "        <div>\n",
       "            <p><b>SparkContext</b></p>\n",
       "\n",
       "            <p><a href=\"http://192.168.1.5:4040\">Spark UI</a></p>\n",
       "\n",
       "            <dl>\n",
       "              <dt>Version</dt>\n",
       "                <dd><code>v3.5.1</code></dd>\n",
       "              <dt>Master</dt>\n",
       "                <dd><code>local[*]</code></dd>\n",
       "              <dt>AppName</dt>\n",
       "                <dd><code>FraudDetection</code></dd>\n",
       "            </dl>\n",
       "        </div>\n",
       "        \n",
       "            </div>\n",
       "        "
      ],
      "text/plain": [
       "<pyspark.sql.session.SparkSession at 0x118ced350>"
      ]
     },
     "execution_count": 174,
     "metadata": {},
     "output_type": "execute_result"
    }
   ],
   "source": [
    "# creation of the SparkSession\n",
    "\n",
    "spark = SparkSession.builder.appName(\"FraudDetection\").getOrCreate()\n",
    "spark"
   ]
  },
  {
   "cell_type": "code",
   "execution_count": 175,
   "metadata": {},
   "outputs": [],
   "source": [
    "# spark dataframe \n",
    "\n",
    "df = spark.read.csv('fraudDetection.csv', header=True)"
   ]
  },
  {
   "cell_type": "markdown",
   "metadata": {},
   "source": [
    "#### Let´s take a look to the data with the first 10 rows."
   ]
  },
  {
   "cell_type": "code",
   "execution_count": 176,
   "metadata": {},
   "outputs": [
    {
     "name": "stdout",
     "output_type": "stream",
     "text": [
      "+----+--------+--------+-----------+-------------+--------------+-----------+--------------+--------------+-------+--------------+\n",
      "|step|    type|  amount|   nameOrig|oldbalanceOrg|newbalanceOrig|   nameDest|oldbalanceDest|newbalanceDest|isFraud|isFlaggedFraud|\n",
      "+----+--------+--------+-----------+-------------+--------------+-----------+--------------+--------------+-------+--------------+\n",
      "|   1| PAYMENT| 9839.64|C1231006815|     170136.0|     160296.36|M1979787155|           0.0|           0.0|      0|             0|\n",
      "|   1| PAYMENT| 1864.28|C1666544295|      21249.0|      19384.72|M2044282225|           0.0|           0.0|      0|             0|\n",
      "|   1|TRANSFER|   181.0|C1305486145|        181.0|           0.0| C553264065|           0.0|           0.0|      1|             0|\n",
      "|   1|CASH_OUT|   181.0| C840083671|        181.0|           0.0|  C38997010|       21182.0|           0.0|      1|             0|\n",
      "|   1| PAYMENT|11668.14|C2048537720|      41554.0|      29885.86|M1230701703|           0.0|           0.0|      0|             0|\n",
      "|   1| PAYMENT| 7817.71|  C90045638|      53860.0|      46042.29| M573487274|           0.0|           0.0|      0|             0|\n",
      "|   1| PAYMENT| 7107.77| C154988899|     183195.0|     176087.23| M408069119|           0.0|           0.0|      0|             0|\n",
      "|   1| PAYMENT| 7861.64|C1912850431|    176087.23|     168225.59| M633326333|           0.0|           0.0|      0|             0|\n",
      "|   1| PAYMENT| 4024.36|C1265012928|       2671.0|           0.0|M1176932104|           0.0|           0.0|      0|             0|\n",
      "|   1|   DEBIT| 5337.77| C712410124|      41720.0|      36382.23| C195600860|       41898.0|      40348.79|      0|             0|\n",
      "+----+--------+--------+-----------+-------------+--------------+-----------+--------------+--------------+-------+--------------+\n",
      "only showing top 10 rows\n",
      "\n"
     ]
    }
   ],
   "source": [
    "df.show(10)"
   ]
  },
  {
   "cell_type": "code",
   "execution_count": 177,
   "metadata": {},
   "outputs": [
    {
     "name": "stdout",
     "output_type": "stream",
     "text": [
      "root\n",
      " |-- step: string (nullable = true)\n",
      " |-- type: string (nullable = true)\n",
      " |-- amount: string (nullable = true)\n",
      " |-- nameOrig: string (nullable = true)\n",
      " |-- oldbalanceOrg: string (nullable = true)\n",
      " |-- newbalanceOrig: string (nullable = true)\n",
      " |-- nameDest: string (nullable = true)\n",
      " |-- oldbalanceDest: string (nullable = true)\n",
      " |-- newbalanceDest: string (nullable = true)\n",
      " |-- isFraud: string (nullable = true)\n",
      " |-- isFlaggedFraud: string (nullable = true)\n",
      "\n"
     ]
    }
   ],
   "source": [
    "df.printSchema()"
   ]
  },
  {
   "cell_type": "markdown",
   "metadata": {},
   "source": [
    "#### There are 11 columns, some of them are numerical and others are categorical. Let´s count the number of registers."
   ]
  },
  {
   "cell_type": "code",
   "execution_count": 178,
   "metadata": {},
   "outputs": [
    {
     "name": "stdout",
     "output_type": "stream",
     "text": [
      "The total number of registers is: 6362620\n"
     ]
    },
    {
     "name": "stderr",
     "output_type": "stream",
     "text": [
      "                                                                                \r"
     ]
    }
   ],
   "source": [
    "print(f\"The total number of registers is:\",df.count())"
   ]
  },
  {
   "cell_type": "markdown",
   "metadata": {},
   "source": [
    "#### We have more than six miliions of transactions in the dataset."
   ]
  },
  {
   "cell_type": "markdown",
   "metadata": {},
   "source": [
    "### 2.1 Feature Engineering"
   ]
  },
  {
   "cell_type": "markdown",
   "metadata": {},
   "source": [
    "#### Firstly, we´ll create a function to create a new variable."
   ]
  },
  {
   "cell_type": "code",
   "execution_count": 179,
   "metadata": {},
   "outputs": [
    {
     "name": "stdout",
     "output_type": "stream",
     "text": [
      "root\n",
      " |-- step: string (nullable = true)\n",
      " |-- type: string (nullable = true)\n",
      " |-- amount: string (nullable = true)\n",
      " |-- nameOrig: string (nullable = true)\n",
      " |-- oldbalanceOrg: string (nullable = true)\n",
      " |-- newbalanceOrig: string (nullable = true)\n",
      " |-- nameDest: string (nullable = true)\n",
      " |-- oldbalanceDest: string (nullable = true)\n",
      " |-- newbalanceDest: string (nullable = true)\n",
      " |-- isFraud: string (nullable = true)\n",
      " |-- isFlaggedFraud: string (nullable = true)\n",
      "\n"
     ]
    }
   ],
   "source": [
    "### 1.- creation of a new variable: type2\n",
    "\n",
    "df.printSchema()"
   ]
  },
  {
   "cell_type": "code",
   "execution_count": 180,
   "metadata": {},
   "outputs": [
    {
     "data": {
      "text/plain": [
       "pyspark.sql.dataframe.DataFrame"
      ]
     },
     "execution_count": 180,
     "metadata": {},
     "output_type": "execute_result"
    }
   ],
   "source": [
    "type(df)"
   ]
  },
  {
   "cell_type": "code",
   "execution_count": 181,
   "metadata": {},
   "outputs": [
    {
     "name": "stdout",
     "output_type": "stream",
     "text": [
      "+----+--------+---------+-----------+-------------+--------------+-----------+--------------+--------------+-------+--------------+\n",
      "|step|    type|   amount|   nameOrig|oldbalanceOrg|newbalanceOrig|   nameDest|oldbalanceDest|newbalanceDest|isFraud|isFlaggedFraud|\n",
      "+----+--------+---------+-----------+-------------+--------------+-----------+--------------+--------------+-------+--------------+\n",
      "|   1| PAYMENT|  9839.64|C1231006815|     170136.0|     160296.36|M1979787155|           0.0|           0.0|      0|             0|\n",
      "|   1| PAYMENT|  1864.28|C1666544295|      21249.0|      19384.72|M2044282225|           0.0|           0.0|      0|             0|\n",
      "|   1|TRANSFER|    181.0|C1305486145|        181.0|           0.0| C553264065|           0.0|           0.0|      1|             0|\n",
      "|   1|CASH_OUT|    181.0| C840083671|        181.0|           0.0|  C38997010|       21182.0|           0.0|      1|             0|\n",
      "|   1| PAYMENT| 11668.14|C2048537720|      41554.0|      29885.86|M1230701703|           0.0|           0.0|      0|             0|\n",
      "|   1| PAYMENT|  7817.71|  C90045638|      53860.0|      46042.29| M573487274|           0.0|           0.0|      0|             0|\n",
      "|   1| PAYMENT|  7107.77| C154988899|     183195.0|     176087.23| M408069119|           0.0|           0.0|      0|             0|\n",
      "|   1| PAYMENT|  7861.64|C1912850431|    176087.23|     168225.59| M633326333|           0.0|           0.0|      0|             0|\n",
      "|   1| PAYMENT|  4024.36|C1265012928|       2671.0|           0.0|M1176932104|           0.0|           0.0|      0|             0|\n",
      "|   1|   DEBIT|  5337.77| C712410124|      41720.0|      36382.23| C195600860|       41898.0|      40348.79|      0|             0|\n",
      "|   1|   DEBIT|  9644.94|C1900366749|       4465.0|           0.0| C997608398|       10845.0|     157982.12|      0|             0|\n",
      "|   1| PAYMENT|  3099.97| C249177573|      20771.0|      17671.03|M2096539129|           0.0|           0.0|      0|             0|\n",
      "|   1| PAYMENT|  2560.74|C1648232591|       5070.0|       2509.26| M972865270|           0.0|           0.0|      0|             0|\n",
      "|   1| PAYMENT| 11633.76|C1716932897|      10127.0|           0.0| M801569151|           0.0|           0.0|      0|             0|\n",
      "|   1| PAYMENT|  4098.78|C1026483832|     503264.0|     499165.22|M1635378213|           0.0|           0.0|      0|             0|\n",
      "|   1|CASH_OUT|229133.94| C905080434|      15325.0|           0.0| C476402209|        5083.0|      51513.44|      0|             0|\n",
      "|   1| PAYMENT|  1563.82| C761750706|        450.0|           0.0|M1731217984|           0.0|           0.0|      0|             0|\n",
      "|   1| PAYMENT|  1157.86|C1237762639|      21156.0|      19998.14|M1877062907|           0.0|           0.0|      0|             0|\n",
      "|   1| PAYMENT|   671.64|C2033524545|      15123.0|      14451.36| M473053293|           0.0|           0.0|      0|             0|\n",
      "|   1|TRANSFER| 215310.3|C1670993182|        705.0|           0.0|C1100439041|       22425.0|           0.0|      0|             0|\n",
      "+----+--------+---------+-----------+-------------+--------------+-----------+--------------+--------------+-------+--------------+\n",
      "only showing top 20 rows\n",
      "\n"
     ]
    }
   ],
   "source": [
    "df.show()"
   ]
  },
  {
   "cell_type": "code",
   "execution_count": 182,
   "metadata": {},
   "outputs": [],
   "source": [
    "### creation of a view of the table named \"fraud\"\n",
    "\n",
    "df.createOrReplaceTempView(\"fraud\")"
   ]
  },
  {
   "cell_type": "code",
   "execution_count": 183,
   "metadata": {},
   "outputs": [
    {
     "data": {
      "text/plain": [
       "6362620"
      ]
     },
     "execution_count": 183,
     "metadata": {},
     "output_type": "execute_result"
    }
   ],
   "source": [
    "df.count()"
   ]
  },
  {
   "cell_type": "code",
   "execution_count": 184,
   "metadata": {},
   "outputs": [
    {
     "name": "stdout",
     "output_type": "stream",
     "text": [
      "+-----+\n",
      "|type2|\n",
      "+-----+\n",
      "|   CM|\n",
      "|   CM|\n",
      "|   CC|\n",
      "|   CC|\n",
      "|   CM|\n",
      "|   CM|\n",
      "|   CM|\n",
      "|   CM|\n",
      "|   CM|\n",
      "|   CC|\n",
      "+-----+\n",
      "only showing top 10 rows\n",
      "\n"
     ]
    }
   ],
   "source": [
    "#  use sparkSQL to query and form the column \"type2\", which concatenates the first letter of each of those \n",
    "#  columns (nameOrig and nameDest)\n",
    "\n",
    "type2 = spark.sql(\"SELECT SUBSTRING(nameOrig,1,1) || '' || SUBSTRING(nameDest,1,1) as type2 FROM fraud \")\n",
    "type2.show(10)"
   ]
  },
  {
   "cell_type": "code",
   "execution_count": 185,
   "metadata": {},
   "outputs": [
    {
     "name": "stderr",
     "output_type": "stream",
     "text": [
      "                                                                                \r"
     ]
    }
   ],
   "source": [
    "#  convert the previous spark dataframe into a pandas one\n",
    "\n",
    "col_type2 = type2.toPandas()"
   ]
  },
  {
   "cell_type": "code",
   "execution_count": 186,
   "metadata": {},
   "outputs": [
    {
     "data": {
      "text/plain": [
       "pandas.core.frame.DataFrame"
      ]
     },
     "execution_count": 186,
     "metadata": {},
     "output_type": "execute_result"
    }
   ],
   "source": [
    "type(col_type2)"
   ]
  },
  {
   "cell_type": "code",
   "execution_count": 187,
   "metadata": {},
   "outputs": [
    {
     "name": "stdout",
     "output_type": "stream",
     "text": [
      "+----+--------+-------+-----------+-------------+--------------+-----------+--------------+--------------+-------+--------------+\n",
      "|step|    type| amount|   nameOrig|oldbalanceOrg|newbalanceOrig|   nameDest|oldbalanceDest|newbalanceDest|isFraud|isFlaggedFraud|\n",
      "+----+--------+-------+-----------+-------------+--------------+-----------+--------------+--------------+-------+--------------+\n",
      "|   1| PAYMENT|9839.64|C1231006815|     170136.0|     160296.36|M1979787155|           0.0|           0.0|      0|             0|\n",
      "|   1| PAYMENT|1864.28|C1666544295|      21249.0|      19384.72|M2044282225|           0.0|           0.0|      0|             0|\n",
      "|   1|TRANSFER|  181.0|C1305486145|        181.0|           0.0| C553264065|           0.0|           0.0|      1|             0|\n",
      "+----+--------+-------+-----------+-------------+--------------+-----------+--------------+--------------+-------+--------------+\n",
      "only showing top 3 rows\n",
      "\n"
     ]
    }
   ],
   "source": [
    "### 2.1.- One Hot Encoding: column \"type\"\n",
    "\n",
    "df.show(3)"
   ]
  },
  {
   "cell_type": "markdown",
   "metadata": {},
   "source": [
    "#### We´ll use some libraries of Spark for Machine Learning (SparkML)."
   ]
  },
  {
   "cell_type": "code",
   "execution_count": 188,
   "metadata": {},
   "outputs": [
    {
     "name": "stderr",
     "output_type": "stream",
     "text": [
      "                                                                                \r"
     ]
    }
   ],
   "source": [
    "### StringIndexer Initialization\n",
    "### column: type\n",
    "\n",
    "indexer_type = StringIndexer(inputCol=\"type\",outputCol=\"types_indexed\")\n",
    "indexerModel_type = indexer_type.fit(df)\n"
   ]
  },
  {
   "cell_type": "code",
   "execution_count": 189,
   "metadata": {},
   "outputs": [
    {
     "name": "stdout",
     "output_type": "stream",
     "text": [
      "+----+--------+--------+-----------+-------------+--------------+-----------+--------------+--------------+-------+--------------+-------------+\n",
      "|step|    type|  amount|   nameOrig|oldbalanceOrg|newbalanceOrig|   nameDest|oldbalanceDest|newbalanceDest|isFraud|isFlaggedFraud|types_indexed|\n",
      "+----+--------+--------+-----------+-------------+--------------+-----------+--------------+--------------+-------+--------------+-------------+\n",
      "|   1| PAYMENT| 9839.64|C1231006815|     170136.0|     160296.36|M1979787155|           0.0|           0.0|      0|             0|          1.0|\n",
      "|   1| PAYMENT| 1864.28|C1666544295|      21249.0|      19384.72|M2044282225|           0.0|           0.0|      0|             0|          1.0|\n",
      "|   1|TRANSFER|   181.0|C1305486145|        181.0|           0.0| C553264065|           0.0|           0.0|      1|             0|          3.0|\n",
      "|   1|CASH_OUT|   181.0| C840083671|        181.0|           0.0|  C38997010|       21182.0|           0.0|      1|             0|          0.0|\n",
      "|   1| PAYMENT|11668.14|C2048537720|      41554.0|      29885.86|M1230701703|           0.0|           0.0|      0|             0|          1.0|\n",
      "|   1| PAYMENT| 7817.71|  C90045638|      53860.0|      46042.29| M573487274|           0.0|           0.0|      0|             0|          1.0|\n",
      "|   1| PAYMENT| 7107.77| C154988899|     183195.0|     176087.23| M408069119|           0.0|           0.0|      0|             0|          1.0|\n",
      "|   1| PAYMENT| 7861.64|C1912850431|    176087.23|     168225.59| M633326333|           0.0|           0.0|      0|             0|          1.0|\n",
      "|   1| PAYMENT| 4024.36|C1265012928|       2671.0|           0.0|M1176932104|           0.0|           0.0|      0|             0|          1.0|\n",
      "|   1|   DEBIT| 5337.77| C712410124|      41720.0|      36382.23| C195600860|       41898.0|      40348.79|      0|             0|          4.0|\n",
      "+----+--------+--------+-----------+-------------+--------------+-----------+--------------+--------------+-------+--------------+-------------+\n",
      "only showing top 10 rows\n",
      "\n"
     ]
    }
   ],
   "source": [
    "### Transform the DataFrame using the fitted StringIndexer model\n",
    "\n",
    "indexed_df_type = indexerModel_type.transform(df)\n",
    "indexed_df_type.show(10)"
   ]
  },
  {
   "cell_type": "markdown",
   "metadata": {},
   "source": [
    "#### Here, we´ve set each of the elements of the \"type\" column into indexes."
   ]
  },
  {
   "cell_type": "code",
   "execution_count": 190,
   "metadata": {},
   "outputs": [
    {
     "name": "stdout",
     "output_type": "stream",
     "text": [
      "+----+--------+---------+-----------+-------------+--------------+-----------+--------------+--------------+-------+--------------+-------------+-------------+\n",
      "|step|type    |amount   |nameOrig   |oldbalanceOrg|newbalanceOrig|nameDest   |oldbalanceDest|newbalanceDest|isFraud|isFlaggedFraud|types_indexed|types_onehot |\n",
      "+----+--------+---------+-----------+-------------+--------------+-----------+--------------+--------------+-------+--------------+-------------+-------------+\n",
      "|1   |PAYMENT |9839.64  |C1231006815|170136.0     |160296.36     |M1979787155|0.0           |0.0           |0      |0             |1.0          |(5,[1],[1.0])|\n",
      "|1   |PAYMENT |1864.28  |C1666544295|21249.0      |19384.72      |M2044282225|0.0           |0.0           |0      |0             |1.0          |(5,[1],[1.0])|\n",
      "|1   |TRANSFER|181.0    |C1305486145|181.0        |0.0           |C553264065 |0.0           |0.0           |1      |0             |3.0          |(5,[3],[1.0])|\n",
      "|1   |CASH_OUT|181.0    |C840083671 |181.0        |0.0           |C38997010  |21182.0       |0.0           |1      |0             |0.0          |(5,[0],[1.0])|\n",
      "|1   |PAYMENT |11668.14 |C2048537720|41554.0      |29885.86      |M1230701703|0.0           |0.0           |0      |0             |1.0          |(5,[1],[1.0])|\n",
      "|1   |PAYMENT |7817.71  |C90045638  |53860.0      |46042.29      |M573487274 |0.0           |0.0           |0      |0             |1.0          |(5,[1],[1.0])|\n",
      "|1   |PAYMENT |7107.77  |C154988899 |183195.0     |176087.23     |M408069119 |0.0           |0.0           |0      |0             |1.0          |(5,[1],[1.0])|\n",
      "|1   |PAYMENT |7861.64  |C1912850431|176087.23    |168225.59     |M633326333 |0.0           |0.0           |0      |0             |1.0          |(5,[1],[1.0])|\n",
      "|1   |PAYMENT |4024.36  |C1265012928|2671.0       |0.0           |M1176932104|0.0           |0.0           |0      |0             |1.0          |(5,[1],[1.0])|\n",
      "|1   |DEBIT   |5337.77  |C712410124 |41720.0      |36382.23      |C195600860 |41898.0       |40348.79      |0      |0             |4.0          |(5,[4],[1.0])|\n",
      "|1   |DEBIT   |9644.94  |C1900366749|4465.0       |0.0           |C997608398 |10845.0       |157982.12     |0      |0             |4.0          |(5,[4],[1.0])|\n",
      "|1   |PAYMENT |3099.97  |C249177573 |20771.0      |17671.03      |M2096539129|0.0           |0.0           |0      |0             |1.0          |(5,[1],[1.0])|\n",
      "|1   |PAYMENT |2560.74  |C1648232591|5070.0       |2509.26       |M972865270 |0.0           |0.0           |0      |0             |1.0          |(5,[1],[1.0])|\n",
      "|1   |PAYMENT |11633.76 |C1716932897|10127.0      |0.0           |M801569151 |0.0           |0.0           |0      |0             |1.0          |(5,[1],[1.0])|\n",
      "|1   |PAYMENT |4098.78  |C1026483832|503264.0     |499165.22     |M1635378213|0.0           |0.0           |0      |0             |1.0          |(5,[1],[1.0])|\n",
      "|1   |CASH_OUT|229133.94|C905080434 |15325.0      |0.0           |C476402209 |5083.0        |51513.44      |0      |0             |0.0          |(5,[0],[1.0])|\n",
      "|1   |PAYMENT |1563.82  |C761750706 |450.0        |0.0           |M1731217984|0.0           |0.0           |0      |0             |1.0          |(5,[1],[1.0])|\n",
      "|1   |PAYMENT |1157.86  |C1237762639|21156.0      |19998.14      |M1877062907|0.0           |0.0           |0      |0             |1.0          |(5,[1],[1.0])|\n",
      "|1   |PAYMENT |671.64   |C2033524545|15123.0      |14451.36      |M473053293 |0.0           |0.0           |0      |0             |1.0          |(5,[1],[1.0])|\n",
      "|1   |TRANSFER|215310.3 |C1670993182|705.0        |0.0           |C1100439041|22425.0       |0.0           |0      |0             |3.0          |(5,[3],[1.0])|\n",
      "+----+--------+---------+-----------+-------------+--------------+-----------+--------------+--------------+-------+--------------+-------------+-------------+\n",
      "only showing top 20 rows\n",
      "\n"
     ]
    }
   ],
   "source": [
    "### apply One-Hot-Encoding to the indexed column, that is, \n",
    "### \"types_indexed\"\n",
    "\n",
    "encoder_type = OneHotEncoder(dropLast=False, inputCol=\"types_indexed\", outputCol=\"types_onehot\")\n",
    "encoder_type_df = encoder_type.fit(indexed_df_type).transform(indexed_df_type)\n",
    "encoder_type_df.show(truncate=False)\n"
   ]
  },
  {
   "cell_type": "code",
   "execution_count": 191,
   "metadata": {},
   "outputs": [
    {
     "name": "stdout",
     "output_type": "stream",
     "text": [
      "root\n",
      " |-- step: string (nullable = true)\n",
      " |-- type: string (nullable = true)\n",
      " |-- amount: string (nullable = true)\n",
      " |-- nameOrig: string (nullable = true)\n",
      " |-- oldbalanceOrg: string (nullable = true)\n",
      " |-- newbalanceOrig: string (nullable = true)\n",
      " |-- nameDest: string (nullable = true)\n",
      " |-- oldbalanceDest: string (nullable = true)\n",
      " |-- newbalanceDest: string (nullable = true)\n",
      " |-- isFraud: string (nullable = true)\n",
      " |-- isFlaggedFraud: string (nullable = true)\n",
      " |-- types_indexed: double (nullable = false)\n",
      " |-- types_onehot: vector (nullable = true)\n",
      "\n"
     ]
    }
   ],
   "source": [
    "encoder_type_df.printSchema()"
   ]
  },
  {
   "cell_type": "code",
   "execution_count": 192,
   "metadata": {},
   "outputs": [
    {
     "name": "stdout",
     "output_type": "stream",
     "text": [
      "+----+--------+--------+-----------+-------------+--------------+-----------+--------------+--------------+-------+--------------+-------------+-------------+--------------------+\n",
      "|step|    type|  amount|   nameOrig|oldbalanceOrg|newbalanceOrig|   nameDest|oldbalanceDest|newbalanceDest|isFraud|isFlaggedFraud|types_indexed| types_onehot|  types_onehot_split|\n",
      "+----+--------+--------+-----------+-------------+--------------+-----------+--------------+--------------+-------+--------------+-------------+-------------+--------------------+\n",
      "|   1| PAYMENT| 9839.64|C1231006815|     170136.0|     160296.36|M1979787155|           0.0|           0.0|      0|             0|          1.0|(5,[1],[1.0])|[0.0, 1.0, 0.0, 0...|\n",
      "|   1| PAYMENT| 1864.28|C1666544295|      21249.0|      19384.72|M2044282225|           0.0|           0.0|      0|             0|          1.0|(5,[1],[1.0])|[0.0, 1.0, 0.0, 0...|\n",
      "|   1|TRANSFER|   181.0|C1305486145|        181.0|           0.0| C553264065|           0.0|           0.0|      1|             0|          3.0|(5,[3],[1.0])|[0.0, 0.0, 0.0, 1...|\n",
      "|   1|CASH_OUT|   181.0| C840083671|        181.0|           0.0|  C38997010|       21182.0|           0.0|      1|             0|          0.0|(5,[0],[1.0])|[1.0, 0.0, 0.0, 0...|\n",
      "|   1| PAYMENT|11668.14|C2048537720|      41554.0|      29885.86|M1230701703|           0.0|           0.0|      0|             0|          1.0|(5,[1],[1.0])|[0.0, 1.0, 0.0, 0...|\n",
      "+----+--------+--------+-----------+-------------+--------------+-----------+--------------+--------------+-------+--------------+-------------+-------------+--------------------+\n",
      "only showing top 5 rows\n",
      "\n"
     ]
    }
   ],
   "source": [
    "encoder_type_df_split = encoder_type_df.select('*',vector_to_array('types_onehot').alias('types_onehot_split'))\n",
    "encoder_type_df_split.show(5)"
   ]
  },
  {
   "cell_type": "code",
   "execution_count": 193,
   "metadata": {},
   "outputs": [],
   "source": [
    "### now, we´ll split the \"types_onehot_split\" into \n",
    "\n",
    "num_categories = len(encoder_type_df_split.first()['types_onehot_split'])\n",
    "cols_expanded = [(f.col('types_onehot_split')[i].alias(f\"{indexerModel_type.labels[i]}\")) for i in range(num_categories)]\n",
    "type_df = encoder_type_df_split.select('*',*cols_expanded)\n"
   ]
  },
  {
   "cell_type": "code",
   "execution_count": 194,
   "metadata": {},
   "outputs": [
    {
     "name": "stdout",
     "output_type": "stream",
     "text": [
      "+----+--------+----------+-----------+-------------+--------------+-----------+--------------+--------------+-------+--------------+-------------+-------------+--------------------+--------+-------+-------+--------+-----+\n",
      "|step|    type|    amount|   nameOrig|oldbalanceOrg|newbalanceOrig|   nameDest|oldbalanceDest|newbalanceDest|isFraud|isFlaggedFraud|types_indexed| types_onehot|  types_onehot_split|CASH_OUT|PAYMENT|CASH_IN|TRANSFER|DEBIT|\n",
      "+----+--------+----------+-----------+-------------+--------------+-----------+--------------+--------------+-------+--------------+-------------+-------------+--------------------+--------+-------+-------+--------+-----+\n",
      "|   1| PAYMENT|   9839.64|C1231006815|     170136.0|     160296.36|M1979787155|           0.0|           0.0|      0|             0|          1.0|(5,[1],[1.0])|[0.0, 1.0, 0.0, 0...|     0.0|    1.0|    0.0|     0.0|  0.0|\n",
      "|   1| PAYMENT|   1864.28|C1666544295|      21249.0|      19384.72|M2044282225|           0.0|           0.0|      0|             0|          1.0|(5,[1],[1.0])|[0.0, 1.0, 0.0, 0...|     0.0|    1.0|    0.0|     0.0|  0.0|\n",
      "|   1|TRANSFER|     181.0|C1305486145|        181.0|           0.0| C553264065|           0.0|           0.0|      1|             0|          3.0|(5,[3],[1.0])|[0.0, 0.0, 0.0, 1...|     0.0|    0.0|    0.0|     1.0|  0.0|\n",
      "|   1|CASH_OUT|     181.0| C840083671|        181.0|           0.0|  C38997010|       21182.0|           0.0|      1|             0|          0.0|(5,[0],[1.0])|[1.0, 0.0, 0.0, 0...|     1.0|    0.0|    0.0|     0.0|  0.0|\n",
      "|   1| PAYMENT|  11668.14|C2048537720|      41554.0|      29885.86|M1230701703|           0.0|           0.0|      0|             0|          1.0|(5,[1],[1.0])|[0.0, 1.0, 0.0, 0...|     0.0|    1.0|    0.0|     0.0|  0.0|\n",
      "|   1| PAYMENT|   7817.71|  C90045638|      53860.0|      46042.29| M573487274|           0.0|           0.0|      0|             0|          1.0|(5,[1],[1.0])|[0.0, 1.0, 0.0, 0...|     0.0|    1.0|    0.0|     0.0|  0.0|\n",
      "|   1| PAYMENT|   7107.77| C154988899|     183195.0|     176087.23| M408069119|           0.0|           0.0|      0|             0|          1.0|(5,[1],[1.0])|[0.0, 1.0, 0.0, 0...|     0.0|    1.0|    0.0|     0.0|  0.0|\n",
      "|   1| PAYMENT|   7861.64|C1912850431|    176087.23|     168225.59| M633326333|           0.0|           0.0|      0|             0|          1.0|(5,[1],[1.0])|[0.0, 1.0, 0.0, 0...|     0.0|    1.0|    0.0|     0.0|  0.0|\n",
      "|   1| PAYMENT|   4024.36|C1265012928|       2671.0|           0.0|M1176932104|           0.0|           0.0|      0|             0|          1.0|(5,[1],[1.0])|[0.0, 1.0, 0.0, 0...|     0.0|    1.0|    0.0|     0.0|  0.0|\n",
      "|   1|   DEBIT|   5337.77| C712410124|      41720.0|      36382.23| C195600860|       41898.0|      40348.79|      0|             0|          4.0|(5,[4],[1.0])|[0.0, 0.0, 0.0, 0...|     0.0|    0.0|    0.0|     0.0|  1.0|\n",
      "|   1|   DEBIT|   9644.94|C1900366749|       4465.0|           0.0| C997608398|       10845.0|     157982.12|      0|             0|          4.0|(5,[4],[1.0])|[0.0, 0.0, 0.0, 0...|     0.0|    0.0|    0.0|     0.0|  1.0|\n",
      "|   1| PAYMENT|   3099.97| C249177573|      20771.0|      17671.03|M2096539129|           0.0|           0.0|      0|             0|          1.0|(5,[1],[1.0])|[0.0, 1.0, 0.0, 0...|     0.0|    1.0|    0.0|     0.0|  0.0|\n",
      "|   1| PAYMENT|   2560.74|C1648232591|       5070.0|       2509.26| M972865270|           0.0|           0.0|      0|             0|          1.0|(5,[1],[1.0])|[0.0, 1.0, 0.0, 0...|     0.0|    1.0|    0.0|     0.0|  0.0|\n",
      "|   1| PAYMENT|  11633.76|C1716932897|      10127.0|           0.0| M801569151|           0.0|           0.0|      0|             0|          1.0|(5,[1],[1.0])|[0.0, 1.0, 0.0, 0...|     0.0|    1.0|    0.0|     0.0|  0.0|\n",
      "|   1| PAYMENT|   4098.78|C1026483832|     503264.0|     499165.22|M1635378213|           0.0|           0.0|      0|             0|          1.0|(5,[1],[1.0])|[0.0, 1.0, 0.0, 0...|     0.0|    1.0|    0.0|     0.0|  0.0|\n",
      "|   1|CASH_OUT| 229133.94| C905080434|      15325.0|           0.0| C476402209|        5083.0|      51513.44|      0|             0|          0.0|(5,[0],[1.0])|[1.0, 0.0, 0.0, 0...|     1.0|    0.0|    0.0|     0.0|  0.0|\n",
      "|   1| PAYMENT|   1563.82| C761750706|        450.0|           0.0|M1731217984|           0.0|           0.0|      0|             0|          1.0|(5,[1],[1.0])|[0.0, 1.0, 0.0, 0...|     0.0|    1.0|    0.0|     0.0|  0.0|\n",
      "|   1| PAYMENT|   1157.86|C1237762639|      21156.0|      19998.14|M1877062907|           0.0|           0.0|      0|             0|          1.0|(5,[1],[1.0])|[0.0, 1.0, 0.0, 0...|     0.0|    1.0|    0.0|     0.0|  0.0|\n",
      "|   1| PAYMENT|    671.64|C2033524545|      15123.0|      14451.36| M473053293|           0.0|           0.0|      0|             0|          1.0|(5,[1],[1.0])|[0.0, 1.0, 0.0, 0...|     0.0|    1.0|    0.0|     0.0|  0.0|\n",
      "|   1|TRANSFER|  215310.3|C1670993182|        705.0|           0.0|C1100439041|       22425.0|           0.0|      0|             0|          3.0|(5,[3],[1.0])|[0.0, 0.0, 0.0, 1...|     0.0|    0.0|    0.0|     1.0|  0.0|\n",
      "|   1| PAYMENT|   1373.43|  C20804602|      13854.0|      12480.57|M1344519051|           0.0|           0.0|      0|             0|          1.0|(5,[1],[1.0])|[0.0, 1.0, 0.0, 0...|     0.0|    1.0|    0.0|     0.0|  0.0|\n",
      "|   1|   DEBIT|   9302.79|C1566511282|      11299.0|       1996.21|C1973538135|       29832.0|       16896.7|      0|             0|          4.0|(5,[4],[1.0])|[0.0, 0.0, 0.0, 0...|     0.0|    0.0|    0.0|     0.0|  1.0|\n",
      "|   1|   DEBIT|   1065.41|C1959239586|       1817.0|        751.59| C515132998|       10330.0|           0.0|      0|             0|          4.0|(5,[4],[1.0])|[0.0, 0.0, 0.0, 0...|     0.0|    0.0|    0.0|     0.0|  1.0|\n",
      "|   1| PAYMENT|   3876.41| C504336483|      67852.0|      63975.59|M1404932042|           0.0|           0.0|      0|             0|          1.0|(5,[1],[1.0])|[0.0, 1.0, 0.0, 0...|     0.0|    1.0|    0.0|     0.0|  0.0|\n",
      "|   1|TRANSFER| 311685.89|C1984094095|      10835.0|           0.0| C932583850|        6267.0|    2719172.89|      0|             0|          3.0|(5,[3],[1.0])|[0.0, 0.0, 0.0, 1...|     0.0|    0.0|    0.0|     1.0|  0.0|\n",
      "|   1| PAYMENT|   6061.13|C1043358826|        443.0|           0.0|M1558079303|           0.0|           0.0|      0|             0|          1.0|(5,[1],[1.0])|[0.0, 1.0, 0.0, 0...|     0.0|    1.0|    0.0|     0.0|  0.0|\n",
      "|   1| PAYMENT|   9478.39|C1671590089|     116494.0|     107015.61|  M58488213|           0.0|           0.0|      0|             0|          1.0|(5,[1],[1.0])|[0.0, 1.0, 0.0, 0...|     0.0|    1.0|    0.0|     0.0|  0.0|\n",
      "|   1| PAYMENT|   8009.09|C1053967012|      10968.0|       2958.91| M295304806|           0.0|           0.0|      0|             0|          1.0|(5,[1],[1.0])|[0.0, 1.0, 0.0, 0...|     0.0|    1.0|    0.0|     0.0|  0.0|\n",
      "|   1| PAYMENT|   8901.99|C1632497828|      2958.91|           0.0|  M33419717|           0.0|           0.0|      0|             0|          1.0|(5,[1],[1.0])|[0.0, 1.0, 0.0, 0...|     0.0|    1.0|    0.0|     0.0|  0.0|\n",
      "|   1| PAYMENT|   9920.52| C764826684|          0.0|           0.0|M1940055334|           0.0|           0.0|      0|             0|          1.0|(5,[1],[1.0])|[0.0, 1.0, 0.0, 0...|     0.0|    1.0|    0.0|     0.0|  0.0|\n",
      "|   1| PAYMENT|   3448.92|C2103763750|          0.0|           0.0| M335107734|           0.0|           0.0|      0|             0|          1.0|(5,[1],[1.0])|[0.0, 1.0, 0.0, 0...|     0.0|    1.0|    0.0|     0.0|  0.0|\n",
      "|   1| PAYMENT|   4206.84| C215078753|          0.0|           0.0|M1757317128|           0.0|           0.0|      0|             0|          1.0|(5,[1],[1.0])|[0.0, 1.0, 0.0, 0...|     0.0|    1.0|    0.0|     0.0|  0.0|\n",
      "|   1| PAYMENT|   5885.56| C840514538|          0.0|           0.0|M1804441305|           0.0|           0.0|      0|             0|          1.0|(5,[1],[1.0])|[0.0, 1.0, 0.0, 0...|     0.0|    1.0|    0.0|     0.0|  0.0|\n",
      "|   1| PAYMENT|   5307.88|C1768242710|          0.0|           0.0|M1971783162|           0.0|           0.0|      0|             0|          1.0|(5,[1],[1.0])|[0.0, 1.0, 0.0, 0...|     0.0|    1.0|    0.0|     0.0|  0.0|\n",
      "|   1| PAYMENT|   5031.22| C247113419|          0.0|           0.0| M151442075|           0.0|           0.0|      0|             0|          1.0|(5,[1],[1.0])|[0.0, 1.0, 0.0, 0...|     0.0|    1.0|    0.0|     0.0|  0.0|\n",
      "|   1| PAYMENT|  24213.67|C1238616099|          0.0|           0.0|  M70695990|           0.0|           0.0|      0|             0|          1.0|(5,[1],[1.0])|[0.0, 1.0, 0.0, 0...|     0.0|    1.0|    0.0|     0.0|  0.0|\n",
      "|   1| PAYMENT|   8603.42|C1608633989|        253.0|           0.0|M1615617512|           0.0|           0.0|      0|             0|          1.0|(5,[1],[1.0])|[0.0, 1.0, 0.0, 0...|     0.0|    1.0|    0.0|     0.0|  0.0|\n",
      "|   1| PAYMENT|   2791.42| C923341586|     300481.0|     297689.58| M107994825|           0.0|           0.0|      0|             0|          1.0|(5,[1],[1.0])|[0.0, 1.0, 0.0, 0...|     0.0|    1.0|    0.0|     0.0|  0.0|\n",
      "|   1| PAYMENT|   7413.54|C1470868839|    297689.58|     290276.03|M1426725223|           0.0|           0.0|      0|             0|          1.0|(5,[1],[1.0])|[0.0, 1.0, 0.0, 0...|     0.0|    1.0|    0.0|     0.0|  0.0|\n",
      "|   1| PAYMENT|   3295.19| C711197015|     233633.0|     230337.81|M1384454980|           0.0|           0.0|      0|             0|          1.0|(5,[1],[1.0])|[0.0, 1.0, 0.0, 0...|     0.0|    1.0|    0.0|     0.0|  0.0|\n",
      "|   1| PAYMENT|   1684.81|C1481594086|        297.0|           0.0|M1569435561|           0.0|           0.0|      0|             0|          1.0|(5,[1],[1.0])|[0.0, 1.0, 0.0, 0...|     0.0|    1.0|    0.0|     0.0|  0.0|\n",
      "|   1|   DEBIT|   5758.59|C1466917878|      32604.0|      26845.41|C1297685781|      209699.0|      16997.22|      0|             0|          4.0|(5,[4],[1.0])|[0.0, 0.0, 0.0, 0...|     0.0|    0.0|    0.0|     0.0|  1.0|\n",
      "|   1|CASH_OUT| 110414.71| C768216420|     26845.41|           0.0|C1509514333|      288800.0|       2415.16|      0|             0|          0.0|(5,[0],[1.0])|[1.0, 0.0, 0.0, 0...|     1.0|    0.0|    0.0|     0.0|  0.0|\n",
      "|   1| PAYMENT|   7823.46| C260084831|        998.0|           0.0| M267814113|           0.0|           0.0|      0|             0|          1.0|(5,[1],[1.0])|[0.0, 1.0, 0.0, 0...|     0.0|    1.0|    0.0|     0.0|  0.0|\n",
      "|   1| PAYMENT|   5086.48| C598357562|          0.0|           0.0|M1593224710|           0.0|           0.0|      0|             0|          1.0|(5,[1],[1.0])|[0.0, 1.0, 0.0, 0...|     0.0|    1.0|    0.0|     0.0|  0.0|\n",
      "|   1| PAYMENT|   5281.48|C1440738283|     152019.0|     146737.52|M1849015357|           0.0|           0.0|      0|             0|          1.0|(5,[1],[1.0])|[0.0, 1.0, 0.0, 0...|     0.0|    1.0|    0.0|     0.0|  0.0|\n",
      "|   1| PAYMENT|  13875.98| C484199463|      15818.0|       1942.02|M2008106788|           0.0|           0.0|      0|             0|          1.0|(5,[1],[1.0])|[0.0, 1.0, 0.0, 0...|     0.0|    1.0|    0.0|     0.0|  0.0|\n",
      "|   1|CASH_OUT|   56953.9|C1570470538|      1942.02|           0.0| C824009085|       70253.0|      64106.18|      0|             0|          0.0|(5,[0],[1.0])|[1.0, 0.0, 0.0, 0...|     1.0|    0.0|    0.0|     0.0|  0.0|\n",
      "|   1|CASH_OUT|   5346.89| C512549200|          0.0|           0.0| C248609774|      652637.0|    6453430.91|      0|             0|          0.0|(5,[0],[1.0])|[1.0, 0.0, 0.0, 0...|     1.0|    0.0|    0.0|     0.0|  0.0|\n",
      "|   1| PAYMENT|   2204.04|C1615801298|        586.0|           0.0| M490391704|           0.0|           0.0|      0|             0|          1.0|(5,[1],[1.0])|[0.0, 1.0, 0.0, 0...|     0.0|    1.0|    0.0|     0.0|  0.0|\n",
      "|   1| PAYMENT|   2641.47| C460570271|      23053.0|      20411.53|M1653361344|           0.0|           0.0|      0|             0|          1.0|(5,[1],[1.0])|[0.0, 1.0, 0.0, 0...|     0.0|    1.0|    0.0|     0.0|  0.0|\n",
      "|   1|CASH_OUT|   23261.3|C2072313080|     20411.53|           0.0|C2001112025|       25742.0|           0.0|      0|             0|          0.0|(5,[0],[1.0])|[1.0, 0.0, 0.0, 0...|     1.0|    0.0|    0.0|     0.0|  0.0|\n",
      "|   1| PAYMENT|   2330.64| C816944408|     203543.0|     201212.36| M909132503|           0.0|           0.0|      0|             0|          1.0|(5,[1],[1.0])|[0.0, 1.0, 0.0, 0...|     0.0|    1.0|    0.0|     0.0|  0.0|\n",
      "|   1| PAYMENT|   1614.64| C912966811|      41276.0|      39661.36|M1792384402|           0.0|           0.0|      0|             0|          1.0|(5,[1],[1.0])|[0.0, 1.0, 0.0, 0...|     0.0|    1.0|    0.0|     0.0|  0.0|\n",
      "|   1| PAYMENT|   9164.71|C1458621573|     47235.77|      38071.06|M1658980982|           0.0|           0.0|      0|             0|          1.0|(5,[1],[1.0])|[0.0, 1.0, 0.0, 0...|     0.0|    1.0|    0.0|     0.0|  0.0|\n",
      "|   1| PAYMENT|   2970.97|  C46941357|     38071.06|      35100.09|M1152606315|           0.0|           0.0|      0|             0|          1.0|(5,[1],[1.0])|[0.0, 1.0, 0.0, 0...|     0.0|    1.0|    0.0|     0.0|  0.0|\n",
      "|   1| PAYMENT|     38.66| C343345308|      16174.0|      16135.34|M1714688478|           0.0|           0.0|      0|             0|          1.0|(5,[1],[1.0])|[0.0, 1.0, 0.0, 0...|     0.0|    1.0|    0.0|     0.0|  0.0|\n",
      "|   1| PAYMENT|   2252.44| C104716441|       1627.0|           0.0|M1506951181|           0.0|           0.0|      0|             0|          1.0|(5,[1],[1.0])|[0.0, 1.0, 0.0, 0...|     0.0|    1.0|    0.0|     0.0|  0.0|\n",
      "|   1|TRANSFER|   62610.8|C1976401987|      79114.0|       16503.2|C1937962514|         517.0|       8383.29|      0|             0|          3.0|(5,[3],[1.0])|[0.0, 0.0, 0.0, 1...|     0.0|    0.0|    0.0|     1.0|  0.0|\n",
      "|   1|   DEBIT|   5529.13| C867288517|       8547.0|       3017.87| C242131142|       10206.0|           0.0|      0|             0|          4.0|(5,[4],[1.0])|[0.0, 0.0, 0.0, 0...|     0.0|    0.0|    0.0|     0.0|  1.0|\n",
      "|   1|CASH_OUT|  82940.31|C1528834618|      3017.87|           0.0| C476800120|      132372.0|      49864.36|      0|             0|          0.0|(5,[0],[1.0])|[1.0, 0.0, 0.0, 0...|     1.0|    0.0|    0.0|     0.0|  0.0|\n",
      "|   1|   DEBIT|   4510.22| C280615803|      10256.0|       5745.78|C1254526270|       10697.0|           0.0|      0|             0|          4.0|(5,[4],[1.0])|[0.0, 0.0, 0.0, 0...|     0.0|    0.0|    0.0|     0.0|  1.0|\n",
      "|   1|   DEBIT|   8727.74| C166694583|     882770.0|     874042.26|C1129670968|       12636.0|           0.0|      0|             0|          4.0|(5,[4],[1.0])|[0.0, 0.0, 0.0, 0...|     0.0|    0.0|    0.0|     0.0|  1.0|\n",
      "|   1| PAYMENT|   2599.46| C885910946|    874042.26|     871442.79|M1860591867|           0.0|           0.0|      0|             0|          1.0|(5,[1],[1.0])|[0.0, 1.0, 0.0, 0...|     0.0|    1.0|    0.0|     0.0|  0.0|\n",
      "|   1|   DEBIT|   4874.49| C811207775|        153.0|           0.0|C1971489295|      253104.0|           0.0|      0|             0|          4.0|(5,[4],[1.0])|[0.0, 0.0, 0.0, 0...|     0.0|    0.0|    0.0|     0.0|  1.0|\n",
      "|   1| PAYMENT|   6440.78|C1161148117|       2192.0|           0.0| M516875052|           0.0|           0.0|      0|             0|          1.0|(5,[1],[1.0])|[0.0, 1.0, 0.0, 0...|     0.0|    1.0|    0.0|     0.0|  0.0|\n",
      "|   1| PAYMENT|   4910.14|C1131592118|      41551.0|      36640.86| M589987187|           0.0|           0.0|      0|             0|          1.0|(5,[1],[1.0])|[0.0, 1.0, 0.0, 0...|     0.0|    1.0|    0.0|     0.0|  0.0|\n",
      "|   1| PAYMENT|   6444.64|C1262609629|      12019.0|       5574.36| M587180314|           0.0|           0.0|      0|             0|          1.0|(5,[1],[1.0])|[0.0, 1.0, 0.0, 0...|     0.0|    1.0|    0.0|     0.0|  0.0|\n",
      "|   1|   DEBIT|   5149.66|C1955990522|       4782.0|           0.0|C1330106945|       52752.0|      24044.18|      0|             0|          4.0|(5,[4],[1.0])|[0.0, 0.0, 0.0, 0...|     0.0|    0.0|    0.0|     0.0|  1.0|\n",
      "|   1| PAYMENT|   7292.16|  C69673470|     216827.0|     209534.84|M1082411691|           0.0|           0.0|      0|             0|          1.0|(5,[1],[1.0])|[0.0, 1.0, 0.0, 0...|     0.0|    1.0|    0.0|     0.0|  0.0|\n",
      "|   1|CASH_OUT|  47458.86| C527211736|    209534.84|     162075.98|C2096057945|       52120.0|           0.0|      0|             0|          0.0|(5,[0],[1.0])|[1.0, 0.0, 0.0, 0...|     1.0|    0.0|    0.0|     0.0|  0.0|\n",
      "|   1|CASH_OUT| 136872.92|C1533123860|    162075.98|      25203.05| C766572210|      217806.0|           0.0|      0|             0|          0.0|(5,[0],[1.0])|[1.0, 0.0, 0.0, 0...|     1.0|    0.0|    0.0|     0.0|  0.0|\n",
      "|   1|CASH_OUT|  94253.33|C1718906711|     25203.05|           0.0| C977993101|       99773.0|     965870.05|      0|             0|          0.0|(5,[0],[1.0])|[1.0, 0.0, 0.0, 0...|     1.0|    0.0|    0.0|     0.0|  0.0|\n",
      "|   1| PAYMENT|   2998.04|  C71802912|      12030.0|       9031.96|M2134271532|           0.0|           0.0|      0|             0|          1.0|(5,[1],[1.0])|[0.0, 1.0, 0.0, 0...|     0.0|    1.0|    0.0|     0.0|  0.0|\n",
      "|   1| PAYMENT|   3454.08| C686349795|      9031.96|       5577.88|M1831010686|           0.0|           0.0|      0|             0|          1.0|(5,[1],[1.0])|[0.0, 1.0, 0.0, 0...|     0.0|    1.0|    0.0|     0.0|  0.0|\n",
      "|   1| PAYMENT|    4316.2|C1423768154|      10999.0|        6682.8| M404222443|           0.0|           0.0|      0|             0|          1.0|(5,[1],[1.0])|[0.0, 1.0, 0.0, 0...|     0.0|    1.0|    0.0|     0.0|  0.0|\n",
      "|   1| PAYMENT|   2131.84|C1987977423|        224.0|           0.0|  M61073295|           0.0|           0.0|      0|             0|          1.0|(5,[1],[1.0])|[0.0, 1.0, 0.0, 0...|     0.0|    1.0|    0.0|     0.0|  0.0|\n",
      "|   1| PAYMENT|  12986.61| C807322507|      23350.0|      10363.39| M396485834|           0.0|           0.0|      0|             0|          1.0|(5,[1],[1.0])|[0.0, 1.0, 0.0, 0...|     0.0|    1.0|    0.0|     0.0|  0.0|\n",
      "|   1|TRANSFER|  42712.39| C283039401|     10363.39|           0.0|C1330106945|      57901.66|      24044.18|      0|             0|          3.0|(5,[3],[1.0])|[0.0, 0.0, 0.0, 1...|     0.0|    0.0|    0.0|     1.0|  0.0|\n",
      "|   1|TRANSFER|  77957.68| C207471778|          0.0|           0.0|C1761291320|       94900.0|      22233.65|      0|             0|          3.0|(5,[3],[1.0])|[0.0, 0.0, 0.0, 1...|     0.0|    0.0|    0.0|     1.0|  0.0|\n",
      "|   1|TRANSFER|  17231.46|C1243171897|          0.0|           0.0| C783286238|       24672.0|           0.0|      0|             0|          3.0|(5,[3],[1.0])|[0.0, 0.0, 0.0, 1...|     0.0|    0.0|    0.0|     1.0|  0.0|\n",
      "|   1|TRANSFER|  78766.03|C1376151044|          0.0|           0.0|C1749186397|      103772.0|     277515.05|      0|             0|          3.0|(5,[3],[1.0])|[0.0, 0.0, 0.0, 1...|     0.0|    0.0|    0.0|     1.0|  0.0|\n",
      "|   1|TRANSFER| 224606.64| C873175411|          0.0|           0.0| C766572210|     354678.92|           0.0|      0|             0|          3.0|(5,[3],[1.0])|[0.0, 0.0, 0.0, 1...|     0.0|    0.0|    0.0|     1.0|  0.0|\n",
      "|   1|TRANSFER| 125872.53|C1443967876|          0.0|           0.0| C392292416|      348512.0|    3420103.09|      0|             0|          3.0|(5,[3],[1.0])|[0.0, 0.0, 0.0, 1...|     0.0|    0.0|    0.0|     1.0|  0.0|\n",
      "|   1|TRANSFER| 379856.23|C1449772539|          0.0|           0.0|C1590550415|      900180.0| 1.916920493E7|      0|             0|          3.0|(5,[3],[1.0])|[0.0, 0.0, 0.0, 1...|     0.0|    0.0|    0.0|     1.0|  0.0|\n",
      "|   1|TRANSFER|1505626.01| C926859124|          0.0|           0.0| C665576141|       29031.0|    5515763.34|      0|             0|          3.0|(5,[3],[1.0])|[0.0, 0.0, 0.0, 1...|     0.0|    0.0|    0.0|     1.0|  0.0|\n",
      "|   1|TRANSFER| 554026.99|C1603696865|          0.0|           0.0| C766572210|     579285.56|           0.0|      0|             0|          3.0|(5,[3],[1.0])|[0.0, 0.0, 0.0, 1...|     0.0|    0.0|    0.0|     1.0|  0.0|\n",
      "|   1|TRANSFER|  147543.1|  C12905860|          0.0|           0.0|C1359044626|      223220.0|      16518.36|      0|             0|          3.0|(5,[3],[1.0])|[0.0, 0.0, 0.0, 1...|     0.0|    0.0|    0.0|     1.0|  0.0|\n",
      "|   1|TRANSFER| 761507.39| C412788346|          0.0|           0.0|C1590550415|    1280036.23| 1.916920493E7|      0|             0|          3.0|(5,[3],[1.0])|[0.0, 0.0, 0.0, 1...|     0.0|    0.0|    0.0|     1.0|  0.0|\n",
      "|   1|TRANSFER|1429051.47|C1520267010|          0.0|           0.0|C1590550415|    2041543.62| 1.916920493E7|      0|             0|          3.0|(5,[3],[1.0])|[0.0, 0.0, 0.0, 1...|     0.0|    0.0|    0.0|     1.0|  0.0|\n",
      "|   1|TRANSFER| 358831.92| C908084672|          0.0|           0.0| C392292416|     474384.53|    3420103.09|      0|             0|          3.0|(5,[3],[1.0])|[0.0, 0.0, 0.0, 1...|     0.0|    0.0|    0.0|     1.0|  0.0|\n",
      "|   1|TRANSFER|  367768.4| C288306765|          0.0|           0.0|C1359044626|      370763.1|      16518.36|      0|             0|          3.0|(5,[3],[1.0])|[0.0, 0.0, 0.0, 1...|     0.0|    0.0|    0.0|     1.0|  0.0|\n",
      "|   1|TRANSFER| 209711.11|C1556867940|          0.0|           0.0|C1509514333|     399214.71|       2415.16|      0|             0|          3.0|(5,[3],[1.0])|[0.0, 0.0, 0.0, 1...|     0.0|    0.0|    0.0|     1.0|  0.0|\n",
      "|   1|TRANSFER| 583848.46|C1839168128|          0.0|           0.0|C1286084959|      667778.0|    2107778.11|      0|             0|          3.0|(5,[3],[1.0])|[0.0, 0.0, 0.0, 1...|     0.0|    0.0|    0.0|     1.0|  0.0|\n",
      "|   1|TRANSFER|1724887.05|C1495608502|          0.0|           0.0|C1590550415|     3470595.1| 1.916920493E7|      0|             0|          3.0|(5,[3],[1.0])|[0.0, 0.0, 0.0, 1...|     0.0|    0.0|    0.0|     1.0|  0.0|\n",
      "|   1|TRANSFER| 710544.77| C835773569|          0.0|           0.0|C1359044626|      738531.5|      16518.36|      0|             0|          3.0|(5,[3],[1.0])|[0.0, 0.0, 0.0, 1...|     0.0|    0.0|    0.0|     1.0|  0.0|\n",
      "|   1|TRANSFER| 581294.26| C843299092|          0.0|           0.0|C1590550415|    5195482.15| 1.916920493E7|      0|             0|          3.0|(5,[3],[1.0])|[0.0, 0.0, 0.0, 1...|     0.0|    0.0|    0.0|     1.0|  0.0|\n",
      "|   1|TRANSFER|  11996.58| C605982374|          0.0|           0.0|C1225616405|       40255.0|           0.0|      0|             0|          3.0|(5,[3],[1.0])|[0.0, 0.0, 0.0, 1...|     0.0|    0.0|    0.0|     1.0|  0.0|\n",
      "|   1| PAYMENT|    2875.1|C1412322831|      15443.0|       12567.9|M1651262695|           0.0|           0.0|      0|             0|          1.0|(5,[1],[1.0])|[0.0, 1.0, 0.0, 0...|     0.0|    1.0|    0.0|     0.0|  0.0|\n",
      "|   1| PAYMENT|   8586.98|C1305004711|       3763.0|           0.0| M494077446|           0.0|           0.0|      0|             0|          1.0|(5,[1],[1.0])|[0.0, 1.0, 0.0, 0...|     0.0|    1.0|    0.0|     0.0|  0.0|\n",
      "+----+--------+----------+-----------+-------------+--------------+-----------+--------------+--------------+-------+--------------+-------------+-------------+--------------------+--------+-------+-------+--------+-----+\n",
      "only showing top 100 rows\n",
      "\n"
     ]
    }
   ],
   "source": [
    "type_df.show(100)"
   ]
  },
  {
   "cell_type": "code",
   "execution_count": 195,
   "metadata": {},
   "outputs": [
    {
     "name": "stdout",
     "output_type": "stream",
     "text": [
      "+-----+\n",
      "|type2|\n",
      "+-----+\n",
      "|   CM|\n",
      "|   CM|\n",
      "|   CC|\n",
      "|   CC|\n",
      "|   CM|\n",
      "+-----+\n",
      "only showing top 5 rows\n",
      "\n"
     ]
    }
   ],
   "source": [
    "### 2.2.- One Hot Encoding: column \"type2\"\n",
    "\n",
    "type2.show(5)"
   ]
  },
  {
   "cell_type": "code",
   "execution_count": 196,
   "metadata": {},
   "outputs": [
    {
     "name": "stderr",
     "output_type": "stream",
     "text": [
      "                                                                                \r"
     ]
    }
   ],
   "source": [
    "### StringIndexer Initialization\n",
    "### column: type2\n",
    "\n",
    "indexer_type = StringIndexer(inputCol=\"type2\",outputCol=\"types_indexed\")\n",
    "indexerModel_type = indexer_type.fit(type2)"
   ]
  },
  {
   "cell_type": "code",
   "execution_count": 197,
   "metadata": {},
   "outputs": [
    {
     "name": "stdout",
     "output_type": "stream",
     "text": [
      "+-----+-------------+\n",
      "|type2|types_indexed|\n",
      "+-----+-------------+\n",
      "|   CM|          1.0|\n",
      "|   CM|          1.0|\n",
      "|   CC|          0.0|\n",
      "|   CC|          0.0|\n",
      "|   CM|          1.0|\n",
      "|   CM|          1.0|\n",
      "|   CM|          1.0|\n",
      "|   CM|          1.0|\n",
      "|   CM|          1.0|\n",
      "|   CC|          0.0|\n",
      "+-----+-------------+\n",
      "only showing top 10 rows\n",
      "\n"
     ]
    }
   ],
   "source": [
    "### Transform the DataFrame using the fitted StringIndexer model\n",
    "\n",
    "indexed_df_type = indexerModel_type.transform(type2)\n",
    "indexed_df_type.show(10)"
   ]
  },
  {
   "cell_type": "code",
   "execution_count": 198,
   "metadata": {},
   "outputs": [
    {
     "name": "stdout",
     "output_type": "stream",
     "text": [
      "+-----+-------------+-------------+\n",
      "|type2|types_indexed|types_onehot |\n",
      "+-----+-------------+-------------+\n",
      "|CM   |1.0          |(2,[1],[1.0])|\n",
      "|CM   |1.0          |(2,[1],[1.0])|\n",
      "|CC   |0.0          |(2,[0],[1.0])|\n",
      "|CC   |0.0          |(2,[0],[1.0])|\n",
      "|CM   |1.0          |(2,[1],[1.0])|\n",
      "|CM   |1.0          |(2,[1],[1.0])|\n",
      "|CM   |1.0          |(2,[1],[1.0])|\n",
      "|CM   |1.0          |(2,[1],[1.0])|\n",
      "|CM   |1.0          |(2,[1],[1.0])|\n",
      "|CC   |0.0          |(2,[0],[1.0])|\n",
      "|CC   |0.0          |(2,[0],[1.0])|\n",
      "|CM   |1.0          |(2,[1],[1.0])|\n",
      "|CM   |1.0          |(2,[1],[1.0])|\n",
      "|CM   |1.0          |(2,[1],[1.0])|\n",
      "|CM   |1.0          |(2,[1],[1.0])|\n",
      "|CC   |0.0          |(2,[0],[1.0])|\n",
      "|CM   |1.0          |(2,[1],[1.0])|\n",
      "|CM   |1.0          |(2,[1],[1.0])|\n",
      "|CM   |1.0          |(2,[1],[1.0])|\n",
      "|CC   |0.0          |(2,[0],[1.0])|\n",
      "+-----+-------------+-------------+\n",
      "only showing top 20 rows\n",
      "\n"
     ]
    }
   ],
   "source": [
    "### apply One-Hot-Encoding to the indexed column, that is, \n",
    "### \"types_indexed\"\n",
    "\n",
    "encoder_type2 = OneHotEncoder(dropLast=False, inputCol=\"types_indexed\", outputCol=\"types_onehot\")\n",
    "encoder_type2_df = encoder_type.fit(indexed_df_type).transform(indexed_df_type)\n",
    "encoder_type2_df.show(truncate=False)"
   ]
  },
  {
   "cell_type": "code",
   "execution_count": 199,
   "metadata": {},
   "outputs": [
    {
     "name": "stdout",
     "output_type": "stream",
     "text": [
      "root\n",
      " |-- type2: string (nullable = true)\n",
      " |-- types_indexed: double (nullable = false)\n",
      " |-- types_onehot: vector (nullable = true)\n",
      "\n"
     ]
    }
   ],
   "source": [
    "encoder_type2_df.printSchema()"
   ]
  },
  {
   "cell_type": "code",
   "execution_count": 200,
   "metadata": {},
   "outputs": [
    {
     "name": "stdout",
     "output_type": "stream",
     "text": [
      "+-----+-------------+-------------+------------------+\n",
      "|type2|types_indexed| types_onehot|types_onehot_split|\n",
      "+-----+-------------+-------------+------------------+\n",
      "|   CM|          1.0|(2,[1],[1.0])|        [0.0, 1.0]|\n",
      "|   CM|          1.0|(2,[1],[1.0])|        [0.0, 1.0]|\n",
      "|   CC|          0.0|(2,[0],[1.0])|        [1.0, 0.0]|\n",
      "|   CC|          0.0|(2,[0],[1.0])|        [1.0, 0.0]|\n",
      "|   CM|          1.0|(2,[1],[1.0])|        [0.0, 1.0]|\n",
      "+-----+-------------+-------------+------------------+\n",
      "only showing top 5 rows\n",
      "\n"
     ]
    }
   ],
   "source": [
    "encoder_type2_df_split = encoder_type2_df.select('*',vector_to_array('types_onehot').alias('types_onehot_split'))\n",
    "encoder_type2_df_split.show(5)"
   ]
  },
  {
   "cell_type": "code",
   "execution_count": 201,
   "metadata": {},
   "outputs": [],
   "source": [
    "### now, we´ll split the \"types_onehot_split\" into \n",
    "\n",
    "num_categories = len(encoder_type2_df_split.first()['types_onehot_split'])\n",
    "cols_expanded = [(f.col('types_onehot_split')[i].alias(f\"{indexerModel_type.labels[i]}\")) for i in range(num_categories)]\n",
    "encoder_type2_df_split = encoder_type2_df_split.select('*',*cols_expanded)"
   ]
  },
  {
   "cell_type": "code",
   "execution_count": 202,
   "metadata": {},
   "outputs": [
    {
     "name": "stdout",
     "output_type": "stream",
     "text": [
      "+-----+-------------+-------------+------------------+---+---+\n",
      "|type2|types_indexed| types_onehot|types_onehot_split| CC| CM|\n",
      "+-----+-------------+-------------+------------------+---+---+\n",
      "|   CM|          1.0|(2,[1],[1.0])|        [0.0, 1.0]|0.0|1.0|\n",
      "|   CM|          1.0|(2,[1],[1.0])|        [0.0, 1.0]|0.0|1.0|\n",
      "|   CC|          0.0|(2,[0],[1.0])|        [1.0, 0.0]|1.0|0.0|\n",
      "|   CC|          0.0|(2,[0],[1.0])|        [1.0, 0.0]|1.0|0.0|\n",
      "|   CM|          1.0|(2,[1],[1.0])|        [0.0, 1.0]|0.0|1.0|\n",
      "+-----+-------------+-------------+------------------+---+---+\n",
      "only showing top 5 rows\n",
      "\n"
     ]
    }
   ],
   "source": [
    "encoder_type2_df_split.show(5)"
   ]
  },
  {
   "cell_type": "code",
   "execution_count": 203,
   "metadata": {},
   "outputs": [
    {
     "data": {
      "text/plain": [
       "pyspark.sql.dataframe.DataFrame"
      ]
     },
     "execution_count": 203,
     "metadata": {},
     "output_type": "execute_result"
    }
   ],
   "source": [
    "type(encoder_type2_df_split)"
   ]
  },
  {
   "cell_type": "code",
   "execution_count": 204,
   "metadata": {},
   "outputs": [],
   "source": [
    "type2 = encoder_type2_df_split.drop(\"type2\",\"types_onehot\",\"types_indexed\",\"types_onehot_split\")"
   ]
  },
  {
   "cell_type": "code",
   "execution_count": 205,
   "metadata": {},
   "outputs": [
    {
     "name": "stdout",
     "output_type": "stream",
     "text": [
      "+---+---+\n",
      "| CC| CM|\n",
      "+---+---+\n",
      "|0.0|1.0|\n",
      "|0.0|1.0|\n",
      "|1.0|0.0|\n",
      "|1.0|0.0|\n",
      "|0.0|1.0|\n",
      "+---+---+\n",
      "only showing top 5 rows\n",
      "\n"
     ]
    }
   ],
   "source": [
    "type2.show(5)"
   ]
  },
  {
   "cell_type": "code",
   "execution_count": 209,
   "metadata": {},
   "outputs": [
    {
     "data": {
      "text/plain": [
       "['step',\n",
       " 'type',\n",
       " 'amount',\n",
       " 'nameOrig',\n",
       " 'oldbalanceOrg',\n",
       " 'newbalanceOrig',\n",
       " 'nameDest',\n",
       " 'oldbalanceDest',\n",
       " 'newbalanceDest',\n",
       " 'isFraud',\n",
       " 'isFlaggedFraud']"
      ]
     },
     "execution_count": 209,
     "metadata": {},
     "output_type": "execute_result"
    }
   ],
   "source": [
    "df.columns"
   ]
  },
  {
   "cell_type": "code",
   "execution_count": null,
   "metadata": {},
   "outputs": [],
   "source": [
    "### 2.3.- Eliminate unneccesary columns: \"nameOrig\",\"nameDest\",\"isFlaggedFraud\",\"newbalanceDest\",\n",
    "### \"oldbalanceDest\",\"oldbalanceOrg\",\"newbalanceOrig\"\n"
   ]
  },
  {
   "cell_type": "markdown",
   "metadata": {},
   "source": [
    "#### Now, we´ll eliminate the unnecessary columns:\n",
    "+ nameOrig\n",
    "+ nameDest\n",
    "+ isFlaggedFraud\n",
    "+ newbalanceDest\n",
    "+ oldbalanceDest\n",
    "+ oldbalanceOrg\n",
    "+ newbalanceOrig "
   ]
  },
  {
   "cell_type": "code",
   "execution_count": 212,
   "metadata": {},
   "outputs": [
    {
     "name": "stdout",
     "output_type": "stream",
     "text": [
      "+----+--------+-------+--------+-------+-------+--------+-----+\n",
      "|step|  amount|isFraud|CASH_OUT|PAYMENT|CASH_IN|TRANSFER|DEBIT|\n",
      "+----+--------+-------+--------+-------+-------+--------+-----+\n",
      "|   1| 9839.64|      0|     0.0|    1.0|    0.0|     0.0|  0.0|\n",
      "|   1| 1864.28|      0|     0.0|    1.0|    0.0|     0.0|  0.0|\n",
      "|   1|   181.0|      1|     0.0|    0.0|    0.0|     1.0|  0.0|\n",
      "|   1|   181.0|      1|     1.0|    0.0|    0.0|     0.0|  0.0|\n",
      "|   1|11668.14|      0|     0.0|    1.0|    0.0|     0.0|  0.0|\n",
      "+----+--------+-------+--------+-------+-------+--------+-----+\n",
      "only showing top 5 rows\n",
      "\n"
     ]
    }
   ],
   "source": [
    "type_df = type_df.drop(\"nameOrig\",\"nameDest\",\"isFlaggedFraud\",\"newbalanceDest\",\"oldbalanceDest\",\"oldbalanceOrg\",\"newbalanceOrig\",\"type\",\"types_indexed\",\"types_onehot\",\"types_onehot_split\")\n",
    "type_df.show(5)"
   ]
  },
  {
   "cell_type": "code",
   "execution_count": null,
   "metadata": {},
   "outputs": [],
   "source": []
  },
  {
   "cell_type": "code",
   "execution_count": null,
   "metadata": {},
   "outputs": [],
   "source": []
  },
  {
   "cell_type": "code",
   "execution_count": 249,
   "metadata": {},
   "outputs": [
    {
     "name": "stdout",
     "output_type": "stream",
     "text": [
      "+---+---+\n",
      "| CC| CM|\n",
      "+---+---+\n",
      "|0.0|1.0|\n",
      "|0.0|1.0|\n",
      "|1.0|0.0|\n",
      "|1.0|0.0|\n",
      "|0.0|1.0|\n",
      "+---+---+\n",
      "only showing top 5 rows\n",
      "\n"
     ]
    },
    {
     "name": "stderr",
     "output_type": "stream",
     "text": [
      "                                                                                \r"
     ]
    }
   ],
   "source": [
    "type2.show(5)"
   ]
  },
  {
   "cell_type": "code",
   "execution_count": 250,
   "metadata": {},
   "outputs": [
    {
     "data": {
      "text/plain": [
       "pyspark.sql.dataframe.DataFrame"
      ]
     },
     "execution_count": 250,
     "metadata": {},
     "output_type": "execute_result"
    }
   ],
   "source": [
    "type(type2)"
   ]
  },
  {
   "cell_type": "code",
   "execution_count": 248,
   "metadata": {},
   "outputs": [
    {
     "data": {
      "text/plain": [
       "<bound method DataFrame.join of DataFrame[step: string, amount: string, isFraud: string, CASH_OUT: double, PAYMENT: double, CASH_IN: double, TRANSFER: double, DEBIT: double]>"
      ]
     },
     "execution_count": 248,
     "metadata": {},
     "output_type": "execute_result"
    }
   ],
   "source": [
    "type_df.join"
   ]
  },
  {
   "cell_type": "code",
   "execution_count": null,
   "metadata": {},
   "outputs": [],
   "source": []
  },
  {
   "cell_type": "code",
   "execution_count": null,
   "metadata": {},
   "outputs": [],
   "source": []
  },
  {
   "cell_type": "code",
   "execution_count": null,
   "metadata": {},
   "outputs": [],
   "source": []
  },
  {
   "cell_type": "code",
   "execution_count": null,
   "metadata": {},
   "outputs": [],
   "source": []
  },
  {
   "cell_type": "code",
   "execution_count": null,
   "metadata": {},
   "outputs": [],
   "source": []
  },
  {
   "cell_type": "code",
   "execution_count": 206,
   "metadata": {},
   "outputs": [],
   "source": [
    "import pandas as pd"
   ]
  },
  {
   "cell_type": "code",
   "execution_count": 207,
   "metadata": {},
   "outputs": [
    {
     "data": {
      "text/html": [
       "<div>\n",
       "<style scoped>\n",
       "    .dataframe tbody tr th:only-of-type {\n",
       "        vertical-align: middle;\n",
       "    }\n",
       "\n",
       "    .dataframe tbody tr th {\n",
       "        vertical-align: top;\n",
       "    }\n",
       "\n",
       "    .dataframe thead th {\n",
       "        text-align: right;\n",
       "    }\n",
       "</style>\n",
       "<table border=\"1\" class=\"dataframe\">\n",
       "  <thead>\n",
       "    <tr style=\"text-align: right;\">\n",
       "      <th></th>\n",
       "      <th>step</th>\n",
       "      <th>type</th>\n",
       "      <th>amount</th>\n",
       "      <th>nameOrig</th>\n",
       "      <th>oldbalanceOrg</th>\n",
       "      <th>newbalanceOrig</th>\n",
       "      <th>nameDest</th>\n",
       "      <th>oldbalanceDest</th>\n",
       "      <th>newbalanceDest</th>\n",
       "      <th>isFraud</th>\n",
       "      <th>isFlaggedFraud</th>\n",
       "    </tr>\n",
       "  </thead>\n",
       "  <tbody>\n",
       "    <tr>\n",
       "      <th>0</th>\n",
       "      <td>1</td>\n",
       "      <td>PAYMENT</td>\n",
       "      <td>9839.64</td>\n",
       "      <td>C1231006815</td>\n",
       "      <td>170136.00</td>\n",
       "      <td>160296.36</td>\n",
       "      <td>M1979787155</td>\n",
       "      <td>0.00</td>\n",
       "      <td>0.00</td>\n",
       "      <td>0</td>\n",
       "      <td>0</td>\n",
       "    </tr>\n",
       "    <tr>\n",
       "      <th>1</th>\n",
       "      <td>1</td>\n",
       "      <td>PAYMENT</td>\n",
       "      <td>1864.28</td>\n",
       "      <td>C1666544295</td>\n",
       "      <td>21249.00</td>\n",
       "      <td>19384.72</td>\n",
       "      <td>M2044282225</td>\n",
       "      <td>0.00</td>\n",
       "      <td>0.00</td>\n",
       "      <td>0</td>\n",
       "      <td>0</td>\n",
       "    </tr>\n",
       "    <tr>\n",
       "      <th>2</th>\n",
       "      <td>1</td>\n",
       "      <td>TRANSFER</td>\n",
       "      <td>181.00</td>\n",
       "      <td>C1305486145</td>\n",
       "      <td>181.00</td>\n",
       "      <td>0.00</td>\n",
       "      <td>C553264065</td>\n",
       "      <td>0.00</td>\n",
       "      <td>0.00</td>\n",
       "      <td>1</td>\n",
       "      <td>0</td>\n",
       "    </tr>\n",
       "    <tr>\n",
       "      <th>3</th>\n",
       "      <td>1</td>\n",
       "      <td>CASH_OUT</td>\n",
       "      <td>181.00</td>\n",
       "      <td>C840083671</td>\n",
       "      <td>181.00</td>\n",
       "      <td>0.00</td>\n",
       "      <td>C38997010</td>\n",
       "      <td>21182.00</td>\n",
       "      <td>0.00</td>\n",
       "      <td>1</td>\n",
       "      <td>0</td>\n",
       "    </tr>\n",
       "    <tr>\n",
       "      <th>4</th>\n",
       "      <td>1</td>\n",
       "      <td>PAYMENT</td>\n",
       "      <td>11668.14</td>\n",
       "      <td>C2048537720</td>\n",
       "      <td>41554.00</td>\n",
       "      <td>29885.86</td>\n",
       "      <td>M1230701703</td>\n",
       "      <td>0.00</td>\n",
       "      <td>0.00</td>\n",
       "      <td>0</td>\n",
       "      <td>0</td>\n",
       "    </tr>\n",
       "    <tr>\n",
       "      <th>...</th>\n",
       "      <td>...</td>\n",
       "      <td>...</td>\n",
       "      <td>...</td>\n",
       "      <td>...</td>\n",
       "      <td>...</td>\n",
       "      <td>...</td>\n",
       "      <td>...</td>\n",
       "      <td>...</td>\n",
       "      <td>...</td>\n",
       "      <td>...</td>\n",
       "      <td>...</td>\n",
       "    </tr>\n",
       "    <tr>\n",
       "      <th>6362615</th>\n",
       "      <td>743</td>\n",
       "      <td>CASH_OUT</td>\n",
       "      <td>339682.13</td>\n",
       "      <td>C786484425</td>\n",
       "      <td>339682.13</td>\n",
       "      <td>0.00</td>\n",
       "      <td>C776919290</td>\n",
       "      <td>0.00</td>\n",
       "      <td>339682.13</td>\n",
       "      <td>1</td>\n",
       "      <td>0</td>\n",
       "    </tr>\n",
       "    <tr>\n",
       "      <th>6362616</th>\n",
       "      <td>743</td>\n",
       "      <td>TRANSFER</td>\n",
       "      <td>6311409.28</td>\n",
       "      <td>C1529008245</td>\n",
       "      <td>6311409.28</td>\n",
       "      <td>0.00</td>\n",
       "      <td>C1881841831</td>\n",
       "      <td>0.00</td>\n",
       "      <td>0.00</td>\n",
       "      <td>1</td>\n",
       "      <td>0</td>\n",
       "    </tr>\n",
       "    <tr>\n",
       "      <th>6362617</th>\n",
       "      <td>743</td>\n",
       "      <td>CASH_OUT</td>\n",
       "      <td>6311409.28</td>\n",
       "      <td>C1162922333</td>\n",
       "      <td>6311409.28</td>\n",
       "      <td>0.00</td>\n",
       "      <td>C1365125890</td>\n",
       "      <td>68488.84</td>\n",
       "      <td>6379898.11</td>\n",
       "      <td>1</td>\n",
       "      <td>0</td>\n",
       "    </tr>\n",
       "    <tr>\n",
       "      <th>6362618</th>\n",
       "      <td>743</td>\n",
       "      <td>TRANSFER</td>\n",
       "      <td>850002.52</td>\n",
       "      <td>C1685995037</td>\n",
       "      <td>850002.52</td>\n",
       "      <td>0.00</td>\n",
       "      <td>C2080388513</td>\n",
       "      <td>0.00</td>\n",
       "      <td>0.00</td>\n",
       "      <td>1</td>\n",
       "      <td>0</td>\n",
       "    </tr>\n",
       "    <tr>\n",
       "      <th>6362619</th>\n",
       "      <td>743</td>\n",
       "      <td>CASH_OUT</td>\n",
       "      <td>850002.52</td>\n",
       "      <td>C1280323807</td>\n",
       "      <td>850002.52</td>\n",
       "      <td>0.00</td>\n",
       "      <td>C873221189</td>\n",
       "      <td>6510099.11</td>\n",
       "      <td>7360101.63</td>\n",
       "      <td>1</td>\n",
       "      <td>0</td>\n",
       "    </tr>\n",
       "  </tbody>\n",
       "</table>\n",
       "<p>6362620 rows × 11 columns</p>\n",
       "</div>"
      ],
      "text/plain": [
       "         step      type      amount     nameOrig  oldbalanceOrg  \\\n",
       "0           1   PAYMENT     9839.64  C1231006815      170136.00   \n",
       "1           1   PAYMENT     1864.28  C1666544295       21249.00   \n",
       "2           1  TRANSFER      181.00  C1305486145         181.00   \n",
       "3           1  CASH_OUT      181.00   C840083671         181.00   \n",
       "4           1   PAYMENT    11668.14  C2048537720       41554.00   \n",
       "...       ...       ...         ...          ...            ...   \n",
       "6362615   743  CASH_OUT   339682.13   C786484425      339682.13   \n",
       "6362616   743  TRANSFER  6311409.28  C1529008245     6311409.28   \n",
       "6362617   743  CASH_OUT  6311409.28  C1162922333     6311409.28   \n",
       "6362618   743  TRANSFER   850002.52  C1685995037      850002.52   \n",
       "6362619   743  CASH_OUT   850002.52  C1280323807      850002.52   \n",
       "\n",
       "         newbalanceOrig     nameDest  oldbalanceDest  newbalanceDest  isFraud  \\\n",
       "0             160296.36  M1979787155            0.00            0.00        0   \n",
       "1              19384.72  M2044282225            0.00            0.00        0   \n",
       "2                  0.00   C553264065            0.00            0.00        1   \n",
       "3                  0.00    C38997010        21182.00            0.00        1   \n",
       "4              29885.86  M1230701703            0.00            0.00        0   \n",
       "...                 ...          ...             ...             ...      ...   \n",
       "6362615            0.00   C776919290            0.00       339682.13        1   \n",
       "6362616            0.00  C1881841831            0.00            0.00        1   \n",
       "6362617            0.00  C1365125890        68488.84      6379898.11        1   \n",
       "6362618            0.00  C2080388513            0.00            0.00        1   \n",
       "6362619            0.00   C873221189      6510099.11      7360101.63        1   \n",
       "\n",
       "         isFlaggedFraud  \n",
       "0                     0  \n",
       "1                     0  \n",
       "2                     0  \n",
       "3                     0  \n",
       "4                     0  \n",
       "...                 ...  \n",
       "6362615               0  \n",
       "6362616               0  \n",
       "6362617               0  \n",
       "6362618               0  \n",
       "6362619               0  \n",
       "\n",
       "[6362620 rows x 11 columns]"
      ]
     },
     "execution_count": 207,
     "metadata": {},
     "output_type": "execute_result"
    }
   ],
   "source": [
    "pd.read_csv(\"fraudDetection.csv\")"
   ]
  },
  {
   "cell_type": "code",
   "execution_count": null,
   "metadata": {},
   "outputs": [],
   "source": []
  },
  {
   "cell_type": "code",
   "execution_count": 208,
   "metadata": {},
   "outputs": [
    {
     "ename": "SyntaxError",
     "evalue": "invalid syntax (3553925290.py, line 5)",
     "output_type": "error",
     "traceback": [
      "\u001b[0;36m  Cell \u001b[0;32mIn[208], line 5\u001b[0;36m\u001b[0m\n\u001b[0;31m    df.\u001b[0m\n\u001b[0m       ^\u001b[0m\n\u001b[0;31mSyntaxError\u001b[0m\u001b[0;31m:\u001b[0m invalid syntax\n"
     ]
    }
   ],
   "source": [
    "# function: process_data()\n",
    "\n",
    "def process_data(df):\n",
    "    global df_bank\n",
    "    df.\n",
    "\n",
    "    "
   ]
  },
  {
   "cell_type": "code",
   "execution_count": null,
   "metadata": {},
   "outputs": [],
   "source": []
  },
  {
   "cell_type": "code",
   "execution_count": null,
   "metadata": {},
   "outputs": [],
   "source": []
  },
  {
   "cell_type": "markdown",
   "metadata": {},
   "source": [
    "#### We´ll eliminate some columns that are irrelevant in this process:\n",
    "+ nameOrig\n",
    "+ nameDest\n",
    "+ isFlaggedFraud\n",
    "+ oldbalanceOrg\n",
    "+ newbalanceOrg\n",
    "+ oldbalanceDest\n",
    "+ newbalanceDest\n"
   ]
  },
  {
   "cell_type": "code",
   "execution_count": null,
   "metadata": {},
   "outputs": [
    {
     "name": "stdout",
     "output_type": "stream",
     "text": [
      "root\n",
      " |-- step: string (nullable = true)\n",
      " |-- type: string (nullable = true)\n",
      " |-- amount: string (nullable = true)\n",
      " |-- nameOrig: string (nullable = true)\n",
      " |-- oldbalanceOrg: string (nullable = true)\n",
      " |-- newbalanceOrig: string (nullable = true)\n",
      " |-- nameDest: string (nullable = true)\n",
      " |-- oldbalanceDest: string (nullable = true)\n",
      " |-- newbalanceDest: string (nullable = true)\n",
      " |-- isFraud: string (nullable = true)\n",
      " |-- isFlaggedFraud: string (nullable = true)\n",
      "\n"
     ]
    }
   ],
   "source": [
    "df.printSchema()"
   ]
  },
  {
   "cell_type": "code",
   "execution_count": null,
   "metadata": {},
   "outputs": [
    {
     "name": "stdout",
     "output_type": "stream",
     "text": [
      "+----+--------+--------+-------+\n",
      "|step|    type|  amount|isFraud|\n",
      "+----+--------+--------+-------+\n",
      "|   1| PAYMENT| 9839.64|      0|\n",
      "|   1| PAYMENT| 1864.28|      0|\n",
      "|   1|TRANSFER|   181.0|      1|\n",
      "|   1|CASH_OUT|   181.0|      1|\n",
      "|   1| PAYMENT|11668.14|      0|\n",
      "|   1| PAYMENT| 7817.71|      0|\n",
      "|   1| PAYMENT| 7107.77|      0|\n",
      "|   1| PAYMENT| 7861.64|      0|\n",
      "|   1| PAYMENT| 4024.36|      0|\n",
      "|   1|   DEBIT| 5337.77|      0|\n",
      "+----+--------+--------+-------+\n",
      "only showing top 10 rows\n",
      "\n"
     ]
    }
   ],
   "source": [
    "# elimination of unneccesary columns\n",
    "\n",
    "df = df.drop('nameDest','nameOrig','oldbalanceOrg','newbalanceOrig','oldbalanceDest','newbalanceDest','isFlaggedFraud')\n",
    "df.show(10)"
   ]
  },
  {
   "cell_type": "code",
   "execution_count": null,
   "metadata": {},
   "outputs": [],
   "source": []
  },
  {
   "cell_type": "code",
   "execution_count": null,
   "metadata": {},
   "outputs": [],
   "source": []
  },
  {
   "cell_type": "code",
   "execution_count": null,
   "metadata": {},
   "outputs": [
    {
     "name": "stdout",
     "output_type": "stream",
     "text": [
      "root\n",
      " |-- step: string (nullable = true)\n",
      " |-- type: string (nullable = true)\n",
      " |-- amount: string (nullable = true)\n",
      " |-- nameOrig: string (nullable = true)\n",
      " |-- oldbalanceOrg: string (nullable = true)\n",
      " |-- newbalanceOrig: string (nullable = true)\n",
      " |-- nameDest: string (nullable = true)\n",
      " |-- oldbalanceDest: string (nullable = true)\n",
      " |-- newbalanceDest: string (nullable = true)\n",
      " |-- isFraud: string (nullable = true)\n",
      " |-- isFlaggedFraud: string (nullable = true)\n",
      "\n"
     ]
    }
   ],
   "source": [
    "df.printSchema()"
   ]
  },
  {
   "cell_type": "code",
   "execution_count": null,
   "metadata": {},
   "outputs": [],
   "source": []
  }
 ],
 "metadata": {
  "kernelspec": {
   "display_name": "base",
   "language": "python",
   "name": "python3"
  },
  "language_info": {
   "codemirror_mode": {
    "name": "ipython",
    "version": 3
   },
   "file_extension": ".py",
   "mimetype": "text/x-python",
   "name": "python",
   "nbconvert_exporter": "python",
   "pygments_lexer": "ipython3",
   "version": "3.11.7"
  }
 },
 "nbformat": 4,
 "nbformat_minor": 2
}
